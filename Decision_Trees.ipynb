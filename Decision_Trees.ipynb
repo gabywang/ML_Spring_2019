{
 "cells": [
  {
   "cell_type": "code",
   "execution_count": 1,
   "metadata": {
    "slideshow": {
     "slide_type": "notes"
    }
   },
   "outputs": [],
   "source": [
    "# My standard magic !  You will see this in almost all my notebooks.\n",
    "\n",
    "from IPython.core.interactiveshell import InteractiveShell\n",
    "InteractiveShell.ast_node_interactivity = \"all\"\n",
    "\n",
    "# Reload all modules imported with %aimport\n",
    "%load_ext autoreload\n",
    "%autoreload 1\n",
    "\n",
    "%matplotlib inline"
   ]
  },
  {
   "cell_type": "code",
   "execution_count": 2,
   "metadata": {
    "slideshow": {
     "slide_type": "slide"
    }
   },
   "outputs": [],
   "source": [
    "import pandas as pd\n",
    "import numpy as np\n",
    "import matplotlib.pyplot as plt\n",
    "\n",
    "import decision_trees_helper as dthelp\n",
    "%aimport decision_trees_helper\n",
    "\n",
    "import os \n",
    "\n",
    "TITANIC_PATH = os.path.join(\"./external/jack-dies\", \"data\")\n",
    "\n",
    "train_data_titanic = pd.read_csv( os.path.join(TITANIC_PATH, \"train.csv\") )\n",
    "test_data_titanic  = pd.read_csv( os.path.join(TITANIC_PATH, \"test.csv\")  )\n",
    "\n"
   ]
  },
  {
   "cell_type": "markdown",
   "metadata": {
    "slideshow": {
     "slide_type": "slide"
    }
   },
   "source": [
    "# Decision Trees\n",
    "\n",
    "- Is a model\n",
    "    - $ \\hat{y} = h_\\Theta(X)$\n",
    "    - $\\Theta$ is a nested list of \"questions\" (a tree)\n",
    "        - a question is a comparison of a feature to a threshold value\n",
    "            - $(j, k)$: \"Is $X_j \\le t_k$\"\n",
    "- The sequence of questions along a path from the root of the tree\n",
    "    - partition the observations in the train set\n",
    "    - the final partition along the path (\"a leaf\") is used for prediction"
   ]
  },
  {
   "cell_type": "markdown",
   "metadata": {
    "slideshow": {
     "slide_type": "slide"
    }
   },
   "source": [
    "## Illustration: Titanic\n",
    "Let's look at an example: a decision tree for surviving the Titanic"
   ]
  },
  {
   "cell_type": "code",
   "execution_count": 3,
   "metadata": {
    "slideshow": {
     "slide_type": "subslide"
    }
   },
   "outputs": [
    {
     "name": "stdout",
     "output_type": "stream",
     "text": [
      "SexToInt:transform: Cheating alert!, X has 2 columns.\n"
     ]
    },
    {
     "data": {
      "text/plain": [
       "'images/titanic_2level'"
      ]
     },
     "execution_count": 3,
     "metadata": {},
     "output_type": "execute_result"
    }
   ],
   "source": [
    "th = dthelp.TitanicHelper()\n",
    "th.make_titanic_png()"
   ]
  },
  {
   "cell_type": "markdown",
   "metadata": {
    "slideshow": {
     "slide_type": "slide"
    }
   },
   "source": [
    "![](images/titanic_2level.png)"
   ]
  },
  {
   "cell_type": "markdown",
   "metadata": {
    "slideshow": {
     "slide_type": "slide"
    }
   },
   "source": [
    "- Root\n",
    "    - Full set of 891 train observations\n",
    "    - `Survive = No` for 549; `Survive == Yes` for 342\n",
    "    - `No` is most frequent value, so prediction (`Class`) for root is `No` (orange)"
   ]
  },
  {
   "cell_type": "markdown",
   "metadata": {
    "slideshow": {
     "slide_type": "subslide"
    }
   },
   "source": [
    "- First question (root)\n",
    "    - Is `Sex == Male (0)` ?\n",
    "        - n.b., this is our somewhat wrong initial model (e.g., Sex is binary numeric)"
   ]
  },
  {
   "cell_type": "markdown",
   "metadata": {
    "slideshow": {
     "slide_type": "subslide"
    }
   },
   "source": [
    "- Partitions the 891 observations at root into\n",
    "    - Left sub-tree (Male)\n",
    "        - 577 train observations\n",
    "        - `Survive = No` for 468; `Survive = Yes` for 109\n",
    "        - `No` is most frequent value, so prediction (`Class`) for left subtree is `No`\n",
    "    - Right sub-tree (Female)\n",
    "        - 314 train observations (891 from parent, less 577 from sibling)\n",
    "        - `Survive = No` for 81; `Survive = Yes` for 233    \n",
    "        - `Yes` is most frequent value, so prediction (`Class`) for right subtree is `Yes`"
   ]
  },
  {
   "cell_type": "markdown",
   "metadata": {
    "slideshow": {
     "slide_type": "subslide"
    }
   },
   "source": [
    "- leaves\n",
    "    - left blue\n",
    "        - only 24 Males children <= 6.5, two thirds survived\n",
    "        - Males older than 6.5: most died\n",
    "    - right blue\n",
    "        - Female, hi fare almost certainly survived 1:17, high purity (low gini)\n",
    "  \n",
    "So each question along path partitions the parent subset into complementary subsets"
   ]
  },
  {
   "cell_type": "markdown",
   "metadata": {
    "slideshow": {
     "slide_type": "slide"
    }
   },
   "source": [
    "## How do we construct the Decision Tree\n",
    "\n",
    " Notation\n",
    "- $i$ is a node\n",
    "- $j$ is the index of a feature, threshold value $t_j$ from set $T_j$ with cardinality $k$\n",
    "   \n",
    "    \n",
    "- So a node is represented as a pair $(j,t_j)$ corresponding to the test\n",
    "    - $x_j \\le t_j$ where $t_j \\in  T_j$"
   ]
  },
  {
   "cell_type": "markdown",
   "metadata": {
    "slideshow": {
     "slide_type": "slide"
    }
   },
   "source": [
    "## Definitions\n",
    "**Set of observations at a node**\n",
    "\n",
    "Suppose we are at node $n$ of the tree\n",
    "\n",
    "Let $S_n$ be the subset of labelled train observations (feature, label) pairs associated with node $n$ in the tree\n",
    "\n",
    "$S_n = \\{ (X^{(i)}, y^{(i)}) | i = 1, \\dots m_n \\}$"
   ]
  },
  {
   "cell_type": "markdown",
   "metadata": {
    "slideshow": {
     "slide_type": "slide"
    }
   },
   "source": [
    "**Set of possible threshold values for a feature**\n",
    "\n",
    "Let $T_j$ be the set of values possible for feature $j$ ($X_j$)\n",
    "\n",
    "- $X_j$ is categorical with possible values $c \\in C$ where $C =  \\{ c_1, c_2, \\ldots , c_k \\}$\n",
    "     - $T_j = C$\n",
    "\n",
    "- Feature $j$ is numeric with distinct values (across $m$ observations): $N = \\{ x^{(i)}_j | i=1, \\dots, m  \\}$\n",
    "    - $T_j = N$\n",
    "\n",
    "- Note: this is equivalent to one-hot encoding of both categorical and numeric features\n",
    "    - $1_{x_j = t_k}$ for $k \\in \\{ 1, \\ldots, | T_j | \\}$"
   ]
  },
  {
   "cell_type": "markdown",
   "metadata": {
    "slideshow": {
     "slide_type": "slide"
    }
   },
   "source": [
    "**Split (question)**\n",
    "\n",
    "A split (\"question\") of $S_n$ is a pair $(j, t_k)$ where\n",
    "   - $j$ is the index of a feature, e.g, $X_j$\n",
    "   - $k$ is an index in the set of possible threshold values $T_j$\n",
    "   - question splits $S_n$ into\n",
    "       - $L_n = \\{ (X^{(i)}, y^{(i)}) \\in S_n | X^{(i)}_j \\le t_k \\}$\n",
    "       - $R_n = \\{ (X^{(i)}, y^{(i)}) | X^{(i)}_j  > t_k \\}$"
   ]
  },
  {
   "cell_type": "markdown",
   "metadata": {
    "slideshow": {
     "slide_type": "slide"
    }
   },
   "source": [
    "## Algorithm\n",
    "\n",
    "[sklearn manual](https://scikit-learn.org/stable/modules/tree.html#mathematical-formulation)\n",
    "\n",
    "Recursively partition $S$, constructing a tree of splits\n",
    "\n",
    "`split(S, parent)`: create a left and right subtree, which are children of `parent`\n",
    "   - Find the \"best\" split of $(j, k)$ of $S$ (i.e.,, test $X_j \\le t_k$)\n",
    "   - If such a $(j, k)$ exists\n",
    "       - split $S$ into $L$ and $R$\n",
    "       - create left child of `parent` as `split(L, N)`\n",
    "       - create right child of `parent` as `split(R, N)`\n",
    " "
   ]
  },
  {
   "cell_type": "markdown",
   "metadata": {
    "slideshow": {
     "slide_type": "slide"
    }
   },
   "source": [
    "Questions\n",
    "- What is the \"best\" $(j,k)$ ?\n",
    "- What does it mean for $(j, k)$ to not exist ?\n",
    "\n",
    "        "
   ]
  },
  {
   "cell_type": "markdown",
   "metadata": {
    "slideshow": {
     "slide_type": "slide"
    }
   },
   "source": [
    "### Measuring the quality of a split\n",
    "\n",
    "- Intuitively, the observations at each node contains a mixture of target values.\n",
    "- A good prediction occurs when the observations at a node contain more \"correct\" targets than incorrect\n",
    "- Ideal: split creates an $L$ and/or $R$ where all targets are *identical*\n",
    "\n",
    "We will explore measures that quantify how \"impure\" (mixed up targets) each node is.\n",
    "\n",
    "The Gini score is the first of two measures we will explore."
   ]
  },
  {
   "cell_type": "markdown",
   "metadata": {
    "slideshow": {
     "slide_type": "slide"
    }
   },
   "source": [
    "### How good is the split $(j,k)$ ?: Classification target - Gini score\n",
    "\n",
    "For node $i$:\n",
    "- Let $p_{i,k}$ be the fraction of node $i$ observations that are in target class $k$\n",
    "    \n",
    "\n",
    "$\n",
    "G_i = 1 - \\sum\\limits_{k=1}^{n}{{p_{i,k}}^2}\n",
    "$\n",
    "\n",
    "$G_i$ is called the **impurity** of node $i$\n",
    "\n",
    "Goal is to have pure nodes, i.e., all observations in node $i$ are in same target class."
   ]
  },
  {
   "cell_type": "code",
   "execution_count": 4,
   "metadata": {
    "slideshow": {
     "slide_type": "slide"
    }
   },
   "outputs": [
    {
     "data": {
      "image/png": "[encoded data removed]",
      "text/plain": [
       "<Figure size 720x360 with 1 Axes>"
      ]
     },
     "metadata": {
      "needs_background": "light"
     },
     "output_type": "display_data"
    }
   ],
   "source": [
    "gh = dthelp.GiniHelper()\n",
    "_ =gh.plot_Gini()"
   ]
  },
  {
   "cell_type": "markdown",
   "metadata": {
    "slideshow": {
     "slide_type": "slide"
    }
   },
   "source": [
    "#### Gini illustration\n",
    "\n",
    "It will be easiest to illustrate with a toy example having only categorical features."
   ]
  },
  {
   "cell_type": "code",
   "execution_count": 5,
   "metadata": {
    "slideshow": {
     "slide_type": "subslide"
    }
   },
   "outputs": [
    {
     "data": {
      "text/plain": [
       "'images/logic_tree'"
      ]
     },
     "execution_count": 5,
     "metadata": {},
     "output_type": "execute_result"
    }
   ],
   "source": [
    "gh = dthelp.GiniHelper()\n",
    "gh.make_logicTree_png()"
   ]
  },
  {
   "cell_type": "markdown",
   "metadata": {
    "slideshow": {
     "slide_type": "slide"
    }
   },
   "source": [
    "Here are the observations"
   ]
  },
  {
   "cell_type": "code",
   "execution_count": 6,
   "metadata": {
    "slideshow": {
     "slide_type": "subslide"
    }
   },
   "outputs": [
    {
     "data": {
      "text/html": [
       "<div>\n",
       "<style scoped>\n",
       "    .dataframe tbody tr th:only-of-type {\n",
       "        vertical-align: middle;\n",
       "    }\n",
       "\n",
       "    .dataframe tbody tr th {\n",
       "        vertical-align: top;\n",
       "    }\n",
       "\n",
       "    .dataframe thead th {\n",
       "        text-align: right;\n",
       "    }\n",
       "</style>\n",
       "<table border=\"1\" class=\"dataframe\">\n",
       "  <thead>\n",
       "    <tr style=\"text-align: right;\">\n",
       "      <th></th>\n",
       "      <th>feat 1</th>\n",
       "      <th>feat 2</th>\n",
       "      <th>feat 3</th>\n",
       "      <th>target</th>\n",
       "    </tr>\n",
       "  </thead>\n",
       "  <tbody>\n",
       "    <tr>\n",
       "      <th>0</th>\n",
       "      <td>0</td>\n",
       "      <td>0</td>\n",
       "      <td>0</td>\n",
       "      <td>0</td>\n",
       "    </tr>\n",
       "    <tr>\n",
       "      <th>1</th>\n",
       "      <td>0</td>\n",
       "      <td>0</td>\n",
       "      <td>1</td>\n",
       "      <td>0</td>\n",
       "    </tr>\n",
       "    <tr>\n",
       "      <th>2</th>\n",
       "      <td>0</td>\n",
       "      <td>1</td>\n",
       "      <td>0</td>\n",
       "      <td>0</td>\n",
       "    </tr>\n",
       "    <tr>\n",
       "      <th>3</th>\n",
       "      <td>0</td>\n",
       "      <td>1</td>\n",
       "      <td>1</td>\n",
       "      <td>1</td>\n",
       "    </tr>\n",
       "    <tr>\n",
       "      <th>4</th>\n",
       "      <td>1</td>\n",
       "      <td>0</td>\n",
       "      <td>0</td>\n",
       "      <td>0</td>\n",
       "    </tr>\n",
       "    <tr>\n",
       "      <th>5</th>\n",
       "      <td>1</td>\n",
       "      <td>0</td>\n",
       "      <td>1</td>\n",
       "      <td>1</td>\n",
       "    </tr>\n",
       "    <tr>\n",
       "      <th>6</th>\n",
       "      <td>1</td>\n",
       "      <td>1</td>\n",
       "      <td>0</td>\n",
       "      <td>0</td>\n",
       "    </tr>\n",
       "    <tr>\n",
       "      <th>7</th>\n",
       "      <td>1</td>\n",
       "      <td>1</td>\n",
       "      <td>1</td>\n",
       "      <td>1</td>\n",
       "    </tr>\n",
       "  </tbody>\n",
       "</table>\n",
       "</div>"
      ],
      "text/plain": [
       "   feat 1  feat 2  feat 3  target\n",
       "0       0       0       0       0\n",
       "1       0       0       1       0\n",
       "2       0       1       0       0\n",
       "3       0       1       1       1\n",
       "4       1       0       0       0\n",
       "5       1       0       1       1\n",
       "6       1       1       0       0\n",
       "7       1       1       1       1"
      ]
     },
     "execution_count": 6,
     "metadata": {},
     "output_type": "execute_result"
    }
   ],
   "source": [
    "df_lt = gh.df_lt\n",
    "df_lt"
   ]
  },
  {
   "cell_type": "markdown",
   "metadata": {
    "slideshow": {
     "slide_type": "slide"
    }
   },
   "source": [
    "![](images/logic_tree.png)"
   ]
  },
  {
   "cell_type": "markdown",
   "metadata": {
    "slideshow": {
     "slide_type": "slide"
    }
   },
   "source": [
    "Let's compute Gini of the root"
   ]
  },
  {
   "cell_type": "code",
   "execution_count": 7,
   "metadata": {
    "slideshow": {
     "slide_type": "subslide"
    }
   },
   "outputs": [
    {
     "name": "stdout",
     "output_type": "stream",
     "text": [
      "Gini, by hand:\n",
      "Count by target:\n",
      "\t\n",
      "0    5\n",
      "1    3\n",
      "Name: target, dtype: int64\n",
      "Frequency by target:\n",
      "\t\n",
      "0    0.625\n",
      "1    0.375\n",
      "Name: target, dtype: float64\n",
      "\n",
      "1 - sum(freq**2) = 0.469\n",
      "\n",
      "\n",
      "Method returns  0.46875\n"
     ]
    }
   ],
   "source": [
    "gini_lt = gh.gini(df_lt, gh.target_name_lt, gh.feature_names_lt, noisy=True)\n",
    "\n",
    "print(\"\\n\\nMethod returns \", gini_lt)"
   ]
  },
  {
   "cell_type": "markdown",
   "metadata": {
    "slideshow": {
     "slide_type": "slide"
    }
   },
   "source": [
    "And Gini of the right sub-tree"
   ]
  },
  {
   "cell_type": "code",
   "execution_count": 8,
   "metadata": {
    "slideshow": {
     "slide_type": "subslide"
    }
   },
   "outputs": [
    {
     "name": "stdout",
     "output_type": "stream",
     "text": [
      "Gini, by hand:\n",
      "Count by target:\n",
      "\t\n",
      "1    3\n",
      "0    1\n",
      "Name: target, dtype: int64\n",
      "Frequency by target:\n",
      "\t\n",
      "1    0.75\n",
      "0    0.25\n",
      "Name: target, dtype: float64\n",
      "\n",
      "1 - sum(freq**2) = 0.375\n"
     ]
    },
    {
     "data": {
      "text/plain": [
       "0.375"
      ]
     },
     "execution_count": 8,
     "metadata": {},
     "output_type": "execute_result"
    }
   ],
   "source": [
    "df_right = df_lt[ df_lt[\"feat 3\"] > 0.5 ]\n",
    "\n",
    "gh.gini( df_right, gh.target_name_lt, gh.feature_names_lt, noisy=True)"
   ]
  },
  {
   "cell_type": "markdown",
   "metadata": {
    "slideshow": {
     "slide_type": "slide"
    }
   },
   "source": [
    "#### The \"best\" ($j,k)$ split: From Gini of children, to Cost for split at parent\n",
    "\n",
    "Now that we can measure the impurity of a set of observations, we can associate a Cost with the choice of split of $(j, k$) of $S_n$:\n",
    "- $\\text{Cost}_{j,k}(S) = \\frac{m_L}{(m_L + m_R)} G_L + \\frac{m_R}{(n_L + m_R)} G_R$\n",
    "\n",
    "That is, the Cost of splitting $S_n$ on $X_j \\le t_k$ is the weighted sum of the Gini's of the partiions created.\n",
    "\n",
    "So we now have a method for determining the \"best\" split of $S_n$: one that minimizes the Cost.\n",
    "\n",
    "$ j, k = \\text{argmin}_{j,k} { \\text{Cost}_{j,k} }$"
   ]
  },
  {
   "cell_type": "markdown",
   "metadata": {
    "slideshow": {
     "slide_type": "slide"
    }
   },
   "source": [
    "Let's examine the cost of split at the root for each (binary) feature"
   ]
  },
  {
   "cell_type": "code",
   "execution_count": 9,
   "metadata": {
    "slideshow": {
     "slide_type": "subslide"
    }
   },
   "outputs": [
    {
     "name": "stdout",
     "output_type": "stream",
     "text": [
      "Split feature feat 1 on 0.00\n",
      "\tG_left (# = 4) = 0.375, G_right (# = 4) = 0.500\n",
      "\tweighted (G_left, G_right) = 0.438\n",
      "Split feature feat 2 on 0.00\n",
      "\tG_left (# = 4) = 0.375, G_right (# = 4) = 0.500\n",
      "\tweighted (G_left, G_right) = 0.438\n",
      "Split feature feat 3 on 0.00\n",
      "\tG_left (# = 4) = 0.000, G_right (# = 4) = 0.375\n",
      "\tweighted (G_left, G_right) = 0.188\n"
     ]
    },
    {
     "data": {
      "text/plain": [
       "0.1875"
      ]
     },
     "execution_count": 9,
     "metadata": {},
     "output_type": "execute_result"
    }
   ],
   "source": [
    "gh.cost(df_lt, gh.target_name_lt, gh.feature_names_lt, noisy=True)"
   ]
  },
  {
   "cell_type": "markdown",
   "metadata": {
    "slideshow": {
     "slide_type": "slide"
    }
   },
   "source": [
    "So split on $(3, 0)$ (feature \"feat 3\", threshold 0) gives the minimum cost.\n",
    "\n",
    "That explains the split at the root."
   ]
  },
  {
   "cell_type": "markdown",
   "metadata": {
    "slideshow": {
     "slide_type": "slide"
    }
   },
   "source": [
    "### Can a \"best\" split not exist ?\n",
    "\n",
    "Yes.\n",
    "- if $| S | == 0$\n",
    "- if $\\text{Cost}(S) > G_S $\n",
    "    - split results in children which are more impure that parent\n",
    "    \n",
    "Our algorithm works when the Cost (weighted Gini) of the split is less than the Gini of the node.\n",
    "\n",
    "This is a type of \"information gain\"."
   ]
  },
  {
   "cell_type": "markdown",
   "metadata": {
    "slideshow": {
     "slide_type": "slide"
    }
   },
   "source": [
    "### Why not continue all the way to leaves with single observations\n",
    "\n",
    "Overfitting."
   ]
  },
  {
   "cell_type": "markdown",
   "metadata": {
    "slideshow": {
     "slide_type": "slide"
    }
   },
   "source": [
    "### Aside: One-hot encoding for categorical vs. numerical\n",
    "\n",
    "The Decision Tree split is a good illustration of the difference between one-hot encoded categoricals and numeric encoded categoricals\n",
    "\n",
    "- Consider $\\text{PClass} \\in \\{1,2,3\\}$\n",
    "- As a numeric, $\\text{PClass}$ implies an ordering (magnitude doesn't matter for Decision Tree split)\n",
    "- So \n",
    "    - numeric $\\text{PClass}: \\lnot (\\text{PClass} \\le 2)$ includes $\\{ 3 \\}$\n",
    "    - one-hot $\\text{PClass}: \\lnot 1_{\\text{PClass}=2}$ includes $\\{ 1, 3 \\}$\n",
    "\n",
    "Not the same !"
   ]
  },
  {
   "cell_type": "markdown",
   "metadata": {
    "slideshow": {
     "slide_type": "slide"
    }
   },
   "source": [
    "## Decision Tree Regression\n",
    "\n",
    "- Very similar to Clasification\n",
    "- Prediction at node $n$: the average of $y$ that occurs in $S_n$\n",
    "- use MSE rather than Gini as measure of impurity\n",
    "             \n",
    "                    \n",
    "- Doesn't extrapolate at all: just clips at extreme prediction"
   ]
  },
  {
   "cell_type": "markdown",
   "metadata": {
    "slideshow": {
     "slide_type": "slide"
    }
   },
   "source": [
    "### How good is the split $(j,k)$ ?: Regression target - MSE\n",
    "\n",
    "**Equation 6-4: CART cost function for regression**\n",
    "\n",
    "$\n",
    "J(j, t_k) = \\dfrac{m_{\\text{left}}}{m}\\text{MSE}_\\text{left} + \\dfrac{m_{\\text{right}}}{m}\\text{MSE}_{\\text{right}} \\quad\n",
    "\\text{where }\n",
    "\\begin{cases}\n",
    "\\text{MSE}_{\\text{node}} = \\sum\\limits_{\\scriptstyle i \\in \\text{node}}(\\hat{y}_{\\text{node}} - y^{(i)})^2\\\\\n",
    "\\hat{y}_\\text{node} = \\dfrac{1}{m_{\\text{node}}}\\sum\\limits_{\\scriptstyle i \\in \\text{node}}y^{(i)}\n",
    "\\end{cases}\n",
    "$"
   ]
  },
  {
   "cell_type": "markdown",
   "metadata": {
    "slideshow": {
     "slide_type": "slide"
    }
   },
   "source": [
    "### Overfitting: why not continue too deep ?\n",
    "- A binary tree of depth $d$ can have as many as $2^d$ leaves\n",
    "    - be careful if number of observations $m < 2^d$\n",
    "       \n",
    "    - memorize training set; poor generalization"
   ]
  },
  {
   "cell_type": "code",
   "execution_count": 10,
   "metadata": {
    "slideshow": {
     "slide_type": "slide"
    }
   },
   "outputs": [
    {
     "data": {
      "image/png": "[encoded data removed]",
      "text/plain": [
       "<Figure size 864x360 with 2 Axes>"
      ]
     },
     "metadata": {
      "needs_background": "light"
     },
     "output_type": "display_data"
    }
   ],
   "source": [
    "rh = dthelp.RegressionHelper()\n",
    "\n",
    "_ =rh.make_plot()"
   ]
  },
  {
   "cell_type": "markdown",
   "metadata": {
    "slideshow": {
     "slide_type": "slide"
    }
   },
   "source": [
    "![](images/tree_regress_depth_2.png)"
   ]
  },
  {
   "cell_type": "markdown",
   "metadata": {
    "slideshow": {
     "slide_type": "slide"
    }
   },
   "source": [
    "## Advantages and Drawbacks\n",
    "\n",
    "n.b., beware of unbalanced datasets\n",
    "    - balance if it is not representative\n",
    "    \n",
    "### Advantage\n",
    "- highly interpretable"
   ]
  },
  {
   "cell_type": "markdown",
   "metadata": {
    "slideshow": {
     "slide_type": "slide"
    }
   },
   "source": [
    "### Disadvantages\n",
    "- Overly complex at times\n",
    "- Easy to overfit\n",
    "- No ability to extrapolate\n",
    "    - clipped at min/max of feature range\n",
    "- *Greedy* algorithm: not guaranteed to be optimal\n",
    "    - No true \"best\"; problem is NP-complete"
   ]
  },
  {
   "cell_type": "markdown",
   "metadata": {
    "slideshow": {
     "slide_type": "subslide"
    }
   },
   "source": [
    "You can combat overfitting with several parameters\n",
    "- `max_depth`: maximum depth of tree\n",
    "- `min_samples`: minimum size (no. of observations) to split a node\n",
    "- `min_samples_leaf`: minimum number of samples for a leaf"
   ]
  },
  {
   "cell_type": "markdown",
   "metadata": {
    "slideshow": {
     "slide_type": "slide"
    }
   },
   "source": [
    "# Ensembles\n",
    "\n",
    "Why use a single model when  you can use many ?\n",
    "\n",
    "Can apply ensemble method to any model, or even a mixture of models"
   ]
  },
  {
   "cell_type": "markdown",
   "metadata": {
    "slideshow": {
     "slide_type": "slide"
    }
   },
   "source": [
    "We will illustrate with ensembles of Decision Trees: Random Forest\n",
    "\n",
    "- Replace **strong learner**: single complex model (e.g., deep tree) \n",
    "- with many **weak learners**: simple models (e.g, restricted trees) \n",
    "    - restrict in split choice, depth\n",
    "- Prediction\n",
    "    - each weak learner predicts; voting on single prediction"
   ]
  },
  {
   "cell_type": "markdown",
   "metadata": {
    "slideshow": {
     "slide_type": "slide"
    }
   },
   "source": [
    "<div class=\"alert alert-block alert-warning\">\n",
    "    <b>Note:</b> \n",
    "    <ul>\n",
    "        <li>Ensembles combine multiple weak learners into a strong, single learner.</li>\n",
    "        <li>The learners are often, but not necessarily, Decision Trees.</li>\n",
    "</div>"
   ]
  },
  {
   "cell_type": "markdown",
   "metadata": {
    "slideshow": {
     "slide_type": "slide"
    }
   },
   "source": [
    "# Random Forests\n",
    "\n",
    "- Addresses some drawbacks of Decision Trees\n",
    "- Introduces Ensemble methods\n",
    "- Combines \"weak learners\": preview of boosting"
   ]
  },
  {
   "cell_type": "markdown",
   "metadata": {
    "slideshow": {
     "slide_type": "subslide"
    }
   },
   "source": [
    "## Avoiding a poor training set\n",
    "- Decision Trees very sensitive to training set\n",
    "    - what if we were unlucky ?"
   ]
  },
  {
   "cell_type": "markdown",
   "metadata": {
    "slideshow": {
     "slide_type": "subslide"
    }
   },
   "source": [
    "### Bootstrapping\n",
    "- Suppose you had a fair coin; it's still possible to get an unlucky sample\n",
    "- Let's assume training set is a fair representation of the true distribution\n",
    "    - create new training set of same size\n",
    "    - random sampling *with replacement*\n",
    "    -  you wind up with many representative training sets, some lucky, some not\n",
    "    "
   ]
  },
  {
   "cell_type": "markdown",
   "metadata": {
    "slideshow": {
     "slide_type": "subslide"
    }
   },
   "source": [
    "## Avoid poor, greedy choices\n",
    "- At each level of tree, limit choice of (feature number, threshold) on which to split to $k$ random available choices\n",
    "- That's what makes this a \"weak\" learner: absence of full choice\n",
    "    - but may avoid bad greedy choice\n",
    "- NOTE: there are potentially a lot of choices\n",
    "    - for categorical feature $c$ with possible values from set $C$, there are $|C|$ choices\n",
    "    - for numeric features the choices are each distinct value among the $m$ observations\n",
    "    "
   ]
  },
  {
   "cell_type": "markdown",
   "metadata": {
    "slideshow": {
     "slide_type": "slide"
    }
   },
   "source": [
    "## Bagging\n",
    "\n",
    "When we bootstrap a training set to create multiple models, and aggregate predictions of models into single prediction, this is called **bagging**\n",
    "\n",
    "Because we sample with replacement, in each bootstrapped sample there will be observations from the train set that are not included.\n",
    "\n",
    "These are called **out of bag** and may be used for validation."
   ]
  },
  {
   "cell_type": "markdown",
   "metadata": {
    "slideshow": {
     "slide_type": "slide"
    }
   },
   "source": [
    "## Algorithm\n",
    "- Decide how many $d$ Decision Trees to create\n",
    "- `for t in range(0,d):`\n",
    "    - bootstrap a new training set $S_t$ from $S$ &nbsp; s.t., $|S_t| = |S|$\n",
    "    - create decision tree $T_t(S_t, k)$\n",
    "        - Training set is $S_t$, **not** S\n",
    "        - at each split, limit set of choices ($j, t_j$) to size $k$\n",
    "- Result is a forest of $d$ trees: $\\{ T_t | t = 1, \\dots, d \\}$"
   ]
  },
  {
   "cell_type": "markdown",
   "metadata": {
    "slideshow": {
     "slide_type": "slide"
    }
   },
   "source": [
    "`split(S, parent, k)`: create a left and right subtree, which are children of `parent`\n",
    "   - Let $F = \\{ X_j | j  = 1, \\dots, n \\}$ denote the full set of features.\n",
    "       - Randomly choose a subset $F_k \\subset F$ where $| F_k | = k$ \n",
    "   - Find the \"best\" split $(j, k)$ of $S$ &nbsp; (i.e., test $X_j \\le t_k$), where $X_j \\in F_k$\n",
    "   - If such a $(j, k)$ exists\n",
    "       - split $S$ into $L$ and $R$\n",
    "       - create left child of `parent` as `split(L, N, k)`\n",
    "       - create right child of `parent` as `split(R, N, k)`\n",
    "    - `split(R, N)"
   ]
  },
  {
   "cell_type": "markdown",
   "metadata": {
    "slideshow": {
     "slide_type": "subslide"
    }
   },
   "source": [
    "## Prediction in a Forest\n",
    "\n",
    "There are now $d$ trees, each created independently.\n",
    "\n",
    "To predict for $X_{\\text{test}}^{(i)}$:\n",
    "- predict for each tree\n",
    "    - So have a set of $d$ predictions: $P = \\{ \\hat{y}_t | t = 1, \\ldots, d \\}$\n",
    "- single prediction based on votes in $P$"
   ]
  },
  {
   "cell_type": "markdown",
   "metadata": {
    "slideshow": {
     "slide_type": "slide"
    }
   },
   "source": [
    "# Boosting\n",
    "\n",
    "Boosting, like Ensembling, constructs multiple weak learners and combines them into a single strong learner.\n",
    "\n",
    "But the learners contructed by Ensembling are **independent** of one another.\n",
    "\n",
    "In contrast, Boosting constructs a **sequence**: \n",
    "    - the next learner compensates for the weakness of the current learner.\n",
    "\n",
    "We will illustrate, again, with Decision Trees."
   ]
  },
  {
   "cell_type": "markdown",
   "metadata": {
    "slideshow": {
     "slide_type": "slide"
    }
   },
   "source": [
    "<div class=\"alert alert-block alert-warning\">\n",
    "    <b>Note:</b> \n",
    "    <ul>\n",
    "        <li>Ensembling contructs a <i>set</i> of weak, independent learners.\n",
    "        <li>\n",
    "            Boosting constructs a <i>sequence</i> of weak learners\n",
    "                <ul>\n",
    "                    <li>Each successive learner in the sequence depends on it's predecessors</li>\n",
    "            </ul>\n",
    "        </li>\n",
    "        <li>\n",
    "    The learners are often, but not necessarily, single level Decision Trees (\"stumps\")\n",
    "            </li>\n",
    "    </div>"
   ]
  },
  {
   "cell_type": "markdown",
   "metadata": {
    "slideshow": {
     "slide_type": "slide"
    }
   },
   "source": [
    "The most powerful class of Boosting techniques is called Gradient Boosting.\n",
    "\n",
    "We will start with a special case: AdaBoost."
   ]
  },
  {
   "cell_type": "markdown",
   "metadata": {
    "slideshow": {
     "slide_type": "slide"
    }
   },
   "source": [
    "## Algorithm\n",
    "\n",
    "Idea\n",
    "- observations will be assigned weights that will change during the sequence\n",
    "- The subsequent learner will try to correct the misclassifications of the current\n",
    "    - by increasing weights of the misclassified observations and decreasing weights of correctly classified\n",
    "- Not all weak learners have an equal vote in the aggregated prediction\n",
    "    - better classifiers have more weight (\"say\", so as not to confuse with observation weight)"
   ]
  },
  {
   "cell_type": "markdown",
   "metadata": {
    "slideshow": {
     "slide_type": "slide"
    }
   },
   "source": [
    "Construct the sequence:   \n",
    "- assign equal weights to each observation in the training set\n",
    "\n",
    "- `for i in range(0,W):`:\n",
    "    - Construct weak learner $W_i$\n",
    "        - Impurity calculated on a (observation) weighted basis\n",
    "        - $\\text{say}_i =$ sum of weights of correctly classified observations\n",
    "        - re-weight observations\n",
    "            - increase (\"boost\") weights of observations correctly classified by $W_i$\n",
    "            - decrease weights of observations correctly classified by $W_i$\n",
    "            - boost/decrease increases with $\\text{say}_i$\n",
    "            "
   ]
  },
  {
   "cell_type": "markdown",
   "metadata": {
    "slideshow": {
     "slide_type": "slide"
    }
   },
   "source": [
    "# Entropy\n",
    "\n",
    "We will study Entropy for two reasons\n",
    "- an alternative to Gini for deciding which variable/what threshold to use in constructing a Decision Tree\n",
    "- a Cost measure for Classification (Cool Cost Function ?)\n",
    "\n",
    "- A measure of the randomness of a distribution\n",
    "- Interpreted as the number of bits of information obtained from a single sample"
   ]
  },
  {
   "cell_type": "markdown",
   "metadata": {
    "slideshow": {
     "slide_type": "subslide"
    }
   },
   "source": [
    "## What is a bit ?\n",
    "- Amount of information need to reduce uncertainly by a factor of 2\n",
    "\n",
    "\n",
    "### Example: what is a bit\n",
    "\n",
    "Here, a bit is the amount of information **not** a length of the message"
   ]
  },
  {
   "cell_type": "markdown",
   "metadata": {
    "slideshow": {
     "slide_type": "subslide"
    }
   },
   "source": [
    "**Simple case: two equally probable outcomes**\n",
    "\n",
    "Two outcomes: Rain, Sun\n",
    "$$    \n",
    "\\begin{array}{lll}\n",
    "\\text{Rain} & .5 \\\\\n",
    "\\text{Sun}  & .5\n",
    "\\end{array}\n",
    "$$"
   ]
  },
  {
   "cell_type": "markdown",
   "metadata": {
    "slideshow": {
     "slide_type": "subslide"
    }
   },
   "source": [
    "Uncertainty about Rain is .5\n",
    "\n",
    "If I tell you that it will Rain (so $p_{\\text{Rain}} = 1$) I've reduced the uncertainty\n",
    "by\n",
    "$$\n",
    "{1 \\over .5} = 2\n",
    "$$\n",
    "\n",
    "$\\log_2 (2) = 1$ \n",
    "\n",
    "so this conveyed 1 bit of *information* regardless of how many *physical* bits were sent.\n",
    "\n",
    "**Uncertainty reduction**\n",
    "\n",
    "One bit reduces uncertainty ($1/p$) by a factor of $2$.\n",
    "\n",
    "$\\log_2 (1/p) = - \\log_2(p)$ "
   ]
  },
  {
   "cell_type": "markdown",
   "metadata": {
    "slideshow": {
     "slide_type": "subslide"
    }
   },
   "source": [
    "**Simple case: 4 equally probable outcomes**\n",
    "\n",
    "4 outcomes: Rain, Sun, Clouds, Drizzle\n",
    "$$    \n",
    "\\begin{array}{lll}\n",
    "\\text{Rain} & .25 \\\\\n",
    "\\text{Sun}  & .25 \\\\\n",
    "\\text{Clouds} & .25 \\\\\n",
    "\\text{Drizzle} & .25\n",
    "\\end{array}\n",
    "$$"
   ]
  },
  {
   "cell_type": "markdown",
   "metadata": {
    "slideshow": {
     "slide_type": "subslide"
    }
   },
   "source": [
    "Uncertainty about Rain is .25.\n",
    "\n",
    "If I tell you that it will Rain (so $p_{\\text{Rain}} = 1$) I've reduced the uncertainty\n",
    "by\n",
    "$$\n",
    "{1 \\over .25} = 4\n",
    "$$\n",
    "\n",
    "so this is $- \\log_2 (.25) = 2$ bits of information."
   ]
  },
  {
   "cell_type": "markdown",
   "metadata": {
    "slideshow": {
     "slide_type": "subslide"
    }
   },
   "source": [
    "**Outcomes with arbitrary probabilities**\n",
    "\n",
    "Two outcomes with unequal probability: Rain, Sun\n",
    "$$    \n",
    "\\begin{array}{lll}\n",
    "\\text{Rain} & .25 \\\\\n",
    "\\text{Sun}  & .75\n",
    "\\end{array}\n",
    "$$"
   ]
  },
  {
   "cell_type": "markdown",
   "metadata": {
    "slideshow": {
     "slide_type": "subslide"
    }
   },
   "source": [
    "If I tell you that it will Rain (so $p_{\\text{Rain}} = 1$) I've reduced the uncertainty\n",
    "by\n",
    "$$\n",
    "{1 \\over .25} = 4\n",
    "$$\n",
    "\n",
    "so this is $\\log_2 (2) = 2$ bits of information.\n",
    "\n",
    "If I tell you that there will be Sun (so $p_{\\text{Sun}} = 1$) I've reduced the uncertainty\n",
    "by\n",
    "$$\n",
    "{1 \\over .75}\n",
    "$$\n",
    "\n",
    "so this is $- \\log_2 (0.75) = 0.415$ bits of information."
   ]
  },
  {
   "cell_type": "markdown",
   "metadata": {
    "slideshow": {
     "slide_type": "slide"
    }
   },
   "source": [
    "### Average number of bits in a sample\n",
    "\n",
    "The average number of bits (*information*) in a sample randomly drawn from the distribution is\n",
    "\n",
    "$\n",
    "H_i = -\\sum\\limits_{k=1 \\atop p_{i,k} \\ne 0}^{n}{{p_{i,k}}\\log_2(p_{i,k})}\n",
    "$\n",
    "\n",
    "For the 75%/25% case above\n",
    "\n",
    "$\n",
    "H_i = 0.75 * 0.415 + 0.25 * 2 = 0.81\n",
    "$\n",
    "This is also called the **entropy**\n",
    "\n",
    "It measures the unpredictability of the distribution."
   ]
  },
  {
   "cell_type": "markdown",
   "metadata": {
    "slideshow": {
     "slide_type": "slide"
    }
   },
   "source": [
    "\n",
    "### A pure distribution has 0 entropy\n",
    "\n",
    "Since $p_{i,k} = 1, log(p_{i,k}) = 0$"
   ]
  },
  {
   "cell_type": "markdown",
   "metadata": {
    "slideshow": {
     "slide_type": "slide"
    }
   },
   "source": [
    "#### Back to Decision Trees: Entropy as a measure of impurity\n",
    "\n",
    "Entropy is like Gini in that it is a measure of the impurity of a distribution (i.e., observations in a node).\n",
    "\n",
    "One may use Entropy or Gini as the measure for constructing Decision Trees.\n",
    "\n",
    "But Entropy (and it's cousin Cross Entropy) pops up all over in ML, so we'll leave Decision Trees for a moment\n",
    "and explore this topic for its own sake."
   ]
  },
  {
   "cell_type": "markdown",
   "metadata": {
    "slideshow": {
     "slide_type": "slide"
    }
   },
   "source": [
    "# Cross entropy\n",
    "\n",
    "<div class=\"alert alert-block alert-warning\">\n",
    "    <b>TL;DR</b> \n",
    "    <ul>\n",
    "        <li>Cross Entropy measures the \"distance\" between two distributions </li>\n",
    "            <li>You will often come across Cross Entropy and KL Divergence in  your future ML endeavours.</li>\n",
    "        </div>        "
   ]
  },
  {
   "cell_type": "markdown",
   "metadata": {
    "slideshow": {
     "slide_type": "slide"
    }
   },
   "source": [
    "Similar to Entropy but \n",
    "- use true probability (as weights)\n",
    "- number of bits implied from estimated probability\n",
    "\n",
    "**Cross entropy between two discrete probability distributions $p$ and $q$:**\n",
    "\n",
    "$ H(p, q) = -\\sum\\limits_{x}p(x) \\log q(x) $\n",
    "- if distributions $p(x), q(x)$ are the same\n",
    "    - cross entropy equals entropy $H(p,p) = H(p)$\n",
    "- $(H(p,q) - H(p))$ is called the *Kullback-Liebler* or KL divergence."
   ]
  },
  {
   "cell_type": "markdown",
   "metadata": {
    "slideshow": {
     "slide_type": "slide"
    }
   },
   "source": [
    "**Aside**\n",
    "\n",
    "There is another interpretation of Cross Entropy.\n",
    "\n",
    "We've seen that the amount of information depends on the number of bits that each outcome $k$ gives: $\\log_2(p_{i,k})$.\n",
    "\n",
    "If the number of *physical* bits (message length) is different than $\\log_2(p_{i,k})$, then this is *optimal* only if the distribution is some other $q_{i,k}$\n",
    "\n",
    "$ H(p, q) = -\\sum\\limits_{x}p(x) \\log q(x) $\n",
    "is the average *physical* length of the message.\n",
    "\n",
    "The physical length will equal the information content only if $p(x) = q(x)$"
   ]
  },
  {
   "cell_type": "markdown",
   "metadata": {
    "slideshow": {
     "slide_type": "slide"
    }
   },
   "source": [
    "## Cross entropy in Machine Learning\n",
    "\n",
    "For classification with a multinomial target with $k$ possible values\n",
    "- we can train $k$ binary classifiers, each producing a score $s_k$\n",
    "- use softmax to translate each of the $k$ scores into a probability\n",
    "- so the softmax produces a probability distribution over $k$ outcomes"
   ]
  },
  {
   "cell_type": "markdown",
   "metadata": {
    "slideshow": {
     "slide_type": "subslide"
    }
   },
   "source": [
    "**Softmax score for class k**\n",
    "\n",
    "$\n",
    "s_k(\\mathbf{x}) = ({\\boldsymbol{\\theta}^{(k)}})^T \\mathbf{x}\n",
    "$\n",
    "\n",
    "\n",
    "**Scores to probabilities via Softmax**\n",
    "\n",
    "$\n",
    "\\hat{p}_k = \\sigma\\left(\\mathbf{s}(\\mathbf{x})\\right)_k = \\dfrac{\\exp\\left(s_k(\\mathbf{x})\\right)}{\\sum\\limits_{j=1}^{K}{\\exp\\left(s_j(\\mathbf{x})\\right)}}\n",
    "$\n",
    "\n",
    "\n",
    "**Prediction is class with highest probabiity**\n",
    "\n",
    "$\n",
    "\\hat{y} = \\underset{k}{\\operatorname{argmax}} \\, \\sigma\\left(\\mathbf{s}(\\mathbf{x})\\right)_k = \\underset{k}{\\operatorname{argmax}} \\, s_k(\\mathbf{x}) = \\underset{k}{\\operatorname{argmax}} \\, \\left( ({\\boldsymbol{\\theta}^{(k)}})^T \\mathbf{x} \\right)\n",
    "$"
   ]
  },
  {
   "cell_type": "markdown",
   "metadata": {
    "slideshow": {
     "slide_type": "slide"
    }
   },
   "source": [
    "As written above, there is no single Cost function that can be minimized.\n",
    "\n",
    "We can think of our target $y$, from multinomial class $C$, encoded via one-hot encoding, as a probability distribution.\n",
    "\n",
    "$\n",
    "p^{(i)} = \\{ 1_{y^{(i)} = c_k } | c_k \\in C \\}\n",
    "$\n",
    "\n",
    "So we create a Cost function that minimizes  the distance between\n",
    "the target distribution $p^{(i)}$ and the predicted distribution $\\hat{p}^{(i)}$\n",
    "over all Train observations $i$"
   ]
  },
  {
   "cell_type": "markdown",
   "metadata": {
    "slideshow": {
     "slide_type": "subslide"
    }
   },
   "source": [
    "**Cross entropy cost function**\n",
    "\n",
    "$\n",
    "J(\\boldsymbol{\\Theta}) = - \\dfrac{1}{m}\\sum\\limits_{i=1}^{m}\\sum\\limits_{k=1}^{K}{y_k^{(i)}\\log\\left(\\hat{p}_k^{(i)}\\right)}\n",
    "$\n",
    "\n",
    "**Recall**\n",
    "$ H(p, q) = -\\sum\\limits_{x}p(x) \\log q(x) $"
   ]
  },
  {
   "cell_type": "markdown",
   "metadata": {
    "slideshow": {
     "slide_type": "subslide"
    }
   },
   "source": [
    "**Cross entropy gradient vector for class _k_**\n",
    "\n",
    "$\n",
    "\\nabla_{\\boldsymbol{\\theta}^{(k)}} \\, J(\\boldsymbol{\\Theta}) = \\dfrac{1}{m} \\sum\\limits_{i=1}^{m}{ \\left ( \\hat{p}^{(i)}_k - y_k^{(i)} \\right ) \\mathbf{x}^{(i)}}\n",
    "$\n",
    "\n",
    "Observe that the gradient involves the prediction error $\\left ( \\hat{p}^{(i)}_k - y_k^{(i)} \\right ) $"
   ]
  },
  {
   "cell_type": "markdown",
   "metadata": {
    "slideshow": {
     "slide_type": "slide"
    }
   },
   "source": [
    "## Logistic Regression re-visited\n",
    "\n",
    "**Cost function of a single training instance**\n",
    "\n",
    "$\n",
    "c(\\boldsymbol{\\theta}) =\n",
    "\\begin{cases}\n",
    "  -\\log(\\hat{p}) & \\text{if } y = 1, \\\\\n",
    "  -\\log(1 - \\hat{p}) & \\text{if } y = 0.\n",
    "\\end{cases}\n",
    "$\n",
    "\n",
    "Over all training instances, the Loss is:\n",
    "\n",
    "**Logistic Regression cost function (log loss)**\n",
    "\n",
    "$\n",
    "J(\\boldsymbol{\\theta}) = -\\dfrac{1}{m} \\sum\\limits_{i=1}^{m}{\\left[ y^{(i)} log\\left(\\hat{p}^{(i)}\\right) + (1 - y^{(i)}) log\\left(1 - \\hat{p}^{(i)}\\right)\\right]}\n",
    "$"
   ]
  },
  {
   "cell_type": "markdown",
   "metadata": {
    "slideshow": {
     "slide_type": "slide"
    }
   },
   "source": [
    "The above looks just like Cross Entropy between true distribution $y$ and the predicted distribution $\\hat{p}$\n",
    "\n",
    "Note, $y^{(i)} \\in \\{0,1\\}$ so the two addends are really just true probability ($y^{(i)}$) times predicted probability $\\hat{p}^{(i)}$"
   ]
  },
  {
   "cell_type": "markdown",
   "metadata": {
    "slideshow": {
     "slide_type": "slide"
    }
   },
   "source": [
    "We can use Gradient Descent to minimize this Cost function, by taking its derivative.\n",
    "\n",
    "**Logistic cost function partial derivatives**\n",
    "\n",
    "$\n",
    "\\dfrac{\\partial}{\\partial \\theta_j} \\text{J}(\\boldsymbol{\\theta}) = \\dfrac{1}{m}\\sum\\limits_{i=1}^{m}\\left(\\mathbf{\\sigma(\\boldsymbol{\\theta}}^T \\mathbf{x}^{(i)}) - y^{(i)}\\right)\\, x_j^{(i)}\n",
    "$\n",
    "\n",
    "Look familiar ? \n",
    "\n",
    "Looks similar to the derivative for Linear Regression, except for the prediction\n",
    "being $\\mathbf{\\sigma(\\boldsymbol{\\theta}}^T \\mathbf{x}^{(i)})$\n",
    "(i.e., linear prediction run through the sigmoid $\\sigma$))\n",
    "rather than\n",
    "$\\mathbf{\\boldsymbol{\\theta}}^T \\mathbf{x}^{(i)} $"
   ]
  },
  {
   "cell_type": "markdown",
   "metadata": {
    "slideshow": {
     "slide_type": "slide"
    }
   },
   "source": [
    "## Information gain: KL\n",
    "- Reduction in entropy after having received some bits, compared to before receiving the bits\n",
    "\n",
    "- negative  log is log of reciprocal  \n",
    "- difference  log  in  log ratio  \n",
    "- so gain is log ratio\n",
    "\n",
    "- Kullback Liebler (spell ?)"
   ]
  },
  {
   "cell_type": "code",
   "execution_count": 11,
   "metadata": {},
   "outputs": [
    {
     "name": "stdout",
     "output_type": "stream",
     "text": [
      "Done\n"
     ]
    }
   ],
   "source": [
    "print(\"Done\")"
   ]
  }
 ],
 "metadata": {
  "celltoolbar": "Slideshow",
  "kernelspec": {
   "display_name": "Python 3",
   "language": "python",
   "name": "python3"
  },
  "language_info": {
   "codemirror_mode": {
    "name": "ipython",
    "version": 3
   },
   "file_extension": ".py",
   "mimetype": "text/x-python",
   "name": "python",
   "nbconvert_exporter": "python",
   "pygments_lexer": "ipython3",
   "version": "3.6.6"
  },
  "toc": {
   "base_numbering": 1,
   "nav_menu": {},
   "number_sections": true,
   "sideBar": true,
   "skip_h1_title": false,
   "title_cell": "Table of Contents",
   "title_sidebar": "Contents",
   "toc_cell": false,
   "toc_position": {
    "height": "calc(100% - 180px)",
    "left": "10px",
    "top": "150px",
    "width": "358.594px"
   },
   "toc_section_display": true,
   "toc_window_display": false
  }
 },
 "nbformat": 4,
 "nbformat_minor": 2
}
