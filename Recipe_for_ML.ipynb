{
 "cells": [
  {
   "cell_type": "code",
   "execution_count": 1,
   "metadata": {
    "slideshow": {
     "slide_type": "notes"
    }
   },
   "outputs": [],
   "source": [
    "# My standard magic !  You will see this in almost all my notebooks.\n",
    "\n",
    "from IPython.core.interactiveshell import InteractiveShell\n",
    "InteractiveShell.ast_node_interactivity = \"all\"\n",
    "\n",
    "# Reload all modules imported with %aimport\n",
    "%load_ext autoreload\n",
    "%autoreload 1\n",
    "\n",
    "%matplotlib inline"
   ]
  },
  {
   "cell_type": "markdown",
   "metadata": {
    "slideshow": {
     "slide_type": "slide"
    }
   },
   "source": [
    "# Overview\n",
    "\n",
    "## Goals\n",
    "- Learn the \"Recipe for Machine Learning\"\n",
    "    - a *systematic approach* to problem solving\n",
    "    - a formal way of presenting your ideas\n",
    "- Terminology\n",
    "- Introduction to the sklearn API\n",
    "    "
   ]
  },
  {
   "cell_type": "markdown",
   "metadata": {
    "slideshow": {
     "slide_type": "subslide"
    }
   },
   "source": [
    "## Plan\n",
    "- Will illustrate the recipe using a model familiar to you: Linear Regression\n",
    "    - Supervised learning: Regression \n",
    "        - numerical features, target\n",
    "- Focus is on the *concept*, not the code\n",
    "- Similar to book (Geron, Chapter 2), but not identical.\n",
    "- Let's jump in ! Start *doing* ML\n",
    "- Your first assignment !\n",
    "    - checkpoint: more of your skills than knowledge"
   ]
  },
  {
   "cell_type": "markdown",
   "metadata": {
    "slideshow": {
     "slide_type": "subslide"
    }
   },
   "source": [
    "## Coming attractions (next week)\n",
    "- Supervised Learning: Classification\n",
    "    - non-numeric features (and target)\n",
    "         - Alternative Data: images, text"
   ]
  },
  {
   "cell_type": "markdown",
   "metadata": {
    "slideshow": {
     "slide_type": "slide"
    }
   },
   "source": [
    "<img src=external/scipy-2018-sklearn/notebooks/figures/ml_taxonomy.png>"
   ]
  },
  {
   "cell_type": "markdown",
   "metadata": {},
   "source": [
    "<div class=\"alert alert-block alert-danger\">\n",
    "    <b>Disclaimer:</b> \n",
    "    The purpose of this lecture is <i>not</i> to make you an expert in sklearn.  It is to introduce you to concepts that you can apply no matter what toolkit you use in the future.\n",
    "    \n",
    "</div>"
   ]
  },
  {
   "cell_type": "markdown",
   "metadata": {
    "slideshow": {
     "slide_type": "slide"
    }
   },
   "source": [
    "# Recipe for ML\n",
    "\n",
    "How to approach a problem\n",
    "\n",
    "How to present a solution\n",
    "- This is our model for how to write a notebook\n",
    "\n",
    "- Geron: Chapter2 (End to End)\n",
    "- Checklist in Appendix B as a template for problem-solving (and writing notebooks)"
   ]
  },
  {
   "cell_type": "markdown",
   "metadata": {
    "slideshow": {
     "slide_type": "subslide"
    }
   },
   "source": [
    "We will illustrate this with a toy example, and introduce our first model(Regression) at the same time.\n",
    "\n",
    "This will be very high level.\n",
    "\n",
    "We will make a second pass over the topics we gloss over on the first pass."
   ]
  },
  {
   "cell_type": "markdown",
   "metadata": {
    "slideshow": {
     "slide_type": "slide"
    }
   },
   "source": [
    "## Frame the problem\n",
    "- What problem are we trying to solve ?\n",
    "- Why is it important ?\n",
    "- Define terms\n"
   ]
  },
  {
   "cell_type": "markdown",
   "metadata": {
    "slideshow": {
     "slide_type": "slide"
    }
   },
   "source": [
    "### Our problem\n",
    "\n",
    "We are in the real-estate business.\n",
    "The general belief is that larger houses command premium prices.\n",
    "To test this, we gathered a history of home sales with associated house size and price.\n",
    "(We normalize both the size and price so that 0 means average)\n",
    "\n",
    "A seller asks us to appraise her house.  Our problem is to predict a price premium for her home, given it's size.\n",
    "\n",
    "\n",
    "Our observations are (size, price) pairs.  The \"target\" we seek to predict is price.\n",
    "\n",
    "We will use $y$ to denote the **target**, and $X$ to denote **\"features\"** (e.g., size)."
   ]
  },
  {
   "cell_type": "markdown",
   "metadata": {
    "slideshow": {
     "slide_type": "slide"
    }
   },
   "source": [
    "## Select a performance measure\n",
    "- How do we decide that we have \"solved\" the problem ?\n",
    "- Define a measure of how good our current solution is\n",
    "- Our ML recipe will iteratively seek to improve this measure"
   ]
  },
  {
   "cell_type": "markdown",
   "metadata": {
    "slideshow": {
     "slide_type": "slide"
    }
   },
   "source": [
    "### Notation\n",
    "- given a collection of a number ($m$) of $(x, y)$ pairs:\n",
    "    - Use superscripts to denote elements of the collection: $x^i$ and $y^i$ are the $i^{th}$ observation\n",
    "    - $\\hat{y}^i$ is our prediction, given features $x^i$\n",
    "    \n"
   ]
  },
  {
   "cell_type": "markdown",
   "metadata": {
    "slideshow": {
     "slide_type": "slide"
    }
   },
   "source": [
    "### Root Mean Square Error: an absolute performance metric\n",
    "- Our performance measure is the Root Mean Square Error (RMSE):\n",
    "\n",
    "$$\\textrm{RMSE}(\\hat{y}, y) = \\sqrt{ { 1\\over{m}} \\times \\sum_{i=1}^m { ( y^i - \\hat{y}^i)^2} }$$\n",
    "\n",
    "Our goal is to minimize the RMSE.  We can do this by making our prediction $\\hat{y}^i$ as close as possible  to the true value $y^i$, averaged over all $m$ observations\n",
    "\n",
    "n.b., we will sometimes ignore the square root\n",
    "$$ \\textrm{MSE}(\\hat{y}, y) = \\text{RMSE}(\\hat{y}, y)^2$$"
   ]
  },
  {
   "cell_type": "markdown",
   "metadata": {
    "slideshow": {
     "slide_type": "subslide"
    }
   },
   "source": [
    "### Digression: $R^2$, A relative performance metric\n",
    "\n",
    "Whereas RMSE is absolute error (in same units as $y$), $R^2$ is a relative error (in units of percent).\n",
    "\n",
    "$$ \n",
    "\\begin{array}{ll}\n",
    "R^2 & = & 1 - \\left( \\frac{\\sum_{i=1}^m { (y_i - \\hat{y}_i)^2} }{ \\sum_{i=1}^m { (y_i -  \\bar{y}_i)^2} }   \\right) \\\\\n",
    "& = & 1 - \\left(  \\frac{m \\cdot \\textrm{RMSE}(\\hat{y}, y)^2} { \\sum_{i=1}^m { (y_i -  \\bar{y}_i)^2}} \\right)\n",
    "\\end{array}\n",
    "$$\n",
    "\n",
    "**Interpretation**: Performance compared to a naive baseline estimator (predict mean $\\bar{y}$)"
   ]
  },
  {
   "cell_type": "markdown",
   "metadata": {
    "slideshow": {
     "slide_type": "slide"
    }
   },
   "source": [
    "## Get the data and have a first look\n",
    "\n",
    "- The dirty secret of ML: Getting the data (and cleaning it) is 70-80% of the effort !\n",
    "    - Data usually doesn't come in a neatly wrapped package\n",
    "        - Multiple data sources\n",
    "        - Multiple tables that need to be joined\n",
    "            - Pandas is great for data wrangling !\n",
    "            - Separate module (later) on data munging\n",
    "        - Once you have the data it may need to be:\n",
    "            - cleaned: deal with missing values and outliers\n",
    "            - normalized, transformed, feature selection/creation (in the Discover and Visualize step)\n",
    "    - This week's assignment will force you to confront data\n",
    "            \n",
    " In this toy example I will give you a simple function that gives you the data in near-final form.\n",
    " - Don't expect this to happen too often !\n",
    " - We will revisit this topic in depth\n",
    " \n",
    " \n",
    " "
   ]
  },
  {
   "cell_type": "code",
   "execution_count": 2,
   "metadata": {
    "slideshow": {
     "slide_type": "slide"
    }
   },
   "outputs": [],
   "source": [
    "# Imports\n",
    "import matplotlib.pyplot as plt\n",
    "import numpy as np\n",
    "\n",
    "from sklearn import datasets, linear_model\n",
    "from sklearn.metrics import mean_squared_error, r2_score\n",
    "\n",
    "import gen_data as gd\n",
    "%aimport gen_data"
   ]
  },
  {
   "cell_type": "code",
   "execution_count": 3,
   "metadata": {
    "slideshow": {
     "slide_type": "slide"
    }
   },
   "outputs": [
    {
     "data": {
      "image/png": "[encoded data removed]",
      "text/plain": [
       "<Figure size 432x288 with 1 Axes>"
      ]
     },
     "metadata": {
      "needs_background": "light"
     },
     "output_type": "display_data"
    }
   ],
   "source": [
    "# I will give you the data via a function (so I can easily alter the data in subsequent examples)\n",
    "v1, a1 = 1, .005\n",
    "X, y = gd.gen_data(num=50, v=v1, a=a1)\n",
    "\n",
    "(xlabel, ylabel) = (\"Size\", \"Price Premium\")\n",
    "gd.gen_plot(X,y, xlabel, ylabel)"
   ]
  },
  {
   "cell_type": "markdown",
   "metadata": {
    "slideshow": {
     "slide_type": "slide"
    }
   },
   "source": [
    "### Here's what the data looks like (life is so much easier with Pandas !)"
   ]
  },
  {
   "cell_type": "code",
   "execution_count": 4,
   "metadata": {
    "slideshow": {
     "slide_type": "subslide"
    }
   },
   "outputs": [
    {
     "data": {
      "text/html": [
       "<div>\n",
       "<style scoped>\n",
       "    .dataframe tbody tr th:only-of-type {\n",
       "        vertical-align: middle;\n",
       "    }\n",
       "\n",
       "    .dataframe tbody tr th {\n",
       "        vertical-align: top;\n",
       "    }\n",
       "\n",
       "    .dataframe thead th {\n",
       "        text-align: right;\n",
       "    }\n",
       "</style>\n",
       "<table border=\"1\" class=\"dataframe\">\n",
       "  <thead>\n",
       "    <tr style=\"text-align: right;\">\n",
       "      <th></th>\n",
       "      <th>X</th>\n",
       "      <th>Y</th>\n",
       "    </tr>\n",
       "  </thead>\n",
       "  <tbody>\n",
       "    <tr>\n",
       "      <th>0</th>\n",
       "      <td>24.835708</td>\n",
       "      <td>26.377739</td>\n",
       "    </tr>\n",
       "    <tr>\n",
       "      <th>1</th>\n",
       "      <td>-6.913215</td>\n",
       "      <td>-6.793734</td>\n",
       "    </tr>\n",
       "    <tr>\n",
       "      <th>2</th>\n",
       "      <td>32.384427</td>\n",
       "      <td>35.006305</td>\n",
       "    </tr>\n",
       "    <tr>\n",
       "      <th>3</th>\n",
       "      <td>76.151493</td>\n",
       "      <td>90.649117</td>\n",
       "    </tr>\n",
       "    <tr>\n",
       "      <th>4</th>\n",
       "      <td>-11.707669</td>\n",
       "      <td>-11.364995</td>\n",
       "    </tr>\n",
       "  </tbody>\n",
       "</table>\n",
       "</div>"
      ],
      "text/plain": [
       "           X          Y\n",
       "0  24.835708  26.377739\n",
       "1  -6.913215  -6.793734\n",
       "2  32.384427  35.006305\n",
       "3  76.151493  90.649117\n",
       "4 -11.707669 -11.364995"
      ]
     },
     "execution_count": 4,
     "metadata": {},
     "output_type": "execute_result"
    },
    {
     "data": {
      "text/html": [
       "<div>\n",
       "<style scoped>\n",
       "    .dataframe tbody tr th:only-of-type {\n",
       "        vertical-align: middle;\n",
       "    }\n",
       "\n",
       "    .dataframe tbody tr th {\n",
       "        vertical-align: top;\n",
       "    }\n",
       "\n",
       "    .dataframe thead th {\n",
       "        text-align: right;\n",
       "    }\n",
       "</style>\n",
       "<table border=\"1\" class=\"dataframe\">\n",
       "  <thead>\n",
       "    <tr style=\"text-align: right;\">\n",
       "      <th></th>\n",
       "      <th>X</th>\n",
       "      <th>Y</th>\n",
       "    </tr>\n",
       "  </thead>\n",
       "  <tbody>\n",
       "    <tr>\n",
       "      <th>count</th>\n",
       "      <td>50.000000</td>\n",
       "      <td>50.000000</td>\n",
       "    </tr>\n",
       "    <tr>\n",
       "      <th>mean</th>\n",
       "      <td>-11.273695</td>\n",
       "      <td>-5.616563</td>\n",
       "    </tr>\n",
       "    <tr>\n",
       "      <th>std</th>\n",
       "      <td>46.683439</td>\n",
       "      <td>45.278755</td>\n",
       "    </tr>\n",
       "    <tr>\n",
       "      <th>min</th>\n",
       "      <td>-97.983506</td>\n",
       "      <td>-73.981587</td>\n",
       "    </tr>\n",
       "    <tr>\n",
       "      <th>25%</th>\n",
       "      <td>-43.048955</td>\n",
       "      <td>-38.374426</td>\n",
       "    </tr>\n",
       "    <tr>\n",
       "      <th>50%</th>\n",
       "      <td>-11.707258</td>\n",
       "      <td>-11.364609</td>\n",
       "    </tr>\n",
       "    <tr>\n",
       "      <th>75%</th>\n",
       "      <td>16.813778</td>\n",
       "      <td>17.521546</td>\n",
       "    </tr>\n",
       "    <tr>\n",
       "      <th>max</th>\n",
       "      <td>92.613909</td>\n",
       "      <td>114.057250</td>\n",
       "    </tr>\n",
       "  </tbody>\n",
       "</table>\n",
       "</div>"
      ],
      "text/plain": [
       "               X           Y\n",
       "count  50.000000   50.000000\n",
       "mean  -11.273695   -5.616563\n",
       "std    46.683439   45.278755\n",
       "min   -97.983506  -73.981587\n",
       "25%   -43.048955  -38.374426\n",
       "50%   -11.707258  -11.364609\n",
       "75%    16.813778   17.521546\n",
       "max    92.613909  114.057250"
      ]
     },
     "execution_count": 4,
     "metadata": {},
     "output_type": "execute_result"
    }
   ],
   "source": [
    "import pandas as pd\n",
    "df = pd.DataFrame( { \"X\": X.ravel(), \"Y\":y.ravel()})\n",
    "df.head()\n",
    "\n",
    "df.describe()"
   ]
  },
  {
   "cell_type": "markdown",
   "metadata": {
    "slideshow": {
     "slide_type": "slide"
    }
   },
   "source": [
    "#### But if we don't have Pandas, Numpy to the rescue:"
   ]
  },
  {
   "cell_type": "code",
   "execution_count": 5,
   "metadata": {
    "slideshow": {
     "slide_type": "subslide"
    }
   },
   "outputs": [
    {
     "name": "stdout",
     "output_type": "stream",
     "text": [
      "Y:\n",
      " size=50\n",
      " mean=-5.616563210748966\n",
      " std=44.823680417643054\n",
      " min=-73.98158747882019\n",
      " max=114.05724968049518\n",
      "\n"
     ]
    }
   ],
   "source": [
    "print(\"Y:\\n size={}\\n mean={}\\n std={}\\n min={}\\n max={}\\n\".format( \n",
    "      y.size,  y.mean(), y.std(), y.min(), y.max()\n",
    "                                                                  )\n",
    "     )"
   ]
  },
  {
   "cell_type": "code",
   "execution_count": 6,
   "metadata": {
    "slideshow": {
     "slide_type": "subslide"
    }
   },
   "outputs": [
    {
     "name": "stdout",
     "output_type": "stream",
     "text": [
      "y.std() = 44.82, df[\"Y\"].std() = 45.28\n",
      "0.0\n"
     ]
    }
   ],
   "source": [
    "# For the sharp-eyed: note the difference between y.std() and df[\"Y\"].std()\n",
    "# We prove below that this is because they are using different denominators (population vs sample) in the std. deviation calculation\n",
    "print(\"y.std() = {ys:3.2f}, df[\\\"Y\\\"].std() = {Ys:3.2f}\".format(ys=y.std(), Ys=df[\"Y\"].std()) )\n",
    "      \n",
    "print (  (y.size *y.std()**2) -  ( (y.size-1) * df[\"Y\"].std()**2 )   )"
   ]
  },
  {
   "cell_type": "markdown",
   "metadata": {
    "slideshow": {
     "slide_type": "slide"
    }
   },
   "source": [
    "### Nothing better than visualizing !"
   ]
  },
  {
   "cell_type": "code",
   "execution_count": 7,
   "metadata": {
    "slideshow": {
     "slide_type": "subslide"
    }
   },
   "outputs": [
    {
     "data": {
      "image/png": "[encoded data removed]",
      "text/plain": [
       "<Figure size 432x288 with 1 Axes>"
      ]
     },
     "metadata": {
      "needs_background": "light"
     },
     "output_type": "display_data"
    }
   ],
   "source": [
    "_ = df[\"X\"].hist()  # See why Pandas is so convenient ?\n",
    "\n",
    "# BTW, what's with this \"_ = ...\" business ?"
   ]
  },
  {
   "cell_type": "code",
   "execution_count": 8,
   "metadata": {
    "slideshow": {
     "slide_type": "subslide"
    }
   },
   "outputs": [
    {
     "data": {
      "image/png": "[encoded data removed]",
      "text/plain": [
       "<Figure size 432x288 with 1 Axes>"
      ]
     },
     "metadata": {
      "needs_background": "light"
     },
     "output_type": "display_data"
    }
   ],
   "source": [
    "_ = df[\"Y\"].hist()"
   ]
  },
  {
   "cell_type": "markdown",
   "metadata": {
    "slideshow": {
     "slide_type": "slide"
    }
   },
   "source": [
    "#### But if we don't have Pandas, can use Matplotlib"
   ]
  },
  {
   "cell_type": "code",
   "execution_count": 9,
   "metadata": {
    "slideshow": {
     "slide_type": "subslide"
    }
   },
   "outputs": [
    {
     "data": {
      "image/png": "[encoded data removed]",
      "text/plain": [
       "<Figure size 432x288 with 2 Axes>"
      ]
     },
     "metadata": {
      "needs_background": "light"
     },
     "output_type": "display_data"
    }
   ],
   "source": [
    "# Use the Object-Oriented interface to Matplotlib, NOT the MATLAB interface\n",
    "# Create a figure\n",
    "fig = plt.figure()\n",
    "\n",
    "# Create a histogram for X.  The figure will be 1 row by 2 columns and the plot for X will be in column 1\n",
    "ax = fig.add_subplot(121)\n",
    "_ = ax.hist(X)\n",
    "_ = ax.set_xlabel(\"X\"); _ = ax.set_ylabel(\"Count\")\n",
    "\n",
    "# Create a histogram for Y.  The figure will be 1 row by 2 columns and the plot for X will be in column 2\n",
    "ax = fig.add_subplot(122)\n",
    "_ = ax.hist(y)\n",
    "_ = ax.set_xlabel(\"y\"); _ = ax.set_ylabel(\"Count\")\n"
   ]
  },
  {
   "cell_type": "markdown",
   "metadata": {
    "slideshow": {
     "slide_type": "slide"
    }
   },
   "source": [
    "### Create a test set and put it aside !\n",
    "- Our ultimate goal is to predict well, out of sample\n",
    "- This is called *generalization*\n",
    "- Our success on the test set is our final measure\n",
    "- We will revisit this later\n",
    "    - Bottom line: you may look at the test set *only once*, at the end"
   ]
  },
  {
   "cell_type": "code",
   "execution_count": 10,
   "metadata": {
    "slideshow": {
     "slide_type": "slide"
    }
   },
   "outputs": [],
   "source": [
    "def split(X,y, shuffle=True, pct=.80, seed=42):\n",
    "    \"\"\"\n",
    "    Split the X and y datasets into two pieces (train and test)\n",
    "    \n",
    "    Parameters\n",
    "    ----------\n",
    "    X, y: ndarray.\n",
    "    \n",
    "    pct: Float.  Fraction (between 0 and 1) of data to assign to train\n",
    "    seed: Float.  Seed for the random number generator\n",
    "    \n",
    "    Returns\n",
    "    -------\n",
    "    Tuple of length 4: X_train, X_test, y_train, y_test\n",
    "    \"\"\"\n",
    "    # Random seed\n",
    "    rng = np.random.RandomState(42)\n",
    "    \n",
    "    # Number of observations\n",
    "    num = y.shape[0]\n",
    "    \n",
    "    # Enumerate index of each data point  \n",
    "    idxs = list( range(0, num))\n",
    "    \n",
    "    # Shuffle indices\n",
    "    if(shuffle):\n",
    "        rng.shuffle(idxs)\n",
    "    \n",
    "    # How many observations for training ?\n",
    "    split_idx = int( num * pct)\n",
    "    \n",
    "    # Split X and Y into train and test sets\n",
    "    X_train, y_train = X[ idxs[:split_idx] ] , y[ idxs[:split_idx] ]\n",
    "    X_test,  y_test  = X[ idxs[split_idx:] ],  y[ idxs[split_idx:] ]\n",
    "                        \n",
    "    return X_train, X_test, y_train, y_test"
   ]
  },
  {
   "cell_type": "code",
   "execution_count": 11,
   "metadata": {
    "slideshow": {
     "slide_type": "slide"
    }
   },
   "outputs": [
    {
     "data": {
      "text/plain": [
       "((40, 1), (10, 1))"
      ]
     },
     "execution_count": 11,
     "metadata": {},
     "output_type": "execute_result"
    },
    {
     "data": {
      "text/plain": [
       "((40, 1), (10, 1))"
      ]
     },
     "execution_count": 11,
     "metadata": {},
     "output_type": "execute_result"
    }
   ],
   "source": [
    "X_train, X_test, y_train, y_test = split(X,y)\n",
    "\n",
    "X_train.shape, X_test.shape\n",
    "y_train.shape, y_test.shape"
   ]
  },
  {
   "cell_type": "code",
   "execution_count": 12,
   "metadata": {
    "slideshow": {
     "slide_type": "subslide"
    }
   },
   "outputs": [
    {
     "data": {
      "text/plain": [
       "numpy.ndarray"
      ]
     },
     "execution_count": 12,
     "metadata": {},
     "output_type": "execute_result"
    },
    {
     "data": {
      "text/plain": [
       "numpy.ndarray"
      ]
     },
     "execution_count": 12,
     "metadata": {},
     "output_type": "execute_result"
    }
   ],
   "source": [
    "type(X)\n",
    "type(X_train)"
   ]
  },
  {
   "cell_type": "markdown",
   "metadata": {
    "slideshow": {
     "slide_type": "slide"
    }
   },
   "source": [
    "## Discover and Visualize Data to gain insights\n",
    "\n",
    "- Our goal is to come up with a Hypothesis (Model) that explains the relation between features(X) and targets (y)\n",
    "- We explore our data to search for features that may aid in predicting the target\n",
    "- This may suggest an initial Hypothesis\n",
    "\n",
    "We do this on the **training** data only ! No peeking at the test data !"
   ]
  },
  {
   "cell_type": "code",
   "execution_count": 13,
   "metadata": {
    "scrolled": false,
    "slideshow": {
     "slide_type": "slide"
    }
   },
   "outputs": [
    {
     "data": {
      "image/png": "[encoded data removed]",
      "text/plain": [
       "<Figure size 432x288 with 1 Axes>"
      ]
     },
     "metadata": {
      "needs_background": "light"
     },
     "output_type": "display_data"
    }
   ],
   "source": [
    "# Plot the target vs one feature\n",
    "fig = plt.figure()\n",
    "ax  = fig.add_subplot(1,1,1)\n",
    "\n",
    "_ = ax.scatter(X_train, y_train,  color='black')\n",
    "_ = ax.set_xlabel(xlabel)\n",
    "_ = ax.set_ylabel(ylabel)"
   ]
  },
  {
   "cell_type": "markdown",
   "metadata": {
    "slideshow": {
     "slide_type": "subslide"
    }
   },
   "source": [
    "Relationship between Size and Price could be linear.\n",
    "\n",
    "That will be our initial hypothesis"
   ]
  },
  {
   "cell_type": "markdown",
   "metadata": {
    "slideshow": {
     "slide_type": "slide"
    }
   },
   "source": [
    "## Prepare the data\n",
    "- Your exploration of the data may have revealed issues that need to be addressed before modeling\n",
    "    - Dirty data\n",
    "    - There may be features at vastly different scales; may need to re-scale\n",
    "    - Need to select or eliminate features\n",
    "    - Need to create synthetic features\n",
    "        - How to handle Categorical features ?\n",
    "        - How to handle non-numeric features, e.g., Text\n",
    "\n",
    "In the Toy example, everything is clean and perfect, so nothing to do just yet.\n",
    "\n",
    "We will revisit this in the module on Data Transformations."
   ]
  },
  {
   "cell_type": "markdown",
   "metadata": {
    "slideshow": {
     "slide_type": "subslide"
    }
   },
   "source": [
    "### Data Cleaning\n",
    "\n",
    "Discussed in Geron; we will address this in the module on Data Transformation."
   ]
  },
  {
   "cell_type": "markdown",
   "metadata": {
    "slideshow": {
     "slide_type": "subslide"
    }
   },
   "source": [
    "### Feature scaling\n",
    "Discussed in Geron; we will address this in the module on Data Transformation."
   ]
  },
  {
   "cell_type": "markdown",
   "metadata": {
    "slideshow": {
     "slide_type": "subslide"
    }
   },
   "source": [
    "### Data Transformations\n",
    "Discussed in Geron; we will address this in the module on Data Transformation."
   ]
  },
  {
   "cell_type": "markdown",
   "metadata": {
    "slideshow": {
     "slide_type": "slide"
    }
   },
   "source": [
    "## Select and Train a model"
   ]
  },
  {
   "cell_type": "markdown",
   "metadata": {
    "slideshow": {
     "slide_type": "slide"
    }
   },
   "source": [
    " We form an hypothesis that relates features to targets.  \n",
    " Our visualization of the data suggests that a reasonable first hypothesis is a linear relation.\n",
    " \n",
    " The **model** is a tool that implements our hypothesis.\n",
    " Various terms are used:\n",
    " - hypothesis\n",
    " - estimator\n",
    " - prediction function\n",
    "\n",
    "\n",
    "        "
   ]
  },
  {
   "cell_type": "markdown",
   "metadata": {
    "slideshow": {
     "slide_type": "slide"
    }
   },
   "source": [
    "### Notation and Terminology (again)\n",
    "\n",
    "- $(x, y)$ is an observation: a **feature** $x$ and and output value $y$\n",
    "    - Will use **label**, **target** as synonyms for output value\n",
    "    \n",
    "    - $x$ is a *vector*: the features from a single observation\n",
    "        - $x_j$ denotes the $j^{th}$ element of vector $x$\n",
    "    - $y$ is a scalar value (for now)\n",
    "    \n",
    "We are usually given **training data**, a set of $(x, y)$ pairs\n",
    "   - So each observation $(x,y)$ is one element of the training data\n",
    "   - $x^i, y^i$ denote the $i^{th}$ observation\n",
    "   \n",
    "**Notation Summary**\n",
    "- subscripts to index elements of a vector\n",
    "- superscripts to index elements of a set"
   ]
  },
  {
   "cell_type": "markdown",
   "metadata": {
    "slideshow": {
     "slide_type": "subslide"
    }
   },
   "source": [
    "An **hypothesis** is a mapping from feature to target\n",
    "- $\\hat{y} = h_\\Theta (x)$\n",
    "    - $\\hat{y}$ is the **predicted value**, conditional on given feature vector $x$\n",
    "    - $\\Theta$ is a  column vector of parameters of our model\n",
    "    "
   ]
  },
  {
   "cell_type": "markdown",
   "metadata": {
    "slideshow": {
     "slide_type": "slide"
    }
   },
   "source": [
    "Our visualization has led us to form a Linear Hypothesis.\n",
    "\n",
    "$$h_\\theta(x) = \\theta_0 + \\theta_1 * x$$\n",
    "\n",
    "We can write this in vector form as \n",
    "$$h_\\theta(x) = \\Theta^T \\cdot x$$\n",
    "- Select an sklearn estimator that implements this hypothesis: `LinearRegression`\n",
    "- **Fit** the model to the training data"
   ]
  },
  {
   "cell_type": "markdown",
   "metadata": {
    "slideshow": {
     "slide_type": "slide"
    }
   },
   "source": [
    "### Model fitting: an optimization problems\n",
    "\n",
    "**Model fitting** takes the training data and solves for $\\Theta$.\n",
    "\n",
    "Fitting most models usually involves the solution of an **Optimization Objective**.\n",
    "- If we are minimizing: the optimization objective is called the **cost** function\n",
    "- If we are maximizing: the optimization objective is called the **utility** function\n",
    "\n",
    "The basic purpose of the optimization objective is to cause predictions to be close to the true values.\n",
    "\n",
    "There may be added elements (e.g., constraints) of the objective as well (discussed later)."
   ]
  },
  {
   "cell_type": "markdown",
   "metadata": {
    "slideshow": {
     "slide_type": "subslide"
    }
   },
   "source": [
    "It is important to understand the Optimization Objective.  It tells you *why* the model fit is acting as it does.  It will guide you in your decisions for, e.g,, data transformations.\n",
    "\n",
    "This will be a topic for a separate module on Model Math.\n",
    "\n",
    "*The optimization objective is not necessarily identical to the performance measure.*\n",
    "- constraints added to objective\n",
    "- differentiability\n",
    "\n",
    "For our first example, the Performance Measure and Cost Function will be identical."
   ]
  },
  {
   "cell_type": "markdown",
   "metadata": {
    "slideshow": {
     "slide_type": "slide"
    }
   },
   "source": [
    "### Optimization Objective for Linear Regression\n",
    "\n",
    "Cost function = MSE\n",
    "\n",
    "Minimize Cost Function by solving for $\\Theta = (w, b)$ \n",
    "\n",
    "$$ \n",
    "\\begin{array}{lll}\n",
    "& \\Theta & = & \\textrm{argmin}_{w, b} { \\sum_i \\big(  (\\hat{y}^i - y_i)^2 \\big) } & \\\\\n",
    "& \\Theta & = & \\text{argmin}_{w.b} { \\sum_i \\big( (w^\\mathsf{T} x_i  + b) - y_i)^2} \\big) & \\\\\n",
    "& \\Theta & = & \\text{argmin}_{w, b} \\sum_i || w^\\mathsf{T}x_i + b  - y_i||^2  & \\textrm{ (the L2-norm) } \\\\\n",
    "\\end{array}\n",
    "$$\n"
   ]
  },
  {
   "cell_type": "markdown",
   "metadata": {
    "slideshow": {
     "slide_type": "slide"
    }
   },
   "source": [
    "### LinearRegression model in sklearn"
   ]
  },
  {
   "cell_type": "code",
   "execution_count": 14,
   "metadata": {
    "slideshow": {
     "slide_type": "subslide"
    }
   },
   "outputs": [
    {
     "name": "stdout",
     "output_type": "stream",
     "text": [
      "Coefficients: \n",
      " [4.93224426] [[0.96836946]]\n",
      "\n",
      "Shape of intercept: (1,); shape of coefficients: (1, 1)\n"
     ]
    }
   ],
   "source": [
    "# Say it in code\n",
    "\n",
    "# Create linear regression object\n",
    "regr = linear_model.LinearRegression()\n",
    "\n",
    "# Train the model using the training sets\n",
    "_ = regr.fit(X_train, y_train)\n",
    "\n",
    "# The coefficients\n",
    "print('Coefficients: \\n', regr.intercept_, regr.coef_)\n",
    "print(\"\\nShape of intercept: {i}; shape of coefficients: {c}\".format(i=regr.intercept_.shape,\n",
    "                                                                   c=regr.coef_.shape) )"
   ]
  },
  {
   "cell_type": "markdown",
   "metadata": {
    "slideshow": {
     "slide_type": "slide"
    }
   },
   "source": [
    "### Let's Predict !"
   ]
  },
  {
   "cell_type": "code",
   "execution_count": 15,
   "metadata": {
    "slideshow": {
     "slide_type": "subslide"
    }
   },
   "outputs": [
    {
     "data": {
      "text/plain": [
       "array([[100]])"
      ]
     },
     "execution_count": 15,
     "metadata": {},
     "output_type": "execute_result"
    }
   ],
   "source": [
    "# Recall: one way to turn a 1D ndarray into 2D is using reshape\n",
    "np.array([100]).reshape(-1,1)"
   ]
  },
  {
   "cell_type": "code",
   "execution_count": 16,
   "metadata": {
    "slideshow": {
     "slide_type": "subslide"
    }
   },
   "outputs": [
    {
     "name": "stdout",
     "output_type": "stream",
     "text": [
      "For size [100], predicted Price Premium [[101.76919047]]\n"
     ]
    }
   ],
   "source": [
    "# One prediction\n",
    "t = [100]\n",
    "\n",
    "# Remember: want a 2D ndarray\n",
    "t_array = np.array(t).reshape(-1,1)\n",
    "\n",
    "print(\"For size {s}, predicted {attr} {d}\".format(s=t, attr=ylabel, d=regr.predict(t_array)))"
   ]
  },
  {
   "cell_type": "code",
   "execution_count": 17,
   "metadata": {
    "slideshow": {
     "slide_type": "slide"
    }
   },
   "outputs": [],
   "source": [
    "# Lots of predictions: predict on entire test set\n",
    "y_pred = regr.predict(X_test)"
   ]
  },
  {
   "cell_type": "markdown",
   "metadata": {},
   "source": [
    "### How did we do ?  Evaluate the Performance Measure\n",
    "- Measure the performance\n",
    "- Interpret the results\n",
    "    - do the results suggest room for improvement (i.e, the next experiment) ?"
   ]
  },
  {
   "cell_type": "code",
   "execution_count": 18,
   "metadata": {
    "slideshow": {
     "slide_type": "slide"
    }
   },
   "outputs": [
    {
     "name": "stdout",
     "output_type": "stream",
     "text": [
      "Root Mean squared error: 6.86\n",
      "R-squared: 0.98\n"
     ]
    }
   ],
   "source": [
    "# The mean squared error\n",
    "rmse = np.sqrt( mean_squared_error(y_test,  y_pred))\n",
    "print(\"Root Mean squared error: {:.2f}\".format( rmse ) )\n",
    "\n",
    "# Explained variance score: 1 is perfect prediction\n",
    "print(\"R-squared: {:.2f}\".format(r2_score(y_test, y_pred)) )"
   ]
  },
  {
   "cell_type": "markdown",
   "metadata": {},
   "source": [
    "What do these numbers mean ?\n",
    "- Relative to the given test set\n",
    "    - our price premium predictions are with +/- 7\n",
    "- Let's visualize the fit"
   ]
  },
  {
   "cell_type": "markdown",
   "metadata": {
    "slideshow": {
     "slide_type": "slide"
    }
   },
   "source": [
    "#### Visualize the fit"
   ]
  },
  {
   "cell_type": "code",
   "execution_count": 19,
   "metadata": {
    "slideshow": {
     "slide_type": "subslide"
    }
   },
   "outputs": [
    {
     "data": {
      "image/png": "[encoded data removed]",
      "text/plain": [
       "<Figure size 432x288 with 1 Axes>"
      ]
     },
     "metadata": {
      "needs_background": "light"
     },
     "output_type": "display_data"
    }
   ],
   "source": [
    "# Plot predicted ylabel (red) and true ylabel (black)\n",
    "fig = plt.figure()\n",
    "ax  = fig.add_subplot(1,1,1)\n",
    "\n",
    "_ = ax.scatter(X_test, y_test, color='black', label=\"test\")\n",
    "_ = ax.scatter(X_test, y_pred, color=\"red\",   label=\"predicted\")\n",
    "_ = ax.set_xlabel(xlabel)\n",
    "_ = ax.set_ylabel(ylabel)\n",
    "_ = ax.legend()"
   ]
  },
  {
   "cell_type": "markdown",
   "metadata": {},
   "source": [
    "Since model is linear, we can plot a fitted line"
   ]
  },
  {
   "cell_type": "code",
   "execution_count": 20,
   "metadata": {},
   "outputs": [
    {
     "data": {
      "image/png": "[encoded data removed]",
      "text/plain": [
       "<Figure size 432x288 with 1 Axes>"
      ]
     },
     "metadata": {
      "needs_background": "light"
     },
     "output_type": "display_data"
    }
   ],
   "source": [
    "# Plot predicted ylabel (red) and true  (black)\n",
    "fig = plt.figure()\n",
    "ax  = fig.add_subplot(1,1,1)\n",
    "\n",
    "_ = ax.scatter(X_test, y_test, color='black', label=\"test\")\n",
    "_ = ax.scatter(X_test, y_pred, color=\"red\",   label=\"predicted\")\n",
    "\n",
    "_ = ax.plot(X_test, y_pred, color=\"red\")\n",
    "_ = ax.set_xlabel(xlabel)\n",
    "_ = ax.set_ylabel(ylabel)"
   ]
  },
  {
   "cell_type": "markdown",
   "metadata": {
    "slideshow": {
     "slide_type": "slide"
    }
   },
   "source": [
    "#### Visualize the distribution of errors"
   ]
  },
  {
   "cell_type": "code",
   "execution_count": 21,
   "metadata": {
    "slideshow": {
     "slide_type": "subslide"
    }
   },
   "outputs": [
    {
     "data": {
      "image/png": "[encoded data removed]",
      "text/plain": [
       "<Figure size 432x288 with 1 Axes>"
      ]
     },
     "metadata": {
      "needs_background": "light"
     },
     "output_type": "display_data"
    }
   ],
   "source": [
    "fig = plt.figure()\n",
    "ax = fig.add_subplot(1,1,1)\n",
    "_ = ax.hist( (y_test - y_pred) )\n",
    "_ = ax.set_xlabel(\"Error\")\n",
    "_ = ax.set_ylabel(\"Count\")"
   ]
  },
  {
   "cell_type": "markdown",
   "metadata": {
    "slideshow": {
     "slide_type": "subslide"
    }
   },
   "source": [
    "What does the histogram tell you ?\n",
    "- Maybe a problem in fitting the \"tails\""
   ]
  },
  {
   "cell_type": "markdown",
   "metadata": {
    "slideshow": {
     "slide_type": "slide"
    }
   },
   "source": [
    "#### Aside: in-sample metric\n",
    "\n",
    "Note, this \"fitted line\" is out-of-sample (evaluated on the test set)\n",
    "\n",
    "Out of curiousity, how did we do \"in-sample\" (evaluated on the training set)"
   ]
  },
  {
   "cell_type": "code",
   "execution_count": 22,
   "metadata": {
    "slideshow": {
     "slide_type": "subslide"
    }
   },
   "outputs": [
    {
     "name": "stdout",
     "output_type": "stream",
     "text": [
      "Root Mean squared error: 6.56\n",
      "R-squared (train): 0.98\n"
     ]
    }
   ],
   "source": [
    "# Predict on entire training set\n",
    "y_pred_train = regr.predict(X_train)\n",
    "\n",
    "# The mean squared error\n",
    "rmse = np.sqrt( mean_squared_error(y_train,  y_pred_train))\n",
    "print(\"Root Mean squared error: {:.2f}\".format( rmse ) )\n",
    "\n",
    "# Explained variance score: 1 is perfect prediction\n",
    "print(\"R-squared (train): {:.2f}\".format(r2_score(y_train, y_pred_train)) )\n",
    "\n"
   ]
  },
  {
   "cell_type": "code",
   "execution_count": 23,
   "metadata": {
    "slideshow": {
     "slide_type": "subslide"
    }
   },
   "outputs": [
    {
     "data": {
      "image/png": "[encoded data removed]",
      "text/plain": [
       "<Figure size 432x288 with 1 Axes>"
      ]
     },
     "metadata": {
      "needs_background": "light"
     },
     "output_type": "display_data"
    }
   ],
   "source": [
    "\n",
    "fig = plt.figure()\n",
    "ax  = fig.add_subplot(1,1,1)\n",
    "\n",
    "_ = ax.scatter(X_train, y_train, color=\"black\",    label=\"train\")\n",
    "_ = ax.scatter(X_train, y_pred_train, color=\"red\", label=\"model\")\n",
    "\n",
    "_ = ax.plot(X_train, y_pred_train, color=\"blue\")\n",
    "_ = ax.set_xlabel(xlabel)\n",
    "_ = ax.set_ylabel(ylabel)\n",
    "_ = ax.legend()"
   ]
  },
  {
   "cell_type": "markdown",
   "metadata": {
    "slideshow": {
     "slide_type": "subslide"
    }
   },
   "source": [
    "- In sample RMSE, $R^2$ similar to out of sample\n",
    "    - No over/under fitting\n",
    "- The \"fitted model\" (i.e., fitted training data) already shows a problem in the tails"
   ]
  },
  {
   "cell_type": "markdown",
   "metadata": {
    "slideshow": {
     "slide_type": "slide"
    }
   },
   "source": [
    "#### In-sample vs Out of sample\n",
    "- Traditional statistics (contrasted to ML)\n",
    "    - evaluate in-sample\n",
    "        - goal is to \"explain\" rather than predict (retrospective)\n",
    "        - can predict under the *assumption that the future will be the same as the past*\n",
    "    - comes with confidence intervals, etc.\n",
    "        - sadly, often missing from ML"
   ]
  },
  {
   "cell_type": "markdown",
   "metadata": {},
   "source": [
    "### Iterative improvement\n",
    "- Our model is pretty good !\n",
    "    - Do we need to iterate in this case ?\n",
    "        - decent RMSE, but clearly a problem in the tails\n",
    "    - In general: you will observe where the model did well and did less well\n",
    "        - will lead you to a new experiment\n",
    "            - Feature iteration\n",
    "                - adding a previously discarded feature\n",
    "                - creating a synthetic feature\n",
    "            - Hypothesis iteration\n",
    "                - maybe a Linear model with a single parameter is not best ?\n",
    "                    - how about a second order model (e.g., $X$ and $X^2$ as features\n",
    "                - maybe a different model would be better (e.g., Tree)\n",
    "                \n",
    "Hopefully, we've made our point with the toy example and we won't iterate further."
   ]
  },
  {
   "cell_type": "markdown",
   "metadata": {
    "slideshow": {
     "slide_type": "slide"
    }
   },
   "source": [
    "## Fine-tuning your model\n",
    "\n",
    "Once we are satisfied with our Hypothesis, there may be some \"knobs\" to adjust for even better results\n",
    "\n",
    "- Hyper-parameters\n",
    "- GridSearch\n",
    "- Ensembles\n",
    "\n",
    "- We will visit this later"
   ]
  },
  {
   "cell_type": "markdown",
   "metadata": {
    "slideshow": {
     "slide_type": "slide"
    }
   },
   "source": [
    "# Recipe for ML (second visit)"
   ]
  },
  {
   "cell_type": "markdown",
   "metadata": {
    "slideshow": {
     "slide_type": "slide"
    }
   },
   "source": [
    "## Selecting a model (re-visited)\n",
    "\n",
    "Suppose we're given a different dataset.  Let's try out our recipe and see what changes might be needed\n",
    "\n",
    "Here's what the first dataset looked like\n"
   ]
  },
  {
   "cell_type": "code",
   "execution_count": 24,
   "metadata": {
    "slideshow": {
     "slide_type": "subslide"
    }
   },
   "outputs": [
    {
     "data": {
      "image/png": "[encoded data removed]",
      "text/plain": [
       "<Figure size 432x288 with 1 Axes>"
      ]
     },
     "metadata": {
      "needs_background": "light"
     },
     "output_type": "display_data"
    }
   ],
   "source": [
    "X_orig, y_orig = gd.gen_data(num=50, v=v1, a=a1)\n",
    "\n",
    "gd.gen_plot(X_orig, y_orig, xlabel, ylabel)"
   ]
  },
  {
   "cell_type": "markdown",
   "metadata": {
    "slideshow": {
     "slide_type": "slide"
    }
   },
   "source": [
    "And here's what the new dataset looks like"
   ]
  },
  {
   "cell_type": "code",
   "execution_count": 25,
   "metadata": {
    "slideshow": {
     "slide_type": "subslide"
    }
   },
   "outputs": [
    {
     "data": {
      "image/png": "[encoded data removed]",
      "text/plain": [
       "<Figure size 432x288 with 1 Axes>"
      ]
     },
     "metadata": {
      "needs_background": "light"
     },
     "output_type": "display_data"
    }
   ],
   "source": [
    "v2, a2 = v1, a1*2\n",
    "X_curve, y_curve = gd.gen_data(num=50, v=v2, a=a2)\n",
    "gd.gen_plot(X_curve,y_curve, xlabel, ylabel)"
   ]
  },
  {
   "cell_type": "markdown",
   "metadata": {
    "slideshow": {
     "slide_type": "subslide"
    }
   },
   "source": [
    "Hmm.  Looks like a lot more curvature, maybe we need a better hypothesis than a linear model ?\n",
    "\n",
    "Let's verify this by seeing the result on the linear model.\n"
   ]
  },
  {
   "cell_type": "markdown",
   "metadata": {
    "slideshow": {
     "slide_type": "slide"
    }
   },
   "source": [
    "Enough of this in-line hacking!  Combine into a couple of re-usable routines to make running and evaluating competing models easier.\n",
    "\n",
    "<div class=\"alert alert-block alert-success\">\n",
    "<b>TIP</b>\n",
    "\n",
    "\n",
    "- Copy-and-paste in notebooks is discouraged: it is error-prone (hard to be consistent once you make a change) and not very re-usable.\n",
    "\n",
    "- Invest the time into creating routines.  Even better: create Python Classes, with flexible, reusable methods.\n",
    " </div>\n",
    " \n",
    "This will add a little overhead to your startup, but will pay dividends in the long-run.\n",
    "\n",
    "- **Gotcha**: beware of re-evaluating an earlier cell that references a variable that was changed in a later cell !\n",
    "    - I use the variables `X_train, X_test, y_train, y_test` for both the first and second example\n",
    "    - If, after running the second example, I re-run a cell associated with the first: confusion !\n"
   ]
  },
  {
   "cell_type": "code",
   "execution_count": 26,
   "metadata": {
    "slideshow": {
     "slide_type": "slide"
    }
   },
   "outputs": [],
   "source": [
    "def plot_fit(X, y, ax=ax, on_idx=0):\n",
    "    \"\"\"\n",
    "    Plot the fit\n",
    "    \n",
    "    Parameters\n",
    "    ----------\n",
    "    X: ndarray of features\n",
    "    y: ndarray of targets\n",
    "    ax: a matplotlib axes pbject (matplotlib.axes._subplots.AxesSubplot)\n",
    "    \n",
    "    Optional\n",
    "    --------\n",
    "    on_idx: Integer.  Which column of X to use for the horizontal axis of the plot\n",
    " \n",
    "    \"\"\"\n",
    "    sort_idx = X[:, on_idx].argsort()\n",
    "    X_sorted = X[ sort_idx,:]\n",
    "    y_sorted = y[ sort_idx,:]\n",
    "    \n",
    "    _ = ax.plot(X_sorted[:, on_idx] , y_sorted, color=\"red\")\n",
    "    \n",
    "def transform(X):\n",
    "    \"\"\"\n",
    "    Add a column to X with squared values\n",
    "    \n",
    "    Parameters\n",
    "    ----------\n",
    "    X: ndarray of features\n",
    "    \"\"\"\n",
    "    X_p2 = np.concatenate( [X, X **2], axis=1)\n",
    "    return X_p2\n",
    "    \n",
    "def run_regress(X,y, run_transforms=False):\n",
    "    \"\"\"\n",
    "    Do the full pipeline of the regression of y on X\n",
    "    \n",
    "    Parameters\n",
    "    ----------\n",
    "    X: ndarray of features\n",
    "    y: ndarray of targets\n",
    "    \n",
    "    Optional\n",
    "    --------\n",
    "    runTransforms: Boolean.  If True, run additional data transformations to create new features\n",
    "    \"\"\"\n",
    "    X_train, X_test, y_train, y_test = split(X,y)\n",
    "    \n",
    "    # Transform X's\n",
    "    if (run_transforms):\n",
    "        X_train = transform(X_train)\n",
    "        X_test  = transform(X_test)\n",
    "\n",
    "    # Create linear regression object\n",
    "    regr = linear_model.LinearRegression()\n",
    "\n",
    "    # Train the model using the training sets\n",
    "    _ = regr.fit(X_train, y_train)\n",
    "\n",
    "    # The coefficients\n",
    "    print('Coefficients: \\n', regr.intercept_, regr.coef_)\n",
    "    # Lots of predictions: predict on entire test set\n",
    "    y_pred = regr.predict(X_test)\n",
    "\n",
    "    # Explained variance score: 1 is perfect prediction\n",
    "    print(\"R-squared (test): {:.2f}\".format(r2_score(y_test, y_pred)) )\n",
    "\n",
    "    y_pred_train = regr.predict(X_train)\n",
    "    print(\"R-squared (train): {:.2f}\".format(r2_score(y_train, y_pred_train)) )\n",
    "\n",
    "    # Plot predicted ylabel (red) and true label (black)\n",
    "    fig = plt.figure()\n",
    "    ax  = fig.add_subplot(1,1,1)\n",
    "\n",
    "    _ = ax.scatter(X_test[:,0], y_test, color='black')\n",
    "    _ = ax.scatter(X_test[:,0], y_pred, color=\"red\")\n",
    "\n",
    "    # _ = ax.plot(X_test[:,0], y_pred, color=\"red\")\n",
    "    plot_fit(X_test, y_pred, ax=ax, on_idx=0)\n",
    "    _ = ax.set_xlabel(xlabel)\n",
    "    _ = ax.set_ylabel(ylabel)\n",
    "    \n",
    "    return"
   ]
  },
  {
   "cell_type": "markdown",
   "metadata": {
    "slideshow": {
     "slide_type": "slide"
    }
   },
   "source": [
    "Here's our linear model on the original data"
   ]
  },
  {
   "cell_type": "code",
   "execution_count": 27,
   "metadata": {
    "slideshow": {
     "slide_type": "subslide"
    }
   },
   "outputs": [
    {
     "name": "stdout",
     "output_type": "stream",
     "text": [
      "Coefficients: \n",
      " [4.93224426] [[0.96836946]]\n",
      "R-squared (test): 0.98\n",
      "R-squared (train): 0.98\n"
     ]
    },
    {
     "data": {
      "image/png": "[encoded data removed]",
      "text/plain": [
       "<Figure size 432x288 with 1 Axes>"
      ]
     },
     "metadata": {
      "needs_background": "light"
     },
     "output_type": "display_data"
    }
   ],
   "source": [
    "run_regress(X_orig, y_orig)"
   ]
  },
  {
   "cell_type": "markdown",
   "metadata": {
    "slideshow": {
     "slide_type": "slide"
    }
   },
   "source": [
    "And now here's our linear model on the new \"curvier\" dataset"
   ]
  },
  {
   "cell_type": "code",
   "execution_count": 28,
   "metadata": {
    "slideshow": {
     "slide_type": "subslide"
    }
   },
   "outputs": [
    {
     "name": "stdout",
     "output_type": "stream",
     "text": [
      "Coefficients: \n",
      " [9.86448852] [[0.93673892]]\n",
      "R-squared (test): 0.91\n",
      "R-squared (train): 0.91\n"
     ]
    },
    {
     "data": {
      "image/png": "[encoded data removed]",
      "text/plain": [
       "<Figure size 432x288 with 1 Axes>"
      ]
     },
     "metadata": {
      "needs_background": "light"
     },
     "output_type": "display_data"
    }
   ],
   "source": [
    "run_regress(X_curve, y_curve)"
   ]
  },
  {
   "cell_type": "markdown",
   "metadata": {
    "slideshow": {
     "slide_type": "slide"
    }
   },
   "source": [
    "Not terrible, but clearly room for improvement, compared to the original dataset."
   ]
  },
  {
   "cell_type": "markdown",
   "metadata": {
    "slideshow": {
     "slide_type": "subslide"
    }
   },
   "source": [
    "<div class=\"alert alert-block alert-success\">\n",
    "<b>TIP</b>\n",
    "\n",
    "- Don't stop just because you scored 91%. And don't give up if the score was awful.\n",
    "\n",
    "- Examining the errors (residuals) reveals alot about how to improve your model. \n",
    "    - Where was the fit good ? Where was it bad ? \n",
    "    - Is there a pattern to the badly fit observations that points to a missing feature ?\n",
    "</div>\n",
    "\n",
    "One of the real arts of ML is diagnosing model deficiencies and knowing how to improve them.\n",
    "\n",
    "We will have a separate module on this topic."
   ]
  },
  {
   "cell_type": "markdown",
   "metadata": {
    "slideshow": {
     "slide_type": "slide"
    }
   },
   "source": [
    "How about a second degree model, with hypothesis\n",
    "\n",
    "$$ y = \\beta_0 + \\beta_1 \\times x + \\beta_2 \\times x^2$$\n",
    "\n",
    "Fortunately, our LinearRegression model can take multiple independents !\n",
    "\n",
    "Just append an $x^2$ column to the $x$ column (done within run_regress)"
   ]
  },
  {
   "cell_type": "code",
   "execution_count": 29,
   "metadata": {
    "slideshow": {
     "slide_type": "subslide"
    }
   },
   "outputs": [
    {
     "name": "stdout",
     "output_type": "stream",
     "text": [
      "Coefficients: \n",
      " [-7.10542736e-15] [[1.    0.005]]\n",
      "R-squared (test): 1.00\n",
      "R-squared (train): 1.00\n"
     ]
    },
    {
     "data": {
      "image/png": "[encoded data removed]",
      "text/plain": [
       "<Figure size 432x288 with 1 Axes>"
      ]
     },
     "metadata": {
      "needs_background": "light"
     },
     "output_type": "display_data"
    }
   ],
   "source": [
    "run_regress(X_curve, y_curve, run_transforms=True)"
   ]
  },
  {
   "cell_type": "markdown",
   "metadata": {
    "slideshow": {
     "slide_type": "subslide"
    }
   },
   "source": [
    "Perfect fit !\n",
    "\n"
   ]
  },
  {
   "cell_type": "markdown",
   "metadata": {
    "slideshow": {
     "slide_type": "slide"
    }
   },
   "source": [
    "# Feature engineering (intro)\n",
    "\n",
    "- Let's review what we just did:\n",
    "    - we created a new hypothesis\n",
    "    - we created a feature ($x^2$) that was not present among the \"raw\" features\n",
    "\n",
    "- This is an illustration of  **feature engineering** and is one of the key aspects of becoming a successful\n",
    "data scientist.  \n",
    "\n",
    "- The guts is still LinearRegression but we transformed the independent variable matrix $X$ to have a new feature ($x^2$)"
   ]
  },
  {
   "cell_type": "markdown",
   "metadata": {
    "slideshow": {
     "slide_type": "subslide"
    }
   },
   "source": [
    "- Sometimes, we don't need to *add* features but instead to change an existing feature\n",
    "    - e.g., converting prices to returns for financial instruments\n",
    "\n",
    "- Deriving and transforming features is called **feature engineering**\n",
    "\n",
    "- The sub-sections of our notebook under \"Prepare the data\" (e.g.,\"Feature Scaling\", \"Data Transformations\")\n",
    "is where we would perform our feature engineering.\n",
    "\n",
    "We will have an entire module on this topic but for now we'll do a quick introduction."
   ]
  },
  {
   "cell_type": "markdown",
   "metadata": {
    "slideshow": {
     "slide_type": "subslide"
    }
   },
   "source": [
    "## Tranform both training and test data in the same way !\n",
    "\n",
    "Let's examine the code we used to create the new feature:\n",
    "\n",
    "\n",
    "` # Transform X's\n",
    "    if (run_transforms):\n",
    "        X_train = transform(X_train)\n",
    "        X_test  = transform(X_test)\n",
    "`\n",
    "\n",
    "Clearly, we have to tranform `X_train`, but why did we transform `X_test` ?\n",
    "\n",
    "**Feature engineeering lesson 1:** the same features should be present in training and test !\n",
    "- the whole purpose of adding the feature was to aid *prediction* so must be in test set too."
   ]
  },
  {
   "cell_type": "markdown",
   "metadata": {
    "slideshow": {
     "slide_type": "slide"
    }
   },
   "source": [
    "## No cheating  in Feature Engineering either !\n",
    "\n",
    "Remember, we had set aside a set of Test Data with the promise to only look at it once.\n",
    "\n",
    "But considering that we need to apply an *identical* transformation to both the Train and Test data sets,\n",
    "wouldn't it be convenient to combine this into one step ?\n",
    "\n"
   ]
  },
  {
   "cell_type": "markdown",
   "metadata": {
    "slideshow": {
     "slide_type": "subslide"
    }
   },
   "source": [
    "You may have noticed that, in `run_regress` we did **not** combine the transformations of `X_train` and `X_test` into a single call:\n",
    "\n",
    "\n",
    "`    X_train, X_test, y_train, y_test = split(X,y)  \n",
    "    \n",
    "    # Transform X's\n",
    "    if (run_transforms):\n",
    "        X_train = transform(X_train)\n",
    "        X_test  = transform(X_test)\n",
    "`"
   ]
  },
  {
   "cell_type": "markdown",
   "metadata": {
    "slideshow": {
     "slide_type": "subslide"
    }
   },
   "source": [
    "This was very deliberate.\n",
    "\n",
    "Couldn't we have just transformed `X` before splitting ?\n",
    "\n",
    "    if (run_transforms):\n",
    "        X = transform(X)\n",
    "    \n",
    "    X_train, X_test, y_train, y_test = split(X,y)  \n",
    "`\n",
    "\n",
    "**Question**: Why might this be a bad idea ?"
   ]
  },
  {
   "cell_type": "markdown",
   "metadata": {
    "slideshow": {
     "slide_type": "subslide"
    }
   },
   "source": [
    "By mixing `X_train` and `X_test` we create the *possibility* of inadvertantly \"leaking\" information from the Test data set into the Train data set.  That would amount to \"peeking\"\n",
    "- Consider a transformation that replaces missing values in a column with the mean of the column\n",
    "    - Replace missing values in `X_train` with `X_train.mean()` **NOT** `X.mean()`\n",
    "    \n",
    "**Feature engineeering lesson 2:** Apply the *same* transformations to Train and Test, but *independently*\n",
    "\n",
    "This was our first (but hardly our last) Data Transformation.  Lots more to come."
   ]
  },
  {
   "cell_type": "markdown",
   "metadata": {
    "slideshow": {
     "slide_type": "slide"
    }
   },
   "source": [
    "## Pipelines\n",
    "\n",
    "We applied only a single transformation but, in general, there may be *multiple* transformations to apply.\n",
    "\n",
    "We have to run an **identical** sequence of transformations on the train and test datasets.\n",
    "\n",
    "I did this above via the `transform` routine, that encapsulates all the transformations so we can apply them to both train and test consistently. \n",
    "\n",
    "So `transform` will become:\n"
   ]
  },
  {
   "cell_type": "markdown",
   "metadata": {
    "slideshow": {
     "slide_type": "subslide"
    }
   },
   "source": [
    "`\n",
    "def transform(X):\n",
    "\n",
    "    X_1 = run_transform_1(X)\n",
    "    X_2 = run_transform_2(X_1)\n",
    "        ...\n",
    "    X_n  = run_transform_n(X_{n-1})\n",
    "    \n",
    "    return X_n\n",
    "`"
   ]
  },
  {
   "cell_type": "markdown",
   "metadata": {
    "slideshow": {
     "slide_type": "subslide"
    }
   },
   "source": [
    "This is called a transformation \"pipeline\".\n",
    "\n",
    "My implementation is less than ideal.\n",
    "\n",
    "A good architecture like **sklearn** will supply a rich library of independent transformations and a simple way to construct pipelines\n"
   ]
  },
  {
   "cell_type": "markdown",
   "metadata": {
    "slideshow": {
     "slide_type": "slide"
    }
   },
   "source": [
    "### Pipelines in sklearn\n",
    "\n"
   ]
  },
  {
   "cell_type": "code",
   "execution_count": 30,
   "metadata": {
    "slideshow": {
     "slide_type": "subslide"
    }
   },
   "outputs": [
    {
     "data": {
      "text/plain": [
       "Pipeline(memory=None,\n",
       "     steps=[('polynomialfeatures', PolynomialFeatures(degree=2, include_bias=True, interaction_only=False)), ('linearregression', LinearRegression(copy_X=True, fit_intercept=True, n_jobs=None,\n",
       "         normalize=False))])"
      ]
     },
     "execution_count": 30,
     "metadata": {},
     "output_type": "execute_result"
    },
    {
     "name": "stdout",
     "output_type": "stream",
     "text": [
      "Score (train):  1.0\n",
      "Score (test):  1.0\n",
      "Last element of pipeline: ('linearregression', LinearRegression(copy_X=True, fit_intercept=True, n_jobs=None,\n",
      "         normalize=False))\n",
      "Score (test, via LinearRegression object):  0.8671060075570477\n",
      "R-squared score (test): 1.00\n"
     ]
    },
    {
     "data": {
      "image/png": "[encoded data removed]",
      "text/plain": [
       "<Figure size 432x288 with 2 Axes>"
      ]
     },
     "metadata": {
      "needs_background": "light"
     },
     "output_type": "display_data"
    }
   ],
   "source": [
    "X_curve, y_curve = gd.gen_data(num=50, v=v2, a=a2)\n",
    "\n",
    "\n",
    "X_train, X_test, y_train, y_test = split(X_curve,y_curve)\n",
    "\n",
    "xfit = np.linspace(0, 10, 1000)\n",
    "\n",
    "from sklearn.preprocessing import PolynomialFeatures\n",
    "import sklearn.preprocessing as pre_proc\n",
    "\n",
    "# Create the Pipeline\n",
    "from sklearn.pipeline import make_pipeline\n",
    "poly_model = make_pipeline(pre_proc.PolynomialFeatures(2),\n",
    "                           linear_model.LinearRegression())\n",
    "\n",
    "x=None\n",
    "y=None\n",
    "\n",
    "# Fit the model, running the data transformation first\n",
    "poly_model.fit(X_train.reshape(-1,1), y_train)\n",
    "\n",
    "xfit = np.linspace( X_train[:,0].min(), X_train[:,0].max()).reshape(-1,1)\n",
    "yfit = poly_model.predict(xfit)\n",
    "\n",
    "# Plot the results\n",
    "# Create a figure\n",
    "fig = plt.figure()\n",
    "\n",
    "# Create a histogram for X.  The figure will be 1 row by 2 columns and the plot for X will be in column 1\n",
    "ax = fig.add_subplot(121)\n",
    "_= ax.scatter(X_train,y_train)\n",
    "_ =ax.plot(xfit, yfit);\n",
    "\n",
    "# Prediction based on test set\n",
    "y_pred = poly_model.predict(X_test.reshape(-1,1))\n",
    "\n",
    "# In and out of sample scores\n",
    "print(\"Score (train): \", poly_model.score(X_train.reshape(-1,1), y_train))\n",
    "print(\"Score (test): \",  poly_model.score(X_test.reshape(-1,1),  y_test))\n",
    "\n",
    "# Accessing just PART of the Pipeline: the last (i.e, regression) step\n",
    "print(\"Last element of pipeline:\", poly_model.steps[1])\n",
    "regr_ = poly_model.steps[-1]\n",
    "\n",
    "# NOTE: this accesses the last element of the pipeline WITHOUT having run the earlier steps !  So no Polynomial transformation !\n",
    "print(\"Score (test, via LinearRegression object): \",  regr.score(X_test.reshape(-1,1),  y_test))\n",
    "\n",
    "ax = fig.add_subplot(122);\n",
    "_ = ax.scatter(X_test, y_test, color=\"blue\")\n",
    "_ = ax.scatter(X_test, y_pred, color=\"red\")\n",
    "\n",
    "_ = ax.plot(xfit, yfit)\n",
    "\n",
    "\n",
    "print(\"R-squared score (test): {:.2f}\".format(r2_score(y_test, y_pred)) )"
   ]
  },
  {
   "cell_type": "markdown",
   "metadata": {
    "slideshow": {
     "slide_type": "slide"
    }
   },
   "source": [
    "That was a handful ! Let's break it down into smaller bites.\n",
    "\n"
   ]
  },
  {
   "cell_type": "raw",
   "metadata": {
    "slideshow": {
     "slide_type": "subslide"
    }
   },
   "source": [
    "# Create the Pipeline\n",
    "from sklearn.pipeline import make_pipeline\n",
    "poly_model = make_pipeline(pre_proc.PolynomialFeatures(2),\n",
    "                           linear_model.LinearRegression())\n"
   ]
  },
  {
   "cell_type": "markdown",
   "metadata": {
    "slideshow": {
     "slide_type": "subslide"
    }
   },
   "source": [
    "`make_pipeline` creates a \"pipeline\" which we assign to `poly_model`\n",
    "\n",
    "The pipeline has two steps:\n",
    "- `pre_proc.PolynomialFeatures(2)`\n",
    "    - creates polynomial features up to degree 2\n",
    "- `linear_model.LinearRegression()`\n",
    "    - this actually runs the linear regression !\n",
    "        - In addition to `fit` and `predict` methods, models can also do `transform`"
   ]
  },
  {
   "cell_type": "markdown",
   "metadata": {
    "slideshow": {
     "slide_type": "slide"
    }
   },
   "source": [
    "Let's examine the internals of the Pipeline object"
   ]
  },
  {
   "cell_type": "code",
   "execution_count": 31,
   "metadata": {
    "slideshow": {
     "slide_type": "subslide"
    }
   },
   "outputs": [
    {
     "data": {
      "text/plain": [
       "[('polynomialfeatures',\n",
       "  PolynomialFeatures(degree=2, include_bias=True, interaction_only=False)),\n",
       " ('linearregression',\n",
       "  LinearRegression(copy_X=True, fit_intercept=True, n_jobs=None,\n",
       "           normalize=False))]"
      ]
     },
     "execution_count": 31,
     "metadata": {},
     "output_type": "execute_result"
    },
    {
     "data": {
      "text/plain": [
       "('linearregression',\n",
       " LinearRegression(copy_X=True, fit_intercept=True, n_jobs=None,\n",
       "          normalize=False))"
      ]
     },
     "execution_count": 31,
     "metadata": {},
     "output_type": "execute_result"
    }
   ],
   "source": [
    "poly_model.steps\n",
    "poly_model.steps[-1]"
   ]
  },
  {
   "cell_type": "markdown",
   "metadata": {
    "slideshow": {
     "slide_type": "subslide"
    }
   },
   "source": [
    "- `poly_model.steps`\n",
    "    - An array of steps of the pipeline\n",
    "- `poly_model.steps[-1]`\n",
    "    - The last step in the pipeline, e.g, `LinearRegression`\n",
    "- Note in my code how I extracted the last step and used it indepdently of the pipeline:\n",
    "\n",
    "`"
   ]
  },
  {
   "cell_type": "raw",
   "metadata": {
    "slideshow": {
     "slide_type": "subslide"
    }
   },
   "source": [
    "# Accessing just PART of the Pipeline: the last (i.e, regression) step\n",
    "print(\"Last element of pipeline:\", poly_model.steps[1])\n",
    "regr_ = poly_model.steps[-1]\n",
    "\n",
    "# NOTE: this accesses the last element of the pipeline WITHOUT having run the earlier steps !  So no Polynomial transformation !\n",
    "print(\"Score (test, via LinearRegression object): \",  regr.score(X_test.reshape(-1,1),  y_test))\n"
   ]
  },
  {
   "cell_type": "markdown",
   "metadata": {
    "slideshow": {
     "slide_type": "slide"
    }
   },
   "source": [
    "Here's a slightly longer pipeline from \n",
    "[VanderPlas](external/PythonDataScienceHandbook/notebooks/05.04-Feature-Engineering.ipynb#Feature-Pipelines)\n",
    "\n",
    "- `Imputer` to deal with misssing values\n",
    "- `PolynomialFeatures(degree=2)`\n",
    "- `LinearRegression()`"
   ]
  },
  {
   "cell_type": "markdown",
   "metadata": {
    "slideshow": {
     "slide_type": "slide"
    }
   },
   "source": [
    "#### Advanced Pipelines: FeatureUnion\n",
    "\n",
    "A pipeline successively applies transformation, starting with the input, and resulting in a transformed output.\n",
    "\n",
    "You can create separate pipelines and join their outputs (horizontally) useing `FeatureUnion1\n"
   ]
  },
  {
   "cell_type": "raw",
   "metadata": {
    "slideshow": {
     "slide_type": "subslide"
    }
   },
   "source": [
    "num_pipeline = Pipeline([\n",
    "        (\"select_numeric\", DataFrameSelector([\"Age\", \"SibSp\", \"Parch\", \"Fare\"])),\n",
    "        (\"imputer\", SimpleImputer(strategy=\"median\")),\n",
    "    ])\n",
    "    \n",
    "cat_pipeline = Pipeline([\n",
    "        (\"select_cat\", DataFrameSelector([\"Pclass\", \"Sex\", \"Embarked\"])),\n",
    "        (\"imputer\", MostFrequentImputer()),\n",
    "        (\"cat_encoder\", OneHotEncoder(sparse=False)),\n",
    "    ])\n",
    "    \n",
    "from sklearn.pipeline import FeatureUnion\n",
    "preprocess_pipeline = FeatureUnion(transformer_list=[\n",
    "        (\"num_pipeline\", num_pipeline),\n",
    "        (\"cat_pipeline\", cat_pipeline),\n",
    "    ])   "
   ]
  },
  {
   "cell_type": "markdown",
   "metadata": {
    "slideshow": {
     "slide_type": "subslide"
    }
   },
   "source": [
    "- Separate pipelines to deal with distinct subsets of column types (numeric and non-numeric)\n",
    "- First step in each pipeline is to restrict the inputs to the relevant columns\n",
    "- So net effect is: one set of transformations for numeric columns and a separate set for non-numeric"
   ]
  },
  {
   "cell_type": "markdown",
   "metadata": {
    "slideshow": {
     "slide_type": "slide"
    }
   },
   "source": [
    "# Create a test set and put it aside (re-visited)\n",
    "\n",
    "Why did we shuffle the data before splitting ?"
   ]
  },
  {
   "cell_type": "markdown",
   "metadata": {
    "slideshow": {
     "slide_type": "slide"
    }
   },
   "source": [
    "# Selecting a model (another re-visit)\n",
    "\n",
    "\n",
    "sklearn has LOTS of models to choose from.  We will explore many (but not all) of them.\n",
    "\n",
    "Your goal should be to understand *how* a model does it fitting (i.e., model math) so that you can determine\n",
    "- what is the right model to use for my data\n",
    "- what transformations of my data will make my model perform better\n",
    "\n",
    "You can explore Linear Regression in depth [here](external/PythonDataScienceHandbook/notebooks/05.06-Linear-Regression.ipynb)"
   ]
  },
  {
   "cell_type": "markdown",
   "metadata": {
    "slideshow": {
     "slide_type": "slide"
    }
   },
   "source": [
    "# Challenge: Overfitting\n",
    "\n",
    "We had great sucess when we create second order polynomial features.\n",
    "\n",
    "Why stop at 2 ?\n",
    "\n",
    "Below we will create a simple-to-describe target ($\\textrm{sin}(x)$) with a complex shape and try to fit it with a higher order polynomial.\n"
   ]
  },
  {
   "cell_type": "code",
   "execution_count": 32,
   "metadata": {
    "slideshow": {
     "slide_type": "subslide"
    }
   },
   "outputs": [
    {
     "data": {
      "image/png": "[encoded data removed]",
      "text/plain": [
       "<Figure size 432x288 with 1 Axes>"
      ]
     },
     "metadata": {
      "needs_background": "light"
     },
     "output_type": "display_data"
    }
   ],
   "source": [
    "xfit = np.linspace(0, 10, 1000)\n",
    "\n",
    "from sklearn.preprocessing import PolynomialFeatures\n",
    "\n",
    "from sklearn.pipeline import make_pipeline\n",
    "degree = 7\n",
    "poly_model = make_pipeline(PolynomialFeatures(degree),\n",
    "                           linear_model.LinearRegression())\n",
    "rng = np.random.RandomState(1)\n",
    "x = 10 * rng.rand(50)\n",
    "y = np.sin(x) + 0.1 * rng.randn(50)\n",
    "\n",
    "poly_model.fit(x[:, np.newaxis], y)\n",
    "yfit = poly_model.predict(xfit[:, np.newaxis])\n",
    "\n",
    "plt.scatter(x, y)\n",
    "plt.plot(xfit, yfit);"
   ]
  },
  {
   "cell_type": "markdown",
   "metadata": {
    "slideshow": {
     "slide_type": "subslide"
    }
   },
   "source": [
    "Can the $7^{th}$ degree polynomial *really* be called learning ?\n",
    "\n",
    "Why 7 ?  Why not 100 ?\n",
    "\n",
    "We can fit an arbitrary function with a spline or polynomial of high enough degree, but the model that recognizes this as a sine is more akin to \"learning\" ?\n",
    "- with a high enough degree, we will start to \"memorize\" the training set, even down to the noise\n",
    "- won't generalize well\n"
   ]
  },
  {
   "cell_type": "markdown",
   "metadata": {
    "slideshow": {
     "slide_type": "slide"
    }
   },
   "source": [
    "This is know as *over-fitting*\n",
    "- Symptom: When test score is much worse than training score\n",
    "\n",
    "It may be an indication that your model has merely memorized the training data and not learned anything at all that will help it predict on an unseen observation.  Even worse, your training data is often noisy (e.g., minor measurment errors) and a model with too many degrees of freedom will reproduce the noise !"
   ]
  },
  {
   "cell_type": "markdown",
   "metadata": {
    "slideshow": {
     "slide_type": "slide"
    }
   },
   "source": [
    "## Regularization: reducing overfitting\n",
    "What can we do to combat over-fitting ?\n",
    "\n",
    "Recall that LinearRegression model is optimizing a Cost Function.  We will add a *weighted penalty* \n",
    "\n",
    "$$P = \\alpha * Q$$\n",
    "\n",
    "to the Cost Function in order to impose a cost on using too many degrees of freedom.\n",
    "\n",
    "The weight $\\alpha$ balances the original Cost fuction with the penalty.\n",
    "\n",
    "We'll show several modified Regression models and identify the penalty used"
   ]
  },
  {
   "cell_type": "markdown",
   "metadata": {
    "slideshow": {
     "slide_type": "subslide"
    }
   },
   "source": [
    "### [Ridge Regression](external/PythonDataScienceHandbook/notebooks/05.06-Linear-Regression.ipynb#Ridge-regression-%28$L_2$-Regularization%29)\n",
    "\n",
    "Penalty is: sum (over parameters) of squared paramter value\n",
    "\n",
    "$$\n",
    "P = \\alpha\\sum_{n=1}^N \\theta_n^2\n",
    "$$\n",
    "\n",
    "Also known as $L_2$ regularizer.\n",
    "\n",
    "This tends to push parameters $\\theta_n$ towards smaller values."
   ]
  },
  {
   "cell_type": "markdown",
   "metadata": {
    "slideshow": {
     "slide_type": "subslide"
    }
   },
   "source": [
    "### [Lasso Regression][1]\n",
    "[1]: external/PythonDataScienceHandbook/notebooks/05.06-Linear-Regression.ipynb#Lasso-regression-($L_1$-regularization)\n",
    "\n",
    "\n",
    "Penalty is: sum (over parameters) of parameter's absolute value\n",
    "$$\n",
    "P = \\alpha\\sum_{n=1}^N |\\theta_n|\n",
    "$$\n",
    "\n",
    "Also know as the $L_1$ regularizer.\n",
    "\n",
    "This tends to push parameters $\\theta_n$ towards 0"
   ]
  },
  {
   "cell_type": "markdown",
   "metadata": {
    "slideshow": {
     "slide_type": "subslide"
    }
   },
   "source": [
    "<div class=\"alert alert-block alert-success\">\n",
    "    <b>TIP</b> \n",
    "\n",
    "- Know your Cost Function !  \n",
    "    - This is what is driving your model's fitting process.  Does it make sense for your problem ?\n",
    "\n",
    "- Don't try to force a square peg into a round hole.\n",
    "</div>\n",
    "\n",
    "We will have a separate module on understanding the Mathematics of fitting."
   ]
  },
  {
   "cell_type": "markdown",
   "metadata": {
    "slideshow": {
     "slide_type": "slide"
    }
   },
   "source": [
    "# The sklearn API\n",
    "\n",
    "fit, transform\n",
    "\n",
    "fit_transform\n",
    "\n",
    "predict\n",
    "\n",
    "[Scikit-learn cheat sheet](https://scikit-learn.org/stable/tutorial/machine_learning_map/index.html)"
   ]
  },
  {
   "cell_type": "markdown",
   "metadata": {
    "slideshow": {
     "slide_type": "slide"
    }
   },
   "source": [
    "# How is this different from plain old OLS regression ?\n",
    "\n",
    "- generalization vs explanation\n",
    "    - traditional OLS seeks to explain the data\n",
    "        - in-sample (training) performance measure\n",
    "        - to the extent we believe the past is representative about the future, we can also use it to predict\n",
    "        - statistical tests, confidence intervals are basic principle\n",
    "    - the true test of ML is how well it generalizes: predicts the future\n",
    "        - out-of-sample performance measure\n",
    "        "
   ]
  },
  {
   "cell_type": "markdown",
   "metadata": {
    "slideshow": {
     "slide_type": "subslide"
    }
   },
   "source": [
    " - Confidence intervals:\n",
    "    - sadly: missing or down-played in ML\n",
    "        - for \"big\" data or models, fitting may be time-consuming\n",
    "        - costly to create empirical distributions\n",
    "            - we WILL address this in Cross-Validation"
   ]
  },
  {
   "cell_type": "markdown",
   "metadata": {
    "slideshow": {
     "slide_type": "slide"
    }
   },
   "source": [
    "# Validation and Cross-Validation\n",
    "\n",
    "- Why did we separate out a test set from our complete dataset ?\n",
    "\n",
    "- Recall our goal is good, out-of-sample prediction.  And the test set is our benchmark for generalization.\n",
    "If we look at the test set in the middle of our process, it will influence our final model.  We may thus wind up with a good score on the test set, but generalize poorly to a completely unseen observation.\n",
    "\n",
    "- It's like seeing the answers to an exam in advance ! Don't do it !  You can only look at it *ONCE*, when you're all done, if you want a truly honest indicator of generalization."
   ]
  },
  {
   "cell_type": "markdown",
   "metadata": {
    "slideshow": {
     "slide_type": "slide"
    }
   },
   "source": [
    "## Validation"
   ]
  },
  {
   "cell_type": "markdown",
   "metadata": {
    "slideshow": {
     "slide_type": "slide"
    }
   },
   "source": [
    "[Geron notebook](external/PythonDataScienceHandbook/notebooks/05.03-Hyperparameters-and-Model-Validation.ipynb#Thinking-about-Model-Validation)\n",
    "\n",
    "- But wait ! During our iterative process (Selecting the model, Training it, and Evaluating the performance) we look at the training data many times.  We really have no indication as to how it will generalize.  And we're in danger of severely over-fitting to the training data.\n",
    "\n",
    "What can we do ?\n",
    "\n",
    "- Answer: Split the *training data* into two pieces\n",
    "    - a smaller training data\n",
    "    - a *hold-out* piece called the *validation* set\n",
    "        - the validation set serves a similar role to the test set.\n",
    "        - it is used to see how well the model generalizes\n",
    "        - you can use the validation set *many* times (sort of) during your iterative process\n",
    "            - unlike the test set, which you may look at only once, at the end\n",
    "        "
   ]
  },
  {
   "cell_type": "markdown",
   "metadata": {
    "slideshow": {
     "slide_type": "subslide"
    }
   },
   "source": [
    "**Aside**\n",
    "\n",
    "So much splitting of data !\n",
    "\n",
    "Rather than using my own, hand-rolled splitter, we will henceforth use sklearn's `train_test_split` function.\n",
    "\n",
    "Splitting into a smaller training set, and a validation set, is a step in the right direction.\n"
   ]
  },
  {
   "cell_type": "markdown",
   "metadata": {
    "slideshow": {
     "slide_type": "slide"
    }
   },
   "source": [
    "## Cross-Validation\n",
    "\n",
    "You might still be uncomfortable with the idea of a validation set that is used many times.  Rightly so.\n",
    "- We can wind up over-fitting to the validation set.  Isn't this cheating too ?\n",
    "- The smaller training set is smaller -- may be a problem if we don't have much training data to begin with.\n",
    "- The validation set is just *one* sample. How do we know the Performance Measure on this one sample is representative ?\n",
    "    - Where are the error bars or confidence intervals for this statistic ?\n",
    "    \n",
    "Cross-Validation to the rescue !"
   ]
  },
  {
   "cell_type": "markdown",
   "metadata": {
    "slideshow": {
     "slide_type": "subslide"
    }
   },
   "source": [
    "**K-fold cross-validation**\n",
    "- Split the training data into $K$ pieces (called *folds*. so K-fold means $K$ pieces.\n",
    "- Select one piece as the validation set, and the other $(K-1)$ pieces as the smaller training set\n",
    "    - Fit the model on the smaller training set\n",
    "    - Evaluate the Performance measure on this validation set\n",
    "- Repeat the above $(K-1)$ times, using a different fold as the validation set and the other folds as training.\n",
    "\n",
    "At the end, you have $K$ values for the Performance measure.  This is akin to getting a statistical confidence interval for an estimator. \n",
    "\n",
    "Typically, we just use the average but it's good to know how wide the range is.\n",
    "    "
   ]
  },
  {
   "cell_type": "markdown",
   "metadata": {
    "slideshow": {
     "slide_type": "subslide"
    }
   },
   "source": [
    "This sounds like a lot of work.\n",
    "\n",
    "Fear not !\n",
    "\n",
    "sklearn has a function to do this for us: `cross_val_score1\n",
    "\n",
    ">`from sklearn.cross_validation import cross_val_score\n",
    " cross_val_score(model, X, y, cv=5)`\n",
    " \n",
    "This will do $5$-fold cross-validation ('cv=5`) on `model` using training features `X` and targets `y`.\n",
    "\n",
    "It will return $5$ scores, one per validation fold."
   ]
  },
  {
   "cell_type": "markdown",
   "metadata": {
    "slideshow": {
     "slide_type": "subslide"
    }
   },
   "source": [
    "**ASIDE**\n",
    "Recall that there are several steps in creating a model, including\n",
    "- data transformations\n",
    "- fitting\n",
    "\n",
    "You need to run *all* these steps each time you train the model.  In K-fold cross-validation, you are training a model $K$ times.  How do we get `cross_val_score` to run all these steps for us, each time ?\n",
    "\n",
    "Pipelines ! (Introduced [above](Recipe_for_ML.ipynb#Pipelines))\n",
    "\n",
    "The trick is to include your model as the *last* step of the Pipeline.  Models are just like other transformations in that they respond to `fit`, `transform` and `fit_transform` methods.\n",
    "\n",
    "Running a Pipeline just calls `fit_transform` on each member in sequence.  All but the last massage your data.  But the last (the model) will actually fit our model !\n"
   ]
  },
  {
   "cell_type": "markdown",
   "metadata": {
    "slideshow": {
     "slide_type": "slide"
    }
   },
   "source": [
    "Here's the final picture\n",
    "\n",
    "![](images/Cross_Validation_Split.jpg)\n"
   ]
  },
  {
   "cell_type": "markdown",
   "metadata": {
    "slideshow": {
     "slide_type": "slide"
    }
   },
   "source": [
    "# Fine-tuning  your model (Geron, last part Chapt 2)\n",
    "- GridSearch\n",
    "\n",
    "- RandomizedSearch\n",
    "\n",
    "- Ensembles\n",
    "\n",
    "- Analyze models and errors\n",
    "    - parameter interpretation"
   ]
  },
  {
   "cell_type": "markdown",
   "metadata": {
    "slideshow": {
     "slide_type": "slide"
    }
   },
   "source": [
    "# What does this have to do with Finance ?\n",
    "\n",
    "- Stock market \"beta\": how much does a stock move, for a 1% move in the index ?\n",
    "    - Typically calcuated using LinearRegression, with some window\n",
    "    - But who says this is the \"best\" (gives best prediction) window ?\n",
    "        - we can address this in Cross-Validation\n",
    "- Multi-factor models\n",
    "    - LinearRegression with multiple regressors"
   ]
  },
  {
   "cell_type": "markdown",
   "metadata": {
    "slideshow": {
     "slide_type": "slide"
    }
   },
   "source": [
    "# Recap\n",
    "\n"
   ]
  },
  {
   "cell_type": "markdown",
   "metadata": {},
   "source": []
  },
  {
   "cell_type": "code",
   "execution_count": 33,
   "metadata": {},
   "outputs": [
    {
     "name": "stdout",
     "output_type": "stream",
     "text": [
      "Done !\n"
     ]
    }
   ],
   "source": [
    "print(\"Done !\")"
   ]
  }
 ],
 "metadata": {
  "celltoolbar": "Slideshow",
  "kernelspec": {
   "display_name": "Python 3",
   "language": "python",
   "name": "python3"
  },
  "language_info": {
   "codemirror_mode": {
    "name": "ipython",
    "version": 3
   },
   "file_extension": ".py",
   "mimetype": "text/x-python",
   "name": "python",
   "nbconvert_exporter": "python",
   "pygments_lexer": "ipython3",
   "version": "3.6.6"
  },
  "toc": {
   "base_numbering": 1,
   "nav_menu": {},
   "number_sections": true,
   "sideBar": true,
   "skip_h1_title": false,
   "title_cell": "Table of Contents",
   "title_sidebar": "Contents",
   "toc_cell": false,
   "toc_position": {
    "height": "calc(100% - 180px)",
    "left": "10px",
    "top": "150px",
    "width": "368px"
   },
   "toc_section_display": true,
   "toc_window_display": true
  }
 },
 "nbformat": 4,
 "nbformat_minor": 2
}
