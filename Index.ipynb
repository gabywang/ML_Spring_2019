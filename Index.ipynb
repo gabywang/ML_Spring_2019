{
 "cells": [
  {
   "cell_type": "markdown",
   "metadata": {},
   "source": [
    "- [Introduction](Intro.ipynb)\n",
    "\n",
    "- [Getting Started](Getting_Started.ipynb)\n",
    "\n",
    "- [Recipe for ML](Recipe_for_ML.ipynb)\n",
    "\n",
    "- [Logistic Regression](Non_Numerical_Data.ipynb)\n",
    "    \n",
    "- [Models: Math, Diagnostics, Improving via Data Transformation](Data_Transformations.ipynb)\n",
    "   \n",
    "- [Training models](Training_Models.ipynb)\n",
    "  \n",
    "- [Decision Trees](Decision_Trees.ipynb)\n",
    "\n",
    "- [Unsupervised models](Unsupervised.ipynb)\n",
    "\n",
    "- [Naive Bayes](Naive_Bayes.ipynb)\n",
    "\n"
   ]
  },
  {
   "cell_type": "code",
   "execution_count": null,
   "metadata": {},
   "outputs": [],
   "source": []
  }
 ],
 "metadata": {
  "kernelspec": {
   "display_name": "Python 3",
   "language": "python",
   "name": "python3"
  },
  "language_info": {
   "codemirror_mode": {
    "name": "ipython",
    "version": 3
   },
   "file_extension": ".py",
   "mimetype": "text/x-python",
   "name": "python",
   "nbconvert_exporter": "python",
   "pygments_lexer": "ipython3",
   "version": "3.6.6"
  },
  "toc": {
   "base_numbering": 1,
   "nav_menu": {},
   "number_sections": true,
   "sideBar": true,
   "skip_h1_title": false,
   "title_cell": "Table of Contents",
   "title_sidebar": "Contents",
   "toc_cell": false,
   "toc_position": {},
   "toc_section_display": true,
   "toc_window_display": false
  }
 },
 "nbformat": 4,
 "nbformat_minor": 2
}
