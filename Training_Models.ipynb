{
 "cells": [
  {
   "cell_type": "code",
   "execution_count": 1,
   "metadata": {
    "slideshow": {
     "slide_type": "notes"
    }
   },
   "outputs": [],
   "source": [
    "# My standard magic !  You will see this in almost all my notebooks.\n",
    "\n",
    "from IPython.core.interactiveshell import InteractiveShell\n",
    "InteractiveShell.ast_node_interactivity = \"all\"\n",
    "\n",
    "# Reload all modules imported with %aimport\n",
    "%load_ext autoreload\n",
    "%autoreload 1\n",
    "\n",
    "%matplotlib inline"
   ]
  },
  {
   "cell_type": "markdown",
   "metadata": {
    "slideshow": {
     "slide_type": "slide"
    }
   },
   "source": [
    "<div class=\"alert alert-block alert-success\">\n",
    "    <b>Tip</b> \n",
    "\n",
    "My lecture notebooks to date have been cluttered with inline code.\n",
    "This can obscure the message.\n",
    "\n",
    "From now on: putting all my code in a module so that the notebook is more focussed."
   ]
  },
  {
   "cell_type": "code",
   "execution_count": 2,
   "metadata": {
    "slideshow": {
     "slide_type": "notes"
    }
   },
   "outputs": [],
   "source": [
    "import numpy as np\n",
    "import pandas as pd\n",
    "import matplotlib.pyplot as plt\n",
    "\n",
    "import os\n",
    "MOVIE_DIR=\"./images\"\n",
    "\n",
    "import training_models_helper as tmh\n",
    "%aimport training_models_helper\n",
    "\n",
    "tm = tmh.TrainingModelsHelper()"
   ]
  },
  {
   "cell_type": "markdown",
   "metadata": {
    "slideshow": {
     "slide_type": "slide"
    }
   },
   "source": [
    "# Overview\n",
    "\n",
    "## Goals\n",
    "\n",
    "- Better understand Transformations\n",
    "- Understand what the coefficients in Linear Regression mean\n",
    "- Some pitfalls of Categoriacal Features in Linear Regression\n",
    "- Optimization of the objective function\n",
    "      \n",
    "    "
   ]
  },
  {
   "cell_type": "markdown",
   "metadata": {
    "slideshow": {
     "slide_type": "slide"
    }
   },
   "source": [
    "## Plan\n",
    "\n",
    "- We revisit Synthesizing Features, a type of Feature Engineering\n",
    "- In the previous lecture we introduced Transformations\n",
    "    - We motivated Transformations via the need for a Scaling transformation when using KNN\n",
    "    - We continue motivating other transformations (mainly in the context of Linear models)\n",
    "        - range reduction: influential points\n",
    "        - normality inducing transformations\n",
    "- Transformations may be applied either to the Features or Targets or both\n",
    "- We examine what the coefficients in Linear models are telling us\n",
    "    - Particular attention t Categorial features\n",
    " "
   ]
  },
  {
   "cell_type": "markdown",
   "metadata": {
    "slideshow": {
     "slide_type": "slide"
    }
   },
   "source": [
    "# Linear Regression: Matrix form refresher\n",
    "\n",
    "We have been writing our linear models as either\n",
    "\n",
    "$\n",
    "\\hat{y} = \\theta_0 + \\sum_{i=1}^n { \\theta_i \\cdot x_i }\n",
    "$\n",
    "\n",
    "or in matrix form\n",
    "\n",
    "$\n",
    "y = \\Theta^T \\cdot X\n",
    "$\n",
    "\n",
    "for \n",
    "- column vector $y$\n",
    "- column vector of coefficients $\\Theta$\n",
    "- feature matrix $X$"
   ]
  },
  {
   "cell_type": "markdown",
   "metadata": {
    "slideshow": {
     "slide_type": "subslide"
    }
   },
   "source": [
    "Let's be very clear about dimensions\n",
    "- $y$ is of length $m$, the number of observations\n",
    "- $\\Theta$ is of length $n + 1$, since $\\Theta = [ \\theta_0, \\ldots, \\theta_n ]$\n",
    "- X is of dimension $(m, n+1)$\n",
    "    - one row per observation\n",
    "    - row $i$ of X is the feature vector for the $i^{th}$ observation\n",
    "    - element $i$ of y is the value of the target for the $i^{th}$ observation\n",
    "    - the first column of $X$ is a column of $1$'s, corresponding to the intercept"
   ]
  },
  {
   "cell_type": "markdown",
   "metadata": {
    "slideshow": {
     "slide_type": "slide"
    }
   },
   "source": [
    "# Transformations continued: synthesized features\n",
    "[Geron housing data](external/handson-ml/02_end_to_end_machine_learning_project.ipynb#Get-the-data)\n",
    " \n",
    "\n",
    "## Data: California Housing Prices Data (AG Chapt 2)"
   ]
  },
  {
   "cell_type": "code",
   "execution_count": 3,
   "metadata": {
    "slideshow": {
     "slide_type": "slide"
    }
   },
   "outputs": [
    {
     "data": {
      "text/html": [
       "<div>\n",
       "<style scoped>\n",
       "    .dataframe tbody tr th:only-of-type {\n",
       "        vertical-align: middle;\n",
       "    }\n",
       "\n",
       "    .dataframe tbody tr th {\n",
       "        vertical-align: top;\n",
       "    }\n",
       "\n",
       "    .dataframe thead th {\n",
       "        text-align: right;\n",
       "    }\n",
       "</style>\n",
       "<table border=\"1\" class=\"dataframe\">\n",
       "  <thead>\n",
       "    <tr style=\"text-align: right;\">\n",
       "      <th></th>\n",
       "      <th>longitude</th>\n",
       "      <th>latitude</th>\n",
       "      <th>housing_median_age</th>\n",
       "      <th>total_rooms</th>\n",
       "      <th>total_bedrooms</th>\n",
       "      <th>population</th>\n",
       "      <th>households</th>\n",
       "      <th>median_income</th>\n",
       "      <th>median_house_value</th>\n",
       "      <th>ocean_proximity</th>\n",
       "    </tr>\n",
       "  </thead>\n",
       "  <tbody>\n",
       "    <tr>\n",
       "      <th>0</th>\n",
       "      <td>-122.23</td>\n",
       "      <td>37.88</td>\n",
       "      <td>41.0</td>\n",
       "      <td>880.0</td>\n",
       "      <td>129.0</td>\n",
       "      <td>322.0</td>\n",
       "      <td>126.0</td>\n",
       "      <td>8.3252</td>\n",
       "      <td>452600.0</td>\n",
       "      <td>NEAR BAY</td>\n",
       "    </tr>\n",
       "    <tr>\n",
       "      <th>1</th>\n",
       "      <td>-122.22</td>\n",
       "      <td>37.86</td>\n",
       "      <td>21.0</td>\n",
       "      <td>7099.0</td>\n",
       "      <td>1106.0</td>\n",
       "      <td>2401.0</td>\n",
       "      <td>1138.0</td>\n",
       "      <td>8.3014</td>\n",
       "      <td>358500.0</td>\n",
       "      <td>NEAR BAY</td>\n",
       "    </tr>\n",
       "    <tr>\n",
       "      <th>2</th>\n",
       "      <td>-122.24</td>\n",
       "      <td>37.85</td>\n",
       "      <td>52.0</td>\n",
       "      <td>1467.0</td>\n",
       "      <td>190.0</td>\n",
       "      <td>496.0</td>\n",
       "      <td>177.0</td>\n",
       "      <td>7.2574</td>\n",
       "      <td>352100.0</td>\n",
       "      <td>NEAR BAY</td>\n",
       "    </tr>\n",
       "    <tr>\n",
       "      <th>3</th>\n",
       "      <td>-122.25</td>\n",
       "      <td>37.85</td>\n",
       "      <td>52.0</td>\n",
       "      <td>1274.0</td>\n",
       "      <td>235.0</td>\n",
       "      <td>558.0</td>\n",
       "      <td>219.0</td>\n",
       "      <td>5.6431</td>\n",
       "      <td>341300.0</td>\n",
       "      <td>NEAR BAY</td>\n",
       "    </tr>\n",
       "    <tr>\n",
       "      <th>4</th>\n",
       "      <td>-122.25</td>\n",
       "      <td>37.85</td>\n",
       "      <td>52.0</td>\n",
       "      <td>1627.0</td>\n",
       "      <td>280.0</td>\n",
       "      <td>565.0</td>\n",
       "      <td>259.0</td>\n",
       "      <td>3.8462</td>\n",
       "      <td>342200.0</td>\n",
       "      <td>NEAR BAY</td>\n",
       "    </tr>\n",
       "  </tbody>\n",
       "</table>\n",
       "</div>"
      ],
      "text/plain": [
       "   longitude  latitude  housing_median_age  total_rooms  total_bedrooms  \\\n",
       "0    -122.23     37.88                41.0        880.0           129.0   \n",
       "1    -122.22     37.86                21.0       7099.0          1106.0   \n",
       "2    -122.24     37.85                52.0       1467.0           190.0   \n",
       "3    -122.25     37.85                52.0       1274.0           235.0   \n",
       "4    -122.25     37.85                52.0       1627.0           280.0   \n",
       "\n",
       "   population  households  median_income  median_house_value ocean_proximity  \n",
       "0       322.0       126.0         8.3252            452600.0        NEAR BAY  \n",
       "1      2401.0      1138.0         8.3014            358500.0        NEAR BAY  \n",
       "2       496.0       177.0         7.2574            352100.0        NEAR BAY  \n",
       "3       558.0       219.0         5.6431            341300.0        NEAR BAY  \n",
       "4       565.0       259.0         3.8462            342200.0        NEAR BAY  "
      ]
     },
     "execution_count": 3,
     "metadata": {},
     "output_type": "execute_result"
    }
   ],
   "source": [
    "housing = tm.load_housing_data()\n",
    "housing.head()\n"
   ]
  },
  {
   "cell_type": "markdown",
   "metadata": {
    "slideshow": {
     "slide_type": "slide"
    }
   },
   "source": [
    "Each row represents a district\n",
    "\n",
    "Goal is to predict Median House Value in the district.\n",
    "\n",
    "- Features\n",
    "    - total_rooms: number of rooms in the district\n",
    "    - total_bedrooms: number of bedrooms in the district\n",
    "    - households; number of households in the district\n",
    "    - population: number of people in the district\n",
    "    - median_income: median income of people in the district\n",
    "    - \n",
    "- Target\n",
    "    - median_house_value: median value of a house in the district"
   ]
  },
  {
   "cell_type": "markdown",
   "metadata": {
    "slideshow": {
     "slide_type": "slide"
    }
   },
   "source": [
    "What potential issues pop out ?\n",
    "\n",
    "Some *raw* features depend on the *size* of the district, so can't compare the same feature across districts.\n",
    "\n",
    "- total_rooms, total_bedrooms, households, population \n"
   ]
  },
  {
   "cell_type": "markdown",
   "metadata": {
    "slideshow": {
     "slide_type": "slide"
    }
   },
   "source": [
    "### Feature engineering: transform to meaningful features"
   ]
  },
  {
   "cell_type": "code",
   "execution_count": 4,
   "metadata": {
    "slideshow": {
     "slide_type": "slide"
    }
   },
   "outputs": [],
   "source": [
    "housing[\"rooms_per_household\"] = housing[\"total_rooms\"]/housing[\"households\"]\n",
    "housing[\"bedrooms_per_room\"] = housing[\"total_bedrooms\"]/housing[\"total_rooms\"]\n",
    "housing[\"population_per_household\"]=housing[\"population\"]/housing[\"households\"]"
   ]
  },
  {
   "cell_type": "markdown",
   "metadata": {
    "slideshow": {
     "slide_type": "slide"
    }
   },
   "source": [
    "By sythesizing ratios:\n",
    "- rooms/household\n",
    "- population/household\n",
    "- bedrooms/room\n",
    "\n",
    "we have transformed the raw features into processed features that will probably be better predictors\n"
   ]
  },
  {
   "cell_type": "markdown",
   "metadata": {
    "slideshow": {
     "slide_type": "slide"
    }
   },
   "source": [
    "### Feature engineering: bucketing and clipping\n",
    "\n",
    "- Will $1 more of income *really* predict higher housing prices in the district ?\n",
    "    - create income buckets\n",
    "        - Disclaimer\n",
    "            - In the book this is **not** a feature but something used to \"stratify\" the sample\n",
    "            - We are taking a bit of artistic license to make a point"
   ]
  },
  {
   "cell_type": "code",
   "execution_count": 5,
   "metadata": {
    "slideshow": {
     "slide_type": "slide"
    }
   },
   "outputs": [
    {
     "name": "stdout",
     "output_type": "stream",
     "text": [
      "Median income ranges from 0.5 to 15.0\n",
      "Income buckets\n"
     ]
    },
    {
     "data": {
      "text/plain": [
       "3.0     7236\n",
       "2.0     6581\n",
       "4.0     3639\n",
       "5.0     1423\n",
       "1.0      822\n",
       "6.0      532\n",
       "7.0      189\n",
       "8.0      105\n",
       "9.0       50\n",
       "11.0      49\n",
       "10.0      14\n",
       "Name: income_cat, dtype: int64"
      ]
     },
     "execution_count": 5,
     "metadata": {},
     "output_type": "execute_result"
    }
   ],
   "source": [
    "print(\"Median income ranges from {min:.1f} to {max:.1f}\".format(min=housing[\"median_income\"].min(), \n",
    "                                                                max=housing[\"median_income\"].max()\n",
    "                                                               ))\n",
    "# Divide by 1.5 to limit the number of income categories\n",
    "housing[\"income_cat\"] = np.ceil(housing[\"median_income\"] / 1.5)\n",
    "\n",
    "print(\"Income buckets\")\n",
    "housing[\"income_cat\"].value_counts()"
   ]
  },
  {
   "cell_type": "markdown",
   "metadata": {
    "slideshow": {
     "slide_type": "slide"
    }
   },
   "source": [
    "Still a lot of buckets.  One theory is that incomes above bucket 5 don't predict housing prices, so clip."
   ]
  },
  {
   "cell_type": "code",
   "execution_count": 6,
   "metadata": {
    "slideshow": {
     "slide_type": "slide"
    }
   },
   "outputs": [
    {
     "name": "stdout",
     "output_type": "stream",
     "text": [
      "Income buckets\n"
     ]
    },
    {
     "data": {
      "text/plain": [
       "3.0    7236\n",
       "2.0    6581\n",
       "4.0    3639\n",
       "5.0    2362\n",
       "1.0     822\n",
       "Name: income_cat_clipped, dtype: int64"
      ]
     },
     "execution_count": 6,
     "metadata": {},
     "output_type": "execute_result"
    }
   ],
   "source": [
    "# Label those above 5 as 5\n",
    "housing[\"income_cat_clipped\"] = housing[\"income_cat\"].where(housing[\"income_cat\"] < 5, 5.0)\n",
    "print(\"Income buckets\")\n",
    "housing[\"income_cat_clipped\"].value_counts()"
   ]
  },
  {
   "cell_type": "markdown",
   "metadata": {
    "slideshow": {
     "slide_type": "slide"
    }
   },
   "source": [
    "# Transformations continued: the importance of scaling\n",
    "\n",
    "<div class=\"alert alert-block alert-warning\">\n",
    "<ul>\n",
    "    <li>We continue to use Linear models to make our points.</li>\n",
    "    <li>It's important to emphasize once more that some of these points generalize to other models, and some don't</li>\n",
    "    <li>Linear models are sufficiently useful that we will invest the time even in the cases where the points don't fully generalize</li>\n",
    "    \n",
    " </ul>\n",
    " \n",
    "</div>"
   ]
  },
  {
   "cell_type": "markdown",
   "metadata": {
    "slideshow": {
     "slide_type": "slide"
    }
   },
   "source": [
    "## Stretched datasets: KNN affected, Decision Trees not\n",
    "\n",
    "Recall our previous example illustrating how some models are affected/unaffected by scaling transformations:\n",
    "- \"Stretch\" Feature 1 (multiply by 10)\n",
    "- Nearest neighbors is affected\n",
    "- Decision Tree is not"
   ]
  },
  {
   "cell_type": "code",
   "execution_count": 7,
   "metadata": {
    "scrolled": false,
    "slideshow": {
     "slide_type": "slide"
    }
   },
   "outputs": [
    {
     "data": {
      "image/png": "[encoded data removed]",
      "text/plain": [
       "<Figure size 864x432 with 6 Axes>"
      ]
     },
     "metadata": {
      "needs_background": "light"
     },
     "output_type": "display_data"
    }
   ],
   "source": [
    "kn = tmh.KNN_Helper()\n",
    "\n",
    "_ = kn.plot_classifiers(scale=False, num_ds=2)"
   ]
  },
  {
   "cell_type": "markdown",
   "metadata": {
    "slideshow": {
     "slide_type": "slide"
    }
   },
   "source": [
    "## Features with extreme values: Influential points\n",
    "\n",
    "We enumerated a number of transformations whose objective was to reduce the range of values for a feature.\n",
    "Reasons\n",
    "- put multiple features on same scale\n",
    "- reduce the influence of extreme observations\n",
    "\n",
    "Transformations\n",
    "- Standardize\n",
    "- MinMax\n"
   ]
  },
  {
   "cell_type": "markdown",
   "metadata": {
    "slideshow": {
     "slide_type": "slide"
    }
   },
   "source": [
    "### Influential points\n",
    "\n",
    "Some models may be quite sensitive to just a few observations, including Regression.\n",
    "\n",
    "Loosely speaking, an observation is **influential** if the parameter estimate $\\Theta$ changes greatly depending on whether the observation is included/excluded\n",
    "\n",
    "The **leverage** of an observation is related to the value of a feature in relation to the mean (across observations) of the feature\n",
    "- extreme values of the feature have higher leverage\n",
    "\n",
    "It is not always the case, but high leverage sometimes makes the point influential"
   ]
  },
  {
   "cell_type": "markdown",
   "metadata": {
    "slideshow": {
     "slide_type": "slide"
    }
   },
   "source": [
    "Influence of a point is a function of its leverage and how far its target is from the mean across targets of other observations.\n",
    "\n",
    "We will gain some intuition (hopefully) through the following interactive tool, which changes a single observation and refits a Linear model.\n",
    "- x: slider to control the index of the point being changed (left-most point is index 1; right-most is 10)\n",
    "- y: slider to control how much the target of the observation chosen is to be changed"
   ]
  },
  {
   "cell_type": "code",
   "execution_count": 8,
   "metadata": {
    "scrolled": false,
    "slideshow": {
     "slide_type": "slide"
    }
   },
   "outputs": [
    {
     "data": {
      "application/vnd.jupyter.widget-view+json": {
       "model_id": "bc731793f8a24a82a6465766c753171f",
       "version_major": 2,
       "version_minor": 0
      },
      "text/plain": [
       "interactive(children=(IntSlider(value=5, description='x_l', max=9), IntSlider(value=0, description='y_l', max=…"
      ]
     },
     "metadata": {},
     "output_type": "display_data"
    }
   ],
   "source": [
    "iph = tmh.InfluentialHelper()\n",
    "\n",
    "x,y = iph.setup()\n",
    "iph.show_slider()"
   ]
  },
  {
   "cell_type": "markdown",
   "metadata": {
    "slideshow": {
     "slide_type": "slide"
    }
   },
   "source": [
    "# Normality inducing transformations\n",
    "\n",
    "Recall that, for `LogisticRegression` we transformed the target from a probability (binary target, a 0/1 value)\n",
    "to log odds.\n",
    "\n",
    "- Note: target Survived/Not Survived is treated as a probability and has value of either 0 or 1"
   ]
  },
  {
   "cell_type": "markdown",
   "metadata": {
    "slideshow": {
     "slide_type": "slide"
    }
   },
   "source": [
    "Consider the following Linear models to predict probability of Surviving Titanic\n",
    "- $ p^{(i)} = \\Theta^T \\cdot x^{(i)}$\n",
    "    - $p$ is not normally distributed, so hard for errors of linear model to be normal\n",
    "- $ { { p^{(i)} } \\over { 1 -p^{(i)}} } = \\Theta^T \\cdot x^{(i)}$\n",
    "    - odds are not normally distributed either\n",
    "-  $ { \\text{log}  {{ p^{(i)}  } \\over { 1 -p^{(i)}} } } = \\Theta^T \\cdot x^{(i)}$\n",
    "    - log odds *is* normally distributed as we show below\n",
    "    \n",
    "\n",
    "    "
   ]
  },
  {
   "cell_type": "markdown",
   "metadata": {
    "slideshow": {
     "slide_type": "slide"
    }
   },
   "source": [
    "So by synthesizing the target (the odds) and performing a Log transformation, we have a target that satisfies the\n",
    "assumptions of a Linear model.\n",
    "\n",
    "<div class=\"alert alert-block alert-warning\">\n",
    "<ul>\n",
    "    <li> Loose Language Alert\n",
    "    </ul>\n",
    "</div>\n",
    "\n",
    "- $ { { p^{(i)} } \\over { 1 -p^{(i)}} } $ is called **odds**\n",
    "- if I have two odds $O_i$ and $O_j$, then $ O_i \\over O_j$ is called an **odds ratio**\n",
    "\n",
    "I may have been sloppy in calling \"odds\" the \"odds ratio\""
   ]
  },
  {
   "cell_type": "code",
   "execution_count": 9,
   "metadata": {
    "slideshow": {
     "slide_type": "slide"
    }
   },
   "outputs": [
    {
     "data": {
      "image/png": "[encoded data removed]",
      "text/plain": [
       "<Figure size 720x360 with 2 Axes>"
      ]
     },
     "metadata": {
      "needs_background": "light"
     },
     "output_type": "display_data"
    }
   ],
   "source": [
    "tf = tmh.TransformHelper()\n",
    "tf.plot_odds()"
   ]
  },
  {
   "cell_type": "markdown",
   "metadata": {
    "slideshow": {
     "slide_type": "slide"
    }
   },
   "source": [
    "# Interpretting the coefficients in Linear Models\n",
    "\n",
    "This section applies only to Linear models (`LinearRegression`, `LogisticRegression`)\n",
    "\n",
    "It may seem overly specialized, but since these models are used so often, we will spend some time.\n",
    "\n",
    "Also, because we can assign a meaning to the coefficients, these models are highly interpretable."
   ]
  },
  {
   "cell_type": "markdown",
   "metadata": {
    "slideshow": {
     "slide_type": "subslide"
    }
   },
   "source": [
    "## Numeric features\n",
    "For Linear Regression\n",
    "\n",
    "$\n",
    "\\hat{y^{(i)}} =  \\Theta \\cdot x^{(i)} = \\sum_{j=1} { \\theta_j * x^{(i)}_j }\n",
    "$\n",
    "\n",
    "so for a *unit* change in $x^{(i)}_j, \\Delta x^{(i)}_j $\n",
    "\n",
    "$\n",
    "\\Delta \\hat{y^{(i)}}  =  \\theta_j \\times \\Delta x^{(i)}_j \n",
    "$\n",
    "\n",
    "$\n",
    "\\theta_j = { \\partial{\\hat{y^{(i)}}} \\over { \\partial{ x^{(i)}_j} } }\n",
    "$\n",
    "\n",
    "That is, the coefficient $j$ is the amount $\\hat{y^{(i)}}$ changes for a $1$ unit change in $x^{(i)}_j$"
   ]
  },
  {
   "cell_type": "markdown",
   "metadata": {
    "slideshow": {
     "slide_type": "slide"
    }
   },
   "source": [
    "Transformations create **new** features/target and $\\theta$ expresses the change in prediction per unit change in feature.  \n",
    "\n",
    "Any transformed feature/target is expressed in **transformed** units, not original units.\n",
    "\n",
    "At test time:\n",
    "- transform test features\n",
    "- if the target has been transformed\n",
    "    - prediction units are in transformed units\n",
    "    - use an inverse transformation on the target to get back to original units"
   ]
  },
  {
   "cell_type": "markdown",
   "metadata": {
    "slideshow": {
     "slide_type": "slide"
    }
   },
   "source": [
    "### Examples\n",
    "- Log transform of target: \n",
    "    - $\\text{log}(y) =   \\theta_0 + \\theta_1 * x_1  $\n",
    "    - $\\theta_1 = { \\partial{ \\text{log}(y) } \\over { \\partial{ x_1 } } } = \\% $ change in $y$ per unit change in $x_1$\n",
    "- Log transform of both target and feature:\n",
    "    - $ \\text{log}(y) =  \\theta_0 + \\theta_1 * \\text{log}(x_1) $   \n",
    "    - $\\theta_1 = { \\partial{ \\text{log}(y) } \\over { \\partial{ \\text{log}(x_1) } } } = \\% $ change in $y$ per $\\%$ change in $x_1$\n",
    "    \n",
    "- Standardize feature\n",
    "    - Transform $x^{(i)}$ into $z_x^{(i)} = { { x^{(i)} - \\bar{x} } \\over { \\sigma_x } }$\n",
    "    - $y = \\theta_0 + \\theta_1 * z_x$\n",
    "    - $\\theta_1 = $ change in $y$ per $1$ standard deviation change in $x$\n",
    "    "
   ]
  },
  {
   "cell_type": "markdown",
   "metadata": {
    "slideshow": {
     "slide_type": "slide"
    }
   },
   "source": [
    "**Remember**\n",
    "- if you transform features in training, you must apply the same transformation to features in test\n",
    "    - if the transformation is parameterized, the parameters are determined at **train** fit time, not test !\n",
    "- if you transform the target, the prediction is in different units than the original\n",
    "    - you can perform the inverse transformation to get a prediction in original units"
   ]
  },
  {
   "cell_type": "markdown",
   "metadata": {
    "slideshow": {
     "slide_type": "slide"
    }
   },
   "source": [
    "## Categorical features\n",
    "\n",
    "Consider the simplified example of numerical features $X$ and a single binary categorical feature $c$ and linear model\n",
    "\n",
    "$\n",
    "y = \\Theta^T X + \\theta_c c\n",
    "$\n",
    "\n",
    "Let's assume (just for the moment) that we represent $c$ as a binary variable, rather than use one-hot encoding:\n",
    "\n",
    "$c^{(i)} \\in \\{ 0, 1 \\}$ for all $i$\n",
    "\n",
    "So $\\theta_c$ is the increase in $y$ when $c^{(i)} = 1$ compared to when $c^{(i)} = 1$\n",
    "\n",
    "Just like with numeric features."
   ]
  },
  {
   "cell_type": "markdown",
   "metadata": {
    "slideshow": {
     "slide_type": "slide"
    }
   },
   "source": [
    "### What's wrong with representing multinomial categorical values as numbers ?\n",
    "\n",
    "Let's consider the Passenger Class (PClass) variable from the Titanic example:\n",
    "\n",
    "$\n",
    "\\text{Pclass} \\in \\{ 1, 2, 3 \\}\n",
    "$\n",
    "\n",
    "Now that you know the interpretation of $\\theta_{\\text{Pclass}}$\n",
    "- the difference in prediction for $(Pclass = 1)$ vs $(PClass = 2)$, or $(Pclass = 2)$ vs $(Pclass = 3)$ is $\\theta_{\\text{Pclass}}$\n",
    "- BUT the difference in prediction for $Pclass = 1$ vs $(PClass = 3)$ is $ 2 \\times \\theta_{\\text{Pclass}}$\n",
    "    - twice the impact: is this really true ?\n",
    "   "
   ]
  },
  {
   "cell_type": "markdown",
   "metadata": {
    "slideshow": {
     "slide_type": "subslide"
    }
   },
   "source": [
    " - What if $\\text{Pclass} \\in \\{ 100, 200, 300 \\}$ ?\n",
    "- Numeric values imply both\n",
    "    - an ordering\n",
    "    - and a magnitude\n",
    "    \n",
    "Unless the order and magnitude match your semantics, use binary values.\n"
   ]
  },
  {
   "cell_type": "markdown",
   "metadata": {
    "slideshow": {
     "slide_type": "slide"
    }
   },
   "source": [
    "### The \"Dummy variable trap\" for Linear Models\n",
    "\n",
    "<div class=\"alert alert-block alert-warning\">\n",
    "    This is a trap only for Linear Models\n",
    "</div>"
   ]
  },
  {
   "cell_type": "markdown",
   "metadata": {
    "slideshow": {
     "slide_type": "subslide"
    }
   },
   "source": [
    "With one-hot encoding, for each possible value of categorical feature $c$, we add a new feature.\n",
    "\n",
    "Suppose for multinomial $c$, the possible values for $c$ are such that $c \\in C$ where\n",
    "\n",
    "$C =  \\{ c_1, c_2, \\ldots , c_n \\}$\n",
    "\n",
    "Let\n",
    "\n",
    "$\n",
    "1_{c=c_i}\n",
    "$\n",
    "denote the feature \"$c$ equals $c_i$\"\n",
    "\n",
    "For example, if $c$ is a categorical feature for Sex ($c \\in \\{ Male, Female \\}$)\n",
    "one-hot encoding of Sex adds two features\n",
    "- $1_{c=\\text{Male}}$\n",
    "- $1_{c=\\text{Female}}$\n",
    "\n",
    "(n.b., we had been writing these on the board as \"$\\text{Is}_{\\text{Male}}$\" and \"$\\text{Is}_{\\text{Female}}$\")"
   ]
  },
  {
   "cell_type": "markdown",
   "metadata": {
    "slideshow": {
     "slide_type": "subslide"
    }
   },
   "source": [
    "so our model becomes\n",
    "\n",
    "$\n",
    "y = \\Theta^T X + \\sum_{v \\in C}{ (\\theta_{c=v} \\cdot 1_{c = v}) }\n",
    "$\n",
    "\n",
    "Let us call the sub-model without the categorical features the \"reference (or base) model\", i.e.\n",
    "\n",
    "$\n",
    "y = \\Theta^T X \n",
    "$\n",
    "\n",
    "In the case of $𝑐∈{𝑀𝑎𝑙𝑒,𝐹𝑒𝑚𝑎𝑙𝑒}$\n",
    "\n",
    "- $\\theta_{c=\\text{Male}}$ is the increase in $y$ when $c^{(i)} = \\text{Male}$ compared to the reference model\n",
    "- $\\theta_{c=\\text{Female}}$ is the increase in $y$ when $c^{(i)} = \\text{Female}$ compared to the reference model"
   ]
  },
  {
   "cell_type": "markdown",
   "metadata": {
    "slideshow": {
     "slide_type": "subslide"
    }
   },
   "source": [
    "See the problem ?\n",
    "The reference model\n",
    "\n",
    "$y = \\Theta^T X$ \n",
    "\n",
    "corresponds to the value of $y$ when $c^{(i)}$ is neither Male nor Female !"
   ]
  },
  {
   "cell_type": "markdown",
   "metadata": {
    "slideshow": {
     "slide_type": "slide"
    }
   },
   "source": [
    "It gets even worse.\n",
    "\n",
    "For every observation $i$, \n",
    "\n",
    "$\\sum_{v \\in C} {1_{c=v}} = 1$\n",
    "\n",
    "That means the set of features created by the one-hot encoding $ \\{ {1_{c=v} | v \\in C}\\}$ are\n",
    "**co-linear** with the intercept."
   ]
  },
  {
   "cell_type": "markdown",
   "metadata": {
    "slideshow": {
     "slide_type": "slide"
    }
   },
   "source": [
    "We have fallen into what is known in Linear models as *The Dummy Variable Trap*\n",
    "\n",
    "The way out of the trap is simple:\n",
    "- Omit the feature $1_{c=c_j}$ for *one* value $c_j \\in C$\n",
    "- The reference model $y = \\Theta^T X$ is now intepreted as the value of $y$ \n",
    "    - when all of the non-omited features are False\n",
    "    - hence, when the omited feature is True\n",
    "- $\\theta_{c = c_k}, k \\ne j$ is the increment over the *reference model* when $c^{(i)} = c_k$"
   ]
  },
  {
   "cell_type": "markdown",
   "metadata": {
    "slideshow": {
     "slide_type": "slide"
    }
   },
   "source": [
    "**Lesson**\n",
    "For categorical features in Linear models\n",
    "- create binary indicator features for *all but one* value in the category\n",
    "\n",
    "Why didn't we encounter this problem before ?\n",
    "- We never used a Linear model with categorical features\n",
    "- We *did* use a Logistic Regression model with categorical features\n",
    "    - sklearn's `LogisticRegression` defaults to penalized regression\n",
    "        - the penalty is mitigating the problem"
   ]
  },
  {
   "cell_type": "markdown",
   "metadata": {
    "slideshow": {
     "slide_type": "slide"
    }
   },
   "source": [
    "**NOTE**\n",
    "The Dummy Variable Trap is *only* a problem for Linear models.\n",
    "\n",
    "One-hot encoding works fine for just about every other model."
   ]
  },
  {
   "cell_type": "markdown",
   "metadata": {
    "slideshow": {
     "slide_type": "slide"
    }
   },
   "source": [
    "## Interpreting the MNIST classifier"
   ]
  },
  {
   "cell_type": "code",
   "execution_count": 10,
   "metadata": {
    "slideshow": {
     "slide_type": "slide"
    }
   },
   "outputs": [],
   "source": [
    "import mnist_helper as mnh\n",
    "%aimport mnist_helper\n",
    "\n",
    "mn = mnh.MNIST_Helper()\n"
   ]
  },
  {
   "cell_type": "markdown",
   "metadata": {
    "slideshow": {
     "slide_type": "slide"
    }
   },
   "source": [
    "Let's visualize the training dtaa"
   ]
  },
  {
   "cell_type": "code",
   "execution_count": 11,
   "metadata": {
    "slideshow": {
     "slide_type": "slide"
    }
   },
   "outputs": [
    {
     "name": "stdout",
     "output_type": "stream",
     "text": [
      "Retrieving MNIST_784 from cache\n"
     ]
    },
    {
     "data": {
      "image/png": "[encoded data removed]",
      "text/plain": [
       "<Figure size 720x720 with 25 Axes>"
      ]
     },
     "metadata": {
      "needs_background": "light"
     },
     "output_type": "display_data"
    }
   ],
   "source": [
    "mn.setup()\n",
    "mn.visualize()"
   ]
  },
  {
   "cell_type": "markdown",
   "metadata": {
    "slideshow": {
     "slide_type": "slide"
    }
   },
   "source": [
    "Let's fit a `LogisticRegression` model and examine the coefficients $\\Theta$"
   ]
  },
  {
   "cell_type": "code",
   "execution_count": 12,
   "metadata": {
    "slideshow": {
     "slide_type": "slide"
    }
   },
   "outputs": [
    {
     "name": "stdout",
     "output_type": "stream",
     "text": [
      "Example run in 4.709 s\n"
     ]
    }
   ],
   "source": [
    "mnist_lr = mn.fit()"
   ]
  },
  {
   "cell_type": "code",
   "execution_count": 13,
   "metadata": {
    "scrolled": false,
    "slideshow": {
     "slide_type": "slide"
    }
   },
   "outputs": [
    {
     "name": "stderr",
     "output_type": "stream",
     "text": [
      "/home/kjp/anaconda3/lib/python3.6/site-packages/matplotlib/figure.py:445: UserWarning: Matplotlib is currently using module://ipykernel.pylab.backend_inline, which is a non-GUI backend, so cannot show the figure.\n",
      "  % get_backend())\n"
     ]
    },
    {
     "data": {
      "image/png": "[encoded data removed]",
      "text/plain": [
       "<Figure size 720x576 with 10 Axes>"
      ]
     },
     "metadata": {},
     "output_type": "display_data"
    }
   ],
   "source": [
    "mnist_fig, mnist_ax = mn.plot_coeff()"
   ]
  },
  {
   "cell_type": "markdown",
   "metadata": {
    "slideshow": {
     "slide_type": "slide"
    }
   },
   "source": [
    "# Gradient Descent\n",
    "\n"
   ]
  },
  {
   "cell_type": "markdown",
   "metadata": {
    "slideshow": {
     "slide_type": "slide"
    }
   },
   "source": [
    "## Fitting a model\n",
    "\n",
    "Our model (hypothesis) is written as\n",
    "\n",
    "$\n",
    "\\hat{y^{(i)}} = h_\\Theta(x^{(i)})\n",
    "$\n",
    "\n",
    "That is, our prediction for feature vector $x^{(i)}$ is a function with parameters $\\Theta$.\n",
    "\n",
    "**Model fitting** takes the training data and solves for $\\Theta$.\n",
    "\n"
   ]
  },
  {
   "cell_type": "markdown",
   "metadata": {
    "slideshow": {
     "slide_type": "slide"
    }
   },
   "source": [
    "Fitting most models usually involves the solution of an **Optimization Objective**.\n",
    "- If we are minimizing: the optimization objective is called the **cost** function\n",
    "- If we are maximizing: the optimization objective is called the **utility** function\n",
    "\n",
    "The basic purpose of the optimization objective is to cause predictions to be close to the true values.\n",
    " "
   ]
  },
  {
   "cell_type": "markdown",
   "metadata": {
    "slideshow": {
     "slide_type": "slide"
    }
   },
   "source": [
    "Let us denote\n",
    "\n",
    "$\n",
    "\\text{error}^{(i)} = \\hat{y^{(i)}} - y^{(i)}\n",
    "$\n",
    "\n",
    "So an Optimizaton Objective (Cost Function) that minimizes errors is one that seeks to make predictions close to true values.\n",
    "\n",
    "There may be added elements (e.g., constraints) of the objective as well (discussed later). "
   ]
  },
  {
   "cell_type": "markdown",
   "metadata": {
    "slideshow": {
     "slide_type": "slide"
    }
   },
   "source": [
    "## Gradients\n",
    "\n",
    "Gradient Descent is a method for optimizing the Optimization Objective.\n",
    "\n",
    "It works for any model but we will illustrate it with Linear Regression.\n",
    "\n",
    "For Linear Regression, the Cost Function is\n",
    "\n",
    "$$\n",
    "\\begin{array}{lll}\n",
    "\\text{MSE}(X, \\Theta) = {1 \\over m} \\sum_{i=1}^m { (\\text{error}^{(i)} )^2}\n",
    "\\end{array}\n",
    "$$"
   ]
  },
  {
   "cell_type": "markdown",
   "metadata": {
    "slideshow": {
     "slide_type": "subslide"
    }
   },
   "source": [
    "Recall that one way to minimize a Cost Function is to take derivatives with respect to $\\Theta$ and set them to $0$.\n",
    "\n",
    "Because $\\Theta$ is a vector, there is one derivative per feature.\n",
    "Hence the vector of derivatives (called the **gradient**) is\n",
    "\n",
    "$\n",
    "\\nabla_{\\boldsymbol{\\theta}}\\, \\text{MSE}(X, \\boldsymbol{\\theta}) =\n",
    "\\begin{pmatrix}\n",
    " \\frac{\\partial}{\\partial \\theta_0} \\text{MSE}(X, \\boldsymbol{\\theta}) \\\\\n",
    " \\frac{\\partial}{\\partial \\theta_1} \\text{MSE}(X, \\boldsymbol{\\theta}) \\\\\n",
    " \\vdots \\\\\n",
    " \\frac{\\partial}{\\partial \\theta_n} \\text{MSE}(X, \\boldsymbol{\\theta})\n",
    "\\end{pmatrix}\n",
    "$\n",
    "\n"
   ]
  },
  {
   "cell_type": "markdown",
   "metadata": {
    "slideshow": {
     "slide_type": "subslide"
    }
   },
   "source": [
    "$\n",
    "\\begin{array}{lll}\n",
    "{ { \\partial  }\\over { \\partial{ \\theta_j} } } { \\text{MSE}(X, \\Theta) }& = & {1 \\over m} \\sum_{i=1}^m { \\partial \\over { \\partial \\theta_j } } { ( \\text{error}^{(i)})^2 }\\\\\n",
    "& = & {1 \\over m} \\sum_{i=1}^m { 2 \\times \\text{error}^{(i)} \\times { \\partial \\over { \\theta_j} }} {\\text{error}^{(i)} }\\\\\n",
    "& = & {2 \\over m} \\sum_{i=1}^m { \\text{error}^{(i)} \\times { \\partial \\over { \\theta_j} }} { \\hat{y^{(i)} } } \\\\\n",
    "&= &  {2 \\over m} \\sum_{i=1}^m { \\text{error}^{(i)} \\times { x^{(i)}_j} }\\\\\n",
    "\\end{array}\n",
    "$"
   ]
  },
  {
   "cell_type": "markdown",
   "metadata": {
    "slideshow": {
     "slide_type": "subslide"
    }
   },
   "source": [
    "For Linear Regression\n",
    "\n",
    "$\n",
    "\\hat{y^{(i)}} =  \\Theta^T \\cdot x^{(i)} = \\sum_{j=0}^n { \\theta_j * x^{(i)}_j }\n",
    "$\n",
    "\n",
    "so\n",
    "\n",
    "$\n",
    "\\text{error}^{(i)} = \\Theta^T \\cdot x^{(i)} - y^{(i)}\n",
    "$"
   ]
  },
  {
   "cell_type": "markdown",
   "metadata": {
    "slideshow": {
     "slide_type": "subslide"
    }
   },
   "source": [
    "Thus the gradient for Linear Regression can be written in matrix form as\n",
    "\n",
    "$\n",
    "\\nabla_{\\boldsymbol{\\theta}}\\, \\text{MSE}(X, \\boldsymbol{\\theta}) =\n",
    " = \\dfrac{2}{m} \\mathbf{X}^T (\\mathbf{X} \\boldsymbol{\\theta} - \\mathbf{y})\n",
    "$\n",
    "\n",
    "This will be particularly useful when working with NumPy as the gradient calculation is a vector operation that is implemented so as to be fast."
   ]
  },
  {
   "cell_type": "markdown",
   "metadata": {
    "slideshow": {
     "slide_type": "slide"
    }
   },
   "source": [
    "## Batch Gradient Descent\n",
    "\n",
    "The basic algorithm is:\n",
    "1. Initialize $\\Theta$ randomly\n",
    "1. Repeat until done\n",
    "    1. Compute the Gradient\n",
    "    1. Update $\\Theta$ by taking a step in the (negative) direction of the Gradient"
   ]
  },
  {
   "cell_type": "markdown",
   "metadata": {
    "slideshow": {
     "slide_type": "slide"
    }
   },
   "source": [
    "Let's illustrate Batch Gradient Descent on an example.\n",
    "\n",
    "First, we use sklearn's `LinearRegression` as a baseline against which we will compare the $\\Theta$ obtained from\n",
    "Gradient Descent."
   ]
  },
  {
   "cell_type": "code",
   "execution_count": 14,
   "metadata": {
    "slideshow": {
     "slide_type": "slide"
    }
   },
   "outputs": [
    {
     "data": {
      "image/png": "[encoded data removed]",
      "text/plain": [
       "<Figure size 432x288 with 1 Axes>"
      ]
     },
     "metadata": {
      "needs_background": "light"
     },
     "output_type": "display_data"
    }
   ],
   "source": [
    "gd = tmh.GradientDescentHelper()\n",
    "\n",
    "X_lr, y_lr = gd.gen_lr_data()\n",
    "clf_lr = gd.fit_lr(X_lr,y_lr)\n",
    "fig, ax = gd.plot_lr(X_lr, y_lr, clf_lr)\n",
    "\n",
    "theta_lr = (clf_lr.intercept_, clf_lr.coef_)"
   ]
  },
  {
   "cell_type": "markdown",
   "metadata": {
    "slideshow": {
     "slide_type": "slide"
    }
   },
   "source": [
    "Now let's perform Batch Gradient Descent and compare the $\\Theta$'s"
   ]
  },
  {
   "cell_type": "code",
   "execution_count": 15,
   "metadata": {
    "slideshow": {
     "slide_type": "slide"
    }
   },
   "outputs": [
    {
     "data": {
      "text/plain": [
       "array([[ 7.99360578e-15],\n",
       "       [-7.99360578e-15]])"
      ]
     },
     "execution_count": 15,
     "metadata": {},
     "output_type": "execute_result"
    }
   ],
   "source": [
    "gd_theta = gd.batchGradientDescent_lr(X_lr, y_lr)\n",
    "theta_lr - gd_theta"
   ]
  },
  {
   "cell_type": "markdown",
   "metadata": {
    "slideshow": {
     "slide_type": "slide"
    }
   },
   "source": [
    "The $\\Theta$'s are equal up to 15 decimal points.\n",
    "\n",
    "Let's look at the code for Batch Gradient Descent and examine the details"
   ]
  },
  {
   "cell_type": "raw",
   "metadata": {
    "slideshow": {
     "slide_type": "slide"
    }
   },
   "source": [
    "#gd.batchGradientDescent_lr??\n",
    "\n",
    "eta = 0.1\n",
    "n_iterations = 1000\n",
    "m = 100\n",
    "theta = np.random.randn(2,1)\n",
    "\n",
    "for iteration in range(n_iterations):\n",
    "    gradients = 2/m * X_b.T.dot(X_b.dot(theta) - y)\n",
    "    theta = theta - eta * gradients"
   ]
  },
  {
   "cell_type": "markdown",
   "metadata": {
    "slideshow": {
     "slide_type": "slide"
    }
   },
   "source": [
    "- You can see the code that implements the steps described in English\n",
    "    - `eta` is the step size: how fast we adjust $\\Theta$ in the direction of the gradient\n",
    "    - `X_b` is the matrix\n",
    "        - whose first column is $1$\n",
    "        - whose other columns are the non-intercept features\n",
    "    - `X_b.dot(theta)` are the predicted values for all observations\n",
    "    - `X_b.dot(theta) - y` are the errors for all observations"
   ]
  },
  {
   "cell_type": "markdown",
   "metadata": {
    "slideshow": {
     "slide_type": "slide"
    }
   },
   "source": [
    "Since the $\\Theta$'s are the same, it's no surprise that the predictions are too."
   ]
  },
  {
   "cell_type": "code",
   "execution_count": 16,
   "metadata": {
    "slideshow": {
     "slide_type": "slide"
    }
   },
   "outputs": [
    {
     "data": {
      "text/plain": [
       "array([[ True],\n",
       "       [ True]])"
      ]
     },
     "execution_count": 16,
     "metadata": {},
     "output_type": "execute_result"
    }
   ],
   "source": [
    "X_new = np.array([[0], [2]])\n",
    "gd_y_pred = gd.predict(X_new, theta_lr)\n",
    "clf_y_pred = clf_lr.predict(X_new)\n",
    "\n",
    "gd_y_pred == clf_y_pred"
   ]
  },
  {
   "cell_type": "markdown",
   "metadata": {
    "slideshow": {
     "slide_type": "slide"
    }
   },
   "source": [
    "### Batch gradient descent: the movie\n",
    "\n",
    "Let's watch Batch Gradient Descent at work"
   ]
  },
  {
   "cell_type": "code",
   "execution_count": 17,
   "metadata": {
    "slideshow": {
     "slide_type": "subslide"
    }
   },
   "outputs": [],
   "source": [
    "%%capture\n",
    "gd_anim = gd.create_movie(X_lr, y_lr, n_iterations=10)\n",
    "movie_file = os.path.join(MOVIE_DIR,'batch_gradient_descent_eta_10.mp4')\n",
    "gd_anim.save(movie_file, codec='h264')\n"
   ]
  },
  {
   "cell_type": "code",
   "execution_count": 18,
   "metadata": {
    "scrolled": false,
    "slideshow": {
     "slide_type": "slide"
    }
   },
   "outputs": [
    {
     "name": "stdout",
     "output_type": "stream",
     "text": [
      "If the following cell does not work, use browser to visit file ./images/batch_gradient_descent_eta_10.mp4\n"
     ]
    },
    {
     "data": {
      "text/html": [
       "<video width=\"432\" height=\"288\" controls autoplay loop>\n",
       "  <source type=\"video/mp4\" src=\"data:video/mp4;base64,AAAAHGZ0eXBNNFYgAAACAGlzb21pc28yYXZjMQAAAAhmcmVlAABrB21kYXQAAAKtBgX//6ncRem9\n",
       "5tlIt5Ys2CDZI+7veDI2NCAtIGNvcmUgMTQ4IHIyNjQzIDVjNjU3MDQgLSBILjI2NC9NUEVHLTQg\n",
       "QVZDIGNvZGVjIC0gQ29weWxlZnQgMjAwMy0yMDE1IC0gaHR0cDovL3d3dy52aWRlb2xhbi5vcmcv\n",
       "eDI2NC5odG1sIC0gb3B0aW9uczogY2FiYWM9MSByZWY9MyBkZWJsb2NrPTE6MDowIGFuYWx5c2U9\n",
       "MHgzOjB4MTEzIG1lPWhleCBzdWJtZT03IHBzeT0xIHBzeV9yZD0xLjAwOjAuMDAgbWl4ZWRfcmVm\n",
       "PTEgbWVfcmFuZ2U9MTYgY2hyb21hX21lPTEgdHJlbGxpcz0xIDh4OGRjdD0xIGNxbT0wIGRlYWR6\n",
       "b25lPTIxLDExIGZhc3RfcHNraXA9MSBjaHJvbWFfcXBfb2Zmc2V0PS0yIHRocmVhZHM9MyBsb29r\n",
       "YWhlYWRfdGhyZWFkcz0xIHNsaWNlZF90aHJlYWRzPTAgbnI9MCBkZWNpbWF0ZT0xIGludGVybGFj\n",
       "ZWQ9MCBibHVyYXlfY29tcGF0PTAgY29uc3RyYWluZWRfaW50cmE9MCBiZnJhbWVzPTMgYl9weXJh\n",
       "bWlkPTIgYl9hZGFwdD0xIGJfYmlhcz0wIGRpcmVjdD0xIHdlaWdodGI9MSBvcGVuX2dvcD0wIHdl\n",
       "aWdodHA9MiBrZXlpbnQ9MjUwIGtleWludF9taW49MSBzY2VuZWN1dD00MCBpbnRyYV9yZWZyZXNo\n",
       "PTAgcmNfbG9va2FoZWFkPTQwIHJjPWNyZiBtYnRyZWU9MSBjcmY9MjMuMCBxY29tcD0wLjYwIHFw\n",
       "bWluPTAgcXBtYXg9NjkgcXBzdGVwPTQgaXBfcmF0aW89MS40MCBhcT0xOjEuMDAAgAAALVlliIQA\n",
       "F//+99S3zLLtU2+2C6j3op4mX0N1JQGblsTtOoAAAAMABnddzdfZ7UGcP+ONZoi+oAjW2FIsRWLq\n",
       "Z68VNAUD5xeXGISySiiW42UMO4UKOws0WgGMYLAq1q4u72SgcLv874PeeSuVMS8L3B1gZ9U9rDWM\n",
       "pffJx+G/Os46ETFIRmMzV0BLS/GKCpoknwyZ8DwDAg51eCsoOVuzP8HVO8qQ4ZqgTFtBtrGq6MFv\n",
       "rjOOXy76hxHP7qRBg6Qgvv7cuWSonvSSug0CtmO3w+97U73YaXAPEWo0jGe03d5ezWjQ3j1e3cxL\n",
       "9NFjOBKcXyo8xCM8MAj4260/ncAiovKDlS8Y8bTuHArar6alCO0ocv9QGFs1MY7rrW3e+tZWjM1D\n",
       "GizUBAqyA9z9GMyY7uP+tngZMjBLUO0moT3GFRQ8OWE4UknCowaSWO3eFCOe5Rd6L1Mjhj6Y2C1F\n",
       "1j4yJbCGXKm2oHw4ses3J2HQHkZSpStxekV5Tzzz54yQ7G/ixQYkfTtdHiJc8rXhoSijkrpuQKQU\n",
       "Y8hvTHk4GN2sso2bJwRuaHvsaxA2z4On6FkuxPV0zDIVWSdaJJsF1w88oPj2xU2d1h4k/lmPSwp6\n",
       "dfxA8/71IGhkXHAcNiMkyLNPZPFDezXQbkjkjAEzgl5lzHzhydHkC5V43Qk4l94S9vhvlAwT/3eT\n",
       "npaP7m7vOjnkRaIvJQQLNnI0c6zQaJV5VixvkIJOw184dPPIAxnXO26gbTOjN6uXbC6wvarAYf/+\n",
       "gBMw/OZD//6NjKhMBO0W5OG00ZeE/iyiqzqRDJ4dyss87RVMmzv/1K1aKNyZDSzcvyqmxJUnD9IL\n",
       "u6+Z1iPJsvsBu6pYjY3WCleDJNaTVY3xASC9w8zLdBLrPgJXTfR4mmbyXX3bTOq8XkZuoSRFp9HA\n",
       "InjrCvfmdjM88v6rWOrAZAyFrTYOXJ/NUw1HqFPoIbbnapuVNh2Oqok1v/Ocn+T1XnzwEurunfpa\n",
       "X7OxRyQwp5cGNvK6mN3GKVgWc7/qyfWoJKHoYc07x7lIAAXftzBVr71aNv2WJmr3jBsp+DL73zJd\n",
       "40P7t4/7i/e9RwLVE+gBrjTzpXKgspkNHZ82pR02ClIm27yNsm/dlJmFbrMJqdBNtfoitFTl8nba\n",
       "WFY1i0dOdnq246zPD7cMZwipj7Cn24QP84OfBWkSdua5G+5DnL8ieLh4DIy7njwEcD6yAU5/S8H6\n",
       "lfy80FvUrB6rXRDgXw779mwpO6En/D8fer4LLdAT/euJUdBjfruO9TUQWuEx4uJJgonc2goJf5PM\n",
       "XgJYdqZ5ET2e0QUh/tborNwW05kxlJVfTgDh6Wt+gurviygE0NJ38b9WZquYqC5lto15p0nFR2e7\n",
       "lMG//bj3Hwy2HjRE61ao0ThtyUgdm9r+6SIk4SbPebzzY6payc5E2BzydzrbpdfhBHfMqP4oUSeD\n",
       "YQuM727cPu37s/egqZLy/DOWjD6lQ/9fC7gHVfoahgAFzgnYXUked+px5LebfEhj7bS1MY0FjjS2\n",
       "jj80TRGhyNyHWX2y2YUWHDb53KPXUwgEb4pUb0GCKNxxtgcLu9TYOlfn3fNFPiC4asu1+mdVpun1\n",
       "2NoP0Bs6fOGqeydU6/EZNOJSYWIwFjHjQKUALd6OMpDVpcfqllMSLuQRTRfIsxtx+YVNvVuh/+gf\n",
       "9veQkb9wMElZ7c+/jXmQgcS4Jyjx7qH95yJwGpOYmAHyGMI8c74mYZ5EsycfOIdwQU+o3n+2q37l\n",
       "0sdHlRJvoRjs5XBmcbv+LK+DxAVd/9mM04H9lRPn0baIaDg/ZFcDNQz6e3DDE2WhF8l+21qBOiJX\n",
       "Mz8p2iyAVbyqvzU3CiDInpP9GJK6bkvwipexO9ZvU1+jG61iHC2byqaTxJrPyekomt0Dq6nfS81i\n",
       "EZ6eyMxTWn69yPsWh1iBPg5FnBeCyMguZ1PyP7SsU9XeSjSUaL1TAuthiUvIAkan9gasIOY6YOMT\n",
       "7dxPqNfjXPW4Gc/EoB0wWUWaJy7XSNl6Am5yBedCBkiRzdo6rxhcbSxPA6rnzQnVy4zdUyInnDEB\n",
       "Ll1QQMSSSy+EnyN024zoQ29LI+jqopdGfep+gby8WviAUNHr/S2sqUO9Yl93IloqxgQuvRj5LJG+\n",
       "gnj338HjM2arnl70Bl23SiS/7NXWasWKfvi/PU92t1GcdRTDwx3v3hWGj6o6N1m+EH/9FUCkhXhA\n",
       "ObAIsgzm0ruMywccp0fISLDF9A83bBOEOaFPJJtXJN+0FDHQEQqatxRAld9xc8+ox69N4fFURpmf\n",
       "sT5Jwjz8DNOvuI5VXDW+gaftlmS/7edDzX+PtQkJBznO3t5YqhTacJov0DCqv6omfKH44IQ9YJze\n",
       "YiGzBPF/s/9/Q2N7sYvkXrRz6quOezCMwBULFKuBN3TidmkHGMUXnY4qbmR4gZmXHbEinE9yNhrk\n",
       "lYkdDOFtlKIOlDPY1mjIn0I3d3sa5H+KhgmgUHDKGB7nysn7NXU6KaL+NpBHLM7YdAnGnYhgfa1K\n",
       "kHpfK2zD0SvwdG2aAF3jUMkfpWtQkIvhxlIpDfRCRqtBYgJSFY3KFoguVbpZcVTdubji4j2OopsJ\n",
       "jZBe9IBqz/laU1yaVHqMdUwBdNr8DvSCrwVQMEvyxUWdWowFOskcz+AJFXuiBI7X9iEOSnXbomcA\n",
       "GtT8HjlNzBJyb7OIyEZabv6YbI0688fPDyv4x2tLbF7+OdvaqfbsYovVWxHjEFsKbcRdagssQjeb\n",
       "hIprcQPRWGZsX+yanQvnv2Fkx4BHjaQRD82Y4F9giqq2p3t158VLqiIFENCG6E4KPfEAUzecenlJ\n",
       "OHppbXsBE/gwRfQL0nM5M2GpkWtidoek18nRHQgnFTEgnvqhl2FE/UTtZIKX4qjC5qW4+PxXq1VU\n",
       "NIPyOy4qyjTIyL4q0xNrT3cNlIp3jbXfx/YfdGr5AyEhhsIpEDtB2k8eKu08yg6XUgzTIxB0KuXz\n",
       "haw4bzNeTUc175xKEcAWOJeuxO6B1BPAgNj/jWGHQFs96/mXDsUDqnB1sgOuGbvxcnuL9yx2ndMN\n",
       "cjuNxgZ8pTbq6L1hWoqhsj3oRFeLNFtFEDBAN3OhdyERE0oZLQS4fyUmBi7ygiY4qdn8ieo1dmRq\n",
       "DRbmcKzlqFBi6fxde1ZHpw3kuaEnAKOD++dROx08ptbLcCanHWolc+H2b3UEx5tFUzbQp8vDaJe3\n",
       "Rx8y1AUl+K7t/t9d9ZyxcoCBfahuy/1Iw1xZp+7mXmOcXY19X4ZwfRmY4YzK+tYSOLFN139FUm/M\n",
       "OW90pwtGnEYqNRqNNTkhnGaOVE8VPJtTxg2wAFCPVApjxexvafwN8TEHkP7ifX0Pp9PzWCahLLg0\n",
       "aRuCgwLjA69TBc4TQMAYG9sDKjLSl1s3Zq7f6fIUe3jmtlhj/VBjTC5QBGfb25tTnUKbZL34jfPL\n",
       "GqrWxr+oTCX+sAGh+dCmsI81x9oKMHuqFjBPmNrXlULlFWNDrhyVTgUMXd8T2mtLDV3AhPRq+E/Z\n",
       "hbzRdLGgJsdDuBvwbiv3J6Il8VbaAZyXuoSi7kl8CZph4eqKhz3ZFmy/RG0q5nYq/F01K5pOiuCG\n",
       "vF/NmDnKbpY0q8512frxP14Y0QJWIzg85vqfPTKZOZl1bCqaIgWBqBHqKbUkCTWKUDC8ErABjqla\n",
       "b9WJdPL0V7u5cXcn1oQicS5xRkYpgc/IJKfv8mw11P3txkdbfSY3AcuthU5czT3q8FHCUf4gQmeq\n",
       "TIzZTfsuaxdKS1F2cXL44sUqPr/ohHDljvcRHGRSm1U+a9Ly5jLimcovGv33olqmMT1PufTiB6iu\n",
       "Bq8cZ6NqPc0bUwoxjEO20t5x1ciWiSzIqDDJTm0aucRJP/kDsVKnld866qjUGtXmUk/E/+raG8vD\n",
       "3F7T4xScwzOZi/MZ37AJiuNg4KOa2l6vANZK2Hj9oureAgYMzjVazchG+2Nn6G57qDFHyVaySy2G\n",
       "i64nUVnNO7nH6w9oMxSjJESFy09/RfHZFN9hvK/1Tz2/CG8+qAlAg/41xwIAtOC80WU3LtMW7Em3\n",
       "+FhZHw4rTDssc7sjXDFaP74mJufmA7+qqCnmgR/8pwGPY8WrnS4SW3sZLpvsyhl427/8gb6D9+xj\n",
       "9yjc+lnrvqNL2Tc8scvqCwj7RVoT1ACIYo4jdrhYRZTxELAgZEfBcG5Wgix6m4Pgb8aDjNyQbLu9\n",
       "MyRjLGhHvh3Cj+tnGs1iQ1NIhsSGnWDL4AjWnVknGxKzY8nVlTHsOqUlYWZ05vjSvnmtni0Kq/JF\n",
       "LVARL9WkR3g/92ThJlh8wGGDMBZ1ZKCOoe38VD3NqGCwhBiALydhLmA0ShgEsPzbPUvqedUcFDVc\n",
       "s0H+/YzqKNUaN/plT12KqJyYHP32XgbEFCubzd8Bva0CzopM4mZSWO9maX6aS50+v91odTd+1lVQ\n",
       "5AHsSzPkaW/xxRpkyM9Bpujlx6apl07TncSLbEPFfwT9wqTEWowsTMSs1yANAij7fym9tpXvhvF6\n",
       "JPJD9Wp0qrG0GxIh9UwvmoNba44A04zpNlz0t34lRvunubCJgFBHyLYeZOGkphS1nYEyEX7F6SkV\n",
       "XvX98OwQy92Bl7bnwu8Juo4hLiZBfqIGgyXVZNuFKnLaaMDSoWK8zT7UsqqbUdB4+hxI5lheB6Wk\n",
       "LCFkwk9zHqxI5Yts63cGxM4WkGyTuXI8B9ETAw4fZxTNHuaXTfGzzc9qcuT9J7YQTDXXquS/sP+l\n",
       "9pThNT+MIWaYH25+KS5Z8P/uWIfeBkHSy8or/iGTVau7CMvzH9vqVZNqIvSGghiCJkT1FdaFiIaT\n",
       "jsR8cFmMkKcL/FcHP+cxw+D1Y2gNOZ+f4xi9XFXXOmP7/WTT+gNMmQGf7DvFe4Yui9xRYMHTg0an\n",
       "hMhPEioqPAK5QlzogsMaotsjno67+wgFRrGRWWO60DER+8XAJ+pRSVHHtQ7Ukc/chjZkzGaldpqH\n",
       "D66yIE/U3JJfe/SKFCkTZlV6SyX3RoxLEdXNJ82nS24VQVRPn1S7iZ85TOw6HgFNNqAsnwtbfAbZ\n",
       "sMKNUst4spMOgR/t+xkNBLc0KZFOkLuZGMx7DZ2bv92dFpJ8BGX+SbrFVVcMEzeO9kZgNTrzOslC\n",
       "E2/lTdux/vmrBJ1pZEuiZUm2yKqjVnlXTIY74a/qq39FVretlxd2eGlL+s44SyV3QPxchvKGztxV\n",
       "5YtUVRHj8hmUgzUE5//Un9HL6CR9BsUXze6KxdRUtBIYRfyEpw+FO0eiKMGIBIy8QGy8GH7KPJnL\n",
       "eGgSCeueLlVb0HqN2PFHt1q3DsWu0asD+MzYeKu39pmrbLFvXK5SJ+16aX4iliaFro8Y3yuBFqS+\n",
       "pZHsvrwaxfhkqd8DTBDM6OJ1ylKu6PFW7k3U9iBO79B5n1YhLjZ/xu5RJ5+xXS/fRLTcXoVhByqY\n",
       "JCaHxBRgipScN/S/v846vGYs4WRdyGW9dLBcU72BHFp4wF5ijpD4izEd1WNLf7J+TpY2Fhb7jKSv\n",
       "p9A2R4jagkiMG81W48f3C2SNWwiptWzz2N92G8vsU9D/+/jti1OA1Px1zjRKhrYvvoRPKF9n30X7\n",
       "z4nXs+kouKDiRL87sL9ZEyTnjxzoh8bzBbiwkKmYxR18bEvq60R6cbGK0nUqVTi0aSfXaX+MInwU\n",
       "8ojALgqyX16dnN8opBn+ZXCuXXhT5vFj/5hurMMRUbtAMkt4s6anu3WveGbPv2Ihs1Gu856NAhTf\n",
       "PVGn9uGp8bVVha5ioKuSWASnM7g1TMBQEsW3JGBqI0aeNA0MUSL/QCIL8IxJmgdPkbvnHE8yXCMr\n",
       "cGpOTiI1Rv2nV/RR5jJIuEujK7SogqIZsfSX3qB1cvlDMMbZdS4GkfRAeTsNSffvqpwaLsdfIn+5\n",
       "zawmZT7dvTiu570buyc1Q/uLcWszoHLeo9SnDMEIg7uoO04O1zs5b617oBEMDM3UosZOkhIG/04v\n",
       "jVlcVKdEYnR34aovK7J0419a5ddZav2ee03Z27ucqvhgDqq72dkbGWeTD/qp2iSbcIbRAEIr7WQD\n",
       "SDDZdF7JUuO4O9NCzN7yxE57UQSvxS5RIvntT9bKF9PHRrQhL4TzKoONxrbnIDJzGF0M4TB9lHhY\n",
       "7Px2GzQEkc9rko3Oo47YQYRmuld9jy8FKA5M6ePPYnVrLbIgg+2zw7LutaarcaKj1qnuLbOXR8H9\n",
       "23YBuoIQ8BcuIZQ3B84mhQAvpxm3Y4bMyaNYlpHYCNuugxVsQAVWkvFsE2eJkoKQ2YO46PWqUmeL\n",
       "zQJgFOiSfwJg39njX61eFs7QZNMPs+goSEjCy8uc2GPmvRX4BHVUhxyKMRo2kVogzhKYtkQ1SwgV\n",
       "yiP3Ao3qCdbMMcQYy7+AYtQIZ4qvc7GANKHpCsCrEMnT8qYwjb6mhFo9pbjCtXP8SMrGg42l7ogR\n",
       "YNWJhPOESXHnZDoSmRWbCwi1g9pfnnwigNWuIHr7RKQvR/vn5V/T08Ev57sCCISPl9rHD11yALnM\n",
       "Ic5PcJ/5aWOfac38QNdxn3T7/TLnnqDxT4+iJqMCrF6yODzkJbrgt5rhp2hG3w9yJ4JSQaUdnT+T\n",
       "vZSSIUH1CwvADVhPLn0gwKsTL/Z7ZMAnwyN7vx/VuYhAO7DfPL8024oqb3h1qT5m+X7P7rQlgf16\n",
       "XqyAyj045FDdFxyKGk+UwBJBo+WjJ2EYOxKGo9R1CARe06BIfPpWINfBugGlavAtW1jxTXOSsCTV\n",
       "2zxL5g5HHesOsb0Ft2z4iAquhP8+tvduIfMayvAUIl494Nf5zgwwV+4luACNBintqZlYCu369Yz7\n",
       "u3wV6/UgX78FJUBdaywFcxNAPrlkkamQep34qZzv9Ly4xAFjjS/yeSEGOea8m3JkfJ9rydVPydB/\n",
       "9jqpGSoRYnsp3e4X8VyavdlERvJBx3qlwhkgVZ7B0xSWiMQbNTzr9ELNe7xyHMS/Wow6M4GO8KyL\n",
       "qGIJhUpgdl09r3RhrpojfIcYuXk1bD20mu0marCM8UyJ28g1qJIevzNTD1wlJnJIEJP9/DY5EreQ\n",
       "P1YuD1v5WJRyzVVk0qXJQFbesL7+/8FrEj13zi4GRpyNqa7+/B1NXrKZPxMmzhKsNPL7o6bhioh3\n",
       "06eZIQqugtX208XVvjEbJV3MG4FFc0HTxq2XBieuxhvqVjW7RcqD7DJ1njJNtE8kqA+1UTTvIBJ7\n",
       "VJZnYUK7dyvXMLFbaYcLzIIN/qEwfLXdkW4BKEDWuVs+mXD/f99Y69Q8cGBMqsZjup8uxRGFwVR6\n",
       "J96ABbStydqPl7NRG+2uLcPUVRCygVd28uSJR+8eo5x7Kf2MtwZXxlJGiE80rdXLg1W3sjXVKZya\n",
       "hMjtSXSh8NPUnJwnIMjh4LTWjZx6MfdZ7g31ydbRX4z+cWqqwThTc7ncfGN9FxpY2DXpINFSXvVJ\n",
       "iYbd1Lyz6K1brRtZ+fX6aC51iFQdtjgle4SWM6YvqTeOuR4uSMq7SzacAORiikDEzbTHnhYB0rJD\n",
       "mj9glNkwT+6i2rTrFrRqUaTDcAVpG4pABHBx5EsOxR11EPOdNnGpUY6JAKtupTIrsip1jMbtxjy3\n",
       "FU/B35oY9m3O3EHH/1Mycrr5fRMhGdt6EoajsZqi4rM0qCU666Oq/GThBptBX/CRiHZJNGO6BGKR\n",
       "/eIIYV0PzXlv8fn0LLil5xuCyC4NlNl+cPTO1hN6SwpdCY7q15zKdIPht6G7fJJ6rt3wMSJ9j3mk\n",
       "j2aRHmFU9Dnq1OM6TnxyAR/7csR7a8PapQdgMJQ7M9YYQTbUk3JAQ5pS918zBHCdCOSsF6RgHUUZ\n",
       "CRv1WulfJaw3ypgt8hfK519EsPra28bTiPmK+CPteaoRH+NkzGaxuw52zbzgJEqAYPVCCnqRclFl\n",
       "KKcxq23KqeNbFUpMyCff2AFOwODefGSLWvI/cSh0X8e12SFX9/Ibuo26z9iBnNPAAynOQj8u9/AI\n",
       "t/7OSG15JJEBOmU6PX/o1UAMA615Yh9Xh/hBmTNIu9m0vhCXCzyy2GnjQzPNmuzQh18rqXLyybLl\n",
       "dpjZDALc7aqqt79R5G97xNqSD3nkR8QL0n2Li3L8gvQCVHGKlFxn8zB+AJ2LtpmtB6IOeBJbUtnS\n",
       "IFkGUWHwOdf+BRjiym/i/YOMs1ltVGkYsRBfvbqu3j2bE+Xr07PrDnNaXm/DJgls6Ra0NmabKwLP\n",
       "n7qyr3fF1GmYutnsBBNzaZU6YjZq4oLm/UJznGvlvF15H2Tf5vP3GAWj0ctQ6+Q3GcdEtdTL6N+0\n",
       "6v6KPM9XcikG2kY0xUXbD/Z817Am6K8Mg944TnDvn09B98xhR+ysRp0g5YXYTDqoI9aF3xUacbbD\n",
       "8UUBixz7IJzEQ0822HOxxVBSwutgjkER+ETlOi/a2lhTC2U9OnC7MboeLVFaZu7bOK8+Qtxl9l6j\n",
       "uhzpQ/Z/ACMD+uKZc8SVkKWaHTkRT60WDu99L4j4DnlXZ8F5kNazLLjNJOem1B1oU+Yj0Hojqys5\n",
       "10s22SadA+zHI+0rynkD1Si5FdoJDfR9cX0MrdR4/aVtVbZKtw1LrRihUSS6Yrg2BE4FkXc7PZSC\n",
       "wlNhsaac9AQmtjz722Q+mKIymZaRB2RG3hUS5BLfNUNxYFkHR+djw42kZxWY0pXugfx7aXEozJN5\n",
       "1TzN72KrIucc8ItiJ7r7d8YU56Xj3zM27j1pKekS/GPHmFlJTzy9eOe9Yt7uWurB9yCnrMnjtj2p\n",
       "Uut6GysC+g1DXsA8sjOybVJSlBCL8MDi80NoMGSmwM4/LM7snflqEJgEn7Ol+XNO73aNWnL+zk67\n",
       "sY+pmDUCPEoiILHjeNBsLmVEggCr6hKYhmhyNTJvvejRynvfEQPq2z6ZpcY+o9hlSPC+3EVijDpf\n",
       "EmGhDSxQksjPe/xtVT6jLuQm5NJZfeOwM/sUnaFDjS+nIXpOkktb6RUPT7Wuya3EtiJxdI2dL21X\n",
       "Kca0uVJBhmQY48BdPu96wO6h50kt5+2vJ9geNLx8AunLAhYOrfvSGgYX3Et5yz0BTKYI+lylkmvO\n",
       "u5BWFxvmfXO73B0Vzn7cxNVnrml1oqFJW57nbZaQaynbJrJnp9x59U03ZIyssM4AQ44nIYRI9rtK\n",
       "/UDlFCmr9j0Lpiqls9p8vqpacB0UpkewYSlCkXNnAiCtYp41QzKzSfoI4N/nlZB+ixPv5WksDbD/\n",
       "Z0QO78QhEwzTOlEDkIkvAUVh7rx0Ga6vM04+dktLs2rSnVUeRJsQ6jelyaifQ0/L6fyw/AFWm4I7\n",
       "4LnDGUilY/RPnDb23SPl5QMCLOOdfwqSXzT7I+Whvtj3AGybCKVuFfxNlqYlQLi6EHIW7fWDk/EN\n",
       "lKaE+DIT02I1XPbCfP3Hh8b+AVVBVQlBQB9YCiLYEtDUwE2pIsbTgClU6ChrEphcLsfOMHG5nTM6\n",
       "qzzdDbkXdC4/d9QZn706IDnezbREN1cEaP3buM+umt/5WcLsQHhXEOuSH57tANA1mVR/5erdR496\n",
       "0bzCPnviVo+MqhAAXb65DYQ/2HAeVe7n/V2r08LB60DJ6EfIKY0+0ybVrdsCfeA0w9Zz60qM+J+O\n",
       "PqZFPcjf+2+gwzFcA2DiYvYEZUnuVwjdgfu3SFPxanW9+XZlOYU1oYsncFIwgOshksoCchLt+lcI\n",
       "hSWe/jNOSdnpNg5Ez/saT0F705WrgOy+N9E5Sch7DCqf8vJjwafPqpYB7fueCYDzzbzHRzw/zwam\n",
       "uYVS86poZfXKkSh0Jq1Wk9fhSD8WwKQHflATkcplUF2/dhO6jsclJDkWDERtS7pJTjOhmSNuNGWW\n",
       "lvfbhzEgiZfeV46f2G2i5l4mWXjvY+BQlA5KhAEL+rjfIOtqHiNyAvRrbEF8jdD8P/d67K9zWq5f\n",
       "Gfg71UhieOumlBZZ1mGVPfP+lf6Q1+XhKgAnIz5wkg5PCxyuoaR2W1aUqWasEQNOV9lzvL4TUXs5\n",
       "Uq1ot0D1+DWluKyXTJDpipcaBW/AlpS9neff14Np1gD5qdWf6t/yvpf8EsSuqS/PfEG+4NDRTLb/\n",
       "LyQ9vJw+U2V0HtSzN/sILXpgLuE4AOC6lW4E2TMqscPBoK4Pq+QjTrv0FI8XnQvhfQJCLtA7jac9\n",
       "la4qtjtI5GjOU55jl5Vm6uCwnFNP7QDDk/NCbGNbZzTnaoPuSvCxfmd6PjLxvt6sX7cRP6XapFGu\n",
       "qYFayq+cETiwOtqA/Edl02SaHXSpwdApRw9gxwWnbq0BCo3Y69eIE6lhfmknwjZhsNgubSOQHjSR\n",
       "zPBVlFYTEw6Y216nrh7v86mro531SyVP+HLCOgsmH0U5YUv0zOvINEnipbLOUe2VHRRi537KUeba\n",
       "jJY1S7FNhFMIxGAdRc3+cl+RA5hH7gkpWFZGKCHkmkXleozLTgc5XM9YPrIr7k4cMuVHoHbJEq3Y\n",
       "bzNRxVxKLpva6UYSpolhvsglzjCmamrq5oyev6gy+npGxYUOKubpV8aEywbS+0ZJrOX3RKs8qOfV\n",
       "tqY59CrOW5aaKVMiAjWoBL5U1HDaUSq8CxAMkRDaHKpQEtDPidnmUi5RMBMKahkr4UCAtqAvy30/\n",
       "IaH85ZEKB3IUxuvJ1VuDP77k+xT1GsUJ70LkaaX3GiRWkTZeGjY+qVjh+niHq6BE2CEnZ3xakoNf\n",
       "ZTwb02x878OQJTLQNwuk+flDpcsAsRkHU17asdLjMBG212Xk0zc3R09qTuRgvPcHz8q6k/DqOPqQ\n",
       "vN17tmOJduFrIO7xlg8H06OBFqI0gM4WO4mLLPjBlTrJZukzDKPaJc51sGu6XLa9iVyoYy7hSanh\n",
       "p5Tas+ipXcYrRK6UqUhaGLSGUQNQWPgSco2yveFWnx+jGfy1vHdOgpifWPc/B92XhALiCy9wyCHM\n",
       "osN+D9rExUBbe8+/fW1dHlp9Dqcp9qbr/3VrrnnJCZp84ZIAlE4JrlCuQ/8ivn95649+ltlvCPpj\n",
       "0Fv8FigMABxAKz0dFSBC/vS/+jt6ogVePU+nXY89s4Zzz9hP9kXzQT/Ax+VhRvlLvBw92eNzONNe\n",
       "kzHbV/jaipaU1LTFLFjHnug8Ulz/jiPHVP1+8hJgQqBi+RYjpNvIo06iDmifevzvYsIxIBQJnc5b\n",
       "98Cf8rD8+WjO9xzbacFKvRVAHtLUNZN1DyHMi4BBKdXtZ3RPZQ9MmgJmBhmR6XGAui90lCqNrENp\n",
       "BHZ0ft9SrJschOmKESNSmCiZPjkK5/1nugnhphXv9PmWK4eYYqBHp7qKF06UtqddVfd+1hyuuJcO\n",
       "mq9dBWy3sF93fixXCgQLErqvI3kF39U8Po6nX2JKr8VfP0hOafCeL5ayiDEGi8GJ4H5wD//4pf8W\n",
       "KtV3gYwSV3vKg1uhp/u+UelBCx/tEO8YDyNOEP42xP4sqcfh2zLqkm+Ml+Tz4d90W8yHJqWdtU/g\n",
       "tPS1OXHwSMjL+QmKofCCc7bFOkapnuF7NRyPyI1M7wa4YqHCzOxSn1XiPxqgZSsflyiKZnm2yD4W\n",
       "mgTPpm+4IsrgX9D+M96i+U6jWcBTHlW550PW0p7XvSgvJPbbjOYLJ9jeXtotb7a6oFJN86jISeyJ\n",
       "hLUCoO+NEhb6mf9RU37DP0yuvINW/+Zaq0c3UbmxNt+Fz5PBN/xmHAi5zgcuuVOWFX1ud8EfjV/9\n",
       "7J3OoghBz/xgOz+bezR2C8oku6aGdnUNNraI+G1ZSV51q6PicNGkVQcwNJ2bQfnPU/rWhNG18ToV\n",
       "gNylgtVn//5Psb8JKm9tfxNkulOJdYg4BJWo+RWn/kUTk/9f0eUHv/JKL/eyP3addU+HUo045q1f\n",
       "LN/gvQSax6rZDb17+p/7Xg7qnD1xkbHLFE315teQQ9Dz+QKnKQbYr+VYWuwXV8MNRBwixkyEb1KR\n",
       "xwWIsJfhLEga7mqUuJ9Y1aGLdB8DXkrT4zec8espqCSPGZkXLQxVBeistnw4Dqq8dmVwZtedh/uJ\n",
       "wqni6IE7HuS9iskHWDYWgjN9cBPSrT01Zd4j0ktcEySUraixEDjUf1VRoq58XR/t3YfJpYTR1gbx\n",
       "05GW3aYAKs6I7DoSDm9doUIi824c+buX5+g+7v6ZxtbrrSwYfGeFqwmvqp51OKiEoGoiQaGFkD3Y\n",
       "/xP/AAhEf8qjJkkvza9x6y6PauuhOTtQUbxLcLurBax8ygQ901mj1ZoKGv91vhp0CGtEOIZRtRiG\n",
       "TE83GvCLvdqAC0J3/+9/8ZgwF33bPwirU7Y4Wd2b+XonKCDBP1Hn40UaL1JX3zF2/G+1Ct8O+4lR\n",
       "iuSfmig70FuR3eOusP7zqFS0jE/N16DcemJB6j/Eh0S/FCsMOFCeKV7L+PBf4fPD2pdWOoyewkVh\n",
       "nEiKB0O7sHqPHbMM7n49B38oYS2cDNYJuWCLC4gmhjdposHeE7sWgj4Bya+7oZxu2DXkWrAZTsHc\n",
       "KmtNBFEaQI5Iqu8Jh+eoSdtK/li15KgJeINVJwEJQkEw9uSsFRxYkM3R9ufnFB6hKQG0tgqjZ/w1\n",
       "UjyCdrOycTu+eblFWGGmGpzt+6ba+QauAOR7kJtuzvDU3OI9jNwFxRw0WFTgMD4XyZRBRpKD3Due\n",
       "0kWFVHvnxKkXxn9ktU/BDMAlIojOXTxuBI1uYvVHG4OitIthsCrEwEbd+Aam6Tbx1uZYXxIhvhtg\n",
       "qlzZ8FmDgiHP95olWZ1M/AVn7DqLHc6WNkVAhqDkcAdPqbll/odseswE0Mlnw5xn5Tj4HI6P0K3P\n",
       "ZLRuvWcw7Pp7fP4vZRX3kNw9FAWkLHSGK+PGp0e63Y4PmqZZb2x7q0dlUW+pn/FEC0XnGJe7MaWD\n",
       "dgDs63AAssCPhivvit8SpFVyZhWWVhbqV6D2YObpHPZs44BZv+sOZcPGwGrFbwg0ndmuQ2b7T3yb\n",
       "gGJKRlEoSO9bfX5sTN02G2NZubAKpPqkBu8HTUBfVWHxHvuTP9Ie0TP5OOf0nVNB2z3Vs+AEDtAW\n",
       "/yVPRmiSV7HqKp1SoLET/iesEeq/uhPsCsQ9X6G0Ruq6Ttz9o8lDT1kU9ZeLa41Y+9+mI30Dc41k\n",
       "fxmVwg1IYq+UpU1MyRszlVFeCZ8Au67jfGr7RdmjDjsKKaT26XRvMviojAtFdHsONSohGVtX7F1P\n",
       "9M7wDSIDr+QM4ir9ht+4alJ0Ztw23tZ9jBdxiO3d+ekB84nYs3gdXZzBjKpuKI1imSooqRtBetl9\n",
       "VpUG9jm3jsZcl+eLIApIba0pMSTJKfSLDgrCwzl3Ezh4FH9fGiy2xFY4rRK34m5HAukJfOjJluF9\n",
       "Y6A9lKlhJVtPTBwBpM3anGZhHKlEuN9qzI2nXFYiUH3aJ9j4Sn6jYCehhou4W1zJodsBPLCUJlfj\n",
       "e0iNh8NJPk6mm/OIchBTUUwKyHge4i2026anwg86BRcq1xPWOZSX/Y+vwEwiWTIbpuMbZ/GkTvRL\n",
       "79TnGeLOcL4PDAOb4Hs41BQ6t/VKZte2+nffs/5zB6or4BtJRwWjJQ/yU3iRt6lomxSZy/be8wO/\n",
       "KDlVRPMWtwjldq+wRrxvmBoVrGIc4y8/a0kwBpOvSasHLjbNWZp9ZfVLrcuHdqKYJcOVj51UJKr4\n",
       "0OgiHLIEaZEoKTVWjy0bfGG2ZGVQIU7ntL42y22+GKLCAf+zYZkteXJwd/oUT2416KTYRKdp3SQk\n",
       "5wtGrpXTRj+/Ye+JeHloGFheXB1eirCu1G1WP0ua/quLwryhpI2fQGVB0UIRgNZwb2hkDxy/rP7Q\n",
       "PY8a6GVLn0eDULfErIGK6ZIT1TGu3jEDmhCJCDUQxVsYZRH2//I+lpF1U1XLv7N6FSEj3TTzg2vr\n",
       "MyakWQ/WPxZC8fWceO6TdUKvW6uXKilBBaABfTAVJ4QST40UrA6L5cJF1n1aG+/n73TebxnPIWzD\n",
       "0QZ5rZ4HZExpD59bhHShzsDoiP4B8AND2peaBo7z2v8L+ipVxfgjw8onS9L7PJRBijslOHWOyeZo\n",
       "d1MEhoY5vD4SBYgSh5+uTw+k9vLpHj7zukkPzdyJZlU+deErrOQfG8ApbuSlRzh/LsjCH/AZzKvE\n",
       "Z7GH2Ik/AEkRgtgXBdQ1OpDlQcJBQ+cDXJ1+jE/GWkPySmeRUIsAM0CyCPzSxnXjz3jNbQQES4Hu\n",
       "8soFbQxukdPyAB33E8AJo5Ic3YtcE3QaoPvUhfRK56ILuHbXup2kQLOE/ekpEJbQNJEQtU0NkkVx\n",
       "ym7chFJMAXL8i4EoV4aICKTEQNAX++u6w0MOq/2NfT4uv597XeG67Ac4J+1uW7Ev4vrUAqxPAj0D\n",
       "dqX+ed/YdlYp4CE/464l7Vx60WpYA/VHsHu7cb+poic1DcyHTMotKfMpfGv78FGiYqnteYnhenB1\n",
       "U5lkYILdfngiamDDdjry6Ld5oe4gHLsK07pq8mvLdGso3a4EnF4SlzAVW6MfOq3zsGmg4a1qy/2U\n",
       "ofxvivFn1XGwhIArYO1xgKyweAWjTX+uuaPMQu0rntaehTyD9+8KjgkGw6UCk0QEgYLWkGl+P/FS\n",
       "gVI4jsRoMGmafqV/kENubPO28rN2cA7f1gpLRlfWVsxNmXQKNyjAjaNPoxup8/dNKJ3vSIL3P0+M\n",
       "ad7Mr1Bx6wZ1CkL6/zDeWrGuJuUZVC+HurUGQFMHF6GNl4GYIXoBejzUBCqGAc1bXbXxkVeT+kde\n",
       "KGA9z9nbIEiS7weGAeRXFp4+M/5hhUqkYZXzTGq9VMuIcrywfjwu6RhIFG4mQt4833dzbs/GoLpl\n",
       "TwV7HcX4ZfA9NKYJa64U04oHx5M4SEOavbUMxgJDlhshoOaL23cfxPIVuHmLpryH9+DLaDV+CiIT\n",
       "9tv9i+yWMBM1FBARRtr/wtK9Nz05Ok0h6rPPqbHEENLtcJenlncpxxxjdEwPCNaNz11TaOiJpEds\n",
       "D0Bz1kTUdvofA7Yx/GQlEZjkxMRcDLJYedBtJrZlwlP+puB0koomNhuaIDIfqtax0Pt/LSjH9zb/\n",
       "NmE5rnodfIIWYYfFTfM58nVxR/0G3LUQj/FsZNJpeTIaLF8VpJuwE/KLKniTQlHFD+ITPfZDJ0gQ\n",
       "Up21eJ1U8ydyvvyw4HvpC+PmUg5o8sqdWQm4pXHtvB3XgYyKESHoJxAzum6jvJNuF8EoUkg2sucN\n",
       "yY3gOByJJJtQ0HmbezV7DMxtMP8OGfjCoXrnrBC6E2M0P8qDufjoBENrHjGwFyAQA2Vd0y81gQLq\n",
       "RGrdYpGUPgdLILkv5fCOnTemZPCcscSvLkk+C3woV3UTTW4b8bTVzqgt5q88u8GINGWoxCS0559H\n",
       "TOfx8P89LqMZ9ey0yxIPx8u3mX/qcM1ZxKlX26X/JBN8WeZ1RNL7S6H///yKaN0BaSTdqm8oH+gy\n",
       "A+BSXxeXG6QTF/6VYLfUqTTvtBk84syI8U5Iu/D02gXP1OTOuSUVHYxWeaXK1t68yj/3Xx0M3awb\n",
       "XaXRWMPlnqcUN4hXwi+nFfwU+SJ6wQV2hHQHnO4+0FvNj9SRY1/tlszrMiQcMTifTjCMCCNHpWtH\n",
       "Q7PEiBIlh+8Wik68vmveWPRXxGr5RjhtIru8u2rqS+1VbJxqxNpUit0xORpw/7QByQkLug4vkrlk\n",
       "sVwwstVkDs09/GZZsWvsUBiniHoUmsxQ/kjmI368sABvwQAACLFBmiFsQX/+2qZYG3hSaAFgzken\n",
       "ybeH/35H0mbbuwgHrXxTFVijzwMkIGRzQF/U7Ze9jOE99//MMxmOCU0ktthSthNJ4cWZj8/aMcf9\n",
       "Y1bFLBqLdWxmU0Ix07zPIolr047CRVyDDjXsuaKto5PeXu4CwGxTDpP0vSGwmNHCi9Pt9aAWh+zp\n",
       "jqHJ3eswUC4EzjANOjGa7THvqUo39D37BRiwHytDxXrCiYFOCrUJ4cDQBA2JQvERwWAa+6mlUbbY\n",
       "i28w0YmRTkVd8bNVavaFw4MKzLLrVgP8nMAiV+1k4q194L9r1ekUggN45TVWASuRrXAiy9m+AC0t\n",
       "m/CRPwlznkGyZZjHcRw2dzwxB46rSpRTsgHKo27ogOpy/vsNJfK/UhL//3JgfALxQHSHNXHVfMmw\n",
       "5ppANkAJ37b/0wxcE9TZ+xDhobLsLiOFhjS3LHXaIbbIiRS4AmM+rQOrHKrX0Mt27wq4zmd8uOi/\n",
       "9cH4gmri1+ZQ0gxRBJ57xsRDNs1ZvJ2s2loHFd9A8kQpLGkCpz/Abi7veSYMO2rrquK2STaBnM3b\n",
       "DH1w2S4KkhImTpld5Uq0N3FzlkrC8L5kkJBWrcvCNwYE2cwRhXFHlnihg5CcbKjEDYc+3L5bWl28\n",
       "kmxzzW4HZybHhJvmR8r+f7oZHxf9qpXM+LzjVfS4WbXNoVO/YntdAKiqcdTA5Sh/L9pONAXJWG4e\n",
       "v8eyWuCTEA7BdgbBjuHinHdHizpIm4NKwYt8SEyZjyDEpTzL1oSrIZsHJiqf50QP5D6/DsZPKDVr\n",
       "mrZeI/acCHI1Pl5WpwOdT9fEEfXUcLF4dFcDS1Dl/HTVgk+47vgsl+k+XnT7uUr+ZYyrOb2sdDbF\n",
       "lCrDWN8c9Exx7RHjh5ti0y6Ri4Mjp75kgScOPKlYcreiEiunmPQeFA6pSdfEb8m44CgcqVRXEWXX\n",
       "41I9HzTDnF4FWeF4Z/DTtJJ0m3GEnchGckJOLNeqNP9ORWMnbLvqdouGjmiETSmQCs98zgS1ZXc0\n",
       "sPshTbt9hO50kXUwYglVC8R7AouNt2Vk60olSReDHdRgtnvIIgwuHo92FbO6KVzYB9n7jHSlwKDO\n",
       "fUPLsyQ/k2uEkBHwnIprNx5aXqlIZ0H8g5lbtWNrMy7S6VmQjgS8Dh6XKxHiclQ59MeTZHkXoCcG\n",
       "leI+4dnU4J3cxQFS/xKEIZWzlnzoOHnaXHLHrsghH3LS93HITEKq/ewouwAnjAuXLGD8lrx7PRfu\n",
       "tbQxF4ppcO9APWVIk5TjAbN9h2VQ+NdLZk++l0LAUqBjzfwtFkgD3qhqaelCZKHStXAPuspzTqH+\n",
       "l5fcmR65d7048vxrFQ9JfuRqN98keZFLPGJS1oxar4T5P8/s//+ut/9a/sZVe0/lS2hUYt9sBim1\n",
       "zIkzy4YgafykahxS0l07qBKiLbYQu6UVVdGnKSRgHOPJcCD2YpSKtbYJTzLxrVvesvA/10uH2klV\n",
       "Pngx9roeEiX5BQazbvayFLoEKKiqjRXUXNB/aLmmK6Q8pgeZQ+Qj8rhSYg1GaZgZwdaTuwBuEQQo\n",
       "oYQqXaWb+V0thaHi7p5c7gkPKdM5YhzUDcjY3H40IeNy6gNyn9np/jhi/cA9b8SL0qv45JNk0K7u\n",
       "fBBvNKm1e+sS7hT5Ap641oIGoNSZIY/dhYI0jY9aJehY2WH9r7DEL52mZj+pUqiDI7G+dNzG/Bxw\n",
       "V7/HCvJuWMOTiIcsART9MhjsNK31CyNaH+3LWKzel90jidH3+hDSgOwLsV1/v3MpFbXgAyISVauG\n",
       "NSKbTghDcNCEh0uxftsOvvL4Sr4t7SHv48dT/3BPH9iaf3o4JfiET/6+sPWBqmQoraXI4XRYBx2E\n",
       "nwvHfTfPdeVDlFBFP21dlfO/gWLFcthM1AexxAz7QQ5m3WB/EITKgGj/4eiXi1tdPpr6HF0Ul3xR\n",
       "6h95n+FUThO9FVLGS0actB4XS/qiC35Ug6smGyyySN3K1Zaldwlx2/p9A+9nvITmfIQPBJZVhn2Y\n",
       "N7Rgbl2BoEiaX1Vz2U8I6B0JMrwK/v/9cWBMFd+nIaRsG7dNVSCIVDrTHykTn8Gac9cJcVWSEYIA\n",
       "QodxIRRQbInh6R7yTBY8DC1DCdiGuNAG4jBS7r5rAoLLaMVzIqLjJUNHlmbBxyH6ImUGMtepBYYh\n",
       "n+LyRytu/yRRuwYQOjAy6dSv4+Ak2hEXhWrDKGofwe7SJXaal4KhMhiifz53R1/83n8DuDVEln1m\n",
       "JIUBsHUXXwGjCDU4kYx7tWg4RC34gtZrMioBTT9zsJxWaaNh01z0RmDL+najBcYLeyPl/KvObZgb\n",
       "jLqPwSy9DjhHxmkFRTgcD5800hqWTtRClNya6r6JQqA92ltZJ5HrfI3UtUlhr+fyZZn0PGMd/Dv8\n",
       "0o3Z+dztaBoKiZQE/ujtlZwaLwGIm9A9y9vv9DthOkbU0pVQuN2+xDNDpwQEonlJ7H7aKlhFVQ6Z\n",
       "64O4KlO5im+Ra9AAOX02GzXlbWrEWLirSeO8EeohG2wT28YmMjVAZOrD5HARUxdymPcc2P5tUnLN\n",
       "Oeal/zaKDaNN6VmmqvpsCxFLw+IyoEpSsS9acZl28Z5p1PYvwB4AR28R3oYr20mHKWHzEz1oLPgl\n",
       "mU5DrZjrtSs2ZRILBv5cX761jgGzbL90Cdl0lSmQ4mzV9hKlbsNd1BHePaniBRYq9947pnuVrv4z\n",
       "GVXWAREh8SHHae/hztbr9yCoT0RksKIBJnZzGcJzy+tHiB90YPEoAV5Go1TJRKfWxdsJrQCNoaRr\n",
       "HYlsPX6qJ+U3RLAbUIsZ01tV9PSv8Vpke8yl40dlYzOoZe7K24kc4Mun4o9SPC+tu+njWiWrqzym\n",
       "bYU5A0NPRQcehVncg6jhNsVXYnH+tc4d2MfMEZH0P01U984Wioar693lZFeo977q02eIePk4ouv5\n",
       "KkmQtIFTETempalCS9rubtVfpCWAOoYM9qX0AAaz2VmCYi9/ZCwgeAAACNJBmkU8IZMphBf//tqm\n",
       "WBt6pTQAcdUM6NLIyQ+XWgKjfAecw+zzM6S0NY7Ni2n9y1BYS/MudPjb3Nrvs8B/Jx7s5mRK4EBK\n",
       "ybFPH6TOZPN3GdJCMlw/XYjXy3+4lD/QgmtaVAsXmf1lzY1K0S1e/7An71uC1U6l0CTeGTBrrF2L\n",
       "J47r6jORfsaliGgFk2sS/Inr32g4dYs7JDlUYQn2xPA32I+Yu+sf7FwwBlyNxuYYpfk+5kq/NSFp\n",
       "0x1THK1QIeaEqNz96o1DJalImG7LzAAPiI8U1rt2yQ5YMwjBT4Lb9DgBIbbZCNuyMLRPfxDtxn+b\n",
       "pGYOzuyHjXDRGuUImihUAllx093n/Mr3IxuA2fPzuKve/tAoxCia+9xChAcmqnjCJoDOk5X9/Uos\n",
       "s+VALivRU6R7Mn9fZ8LVBh4Gmk4ELWfqULNnAhysHQP85aJKrP44AYd1egVcn9JQ8LRqcbX5ruRd\n",
       "dyfPKZiTaV2p0GkHQFSbdVPthc8+NpCHIo60Mw/Ovuu5w7HPZpo7ppiaCcHT7LFCRxSr0j9IGNG/\n",
       "lN439N6fUGS4ZPycAIZW7I4JvfTJUd/k6RZhRyfWiIpu8q0ULaZQgOS28aleW2Y8qCOHOp9f4Kob\n",
       "YXmK1fELyn30jegv/Rr/Q8cilHe8CfXMDNNRJwfyVgIlJYXoPR3SZ3O2EgQZwtSc6VUgRnccsjxs\n",
       "0Rxfi9p2IiEAJp3Dh8HlHD/9G+5oKxH5dFu/Xxsu5DlIi8EmyqGj0wNITj8Hr04DVrUrTS+eZ9NA\n",
       "R9sruwp6UKA0USaCF6gYkfcqEQgFSxJ3sRxDUJ6WmwSSOSVXvQSotmwLLXf4zwwGr3lSpblETz/e\n",
       "ZWKAWlzySn9Kz3DjUq4ZXJPYb7ByfytEcPaOci4jPA4zh/umXWoUNIM5IBc8IW68Qb3p/nIn2ZL4\n",
       "aoq62x8bXbBnuueZRU75c9QDXlCoSbZinCXraHmApLGyKngjCRw3Kb6Atd27Q5YQlBYd+BMRz5tH\n",
       "P85ig3ZXpGe+VGkGcDJE6rkQAzLO+Zqjzg9VUKourIkJYtwuo/ZRz5A5oNQNT6epHr6BsT6pp1XV\n",
       "MXkhcghMig4pawAfnolXSQFgbRmZnC7Abs+TJ8CR9W531ZGRN3nW/PVuiDSnmd/A5HQ24Q1MbPvq\n",
       "bmbDyxHsdotEwxSkxJ9rh0lySo6gEjldeRjh8QU29+LxGcJYh8Cbp/Aj+aLvZjU1jlnhASq1GNB3\n",
       "SqrVaQ+9aupd4nWFYex6ftJfBDdt9Soc8ZPwDKNwTEA9gi6a0I3ugGF8hVjlOv9Bloljt5/N2VVl\n",
       "S10/8zxanAl/fVxCGYv+7QqB1Xv4J0rWjehfN5thm/kOYwcatsf25rRMrf1uyYJPKia1sF/2seDJ\n",
       "YjoEPcFPg4IoE7mcUDSZgppzpiujbEvQGQP3xmSlmDkBxnzx7IIrgtZuZeD782Y0vbJdkjM/HyDc\n",
       "9hQPpAO11qT4AUdierNuUR8tWyUfD2hyEBGR87sHbMgkvNWba1apkFTXtJVmRGLSXLp7uRRaxcRz\n",
       "0ybFbPVAQk4Mn1FVEEjj7/tq0y32kIX6GZZmWk80Sktk1eYEA2kxbwkBZ/0aKy+ba/xiDiDWyYZE\n",
       "m+WESE8Qdf23Pm5QRZGQ9biGFEplIZJIuKvDqUt6iF2eDnwnHkD2MUsF7nHHRypoztjyr7Q4OHMn\n",
       "FQ/VB6F34nPGIwZcmSMehXcy0AWA5woVZ36txprIVsmZRqeamyS6zRvgHIT5DkEnjGpkT09jmkrv\n",
       "Bc1XapwkexiGaUCsSsJLIJScgqn2VKuJfz2ZedRqZUR32vjmKEM9zyFpGfsHkALpG5RpliHxjGG5\n",
       "NUp5s2hKqZhtzTs6U3lS7wjbFg54VWqHPGgosTs7hIxhIc53E5atis59+1FenrZEMGQZ5crmN9AQ\n",
       "OWMLVr2hwwPd0R1B7DjcZO2pop80s0o5EsZi1QDQF4W+DohnihAJljsovyyrIO4MiIoax0ri6j2U\n",
       "xzfjt2+jQesdyDdHt93Cb/iqLy/HuONq4nUpprBL01nZDIoMZX5JhWFYbl+5gZHAUBccLFJ/b/II\n",
       "Q3hV3DStiCyfhITr6YyX/XF1sbkbUH7SuGHjzj/kM1N1OYFvMYyrZO9HhyKbfqYbQjtiAtIB42BD\n",
       "wzDKbCxO5qUV/SjnpbexZXVRPEpBRswBJ4TPPoC4mONoeAg6nqWWo9mi7Q5JuN/KknTlt2+fpGKq\n",
       "l6S8JxMWriu9sapQ9a4KC42ZKaspxwYWUT834Bcpmzbwj+jOsErUV7QkqrN/YkTLKFOokJNLfc10\n",
       "C3qI0F8gfwyPEqOH5B1R9di46maHhLagxhtgsdnVfMwBAYpBvSO9vZgPPKLI+R8PXZsnAtmZI7FH\n",
       "Fz2pO8BSv+Ay1rjAVa6LXvE0MSKNYlXSzPEukx1I0WEx1OarL+Q6Q4W35tWi4Rl6S3Vl468tZrAD\n",
       "pLtgP6m2LbWOFXRo2d0rMlx0o8S22xqBkVXijaKZrt2cxLHqP3hkvRDxm57LFqW5SYMMJKRREUuX\n",
       "IryjMDXgVP7axZcIP/iYJod16hdyrycLHhO5WJVHQEfaVEn3hzh2c+qFl4szhQbwlgUPU/3GT0dO\n",
       "j2O5CzP8BmSztkA3/sRt+dapiq5GGoelRRfgoZn4vX+OToSqLOoxV0Rmfg5p0yqvCg6B+1Qla09T\n",
       "7P4lbCY1hhT/1okzym1tq3MQfoe3ctIAI/Skh/q/9xWD3U/HE4bZ3xLHcWDdvKNusRlvQNDWLFEI\n",
       "7CJG5/4wKvokPvmf5zl4pLMWCEh2I8SUqHNvoSU7Fe7VXN0J5VmKCf6kO7x17bieToyScLUSYEak\n",
       "anc3Zd0ysoIA4Dk6X8x9zAAA4akej8D0IWqah4ucAKQBMQCzN/IC4E5gzzmjf2WCyt7Vc2u4lSNj\n",
       "qZAPGdZx/pje9U01GwSuSsCeGyZXNheVljZBbmLF7cM6TwlbGqZEr95+/xSSKTV7T9XEUIuOxFFV\n",
       "KoQiUvy+nPgBqPmf5jnkud/cIQ4k4QAAB9ZBnmNqU8FvAAQ0LIAJrUysedbotRLGJcZRM33sow1L\n",
       "0eqlBNfpUHjmYzo/Ms3MDghXBFO+d+EQ1hgk7qSrwFnphSvpSYlb4isgY87cQWKqgUx4j1q/IuPK\n",
       "vBjUtdlfXzAoAxD3DGAL082MN10zJOBnu+dtLVxgXdLeFGsnjBKIjBGZnh645UmfyAmQQTb0Z+oW\n",
       "6mUoFRscM/jj3EjtBf3jL788MwDs3zhKQL7mgfdQzkzLh7Oi2zhN5r2DDNqvj7WxWsu0uhbKD4vW\n",
       "PV8fdbUsVP2htT76V1L9W6cvb+XijVCmrGRx7y1+qNUblFehRppUxv7VLVhfKMnGJvtqFNoKmP6R\n",
       "Ee/dFd3TXfXW8h0QgUOS3Okkxo0vtDBkmEd4Cto1LzcX3v4qCiWEquv+wRfxuo5seiNrsbDqTARH\n",
       "CRHSTs2d/4ElJdka6CEDFPfTjz9u0jOxo7w1TlJUiaJ+MICnuZgymaNRM35U9+gDGivgnGHjBAbN\n",
       "laoq0wxQWEFQo0A6GayobqhfdsdtogXekEGvfU6kF3a2uib9s1JYalawiv4qikvTPztjnWe5jbvK\n",
       "FZWZoKtFPKuk1DIrrwofRCRquHGus1LRtCMO3hKg8CgYpg8vdAtceflYcN7kdvTAXzC/7tGyBuoY\n",
       "gHqT9ARweHHaFUkVG8VL75ihN5Rxx/ILpSX9hsFV7ne0WnXk1dEjLSoQ26EMVBUAsbbotopffa0F\n",
       "54ASIFJgWIrs4tDnTWi8ib9MQJnhz15T/RAXGLU+oY/0A+CJMmwfGJWy+5U7zwDYsCNj/0y+Kvek\n",
       "4w/yGO83F9j5HwbXSvHkvX3mjGhJAHQclgZz2gTPiLM3l6iqyyz8yWCsSRtiRQdKCNVlCUiccWIC\n",
       "zX4Jrh0QJ6dctk0zEV1ZI0HQExDtcp4xrnUP3zuNJ8b3mWfdgm8FajIVv6mFDVozY1MBI4jl3o1q\n",
       "H+0HzYcjk8SULd8iamwBf740JcKgtdvGLsTpaSRrgyIlwq0shMWElZfKelcmBDFMWStJIDAsQwEx\n",
       "VIDVu1BmmU4I8l6IDB1hlpfU2RFyALMi50FUZf+rSNEXMXRx9U9Qc/J3a2AxTldQ54iQ+JaHPF5P\n",
       "RxR6alTfZIoKsussz3HsAUYsB7bLzEKKyvCPPJHb/djXmRDHQMVISJOKk83fSmxRLa/SeUo5InwD\n",
       "hA4Qye7vKIJb7/qwkQ9mPLs4tYhHXVi+1OMhKjcBj5G0bFhtzTkQuDZQYrxi3MTV7V2uOTefDHPW\n",
       "zg3Y1DvPlmjCsNpRPOscAx/jiTH5jjolz8L3OOD0asQS0X/z7t+WU08GYoY/Z0xjoiGx5aNooCAC\n",
       "3AkGAwetQOGw9bp3BxfGhN5m1ZVZNhB23moDrmlZ67T0mhTTzG2Cm+IBA4IPRrNez2BcWAxg4EBZ\n",
       "Fk4cCUH9UADfkO5UR+2pOwOvebN+pzEXtrwQiExK7Gp6QnPqyy7IbgQN3n6F/WACVnKyE6D+2rlr\n",
       "qou8LqaVJd7nHG99bEqkRNYPoD2vwUiVveXjzF8b+quWPzLvJI1KreiY+3NREDewG+/3jE/24p0n\n",
       "cfnrcZg7eX/sRdDzn4STXd/OeapPRwAx8hGHvX7TQMqAvaz14vOFB2ykg1WJEWAqN4oyjYok5SVJ\n",
       "iNmhOdmJLkNpLpr0xcSzh6A+17cSB3/vjoA4ZySw68PUrbHVTAraab3nkcVz+5s/p2gx8/iRt6go\n",
       "xIVy55wZZMtwKy1jOSNviHaziybuiKMh8VMTfsD7zXISyX11IAjO8o8W3dDhXnLWgq+rulmmq/wB\n",
       "6My3pTkZLP/TRSkz8CjHAgKkIbnORZa8Q6DzFAun4amr+aDz7EFRdDnQzSo/VqaU3zrceZggcq+J\n",
       "xjlXTo9Ar+yW9951LK8CXdfxhvRy0LX7XBZ0bSvB8GN0J05OGD/S+6xs9AIKLZZQXVDG3iIfG7yO\n",
       "n4ze3YSzi0T415D75JNie6GNxwh+S5CJ3MzaItwt1FR7F1TxeM1xySHZ901RqeICKaBLoJXRlUzD\n",
       "RehFpXBWzECbWDR46sAP/zXgzfYdkNfbb++p67Q2Ud0SWDplrawytnjPy6Vnhrrt0k9zU4pc5UJ/\n",
       "vAsD0jKLPZnGo+FVbB7mNAhJf9aYA2R75SO4P8Iw6gsypFp0xcK1H98YouzsPCZBPByXMIUTESWF\n",
       "4OZ3/LVrHEspIyNGcgGGTrq7pejkjB0beOypPSqHip44G6eU75Sh/tlnENtriYUZBKrcY7c/Rv7h\n",
       "McNzIBuasuuW+LOAXjVruF+EKiIoh5ZEY6CfGQ+WPR+APOObLGOnV2PJD48CK8V2m8W6d4DTijMD\n",
       "xAqYjwevX+yOalLd+Iy+Uo3ca/1TUdrUE4KMncY6rarACMgmCN+Y9FtcqbMTVOsjoUPW+CKn8r7i\n",
       "UcRm093MPErkSnRbxDbjhNYmyokgWIc4Fe7LKMX+Q70RlqEEbvAWUXE6Mxp0FENBFNya9TNYnkWU\n",
       "V4XuLuKJVtlIrKhBQ4bXTJ083Kh74cRKUG5j7RNguG5+HryC6ySghLwuvTDpy2gwto8mkFnIXjzS\n",
       "G0YDWvn0MkNQfjnnFthWntiz13FEKnZBKu0aWvvj6ERtebFnrd+UJLdYWnlfkgda9PFmUqx7J9zE\n",
       "kSgVO1Y1hAAcL/Hm1Mrna97eXbEP/8JhkguJfmCaHYcRxfpbwAAABv8BnoJ0QV8ABgS5vaADatYx\n",
       "R4lhsiSYRMpD3vKlB98+LOdHNdfULLznHF/SmtMsH1zOpJzY2Dq2Ve7J/XgMlVWvcYKUCl8scp9V\n",
       "8h3mTeVf91BhNzTVC29K1pos2C+d1k1fM2AmppFtU6nlif1wYPzGEWW9cBLwVNAeeaPgZS/4fTgv\n",
       "4d7fKdGqbcFDp3MBmwMlcK3BK+9kk0cZQ5utr552w9ug9qrE8qPLKNEOEbMH8ZAk8ZwYGUrNLzd2\n",
       "umBZZ5fBUtI46gtIOQ4hw3+wZKvmeixAPfNWPQ+tQznkabRK/RbId21nsiSPGKCme8yU9Ag+IbPX\n",
       "8VZQGNLjT5cdwqjzc38Nu6RcCXG6eV7/IDqSM9XO/1djY5Jm7SE+xSKTUllsNxygvJkqDhiTeQpr\n",
       "V1FBaTnQiT+jFTxuUOFZkImjoWMZVdgczqoaWH69yot1dNOuZygNrlalAuIbQ9fEsEap7wHJDM8r\n",
       "rjqPE3k0IF8cqLXKfDCPbHxz/IQ/1Kh/YAe/emNTiazhBnkLHqI0d3EQKcyBIMhxx5axo4R/Gqdj\n",
       "MyWAVzyQTmZvawxmkioHJKDYxexNiro+DAye3MJSGUh669vTw0ZJG+2oDVIczsMHPzs25cf1pen2\n",
       "bsgaruFZcG/refTiu27sa1vWwSv4LebLG5OxjaeFE9vN1FOR0ZP5sQndaPHlKoR75fuTxWay5BRG\n",
       "Sd0dHoEGMJFYrHFvFUVDc/kQYknpHVuAeNLnSaTV+2giWBGUP8JuvF0/kKp+vROun8+K0C78iApN\n",
       "5KHdFE79xOxEaQrnmEopyYN7dydtCRu7x+Ty/RgmhIoz99MZJRtpYHv2GJFIBQefU5Q7EvbIxids\n",
       "le7YGe3OUz15wfTQ1EtJwUgkEK+bq0mMG/7lhuxpGHm2LUXQQaILWNiwAyG56KqXLpRCm+vfPqlP\n",
       "YFTWrIG6s4DvB5h8ayOt1uZmwubvVWGjwEwL8TgWGKFbkyIY1DS69EXDPz6aDY9kfb5ZScWLBON9\n",
       "h1+85mSkQBJTfJTrWCQe7lI6QAF2C9Xt8Y272WxAht2HuJwnnqTTjRvyrC/zW0x7qvrI38cLovmc\n",
       "LQrmF9ptXrnSIhr38NorXRN2rzOenPlhx3gu7fBYwyEcsHWMZoFeIZXc24vcOhBVkq31+1MbI+dp\n",
       "nknFEuU9JriodLRicfkqmnOydjz+a5Ny4JdnJC80nCallOpEhgB08qBJn24vANmrK/X3W6ftYTOz\n",
       "4a1RyWPKG6LWRdOHaeEjqq7cCtGTXuDhwtFIeahVKB/R9puFvks6lgwhfw1wOUMjyQrQFL1cb8HL\n",
       "MdsNZ4TDIpWsD2KNCsBl6lir6Etc9Csvkh8e/MHfJFhzMMt8xDloWLRT3aJyEbRr/BKpeT/Di1Gw\n",
       "5TWwPtHqHIHXYc9L/5l79xVi45ik54d/9FgIGT0DHDxReWJOBpx1cSqPksSzq9sgpzHS6c0ywVjZ\n",
       "X1plkjVNyoGVAn0teJ0Sr9vuQI4QpJ5ttCydMFYgNAkLsCdNKb2Yz0wJXKHbf01bdV1B6XOXCbme\n",
       "Gxbqr7VsneL8vKERUvVIZp3Ws8KXRrJ2bomWV7S8TQ2REvBBXcipYjsyWHyaUxPrXcW8kghsSb0e\n",
       "B7gOEDhxMk0L2u6HoeKg8mWXZRVNchTZAA8MPavPWaPBgdyHiOUT+UNzOfUNIlH+wl5cN2mjZKXs\n",
       "JoOvZAne1tX47wo4Fydx0I5Km1PBNQMUA5hZL0ftK2TwOdrPIl5DInAwMDSwdGGquDM+qqN634wB\n",
       "yBmDN0fJlMvnwIfJBSLEWdOzPjb3wtLlv1IYTMPfc0R6HjKTGfkHm73CdpVVvWtpyGlnK9xwYxeL\n",
       "Um7rQ+XMgygXm9c5jkQJAYc0f+SZaEY8g5TZMAw0Ej1ssL/aGrN2Vdhc/ZrpGD1lf6LDvDglF0NO\n",
       "sjOxi3pd7FRq0dUd0f17zavRAgX57iLB6uu1LN7lkzzC56g4OjC4oG6UfN4GDDrHhD3olObCvhJJ\n",
       "mALnHhYb4xj+pr0vLGn4ODEFHTFqPFrh/226USwf8om8voDTYSwMkKhkU04qNEYsoP5C86YKSpxa\n",
       "BXpnxzZVO8VfgUjgXKbofUr309LQ0xfJG4+pdMYqe5TMAu0DtZbXw0t9BweEv0q2Er6YWdXSOmwp\n",
       "oCN6xw6eRX3DsuuxGbASnPXkoul+BGaYliALh1usx33Wlal8FSL6FQ9X34w8nfVyiJ1mLgWwzd6P\n",
       "NuQ3sQTWLWxdieMQ1fFuBw7Viq+/7ZHpv3q3NARYim+oeMrqrwm8YecSQZRDNerGUgrUVv+j+6XM\n",
       "YoMAmqvWjw3aF1gBBKPHNakyRgDWlNxY1KvB0YhiLeYS0efI8xO5ItwiqeH43PfczNKCOiBrpzcl\n",
       "Fk1oV2nyGBEAAAWhAZ6EakFfAAYf5QAIhNHQbj1BIxiT8vuuWYkCzSQ4Z0PJLzpJdLPCtM3gZcGp\n",
       "tsYqwv1bzX48dx65xAKABfJzJPt3NWLExEPYTDdNPTF9Y312AuFKgUbqYOqIevYr7riw9k3dAUK4\n",
       "xRWc090c+08IduS8AuQ6mOBU2+cifiPlqunW7ZeUNKeC44gHC8uGaXocrl1dK8XrMxY7piITxZN/\n",
       "J2tQ6/ZD1xembthXZv2A/zdYNKOAlTMI7Ec1KNyu+27cgPVfbnS++Y0IfST6ZY9MtEPMg9mIhtOi\n",
       "A2sXSsFDkLBLAvWpP4Sgkdg9Tp9v0BlyG2YrzN99wEN6FtWdu/jmwdgFEyLVl6KzUtd7qbK2hArl\n",
       "PrBCdMd9k1Ym8dvm8rnmTnn4BCw/tF/ndawwwUPLSwPaKBJwrX0E0LsJigE4UNRZ1pzU7hu2jV/M\n",
       "sGbAhLO9aHpJ/ZTuI7bOfA8okPnwHMtMhunjOZhUO8n3ERDMjty8aZBePvo/tHvgjr3rULZZyDbS\n",
       "A0AffFmkbD7C9qTvjOx4YtegpxvSrAsCGpZmaS0ciuGkfxJZFb2sV0WZ1MfMlB1+ul6+cIhitAqa\n",
       "whLnv5D0GI/omBiFzhNCX3guqZbIZ8zChgqhHvwkJPe5JCamUh1N504ORfngcVZWFonydbsQc2Up\n",
       "n0Uu1e9uyVYc7I1z1fh2zQmjFNCNayv+oT9n3RX6k8IgW+RVyEbGEydworVXTynkutPfJaiPOpQL\n",
       "p+IHkL/xp1fYtzLPjm7jtv607qND+7+vtAZEeFojKg39ba/mCRl/z/N5IAINnGUdLNBQH4ewqfCf\n",
       "TjqZ7HPH3gywqudPDt+fGIVrZHL0Tj0ulNsIH53Elt0nqJVmyMIjyjj9hjbWrQUQ3M85/PuFOCgq\n",
       "K1U1JIaOrCVVvX5SlufpQE1C1cNb4f7yXmrH/uuyLC6KTcyOriXvUPGVMq1hdJK7Ba3zE+M0byeE\n",
       "ToMJwSOWjJNadFTIojZjLz0dm1our7dsx0hgRSVTI9tatqgXBPP/Gc85mlVBANZwdJTZS39JLUDa\n",
       "yoWaeNESJf+//mG74yf8u1FAx2XN0cvfrGMiUbus7AXd9XsE05+HVj2Ik3q1zUnrZdGZz6NnSIJ4\n",
       "lnBzQAtk24Ig2yWUfoMYc5JSisYnJksw3EXGdatSCQJyO67TSjYUju4XH44TOa0ppxCtWvP0ngv1\n",
       "SW/Vq8m+eSic+L2SEU9tKaT9kCH6aNw+purvHIOFpzyzlP1L0zWx+MlPRe78Ucp2PxLpVkVWcslg\n",
       "cZ/+MpnFYp8+WCSCpmeEQ4TEt2q4XgMMDxEvs+PoyhmbDlp885PrcEIMWC5PhItXJ5zRwPNKR76n\n",
       "tg+BFij4fs9KTSYiZyyT8eWsqSyMYTwRz4eAwlby4XO/ALemXsDkaX+Y5zFe5vQXiwuKkzahh8fd\n",
       "6FkcLlRbL7GpQlHMyo4HXuKRfHEbrh2LzcMXbLMvr4xAaQpEd/vW9o8SaV+XeppXbKB5WeW/WsAm\n",
       "Cz27bnTmPBbbL4KFaxNHT2RfT4w/H7PG7UxfhvQlDdOTM5dt7sjE3/G20unNrpinJyD7+6+xLHE2\n",
       "FuoPCqtw56S9QbQ+gSNeMZHnQI3fh+MH+MX6wvIjs8KzxIUHT/+epbMeu/OnZfqGtDmfpiV1C/GH\n",
       "IH93Abf0OU0kLNf3lbim8pj4+a5UNBxc7ut2J0xtcNWURejYhGZSJbJhEViBVDHn6iXD6bQIhFqJ\n",
       "c69dS7rhgYkRS/3wrvwjS2uBz3u27SunzPL0cL6G6UWhCYsUA68Msrblkg5qmdgk/Tu8uOCvjHIH\n",
       "XngeFeP7S8AyJcgA6wNn44JwThhCaLisP0daDXzGKLEZfDPgo1s9UMBz1dCqeajBl15O6lxWCTEo\n",
       "plnbmFhrhs3dFYjk2UFuH4nMFXhtzrCpQkmtnQAACCNBmohJqEFomUwILf/+1qVQG3nqUAD+tCMK\n",
       "+OOb+PCXJ5QDvjwpiI0jSuK0FtljjwKDXEAS8YvI474kHwARklkMMj2KKfh3Jc4vHJqi649Ith9U\n",
       "SXn50aMpOY8KbxTzJftwdOVutl/kF0poOd3dd/WjmqfHOS3saMe2d9ERstIUVcLk+D06RfPHAbNd\n",
       "r5I3gZqsvBwZP4fu2/s4+gXc2YJZk7F5DN1PnNYv/rGKWmIXAuG/HTHMfJ/PIXzpssxBZTK3Rjoe\n",
       "/h++0dGSL4nOys24Mr41zrDydu1zAFwK8M05IBEM5D7Yi9lSiXb0qBR8vFj39Lyd7tXicUxTBRp7\n",
       "14rEA7+l8pnSrYuktACb62CxJNs4OKkbNQ2uchhP1iv3U7ucPFwHfo18i0AHgfash0DLPWWw8tGi\n",
       "LNBHvVPMk3dDXYJppCnApJ9BvS4kUsWqdPtJHLKzSbZb91FXYZbcayMFA9tVcSRrGY5YeHhm7E/+\n",
       "WpMnqZvi5+AcxElMjNhZyeo2zKVr9bazpv/2iOm2JVvNdSg0nxsiJpk05nmVNzNWmKWSiC/f8/8E\n",
       "Gi3RnWq0xnhyD/8bzfH0bhGZnsG2TECMDkeLZ6+0mHSiuAIkKu+DQ1BJRf2o2uclanoTFrLztyLH\n",
       "7RFHHTzvqyG2qgqwB8+c64YVVPTbvG3t1J5k/FMQahy9ahXukqAwTQYVLGC9kRr/InKU7JCmWjhz\n",
       "Y0VUYYIdBNCuOXSz0w42EJjR+2XmDLpJsq3tgFs2l6m+fpsrYCUwXkwCXve3WyXbfcqZwKWi69jD\n",
       "tHTN9IHSIxsZPnselRKrSWTCT3TrRrAxHYMo5S9KcQ5+oiqDZskUG8fl6Q8jd+nc8Phvno95XHKx\n",
       "ZOqVZ4djK67xs4zIUobWbxZoKxlL0dm1ZGGGD1OyYYwRsd7JSDejkJqrTETWuWIjxrdhChfgcjPn\n",
       "dORoxMLyDfagl1u5PzCMl2V+r8Qmzabem9qEzZ/rUlKL+vjA7nkcaaS+b0lQd1k1Myzs/hAT44Qr\n",
       "OG5vbPncB05HId0tc27VC43NyiovzA8uoxdJk88Q55Fpvq5hk6XXUpY3id+i0EcWAcw5meFsIClt\n",
       "DH5vsr4LIBNbj/1EtE2Ej71Jj7eu7ae/1+VQFWC95ssPW2SkVAccXt1n2mFv4H+UNIYEc7m+SzeM\n",
       "+k0iqQ7+BQEISmjAqggF6+PmrhXGtzf+3MJCEvuPVcgAjLyK8sMmH3L55nhnr60WQHAP3oA7a5gE\n",
       "WSYUgjVGiKABLd/R9lGpJKI9/AfGkuvg41DlCre4XiQmbrKnGSHOb/gtKF99C1aXu8W4oEpX8xgO\n",
       "yArrp8adP+ticdaX2gcLbfT4peHqgbmKtqsOPTFoqODGhuoiYgDEElPMFrVTaHbfL4S7JLvb9apP\n",
       "+LoKz1xszRXQfCx7XuEeCmVfAN2Qh84pNNru27PetqnFu2jZMU9h0Nw7y0io03S1CHzo4MEo4fqQ\n",
       "xOaD2GTLVr2SXdg7yrHVUY5E0C171+RfWJD9KD15Zsm5gZIutM39TehL/uYsAdzv58tVIx4sE5ue\n",
       "8h3Q5G4UWGZlMliRzXSEXkgsu4qvoBzDB80It2NJzo080DeqeTE2X06yQIgaPoJmDd3S+9BmKVab\n",
       "qNGcmMJd3ILsTd48YGgcVeREgqFhuGox0vX7Pwswyyt8Wll4Atsw4Kbpt3MMYTKOBftK7+Gx8E/G\n",
       "qRvaCGVvZHGUVs7kDCxELD1sUFOKpRcePEOigHkQvkXOFyVpaNnGT/0EldcfXTJ+lBWDCvbNvftF\n",
       "wh4bPGsSjWGhWNLW8M3jnrUu/fC7rqnVWNuShbbN4Nym59KUwpPjz9rXvGiojaU3DdTM3/n4WNrG\n",
       "GUOJBPGhOKuvEu+UJJvcNcGr37tbbzxR0ANSKLizkrmZMvEx2ZWJ26VQEh/2ZvVDARnvpy2KbuY1\n",
       "Dn6v3alXAPTuX6xmB3FIuAki5DJKuTqpUMCeDH/QooRagRoK0h4qZTCx9TfxU6IPRPrhC3utyGw5\n",
       "DJRY5WFWEyPPA+aVGY57/P5up/yKBnekhepIyBEuMN7rZ3ULOiVNCrmKPXPbwIDCmmVMYjekNP+F\n",
       "y9pzMiOWz84Xs0a2KNSolDF/cDg4eP6UeEDYPBDafzdT5NBIVRM348cUWx81pzT4iS9L5kL1pPL7\n",
       "W43lmMLjPE+iq3Zi7S5VDR5AE1ApHpPbSua8jq/9X624H/mYuKJ3/LG9Rp1Q13IRp/qsADUeWjB7\n",
       "28Ud7T+7SykPQSsmUpIlXxeHxlkhbcOn0BpPAcKSJmKnaTGBuHRE6ho25OIEmle5pYGali1iZAWq\n",
       "e4MdzkNeLthMjZYfAAvKDRDp5DUCuZ4+e8AsnuJ9ryfB3FXm3E9aT+5zeSH2YxBVwDYAkcpzTReZ\n",
       "juHeSLAokteTV+ySYkkVcSaX0P33sZ/jdhIiV3YdMnI5LKoYeoGbkrBVvySy6mo3k4c74duD9NBu\n",
       "wP6uX5sxz1iQA2me4d9gTA0MCQohBvC2SVTLNt24uqZuB1GJdI3i5VOqrGzETTrMM8K82+QYGgz7\n",
       "j7y6wRmXzYZ+MbEJYFDXNbA4tpadVdkdFEr7OPObO2Qoq9vFbm+mivNQQ8ZItDcfKX6nSJargsM7\n",
       "FB0xeSabQ3mmn2r2NU3Q+SFQBAEK4OXNRgcRBVd9/2JgmsB29F+USxwejPTbchbENQ43oDMRKh+G\n",
       "yfObpyqCGGsmwWzZiQzZjn/JmJF1VNcWJ/weTBHmJWfU8kfcvy4C3YEX4wqJTiGEheBByBDc7HcV\n",
       "gkmZjYjHAAAEb0Gep0IK/wAGH+UACITR0JZLlrd7uclzn8IQbLktmpRD49MqLXSFRlluv5kLw0MQ\n",
       "HORa5YjbnKYy7K0QQlKFG9obyI2z33RpKuna8iNz6wbyXUez69FOC9CzQzspwli87Rv8vNXMItXT\n",
       "ikhnODr+U/oGhaylxqMeF/SZA3tHI3IzOZ05TFqc6JHtDogKJ0aLxkQOs74J/Q8/9k016zCdzg2/\n",
       "CyevjC8n0QJhpDW7HD1wYZBaqn1W2BtMUn8Hj5Zb2Ds7OlIhb+SKYNFcn89mo6a3VCn5jgMemlSE\n",
       "eSNSlh/xH2Es0HsWkbImkQtW9EdhITHAjJrUQf4YhsLLJh15wlJPoMwGt1/kII6VdOLcIfNtia5i\n",
       "v5PIdXDVfan5SXCG0XrAr95jeNpHJRpVOkm6SCqlcMpOEjXwNkWxe2jBVoB/mirYVNE//aiT22ka\n",
       "zlCIlKZf6YTv94sNFs+OVasxe6IA3Vg5A2ak+JKMwSkv5nt5//wOhWk3PvJ+1ttTbQxexCTy2RvT\n",
       "sg0+diT597EhLaYtX/j7r+qfQAap79svZx53w/HFKGSCpdX9/oHlRTij09mb7VK/wuBDxd6u4Oxr\n",
       "SGGlKWoMih8gpYXclb7gYSQvMc9lrgJYRVdPzBgx233gcOGFCK9VBi1ida/KiXRkipJZb/xRMUjX\n",
       "NcQxzgAK0PA8gmgYQKgO83raTohAJXhbm/WN/IB9ou/xHlZmy9RfGpPl2ae1ZIv/KRe5f2Gshzse\n",
       "jbisxoRjNGaePdmDuZu1vIZA5RQsBH5ae5wkamAxjFcwuzBfgsw7/jA9GAq0OlD4gkTnRNnPnGXX\n",
       "0mYP7lW2UJKMQByhCJ/YbsByLkwCjfx+XeVXcEHIR7UOA6oRqhJj9E9/pOzKNDd+NtxbTBYcxOMW\n",
       "LuGjAkJ2QMk0ympKV3lxsSVPD3HbuiWytH9Q08P6F45dnv5FGaYLMwX1IuxltIMnfCtu94sXueOP\n",
       "kx6WKLMHHbOuQxpH9Qqplpoodf5IZIutXPWRFkhoSsYr/egeQbyDbR1WMqhMvCC8b2ZBBZOc50DV\n",
       "J6vtsnvYxHcmLiCdiTag0o/yUFT1/BbV6QKQFC1WJfmbZmhK75Knv5r8zHtax2IMVS+MrngxJNbv\n",
       "epynFqsArRk2gjwJ4AY610K4hnYyuW1vZUUFey3lwDL1pr1tZvYJPTmfz765USSE/mZB2+TfVmqB\n",
       "NJoDEYg38HV12r/Zg2dYL90rBAQgqwU/zUF98jOz3r+Xw2lTfEtc994IZ6wRjJ6HkBHJnpOtC4DX\n",
       "m/Lsn8lWVnuKI8z7jWotIuASR9mUyiPVQh8typxC0hdudp14aIT0p/Y+4/AZ9fLrCH2Ln+yEdjL9\n",
       "Pl9C4oLgykkwrgnJjD5ocFCLjHgjdrUPj4PvUdTpOJwEV6uzMJoze4ZkDjjqFDYMh+MUSEN9KzwT\n",
       "2jf0sALw2cWecxDSpQF6jOcOObu4/eQMkGP3W6IYmBD63bZbKQdEuxHbp8XswblWu/paevyqu/qQ\n",
       "x23/GbEAAARHAZ7GaRBX/wAGH+UACIVKQpKLdYFzf89RBW8rLaA6oO8lvuEWfJY7Nt02iOJGqoE1\n",
       "3PP+FJxgVm8A8ha1Ijaz38jfZRheZPeTA1daer3kMXqn53eJgTHvjx1LnRFqvo4YGu8OytmQmbd8\n",
       "MYt09Leesoy3q3sHq+t844lr+j/y14eo1HKpGXPsbZIA18wGmYMN0msozCYlkLSDmffEkJqWZCA6\n",
       "0ZJzx4nxFFhbnlDAw46LTw7pvHkchetqlbGTTWX1fUAVS/mcjCI+mey+y43ZbGGI4ZCEATNjjPhJ\n",
       "ZBJ4AdECBCzq1dIO7PIUBt8dff+3YRsHDLREKCyuBuy7ivsMmyNNZtC+/7ouOnMOTQzekatJzs69\n",
       "25wEpTxWsP1OjNkfgZ5L96+TIHlDBfSylyyeH64/9GzAESNBx8/LS5+PuRZi449LjIg/A5StDlto\n",
       "plmVU0pylK2YpzFmB0evr6snXzFkgQWVSiwq2xc5zj1/7Ds5yK0cmGbb6lRAyGMa6IKzX+MTcmXF\n",
       "diAjQ2c0rowHQ789SKA7MN3FhfHpKo3eFUz+UZ0zVGWphv2CTtc8I0MmPkpy4h+5WqgR2qxEiAxb\n",
       "m2TYzIyQuGwMd8VRDPfafIwqj0FSPUmKtLOcHeHT7tmdhHHynwEWpo/qjUV5z6zOj5nH9meF3mzu\n",
       "OuXdjbdur8DC8VN90NiHsWcDJrgG8oYcrF9/58Ro/qpshXbP9NNWvh6QYnFl+8vIKSgmZiPK0oME\n",
       "2HQWb1m/TkIIuEqKwf5a03QVGkWoQfme3Q8SfsSiNkeTOZ0pp9VYiR0Ijn0KdjEdKQMSei4mtdGq\n",
       "gvrdYQpbJhjbGzUrg11rYwa4cqHJK4sa6t4JZHzpgy+UTu8uZT/RekckjeDqGivRk+DHPnXqSfQK\n",
       "n/NNkmdvYTIdFiagEIPHYfFXPYpVhzRoVUTaKxYzitB2ZFX/QpE/QZ44YS7LT18ED/aWqEZ3hzGi\n",
       "dEtb0OB4wXBLr5Glox0Wuz+So9JAnF0mCo4us3TP6DvvK6Pbb3D1Espsbyb3JdsScU267xgQFhF+\n",
       "ly8UhEJyqdaezZ5NmDfE7IWer1OQHX4FYWa3ujJ5co/OZ13CtAvmyqR6YJMPx0MpyIBAlfsFBIPj\n",
       "/msn7B1FPgqjirDEvF36F+9EBMbyGdomT3p2WT7fp0Uo8XzwiBruMWbpZFTV2r4eFHzuExwmX76l\n",
       "5mpIbngsI7bfEntgcHpA3M/CN7YFUvCAQzeed8svmxhJSgtQTnQFSJAJokdwCf2kJiBAtNWA3GYk\n",
       "AYopM7fg2ehkevopOgxS2JUOrP+/25IBdPeMWeq8PK3uJjEzAqCgxb7aMOX/OItbtCmnHCDV0AxI\n",
       "Fzp/U3OKhibB3JUEozpP+U4EJlTgLPNblRAhQziJ/u0/wa2dpDCVTkSSdER/zHKVVsc3XPe3jfks\n",
       "Ynv6XGA3X1EY8OFw1eQgG4NAODggAAAD+0GayUmoQWyZTAgr//7WpVAbZ3EUACIUsY18S1s11/H5\n",
       "jpfMWdyUB4cz6wFTcWaShIw8ss12cpgFGICvo0qrK9u4owEJkbfhwbLyCkNY/7RxD03cL6A8qz8e\n",
       "eontJW2recwZKwOvLNW8PCDSL4Tgge5AwcTW1Fiw7++N/d/aVM7BZZIIWqYwG+c81yrLTjULyV6/\n",
       "CvL1VqAJyeVTnXJtv9Lcbm5oUKzfwnXQS+EoeWe4xm4QbcOlGpIH4glQ6uPfDrtQjp2SdkzaQyL/\n",
       "dUQq6BwTh5HHp8Em3htBFxLzLuXb1hPCsH/zmXYlTlhO2XFCfvSwvVuJXGlSy/myl0oFpw+3gGwu\n",
       "fxrY4E9ntfD2+YKFLczWQY1hqUyK3tbg8jlOMYYAuOY3yl4Y1wUR77WSp5kqCG2y4TyU4k8yBLwJ\n",
       "mdmIxjX+MUT913pp8bwnojZtF0Y1DMtnaTqGnCISqoKseysFI2pEynxmy611xLAbe4qyLFEG0WaH\n",
       "0hUgyGrN7sbbwOGFwnfkEmVtQSFKs1yAO5ycibkgzjFUNCOgbLfSyEiOdVotlAtRavh5KUZGO5FD\n",
       "jD2wiV8Ak7ydv71LCbsQ8/2zg1b9uDHPrYIE3xnfUh0UZENcmn9bhsBQryG9o2ZXaje+jS7B9W9J\n",
       "0DYUOXSxgbnP28BoAzCHYn8GlXr9onWQnN6BnXBHNxDkrqM+PeuU3+0AJgko9YzW/lgvlG3oY/Ok\n",
       "/8ayZy5KTj+IzgtWCm+xrS3VYrcF3SC7Th30BzAxPuSFqygqeBsdgs5xiUV4bTptyBwdsmgHY58J\n",
       "oG9oeBhItuLFRJ9Q4JXARta98yMJnWd8C3KFkDo82XiCLM0A1pjsVRv3PXt6T58hvkpjsdFfqNRe\n",
       "kdvz5cJ43y0eD8OapuaVWYVvtxv9k+QvqjXhTV2yvaktCGIpcwNE/07wmczIsIdFI4yVbfPgshOW\n",
       "nZCdpPiKMf/2evktgwzfDASInKLUTiTMNSUaffYWpso+YJ9GH0IZrFMq0+j/pQP/mAz+WvMirAj/\n",
       "2FhNKhxw7fkKQG4MN5B4ln0bD322M3DskiBX94+5PsHWK9N0ohpCKl78OlcWHM0hT2qjMgHjb3+8\n",
       "7Cp535CkCqEuT61NFmuj7Uad1ZFOkqbncz02UzBejaYytfLYvUM/om6/F7RgThLf5aO/47dYndCr\n",
       "eFUm3dy43M0P6kZQt4wJALsNSjpUrOzm3xBfXTQ35AGyN37pmZlTyMVrTcZylZ+K9EPF34v1xgSZ\n",
       "M+wUP4c/UHnqvIZODuc6vyTI0Zf9ZyFfKG/FqXJTOrweOge6iD7cfcOsY6kPFbn3d0Sx8kc5cgnW\n",
       "M29NyE/thnwFTSz77W/9mgR4AAADnm1vb3YAAABsbXZoZAAAAAAAAAAAAAAAAAAAA+gAAE4gAAEA\n",
       "AAEAAAAAAAAAAAAAAAABAAAAAAAAAAAAAAAAAAAAAQAAAAAAAAAAAAAAAAAAQAAAAAAAAAAAAAAA\n",
       "AAAAAAAAAAAAAAAAAAAAAAAAAAIAAALIdHJhawAAAFx0a2hkAAAAAwAAAAAAAAAAAAAAAQAAAAAA\n",
       "AE4gAAAAAAAAAAAAAAAAAAAAAAABAAAAAAAAAAAAAAAAAAAAAQAAAAAAAAAAAAAAAAAAQAAAAAGw\n",
       "AAABIAAAAAAAJGVkdHMAAAAcZWxzdAAAAAAAAAABAABOIAABAAAAAQAAAAACQG1kaWEAAAAgbWRo\n",
       "ZAAAAAAAAAAAAAAAAAAAQAAABQAAVcQAAAAAAC1oZGxyAAAAAAAAAAB2aWRlAAAAAAAAAAAAAAAA\n",
       "VmlkZW9IYW5kbGVyAAAAAettaW5mAAAAFHZtaGQAAAABAAAAAAAAAAAAAAAkZGluZgAAABxkcmVm\n",
       "AAAAAAAAAAEAAAAMdXJsIAAAAAEAAAGrc3RibAAAALNzdHNkAAAAAAAAAAEAAACjYXZjMQAAAAAA\n",
       "AAABAAAAAAAAAAAAAAAAAAAAAAGwASAASAAAAEgAAAAAAAAAAQAAAAAAAAAAAAAAAAAAAAAAAAAA\n",
       "AAAAAAAAAAAAAAAAABj//wAAADFhdmNDAWQAFf/hABhnZAAVrNlBsJaEAAADAAgAAAMACDxYtlgB\n",
       "AAZo6+PLIsAAAAAcdXVpZGtoQPJfJE/FujmlG88DI/MAAAAAAAAAGHN0dHMAAAAAAAAAAQAAAAoA\n",
       "AIAAAAAAFHN0c3MAAAAAAAAAAQAAAAEAAABYY3R0cwAAAAAAAAAJAAAAAgABAAAAAAABAAKAAAAA\n",
       "AAEAAQAAAAAAAQAAAAAAAAABAACAAAAAAAEAAgAAAAAAAQABAAAAAAABAAAAAAAAAAEAAQAAAAAA\n",
       "HHN0c2MAAAAAAAAAAQAAAAEAAAAKAAAAAQAAADxzdHN6AAAAAAAAAAAAAAAKAAAwDgAACLUAAAjW\n",
       "AAAH2gAABwMAAAWlAAAIJwAABHMAAARLAAAD/wAAABRzdGNvAAAAAAAAAAEAAAAsAAAAYnVkdGEA\n",
       "AABabWV0YQAAAAAAAAAhaGRscgAAAAAAAAAAbWRpcmFwcGwAAAAAAAAAAAAAAAAtaWxzdAAAACWp\n",
       "dG9vAAAAHWRhdGEAAAABAAAAAExhdmY1Ny41MS4xMDM=\n",
       "\">\n",
       "  Your browser does not support the video tag.\n",
       "</video>"
      ],
      "text/plain": [
       "<IPython.core.display.HTML object>"
      ]
     },
     "execution_count": 18,
     "metadata": {},
     "output_type": "execute_result"
    }
   ],
   "source": [
    "print(\"If the following cell does not work, use browser to visit file {f}\".format(f=movie_file))\n",
    "gd.show_movie(gd_anim)"
   ]
  },
  {
   "cell_type": "markdown",
   "metadata": {
    "slideshow": {
     "slide_type": "slide"
    }
   },
   "source": [
    "### Initializing $\\Theta$\n",
    "What would have happened if, instead of initializing $\\Theta$ to random numbers we had initialized it to $0$ ?"
   ]
  },
  {
   "cell_type": "markdown",
   "metadata": {
    "slideshow": {
     "slide_type": "slide"
    }
   },
   "source": [
    "### Step size\n",
    "\n",
    "What's a good choice for `eta` ?  We had used 0.1 and obtained convergence in around 10 steps.\n",
    "\n",
    "Le'ts try a smaller step size: `eta` = 0.2"
   ]
  },
  {
   "cell_type": "code",
   "execution_count": 19,
   "metadata": {
    "slideshow": {
     "slide_type": "subslide"
    }
   },
   "outputs": [],
   "source": [
    "%%capture\n",
    "gd_anim_eta_02 = gd.create_movie(X_lr, y_lr, eta=0.02, n_iterations=30)\n",
    "movie_file = os.path.join(MOVIE_DIR,'batch_gradient_descent_eta_02.mp4')\n",
    "gd_anim.save(movie_file, codec='h264')\n"
   ]
  },
  {
   "cell_type": "code",
   "execution_count": 20,
   "metadata": {
    "scrolled": true,
    "slideshow": {
     "slide_type": "slide"
    }
   },
   "outputs": [
    {
     "name": "stdout",
     "output_type": "stream",
     "text": [
      "If the following cell does not work, use browser to visit file ./images/batch_gradient_descent_eta_02.mp4\n"
     ]
    },
    {
     "data": {
      "text/html": [
       "<video width=\"432\" height=\"288\" controls autoplay loop>\n",
       "  <source type=\"video/mp4\" src=\"data:video/mp4;base64,AAAAHGZ0eXBNNFYgAAACAGlzb21pc28yYXZjMQAAAAhmcmVlAACki21kYXQAAAKtBgX//6ncRem9\n",
       "5tlIt5Ys2CDZI+7veDI2NCAtIGNvcmUgMTQ4IHIyNjQzIDVjNjU3MDQgLSBILjI2NC9NUEVHLTQg\n",
       "QVZDIGNvZGVjIC0gQ29weWxlZnQgMjAwMy0yMDE1IC0gaHR0cDovL3d3dy52aWRlb2xhbi5vcmcv\n",
       "eDI2NC5odG1sIC0gb3B0aW9uczogY2FiYWM9MSByZWY9MyBkZWJsb2NrPTE6MDowIGFuYWx5c2U9\n",
       "MHgzOjB4MTEzIG1lPWhleCBzdWJtZT03IHBzeT0xIHBzeV9yZD0xLjAwOjAuMDAgbWl4ZWRfcmVm\n",
       "PTEgbWVfcmFuZ2U9MTYgY2hyb21hX21lPTEgdHJlbGxpcz0xIDh4OGRjdD0xIGNxbT0wIGRlYWR6\n",
       "b25lPTIxLDExIGZhc3RfcHNraXA9MSBjaHJvbWFfcXBfb2Zmc2V0PS0yIHRocmVhZHM9MyBsb29r\n",
       "YWhlYWRfdGhyZWFkcz0xIHNsaWNlZF90aHJlYWRzPTAgbnI9MCBkZWNpbWF0ZT0xIGludGVybGFj\n",
       "ZWQ9MCBibHVyYXlfY29tcGF0PTAgY29uc3RyYWluZWRfaW50cmE9MCBiZnJhbWVzPTMgYl9weXJh\n",
       "bWlkPTIgYl9hZGFwdD0xIGJfYmlhcz0wIGRpcmVjdD0xIHdlaWdodGI9MSBvcGVuX2dvcD0wIHdl\n",
       "aWdodHA9MiBrZXlpbnQ9MjUwIGtleWludF9taW49MSBzY2VuZWN1dD00MCBpbnRyYV9yZWZyZXNo\n",
       "PTAgcmNfbG9va2FoZWFkPTQwIHJjPWNyZiBtYnRyZWU9MSBjcmY9MjMuMCBxY29tcD0wLjYwIHFw\n",
       "bWluPTAgcXBtYXg9NjkgcXBzdGVwPTQgaXBfcmF0aW89MS40MCBhcT0xOjEuMDAAgAAAM0JliIQA\n",
       "F//+99S3zLLtU2+2C6j3op4mX0N1JQGblsTtOoAAAAMABnddzdfZ7UGcP+ONZoi+oCCeMA1htQbN\n",
       "Nh+lTs7lulvmLC5Upl/KnfnL4FjE0TlwWgRewpQ0vZKsbEumDz3p3o30/6HUdCIzHeOlMZxJN4Na\n",
       "BGzgyxsRRLzfmx+du1Lm131fe8QVHDRRnEF75FRgX4dhcspdxkuM4+SeYp/fWa2sB6jhNT6R2J7u\n",
       "vue7PqtKFEvpZI6Nse15CSxvlX48pNfyOmIF5WME08eVXmrCgPONcnK9aUGPXc3LajlLuGJ6ZX46\n",
       "NI4x0nwbTseMaTZfC9tfU3Ljkq3PSMmtuqZ6fgq1WS5ZwnbY1GEMm+ov86jrudIBCHwq8TlQ7cU+\n",
       "cwMsNiID3RItyJ8wcSQ0CbzTezF+qOUVi1FHXm5Isj6x/Gpe27FEG7hNwi9NJpHo8Cl7P6y2GixQ\n",
       "I7FxF+cREuw1Oguv/HRnb1NOuw9P4PmZmO9x2z7fnLhx4BeF0/iTjsSuvYKzo1R5uc3KcVc0R0+h\n",
       "qsVtbd/mi53MT4i019rtvxEbkKBoCAbjetYlghUh9HMdDtF9996DGzrcpciEn6RHBJBvjUu8lWqM\n",
       "tgxdaEVdry1tk7cFp7vdNHqC8bvlW/Jk5swXlRxd9KRZ5v9VL3zWlD6agaNt4LASMxRKP6OFpNl/\n",
       "QVegooRnTcKiZW8wlOVAorhoRBpPTarmMhjJwQOcfsGkvcDzj2cKlIP/byYUYi37+dveaiztlEzn\n",
       "ueBThio+IJtqkaEo+Ux9TGyGCh1ojDR0RChB7AUmMgbMhrgnugEAjPX5tVH/+/832CP2Pf//yz2K\n",
       "VGjKlEP2gdQQFOee3V02hc9kp4MrKqOo8/B8f/9Jhupl8wxnbT43sJ7pEp8zBMBSIiFc/E01tYFa\n",
       "hcdthg+5NzG99JtaD1ONcj0pidF6Nzcx5CpjqfKr10ar9VhbF9d28BBahbjarAB4iIbpb604p7L6\n",
       "NQyD9bVallpj+gkhKcF+H+4p8lB1Zea6RPdztU3Fxl1VEoHX9S3/4XxdkpLz91tB+mrESL94IB3X\n",
       "FHkNl4Z7PhBjqOtjHMPV+Mry2r7sXkDyzPjKhgnbfzKN41GPaeQ3s1Zdgha2T4kIg37wn1happrE\n",
       "jx/3Lo0Irg00nX8McP+Gz/h6/YbZTBr1yWyxB2+OPMwWfJFR6Mhf75QAZ9qjLmhSWcWFjG7oPs5r\n",
       "+Rop/icw4C5MQsEPYWrYKf3+mXabdLwiXDJSnaDGPGIZ/mUeRisld9GcmSZt/qyKzHYc7bYBmqt4\n",
       "wxxea+wV2IIUOSv7nShgxP+XCBkYLXJ+8wBwgKi0kMBkTtBr0OKP0LTc4bLfPJBPrFTJTdd/Hmdv\n",
       "xJPk27uGWXd0K5vn2r54mf11NBzIO4cNNyVRhGu7NV/+ae/UbMBJb34HTIepDYeu7rKbdYZ0PAHr\n",
       "lWGQx6x1D/wJ2419nG5t62tW7XVln3PGpSv4//f4rSjXIcYkNNSELz8uwUJmwgzKNBTxfefegpbK\n",
       "4za43XJqjIbieGTuh8oZ2JAa/6N0uHC2pSw9vpAGX2WtSSMCf7KUgdvFQNV8MxV/GVH8IasmpRJk\n",
       "v/4zTzGcOkJfgADfnN++TCne8VLSSc3KptzttYrRCZCok+BSfM3jh72Rmqdq6HdgQgP5EltrxwFb\n",
       "snfyJIubePmALM4+3EiUkTEF44H8qRuEk97n0/7DS+fF/sC4n/NWLA8D2F/typfujISLAwHAnok5\n",
       "Oo9s5723wYY3P4ewffPCiPk/c2eeklVO+/3KQ4ja4gazIJ0mXmKUH3kSDSW1gMmQC/LmTCg/e4X3\n",
       "WEowuDyVRjOJES65sDdLcFngXovY1ltv3JgVHbXWy38cfqm88FNxcDEXJ2jliKr6GO1b4qKw8yN2\n",
       "eJbZJJzOtlFwJSZZjUB2sslCywoeeaefTWyEJmo/hcRtBDs4d0x58whPk/p53olapENYo/k6D5vV\n",
       "GsOEKVJY5CgVPE31UEIv2lnR9SU6fsSkV3AUSISdT6QxWzTqQTTNDuGXQo36gdebLa23IwRNreaU\n",
       "6LPypizAMtanvCDBwvxp9UCFmhW6eUxB5cC7tm/QYc7dWvWwzkRvD44zpuwCsp9GZHSUNDGmVrjQ\n",
       "xa8bBlGkrtbxyuij538C1XO23VWgnZs5kPNmxzJBfmOjtJ/ey+LWdeGsaNbc7zk0HCU/4Pxi4tbY\n",
       "sOAgig1S7FqVPLQdIixaCJsmtWfizkmhYHUZvmAJ6Q/a5YOXHGRaHT/ku+Ci2tdHsFLzgySHjbX2\n",
       "J5wng/U/fEkm9VipzPBQdQdHu3q7JZrtHfWwzTOhbhHWGVhTWQRLBo8JzvdZXaiIcmkpNBAqD2Uu\n",
       "W6hByiwtPoWJxoebIWypsyVu8CFMCWxP3GzrnLaTtDow0o8LBq5U+x1rbU+FHwhqy1GNqFphDlqy\n",
       "AE4C7PiS6MI7PGsECy+xfsJoXoLAIMeYrPwOBD9NuXrZO4QIFXi421GpOrvZ74SWE1AH1lt3oLM0\n",
       "ERZ2umlnO18Go2KzWsYHeisqe8iqSgo8m9wZlvMzCwZzBYRWWF3Q4oHZ7vKzN8EhgZC8CLO7rRsG\n",
       "uIvww784ApW2PmXDfUFsKnHBzfNFoHf/rxL896leRoT8IvEo4zOmfXyyGrK6aXhWHsCkp4cYZm1O\n",
       "W5q9lZKZwEDT9eqf7TslUihpp6YK0gAHQbkyURcsA3zDpmojWk/jG2NotszvUaD88KG3LJa8IDQ4\n",
       "Ekqws8WbvtzKXBi5a1qrdegSH/8SMPauguKL10o9nw0ZPtjiKDZYx3FeF2C8jsrTzhjOG2+m//kZ\n",
       "2Pl0/Gw0fP/oaxswMuPd5C1GdLok8sBT0N3oWx4CjqvENyJcpbN/qwtAbZGTxdUXJch/VJr2gMrz\n",
       "k0j1R45lUIkPSbZxT7uLMY70dzwRQI56su5A3ZlwADjI7GGM3HS2QV3BvtcIQaCVC66+0loH58++\n",
       "VYFuevf7WivyonCtPPl0jJk4ZlVxqdWa1QXILUjmH1CZnYb5YIInYRMog1/K4q4WbLjphdzQ87eN\n",
       "i8aEA1diLvtAvqopruzz3FoMM8G0oYRDhJc/XfoEUSkKOb3x/IdgxeWtHPc232s/xdRPRdMSFH8U\n",
       "Kfiwrz/Mod0cri83fb+7mKDmHQRYV6PR99DwHymRqM6G1NTEYoltgexp99MVMtu7RWRWilIVq2Sq\n",
       "rUu7WHAwQPWc4zuIGqcLipmQB/SmlFrLXYc491sdKM/eRGqIX333P5JfeiBQKqVZZ0DBo6H0nE+O\n",
       "z5DqTZ4yWrylMEajPSaYsu3mA7nhN/1hEYmRUQ/Rel783eZ/tKIMn73EJxYwUEYc376fR6cTsTHd\n",
       "MHvBkH6M7nYct8txU5IkAcWJeuxOEZcwY3yfxySrKyCrgEyXCtxN1qZoDgNCOx59dFd5dVYWAOsv\n",
       "GErYzoK57r80RVtrZCZ1s7bn94OVg7OcCg68nv38wWMy1LUjhHnbC/peva8vi1iI55sI9CYot+uv\n",
       "xTPgzP6wSPkH8hXj1/nWfg1xjVd3MBxKBp2cxZb4DuHSoxUtCjvbbwHe8XAVhOGSs+bRFCAYXEnE\n",
       "jbSoG+6JnDHSh9jjv42ZOzFB6yJBGIgrAP7vVzhwhM0IVmnv7bQFk8NiRsM1re4iWSRCMtsiSmnJ\n",
       "5xgMtFjDuEW8yuv4QUjQ0DfXu9/BDWyrzh/dHE3n0Ggk5E1t+Oh3JRlZ7VV2p4xFM2xbVTSIHjKN\n",
       "K+7S9+E/8TD5s3M/YJXYofNDOrN0TJkLTQtf2ZsZi/tFFkgUKhgZg3DXfOSoRx6ULsUIIYmdsU7m\n",
       "hCZ8ZnN9TUMhb/3aKXdwHxFgLuJcI6aZuRVghK7XLsHRcI/sl49RW12k2T7BUTgQZXZX+Mtd6SV/\n",
       "x5n84B14AGzIHjn+NNpX+0wQdE+/XaSCXJ9hJC02pVbCYekIe06Au9kv2762Pto4EvT4wAlHdoEm\n",
       "jA4KCFW+1wFXKYKMxVJ1oZpv8yXvx8Aq1KY9upd1+CYnE0wMiNMJaWI1DbrolojQQHchMX5kwUEE\n",
       "nVICK6JOCE76223q1ruEKXL1JGPOd5xUBsQYcN3mwbXhT02B1fJqK5ZsUIiDpLzKX7TclsZZyPxR\n",
       "sd/3Z6Eoiz0yM2glE5Tb9xu2QN/4I0h9jIsWPTdqno2/8+CdGS20oESzYwzHSZnX5ElqpGzHpIbD\n",
       "+YtxMe2ob7zJvv6/5g8a+QhfELMGJz+fS3wiFQ9/TMOrMjfKgsaxe/IdxBH61NUzrcT8mARuw1yN\n",
       "QrZjC3sWYAXXp5eGqdYDr+apjP31Yo9Gmu4LBuIgTCW4c4KRxhV2kAexFhU1oSxWhzGHVnuqOc4L\n",
       "N0RXMAWx8kNlBDqkkazmBAH4ds+paBzvS2PF1bu0W6TwaEvVCdrR9zPsm3OKvblDyCN8HYYlDvsn\n",
       "bSl5noH8gXYTCNOD5QVhkJRH6Bovd2NGFRqXqLCVOUH8bnay3ggNWN2mEZbHco9pcRP3Qzna7ZbH\n",
       "j5qLLKh2uRJTrkIp5puMCsvss55XBeaBguHJn3RzwMC+j41ozJUR1SzG4khCY42O7xxH1G1WK4gw\n",
       "Ww2j0HbnqLVGC4Wt75tcjcJNeMkO0TSd0cPvSxxdOtvdEL0UIy/t4e5uTTR1Truwj7KanCvG2E1C\n",
       "yt/4AYQD26ip7+fm1vkoAHov6Vj/m9K0ohzO2QPM9xPumCRD/7s7NCF0xyWqISZZ6IkDmj25VSCI\n",
       "CeU1J/1fArL3R5Dv9Ebc8AKL067k/5JS6DowJdJrFkinvAAoPSiNrocM8u8BXEdsREOSzikyOjsM\n",
       "pODQwNRsgcsD/lw0Ppw84U0oYzPjetc0cNKgUae83wt+x/qA+RWqQVGTd3MQstaRdZ1RGKdxOVzH\n",
       "PvgX+zWQuK9YjQFxh7SnPBb4/z0MsEEtw2fyTU5DwxkNovd1tq+gC2UXw/YaISEs9Ynv5IU90K5w\n",
       "4CHZ2MR7TrDM+iyTJ9c7QN6mfKEG1buwQTCBjrUy/+MO+gfI1Dtqt6t7+3EE48bf+MtlZtuMqvmr\n",
       "s7kTK7D8BM01TjQ6IT6Oy4fY5DaNFDJCqaB1Ju8wP1LJmGwALMgEJQAkGkl4Ta8eXx1yQhqteEf7\n",
       "ttNLakQ+qY1rUiHl6vm2EWz6qIQ8/Xw0X1srEZ2nBl1whV4mMNQn4TronyoJDgjlHvsvx5RrRw8/\n",
       "m28WPsFR++5TFvls00EUgGP03qZQTwuUb2vMduzIenx3mBU1B8+U2FaYYG9HAao4ULxrxxXv4NpE\n",
       "jX4eVm+47PvP6wLskpAR1nLIlDOffPApgEAPlK70o2i4fXPgEW7GLXGunbg/ADxzMWesk6wglBV2\n",
       "aOd+wPW8um/92pmfWbHJ6Dyy0U8XJAWdioQykjoa/GBp9kx2G/6qTU8Z+AZegOq91VSGJqVHHz5H\n",
       "Otc4mnIu1t2VZUxBuEBVxaq81e8TvOEmf0opTyIMMWRj7j1unl/cbiBh34qfoIaWvx/ahUJyfCe4\n",
       "82Ush/RlXA+pBtAiztvFA1MTift+9Z47Z0dIKA8XqfaQDLiTDuzRAkGrkbuu7jucSUyMe28eEq+9\n",
       "POLlkBh8NXuOuOpyrMMPK9mn7bOLiBpv9bIOU3zwFOH3gCY4r/EnlNxAwGFcMQWC1pMaOCE6tPwh\n",
       "kwwGhapK+FcURec2fI3/ilg5laz4q8Z2YY/bHyjr3aRxuOQYXvidHS/Tne4nCDyEmLhIET+wZUvJ\n",
       "zXENsp9f4iqOhSfmtbmjbs9incdv0RtryaNbhY8xyiJsNCJpAYJ1YX+54h6uptiRUDwGLQ9czeQL\n",
       "NL0ch/83ikeWDU9bh/fUbKT6FAEzQFQKCMGsmQMig4jRblcFydHdttJ34CPGW8Auj4r6a7RRfNZk\n",
       "UEwJLi50Ip0HwTD/rJio90K6okCpiUMJ7TrDM+ixT+7i12N6mfKEtUSu+c0v2aMwiZmEKVn55Fff\n",
       "HLiQBLQf0Xafggg3u7UOdWgEglBpzjXXNXyDHrqwKtaSxUo/TtUnmGTgBrI3GBxcug3ECjHayLjX\n",
       "iHjufRw97L33y/q7XvMYZHyTnr/mosAmmAqNpTQCxxLF6PQoMr+22CDRaGjMHB4cRpMijEsU8f1z\n",
       "vW7XnAATRTj9n18LWnVsLIpO/5/HBTV5Uic8ja0GsU9s29lczdvOGeNLC5UzW2qbjKbIxCjTVq64\n",
       "XmdMIcHxFvcG3aD+I6ovZA0L7hx6PFO4hM0qRfHy4rFbd3i7ihFel+lYiyIr/WEGoh1c8DnzsC/x\n",
       "knCDBO+5YPOCuO/QCOytQoGzAyFsWrNftHvDxlWOj0NDuc0wB0fam4GzJG+K1i1/H6UJoJdi3Mh8\n",
       "EqOGQRieEtHvWVp2wmEZXkZ8B6wbrdGDBQbsLL8vsu4FZ/nWvcYRNPd06JgAorCf2Bc1Fp9T2Mo0\n",
       "mvpWainpZcGhOImJK02WNC6Y+SA9p/c81Vs4agXTYwnI64o93lJVJbu/jLfy0HvHT7T3qCwEKcDD\n",
       "WlpzuYcGQdrGPD9shn4AuvUSPa4dEh/NXx/vl8I8gUcjWYT1N0LhL7F6gy7eNMYEhjIeh5jV/cL/\n",
       "Q2douTof33gMzusO+VuMgMLR0MkIr03M8MfSq8kiV5J8UnA3nAALbuI349temGlu/NBMOVkvMfz8\n",
       "gZJZwy+alrLV0/rPjAGQIxl+qZeXTygzFPdyAWx5fTQnQzG0k5v8wfQR0HmgvCqJgjyY+n7L9+iB\n",
       "hN9I8yDEKEMNta1Qb8YoUC+AG8r8Ktp5bqJjc8kfhqi1+YDLwFC9D3HGMzzKA6ux4kNTEHaVvKVj\n",
       "zBZjZvmb4jLn06NG4eAh/Npn07geyIgqZPMB1qqwq+nlJz4ZxWW3EiZcgXnHd8lDqZGhzHX7HwHR\n",
       "A7n/g8WZB+bZxwagW58snpTvZXs071MFhdNrmjbOxYFAbwW1WgEhUZZ5fZaxDWdcLTSVPNmhaRno\n",
       "mTv8BZSHFHbjdesCi9D3LUo/7wX1q+z/5ONv/1GPEInXtm/Z+I0bnvOtQIBenpZdG2XwOWie1IVS\n",
       "gotgp919/ouYWqnaKPrl89kxL/IgSMdHuc8Qy6KxsshnJkE8aA36VzM6Xon9u/OMnfsX7iuuwRUm\n",
       "x4Li93KrGzMZ6Ld5lSYkKb0MxMEAkJbmV3EEOMnUzTHYBYuV8WXklGfT94BMs4dCTwe5+7sIem6G\n",
       "TjnSlJvX2D6v4FgX/w2Q0gr4+ZeZB/P38YCgv/b3UgmxENs5GOKiym5prZU9KOOT9dPxDA943r+j\n",
       "HoC7PVp19NPyExBLC2bObkDbD0gzbEGOzHDVW4pL+QFYxuQMjmdIzzodhrirC834j+FZ/h2eA+lq\n",
       "RIJI5pX/19eMwdvUZoFNNfHVIsv78wOkVlB5whaLK3JwkE1e1Wd44XvPz7ih1bw1GbmtMOvlkGoy\n",
       "rvB9rGzWsf1XRl6PH65naP9hGY534jSexPJqvaA8s3UTdWZYsWOjt1N2GxvRmtigdfFRhg2iG4DA\n",
       "n139LXyxLTpAASY+3FYJwzWp+HfkLE7T1gDVeNu56aDMV3HduUzKVWvB/CMMEXycQDxZzOubPnw8\n",
       "BosewhRH9SLjk9OmUQsxTY780ngQlfBlaGD19bRn80181GbZgSLFpDpYVq2z68YSJ2UYWLwVDwy9\n",
       "HHeU1ZAMCUMRnUxyaKeRZfpuWCA0qP3qEEM36efW6ZJrGbwHu4mAdXpugLKoH63odrfwMZZ4nY41\n",
       "3HlHwtgR7dwQ0QBiMqUs7CkCUUh8Q1c+cbDSzzrB6LkRaX3FLdwzVtmcVpOocH3szA+Tu6lAZnOR\n",
       "LDsy5pIDub92XTCTePfrZGmoGq3pcR1FdM8L/HBS0qwd2tuNa0kH/WQv97/31liUck4uZ8YFlrUr\n",
       "FW30BbYIG0SnExgir77XhFHzjXd4wqbxP9zjj2iiAvhgNm5DQ0WwXjrWKekeWVijFuHGPIsRAqZD\n",
       "ZW8vKEHJoiu9PVGzIiTv+tRH0jM3VMlOVo0H0XHmbj38mYHE5CrnCJ9ZYX5XTSg3UuHeK85Ui2bM\n",
       "8h57PdzpvEkBbI9IYJdetj7aOBL1elQT+OWBm0FOCghVvtb5ZJsijMVSdaGab/Mth5S6uMeLYeas\n",
       "7LTj8qUx3pvmS+UDRb2G84PQ7OXt2EOvz9QF6SZ4TPXD9h9sJSw5Xrpiv8rgLg7PW8DDSqMyvcwQ\n",
       "6yOJCW6hp1VNAkrcGgW1iU3OWW+vW7gvQhiSZMzoi5tdnLicG+e8IxGLESpDfp6Z+YX+W14D2tIm\n",
       "yn8YFbi/3bVEqzqfV78rGvmD+lLepv+sbrDFYm1Gc/wRBrG034rWgOt04yLM8Z5xVUbm4KKMfgRq\n",
       "F4Xp6KWZtNLyNgetJmcxr+gA6zcfdwodjhRf8t9BBLPA+iBZZ/RN/rvPs0CvGtyfpJWnjxTFYWSv\n",
       "uzk47x1ZJ0XfuXbIBwOiQAwLycKfmqxCEq6hx7PqFrDm/LvoIxlEZq9JeVJsyAxRcMUW+R/afe3M\n",
       "LgGph13NViNxjdSn8wF9OFuS+/SvIytG2V6NMxSv5VctYa+3Klv4h8JKZUfJeL0YhUj9mAAkJgfx\n",
       "rOfMiwS7Ft9cetvVOwhhVDgZNpRJsIR2UH3AQEjyjMysf6fq65Fn9WUCuyQqfUYCTW3h817Zsg/k\n",
       "PZWcu0I2rUDXpSGRdQoE9srRikmPynfzDAL5Ud/vYZsvqCGhDvscZfq/zInaxcs99qzWM2mr/e6I\n",
       "QRdtuUfNAz8J6DJentrSn+aP1hdWIhYurP/3e1s3H1VZkTmW6iwMVnRCyCaJLlvJ4A1ZZEB+gR8F\n",
       "Q/rtGz7U9gFXF8wEAo23GbZV0TUG9r7yMQ37A5rXUm2nMpqpZAf2xgb5tiw2nFaBR69iUcMsfigj\n",
       "kpT7kHiGEgg467oIZSehEGb/UKFsvZw5osfXieJp7Fp6X7xfqhuRX+Sszb+odlXxolRYHDZ5Mrk7\n",
       "eLsfkcGDKzgcW/ZhwZAFcysU7r1e4U4PPP+2cfv/nkTfVi81v9x13QB43YFZshgwJ/xCbz1WSnKz\n",
       "Tgd5iwXdy6WygS7VgvpDC1XXIVtDv84Bvl2CB5YRQTho4dv7rOrvJCisTwjer+Ibxo9IT9GZO8rQ\n",
       "YUTDqxX9tR/6IxsqRb0jKr8QbwJ4tx2mTgB6Q4UV2t5PfxGuOcwfbsq0Cvl8ESKg4ekHOhdBGly9\n",
       "RKf1poiNWM97GP4ZqNVQ1Fwzlw2rwCrg97C/cJJbJefkTXTJ0hzPCF+ZtJGHLoRCrHqpx+5Iolwo\n",
       "6T8l3VDhqPJbdM53ghfaaGrTDaCnfs1cnL5FSrOY7ZGIH1zQXx/U4MG8ewgblYWZxlYtCQko1LYq\n",
       "zGwEWra/tJs5Q3GC86WQj4J5LSQ8V6xk/ShGBvp9uQuqix8ct5KsmRfdcK+3gMzusO+VuMgMLR0X\n",
       "RRXK55hiSc+CawH5MXe+8Bmd1h3ytxkBhaOlJD8l8fjhq7rgh5Yfft9gK0uW3mzntRPloYAjMKQ+\n",
       "rO5EX0yxL7Aykmqz+o5MOGvsXxQR60Lvio0422IMCasX5GbM1oN9Z5tsPc+ILsPVIcfR9gBD+Nqr\n",
       "2U3QT65PGbY2Ffme3AgKruD+iNIfYF0CJjZj0kNh/MW4mPbUOLViyV3/Td8XIq9p6VRmoiLj0qHn\n",
       "JhX9iO5VRswoAfwiJZuxEuYGKtbBmhnDfxJiR+tG2bu8viWc2N9rP0ccVdhEwA4u62mTKpkXHKou\n",
       "7mH5+v4Cru8EGI3uYyfVg97bPUbIKoyR69MPNA2j36k/Y8CU1EQAACY5kaIVWDmTYTD0hD2nQFxn\n",
       "2T9HWx9tHAl6vyhBitqeYqwHH0Rd/7Ceuvn0c0/jIS7fva+aqJdgd9z+POkrbbRvenSqluQp5fXN\n",
       "ABEelURxuaXeoIPbGp6LnwwnPIUUuHIlyitSGa6CeVar6/VaoS1Ls+BFjA1qfY17+XMc9IU3dVSp\n",
       "j77u+x/cgem93W/ezFjTSNKpGyKpUqgrj6qFfN9cOwWMCERrABoE+sJxHyEnhnwL3yy7P/rzzTix\n",
       "wgJwIKmum4nvo2cgBbXVLZyKC6NsY4ciQP7kXMbYPXRJj7l2NJ7pF5pDzDW9+1s3+nMJ6y3dAogo\n",
       "3uoKe3H2I/l/S4g3GhTtQRpaB2HvkNBZSO0l8bwxfMDcP0cxLvp7SPZbsQxBRVoXizsUnYq3LhjD\n",
       "UThQymEetzOB/2QvtjLX5xtOcd2pii3bSQDtHmrFbpaS1sZ7L813kkuT2TeBN08p46d88sCNNITW\n",
       "Ph0l2RdnLhJL7KEte1Z95Ze2jjE2Q5lTpl711RsZURMek0C+zXqSNTeFX21O7aHOe3muTdNlloE6\n",
       "DFEPuqfdb5Iu1ISmq8RHT4XFSLqkSPztkkQt4MfUkZ+rFSAzbhOWB36cospSgk5gBsHYXW2+/ukK\n",
       "f6fQlg2CHuv9mpNoBWKsVdlvPg0vL34MxlT1lY2obUzm2PmHrt8cHBfyBpCrQFhUE3c+VuuZhu59\n",
       "r/afSaMoUv0qhqLWoI8HUej/Woa/XIX5JdHgVsw1g5DDYeusM0RPjmq8DjrppHOYCret1rnbUEyO\n",
       "vt4LfnTG7qCVoeJjgbE3jnzRyGe9SZtCCIkyqDK/DrNhSyQte/Dgv9SwPcEoprlEsHWxt1jIRLk2\n",
       "H/BwXs/f5dA7dlt0u6LAjedpnoYvNDE5JYbG62/F2fCa6DbyU410ZS8yNfyoA7TaU5eVwW+d+Jk0\n",
       "cZnkBKD36IUTzQrdsg6dngENrqnq7rTaeZZ8ZO1q6u1g6zRU4uv7ckfLVONke8qm4TPX9s9vQQGD\n",
       "VnmYs7pDrKiC4GtRs9KiAlS6ieOY0VwO7UmlZgQrSYDP5jS+9qOXvZvjeiE4pl5QxD5AkjYn8Eqb\n",
       "9A1usfWBAvzU7AVBxLcUOLmDpZqzy+CTzv6YWuX0X6H4nnSKItdDFgdkdh30/dkZDTY2d/jdHa0U\n",
       "RonJ/HXh2qp4BF49RiayizQRI+Htahj9oaNQi5E3crJ+YNOZm2q4dYQZ6Bhk0P2CX0g3+9Q8p1G/\n",
       "kFpfrQVQ82RoT0F5ZE+vUw0TabcDFOSYAoBKPQx9F+NGhyypaPPNaUO56Pn2IsFw/MXlyc7liEmY\n",
       "8oMJZJz/ep/cxLmxJxsgs1EVd8OmyL8SEPBuP8KOhlrLeGHeY++Ew0ODo44NkSkum0cvXawuQa3R\n",
       "ouT49Y+l847TjEENo/Fu+LEQ3eu9BTLMZFY0wvSQ06UPabUTt7vcgf7B1KoAzU9NCiRKY/pb2gGW\n",
       "Euv2s5NoycHv00VkjfbXe52x8MHNXrxH0o+wis72Iol3mzGTB/e57+BA42ZwKQMu1VUM274DqL2l\n",
       "46tyATIAWPgl4bN0wF06jvOduV22fxVxHY9fxITTNgfKLUm6NYWSZlprQZirPqau3EbsITNrEeq7\n",
       "+9uH7v4Et0I7136AWNpWwvg9JUx9S31PkcKLo5Ase4E4xWU6RTIN0f2CR316IjSF/s4O+s+DK/RS\n",
       "gPXIgsJhI0AgICHUxBX9Jfa9I5zlJeangt8sLOia2acC4V7pE1fvHA0FDeO3xkvkOxCNXX/Naa1+\n",
       "RJPNlWWFl2buRI42Wb0QZvNHaO77gLQ37B/kls0a+pfsVmy6pVZgUzbTtOzSfozuE1wGTYB1EdSj\n",
       "NC9rABTkPaxj0Fv3UGikJYsgc3Sz35YWuRTodYM6jwJeKRI8WUKmAkdStU8QxEurP/AXJq/BqgCL\n",
       "DDOnFPOYP+nq3AG13yfCThVuz3JVHQnMZX3bt81l0dWWl4kfMR4hLL3QBOm87LAYZh4jE1UQRqlM\n",
       "GaG9dfbYeA1ru0eHUJJ0FIPSAEvl9ALGbvsP1/EwXeMPDZBQ+nyxc7nTTN7ssZ1nE+GuLdiDOUUY\n",
       "7UAeSM75PKoZMISUyVnaWQHqc5kU59xMFDfEQPe77utBq9tJxLDzgEi9fTa8CneI4MgKjCUKfGkw\n",
       "mcR2EjNArZKvWe8FP8JZXxxKXK/TWM22jhB7XBvMbV9gHM8U1LDHKZpOkppEeKACTJ3MAzFTR3OT\n",
       "vAxCkeVfOzKAyLvinYlBtcOdwYi49DmVKVjY2CfF6Tds6S54AxN/ZLDedyMJ9fxqwgHUEhnIdsvn\n",
       "e8Z//Y2atGfkG4/x4W23DQqGjkAgyhFMO2MbFXNgWvJRui0af+hwEje0eQ6eIP/kv7PY5gMfa0I2\n",
       "Ro2vBHom+fkcZgrVPfbREuPoW/YGUU7KjCLmnLplei3laRMGfm95kX0HdkfQWesi1qZgZ10MsQ+P\n",
       "6gDu3eyzyeQbA89d8NalaDaMBns+Qlu1iker0WyZvwUuhf4Q4B+QNZ84ZwP71GboRqZHcaH8jbHF\n",
       "rdIwXzQOE+WsVpm402AwaA/YuLl8QqRK1c4XyQwa0/rYGGh5GN197zy2rUzoTcX5vyxKRyrNSVDj\n",
       "54sGxmM/KB/yMaHuixRB+dtHRiCRNrT4QVnFOv/0haf968EfpDTp0ZPf9yi/2BpwAJvQeGxSgHip\n",
       "2RzC4d/9XSerJG5Q4LoYxn+OSKLTGPHMjYQLDI16lKfpbe8XND1ypyPFqTHBczofnlVD051tj2Br\n",
       "oM1mF4eCT8KoY3Y4uPP5QUKscHGKNAaiHT7fVJvPHuSEv7Pz+iIscngjb++NoZjDhNvAkgo7pZTF\n",
       "YWSvuzpqL0bM0zv7HSMF9jJ70WsVpm402AqO7f7UGrJvRaSMnCiI9VfqaU5iGRzuBQx7HqGOx4Nh\n",
       "CnG8HLbjcW1yVF/LzVHDnfuELCd1j78DEH+Tj9Dgn9SWBQkNoJ1bjU9foSKhM1XLB7o4pTTdt/TW\n",
       "esTJMM9bcRLxjNzf9eMpInQeWw5qKIyLcrJYpg6ZkqZTmqn53MC/ZWDmKVvzyW79J8hvq0m79Yw0\n",
       "kH51upr1Pgi37jUAm/MDmxxsASO9uZJG+HBvLt4f3mBRaF/eXlOiB6i9Z0sZMELCXUJAPDWTshF2\n",
       "tqzYZTpcV2l6imCVIW2VeDp5+sv9m3iyurkshaCjFiXAHCo6I+2qDk2GYSEFJisUtfNcDUfC9H2Y\n",
       "Hx+lJ3otUECXVk/PR1+cTnOZTrl0tjvAxIfnJCQJOKBRaHrBHNF8N3cqTOnmQN0EJRjQQEi3GfIO\n",
       "/oMs4DyTW8GkrYkZWfOavTMbA0MG9h4aVBdh2J6GdgQIOaMYNMsS6o7aor+TbFzlICvSCDjUxIYh\n",
       "0zVUR/+Ib6vy+A/9tXCnRfqB1leTgJaOXq+oPb44empCTadrYub0U1im+P2GoTIaMLUs9CaS7LGH\n",
       "/FOtSNOR79v103+EBdR6B1ZI5h04RbRS8ZONXCMg9jfvkCgvFCmJv3clDaGCgJyAaZ+ieRFX7QyO\n",
       "XmcmAlbLRhHvWe7V/EaX4hdOTURp5NnfGkyMXLTCDXNUzzNEBi0X5BboT1uoSPATL5mjOLHbiwVk\n",
       "EWhN7NBpP/+QP3OYif/NEd/4hmjwe+vv2oD+HKwjl9uEl24dREIccEY0NfwX8MPNx8vnE8v/Pq+W\n",
       "vehBZ8UOWSjxQuRyvBB8vM/pswDmwgdbWebtdWb0aIskzUCYVZGaFw71aXHc3WWgtjhOaNnEtwhw\n",
       "J1yQBJaGZgMiNYo2mGGtjf5eIWR2VnO5TMztYSPQpINh5MIDUYHi5DG2Qgt73+QpgiszmJoUR0Hw\n",
       "fbpnSF6BS43oGXxGqEQf9+bXG2OKqg8dx3mntM7aE6yzKU17PTyINB3LAFaZCStSPO+eTaBJbAb+\n",
       "FsGJfYpARJefQjJwNdfRzoNrksvxPr0T5k8jH5BKcxHgTJrwPrJlfL3HwdboNg1ls/QjfObjfb2F\n",
       "qh2XiCTwo3MhOpkE1grxn/99fhqEIXW4Wi821plBo3qm3/x3ujs4NtH6v3d/0WSgiqs1Owenn9kT\n",
       "iGr+InKVL8QS+OcJRhI5RWhlEnUy93jxZASaPjiPvhMJiQeo/xIdCmk/fincAizZ2dP21HoDffsE\n",
       "iJglLV8sJIevjnt8mE5qlQNAirzQ4go0lSH6wvgOQBxOnvAck9Q4EyL5d4RCt+5JIgsIg7xw2wX1\n",
       "wWDjIauvHUVoZTxf2MWyUT+ZUWt16jDNu6Ka3w7ng6UFXzf7VoVtwQRruh1DjEPX+3v3Z7/TfTUC\n",
       "CGskERc4sY19UCcbcldHX3QI5E+hb01L76Twl5Ri8djLIUhnDsxA+XzATJz/99gicjba8g5NIoCK\n",
       "NL5TflWsZ2G42cSJyRRwCk9efyBNCOey/uGxoB4mQw2JDCkZfIoLQ5jmv/bFekAgJKkuh/YGR756\n",
       "ij1an0Xh+H594HdBSmKw3c8+Sa7asEeEu4oLElt0b3nIsgaEjnOBDlmYR6jXVlBKrATctJ5N3Yfl\n",
       "Pp1/PoSONXa5yWrxZVVb39Mc8y7mzsP7++WYdBizswiQFBgZz53E4AknVyckiUUJ98NQ0IToWVUH\n",
       "UfDbatBAKn7RbJe+b7bicjH5DYw+Rkn9pG9hBNuydslbMGG3MBP8NmDq3TvYG+J1jRDIa4BI/A7L\n",
       "lBs4Hmkv6pWdQ2vSdiiezmKwHXsngGZNEih5K99hpQ518YLPyh6q9wJIFFk1B/xMivg1Y59UxEbA\n",
       "IZeM5asSR6EwAS3m0nUuo1zFj/d9klR7NnDhyPuDXhU9z2AydLY7KW1YPkpxhcV9OV8k8lM0tdug\n",
       "DKVd/hAe/kg+qekcNd4djWL24FUDEGUHgyErkMlzNazw8lFDrm/ZnYEy2QD8F1RnZbs0i8IFKdec\n",
       "HJLhvFr4JZLkrtYtK/zdC/mPJ0qXc4WCAk3wZ9rqr3bkRlmN6zi9QCOmSkV3hDtUPppnwnSqg9F/\n",
       "r/MtmAIzOI/pQ8Qc+HHbtKLCX3yBp7JsVaJ5j5g4PRLvZ3qfUzYafV/60omPw+XwcB+dDCbbBesJ\n",
       "Q//B7I0NCQZXkOEC6I6sMLTJtap6ER3n1FBWp5YCmkGyPPAR9ixwcSME2n0915PCQQQLCGVdiQsV\n",
       "A5pW42LseYqCmm5vZjK5ObI0zjM/0HEGw4qJ3abPR+F7ecvVi1EX0wBODsFoRgxOFuhLcwcfo7+w\n",
       "HWee9UCbONVulkRkCXHLd1LHVEFowBfA3T1ALwOdSPnDhTdH8+Cl09I7F3TToIEXbAD+N1uW+37X\n",
       "9/L8JQPiykAtkoFBuv+zxuLSMY0UzVzqhlqMbEBM9A35AEbcQVINcehLSemhKXC9+I/23Dhj5BOs\n",
       "U63EZc9P6n7vIBgXe45cxPAhLu2hcHvDsuM06LFE5tB82XpOVVdVWiwSg350Lmf+q56ZLCGHdtUT\n",
       "yOxy+BgefKTKYAQJd5ipGGvEebtRKRQPeredhA5TitkSUFt8AT40h1BJyY0SDmuUkEAdtjz/do1x\n",
       "HtLZ69xwA3IiurrT2xO/lEfmJjLM7G2LU/AUK8nMN9A2GcSR3VVDCEh35CAAWUHEKbYFwM6nfRS+\n",
       "D0Udw/rROxDJDYEHVANDOXOAhyr9mB7ArEGfo08JDUJ3uHvH2rXWbP/mhctjSqMqgbLGpK9pLdpM\n",
       "9YQ/D/Ev1GCUB1SPMgf/pOWY+D+c667okXsObghxO96HvoXJFTXt6OYVW3/7taVHLU7GAcHULLeV\n",
       "jsG5hf1itvUPYlxE7IY97q5UhBnx+9ULwukbG8N0TSCLc91ldjdwcbs96HzzV0LK8tGHNgoY5apk\n",
       "648rBpCBc4KoWbVcF4eIeOxBnhRX6ONBNYRb0LFd979B+/Mewk2t5VUFhdhLLUTwkJHk4mZux+VT\n",
       "zrOuy2vtBPTm1Dod6h8Qv3wdvfZX30QXy9PILGDYXAbq/bWRbtqs6Rk75sdKJZLhjJXuZTJoW0+J\n",
       "qgT5ymtO1PNYfWtXIrXJ9OC+zC1BpglehyUTYrFyDncFe/JEi6jps5Jps+tCBhHFgZAxyft08oXu\n",
       "9GLNVHbW4/c0UfGWyRbuJyt41FfQfc+SHU6Wdv/Yi4UtME/mpdv74iY4reao4Ld6p+iWQkLYQD48\n",
       "21h/Mge5zsjEKJE3vqd9SAhFxg66b1PkFc0gaUh4+84BtieXltxQcx5a47Lr2WsBW9IlzvIpR1FP\n",
       "dNKsCp3bYH92gts++PgEtxj26iy08C0INwwNSxtznm5m8NJWjd0HnRD0Qx+A3l5tU+fm//yo5GId\n",
       "GpyfjD7ucgkro8Pr7FXoQCZK2Y+ukXhvGYIblQXDrjl120g/izwmVFZITOhe1XXQkn/z+YXPLnSI\n",
       "5HhW4g60jSVUGMTu0VfCc3UA9y8NBv94rzWyLcH00cPiBa53rz4PiMZUtYMVP8l4xjtfaVLVWxHV\n",
       "Vuq5rJjhCbqtiPw5s38W+xKwV6JSO6hsBeJtkiOtouU/jXrh+6zYTJjKmS0HK285M8f1BVJ3HCvP\n",
       "Ba5OVR8LHRxX9YbXPF5bMFyCxXOkmTjgsEExLoNZqohEYA9MI/dx34B+FU/ys3ZxBbtPxhehab34\n",
       "/4Ioq1bWxZRWQg6C2gnur9tZFu2qzpGtYd9o87drpUtNELw75jaBqpuXCBYBs/fbvBLPs5yOY267\n",
       "0IMvTk3iXLPWbJw3KyAcj9haBeVPp9/cTB7ULcFoP6blltTswBQR7gIXouhbou12QbbRZeJjRcxf\n",
       "6Ot1jvxcuROKWmuTkqM8FDI8wNoguWD8lV/NMCJvQnrhOWQ5QlsCn49l3xEMzoy1+y4m53gB07Fa\n",
       "9vp+TdWNwAqFlGb9yiKFlxyEmpKBco5rU9eiEOP/xn1kh0kZQnfRdNiyyGx0A1TrRtme/spPvnMC\n",
       "sCohxusT/FNP496dor+FMQ0lT793H2v1Xz1AOUkYXfCGznHTGcArrfd7el4PxlXJ9+lsGhBdVFE1\n",
       "mZFpRgrft9evpYjtjH8ZChUU62ZK4w+lKNhBaP+2iT/Atf7zYuqcoOZYhYbcnx7wfWSeA+HnkHch\n",
       "ciDcjDXRxFSVAsoaw8ahF0tnHVivS2fGhDhdulZsp5o60MLEKOYiFxlXRHZAKQ+VxP+Vt/kzfSwV\n",
       "vDW2tEHLmfKcYndIOWg49uEWC1wguCVkoF5EOfFtZ9/ti76j8qLQQqokGHxSFxVz0EJfulzpDIGT\n",
       "TCYzk303Ud5Je9Npp4pChpvnDcXUkpkNTLg2FsYSC8DWRkolCoRtA5UvqVceEoVa5UM6VSuscAIY\n",
       "GGijfk/hwXE3Q2FnaUhng/U/5FOhq6HECWDwKdiSRM81ZhOqjpIFhteu0ANBx6+j5sSSCZNtKDUJ\n",
       "MI882VAUHyLY3X666/F4GfEFrswhqN3gHB97gF87wWHVBp5H6Zz+PaY3Ct2q9yURRxyRZzuEgfbE\n",
       "RqRmcT60nvgbzhGAQUS61FbgWLtWPUr///u/u3m09IiwbTzt/zJ8SukPNMyj6TzkxCpVvWcA1t25\n",
       "p+IP8hA9g3ci1BM3MM4enLqk8i+QGo1HjrNg9wXweV7DuJ7JlPGHAcXu+2JBT56RkbM9dGNr9LyO\n",
       "DFsjAtqZ2w7bmqSrdxZkmmz836aPy7hpeqtdCEodQFTecQBcsVaU8f2A9aXMM0yRrKcH5rbcQ+C6\n",
       "ge0vd4mKDteu5iaGAda6ahx59vHg6VppL2bhJXYkto4+sraL59KZ4XHfyGXCPR9LA8luLruLYrWG\n",
       "KePuiffvRAvUk21LMG1rpnmPfA+NnocmyUzgqAeqF2iZBfmdFzArhCsJERuL/pgLzStUS8KQarU8\n",
       "5s8tmbNA0YEAAAQ+QZohbEF//tqmWA/b0MABNaonh3+/6vGhtNbumleZWQjt9sjxdyX2sXY/bZjL\n",
       "n8hryCwOmLdG+2azmeE/0vH4zUyjFimuqD7Y+RNlL2kB5paz1PzFEWMecZ2v76aq5VQygCISBx+b\n",
       "YS6bZvnIy/50Z89W0iJhjkd8X9EtkBOsTmZ+C3lFDxf8tmPSY7rd/yQzDIeHjk7VFa4WtbTDblJ9\n",
       "hsNdzmaK2C8DNqC/ddR5+r/zc5AnjBEykdr+vqmNkzh0jO4XiPFfg7Cn8HvoUbmSFAe56jEfNreB\n",
       "UlzLONa8Fb7ufZbK7wYg6fBqjgmJY3iTDSNdhY+aU90cFtwwO9nYwZaXRhwSQFo/rXeILH4D7d0u\n",
       "YsIJACLFRu6YhH9+cTmjGrkcVcQZzD1hZP059BI2AtrRHQO+oScb6qKt/1EiFcCMBOP2itCDOYNk\n",
       "XPmtvJDyDKZy9wDTrpuzNWsXRhEN+JdGFOA96dM0wP3cP6Yk+2v2HwN9TI5y15aCEU/ziLs7vfxu\n",
       "yIjIDlEhCh0AO9zWU6HK2T03+CXQHWTkZj8ro7cPe029wIS1bsVqZA7lxhTPP8W7Dd0TD1FaFbLi\n",
       "qdmdTcBVT4X9FDfT2g7cITwmHFCMBy23upOx6llVJpWjQ4Npg0VUBXhVPo8MbqqKaVjzfIa5KWHE\n",
       "jATwfSvNNYb+0Uwes2z9kTjY+hr8LnABhqB2il8ISIsWUSqzKAq4W15GncPkaayAWkbG0fX0g+OO\n",
       "5ni2uuAOkjYxmr1+Rw26sRcoF7yiH8a4sxylcNjizu58zF3tQkPRigMpU5gDcbQ4+jgZ6ww5z9d3\n",
       "URygGEa/D/Kf2QGxjub9uTEUk1RU1Z1hzFnDleLLwrB6aISsJgjSbhjT234It/lwdzxQTDcAZ8ax\n",
       "O3wyfiMak+uECpxHTw1NOKffoXvq5uB1B2wjFf3WGO/VuaRrXq2ro7CfvhogVHvnkQrxwtAtfOyW\n",
       "rBEFccni26aU6MqgcAbfCY+m/NL+xk9usUEvXlWjtHcT/X2Qd5JgcXvxl2JW55IXBV1guJ2hMW8v\n",
       "0bRq+DRrPEDcE5/27gfKSd7RAR2Oq+nQREw+0ZrRMzO0jyniFaUDu7OvYQeUAGojf1LE57uh/bHX\n",
       "iY0q2PqCI/HeCo1zUjotZgegVNgigkey4yc9CtXHRylYlcGyD5lP/ZujyrIltIXoGnv58aM1ZSdt\n",
       "is22p0920uBFau2DJzGCIfUTJmDzZz+ugLVnn40ng9rlgZNat1Srkbo4SttzjgQzq+5wH1VWXDN/\n",
       "4YgT92weGkqussmScQY29GhnARv7gx8kU/pKXpnLHlzJk02yyjXEkUdRAET4LbeQVjMA3HaOmy0n\n",
       "pQ8IMzQscDRoliLH7GEvhwejbsVEpf00JDgC/W0c1EtMyR4yF9M1FblFntrVLHvIk0LFntclw90j\n",
       "7e/obDs/doU7U1n5wsqAAAAETkGaQjwhkymEF//+2qZYD90mYACa1RSiAfIB6zZ5dnvsgQnpQ0n3\n",
       "/d+UConPlCgAGC/1KXo9VW5/F2w+m3wmEc05UEDlXLAqkPumiDfoZLDO+DaKGpdmyIhUSKdJy0kx\n",
       "uW9tbeozEuIVk7kFlGORj8wT9iaSI9XxhDl4xh0Yg99nX9vXgfMLhhuigSdVPyyIyjSUR6ZHeH+j\n",
       "EiLdN3DN21i2cbu8m9MUmULLtPOJf/kTyKe+WPfZ1YIFHvxbPhWmSi2gJTCrnInvb8TLvi7dnQ31\n",
       "cbIE1AIXgdoetCGFwvy4sVeztMXi5yzo6QnU4ZAW1WNtRn2iSYdmcRq8cNgCNKi5AntBiJMed3OU\n",
       "z85eff1403NV9gQvkO3div1BCzogW0MBCGix/6Qvg8ga3M/AGxcc8GR22zbfGt1sFQbuur82R3ax\n",
       "1rcbqP0DrJL9rUksvwkILnolF+qcgXhaprP8eieGLr1F6vEIXnDjteXlrIRnttJghrMJFDrb684L\n",
       "ZYNHuMJyrTK2KjJrT3QqQwFnO/V2DUjf3CN5u7/OP+CtD6gI7PMGt1gCtK/2Hc6eBF545q85VvVg\n",
       "UPjiSESPLlhtPpY+D/g8mY27rLl/nC7+/srSjkSh1aytmW28XY4sxnWbMu8riMnHc7CziHdQw/5t\n",
       "EkwQI/skcJoYBDdQty1BC1rHpuTsEXpT0fIX2i+PwMmnAkz8i68CprWJknEs/HriwIB7zu+KfB2b\n",
       "Y6UIBgpeZ4zBNuoUp934gKt2E7qPEyubp6cInUmPHfg0SwSlzd5Hhs7r3PuzatW1jwcHOce9a6Ih\n",
       "JyxNTvX/tQsJ1TQKuKGw+eSQYCgZq6HyK1pV3hpsaooptQz6hzSppu8ZivlGjkNJFPHSQidqQBSc\n",
       "BbARimlnfDWgtlcqza5X3t7fDHNg3hX1Zs1dn91jI4+WMX2Ge+w/Vi3DF+d2HOvqJaXe5enGPvyG\n",
       "Nv2TDQC1frvr9oGdVLzhyy/pb9uCO8ZunqCsNrvyJC9PXHpm53wVXGmq+BXW7ohqDwVbYnkzaCjv\n",
       "YQJDCVIppwW3VNoHp9jXt0JnsuQO9fIfut3Y51X+McoeqxRIPgiqlnpYIfam1/9Qv3Z26EwJG1UW\n",
       "OhIyecpoIjk3z91XnrW5HxsWElTJFYnHYb0rYfjgOcZsHs56pWytNMdv2AM22/7RN92TxzE4t07f\n",
       "Bofw803KAzEz/I+bSFtmHaeedPT/74lDZuuhNzN0aVqKae3XigJLC3Vz9UTTUzxpFGhk3qpJTLLc\n",
       "7OvvVUpMgQ9jK+eMgvs23FnTaHRGe1tBtJEfvpsWZFzKyQHL8A9Nvkk0W1XizZcogYA6yVaH7tcm\n",
       "K6U2BBkniOWjVXz3hPk/4hw7iBHiQXfFrISwQTQ2LCetpqm57YHBujt3/mTftZdWZbgWvO7dvfvY\n",
       "whVz7lCKyheIQgQk0YiF3b+HVHW97usE6Mz1RRPevKuvUGQAH+EAAAOmQZpjSeEPJlMCC//+2qZY\n",
       "D9UDMABb4p55aWDFlEpRrImAoKhfzKRAeYKewhFRX94f6n+fnnuX0f9Nmy6P/fI5ND0qyTzWDPID\n",
       "kW/QFlKn5Yi9XOqJrt0KjZ/5sxxQXnuVaTt1695tk7z5Jagv14fa3lnke+dOLmfB0KZHCZriyizb\n",
       "MfTlw9IguRR0TpsMq2r/8iD5SKFNnZR2heymHzUemJGHRIpPDay0vBXWbnmSKl2LbMgEddI1n2CH\n",
       "iIbXUmg+vsDLhecfcLEWTVTQbnNovqjubDlupWG8ABxrHKzBdaichMCCrMBRhMItlrDUkTN+Hj4V\n",
       "CZMDMltzobUFxxKq7NA5PfIdvf3UvtpEK05L2AyiMjc0yz/fbU4mH5B90hsIrDLwJAUjew/zHvhQ\n",
       "TKkTJUeMbNdVWtF6xu/6ntvaRWFdtGghDnvaoDvoRNHcdhPB190Nizn1nLt/2FKtJjnsn+PtTUAT\n",
       "TieqHV7FUBap8e6bAbZQNVHHUpfXa9OqsoXWkWU+TTHGQiHAP9kSnDnt4Voq8MA20l4PNwRxZ7Cj\n",
       "VMFcdW8sht62YJBguOHDKtCWxTGE8wLeF94+1wS52flz+4hDvr2xaE93PIXwZnb1f9ROXMsi0hhr\n",
       "7KdkmSiq6IHvgAZpXH5+CSl0xPM9k8/Zj3NcVIXpUmoYP3+8Di6pDDudyZ/J3+eASc6vijlkswm5\n",
       "6LtdQk77vEZ24Pd7K46iMiIEMKBnr283EFxZBN5GAxI+lljgdME8Yvqe3P7oAveokQHL02pqg2eP\n",
       "G0T2y7ImYm0nu92y/yuoLAjzNhOSmqmDI9b9YPMCw8e9KXh/RLnR6Q8OOCrKncNgQmzvaM10IHjh\n",
       "rAYO+E9dLUyhy7W06DOWipki0h9V9scmg3au5vAqCJyKlbtGoIhReAMZgDhiRhO6EKXrPyjzVwnu\n",
       "AEBlOvOojnLmtndMhxP9ImOiubCO9fVpmLffIW6k7cW/1UW6vuLiwaBIN6t5lrQuB4/1bvK+tLE/\n",
       "f0owz1fe5KrcyobwpvpbO/iCnM1ZBLotyCXrr7+2cbB9lC0HnZGeye+9f1CcDuVZbhzT3R6m2Gkw\n",
       "s6X2vqU7Tmv+yXafNAzR99PgznRmyylSqZHLAYBcPlc7lPjtBr4pp1cy82ksvDHLvRZLdlkAAFH8\n",
       "aCcA9XVjA+9k81S+sYhfexPXEqaPMG+7DGreB1Wqg9eP6uDqvlsM35fiCsObNNi//IGmmR2AXZLJ\n",
       "5DF9RzZ5ZQAAA19BmoRJ4Q8mUwIL//7aplgP0vWWqUFYdIAbtvyiFTisYaYbWAWLxNqCAmSwXjN4\n",
       "hE3K4hvgVxhyY947Nu/twcmnvV0bFZGm+HjKohn5FxdpM2FDO+OqiKbNsuddU63ayYS8piw1YnTT\n",
       "zkrynAb0VNNxCymlcTmAbE1zlboqKR+fbR5f/8Nfq/C2MzDIQ5d7H624duiSVk6L86apgLoSZ0zL\n",
       "XAfYhlsvNr2649AExNPTNAbNSb0h4fIhAp0e6e4ZxYqURmjlTnManNGCzg+KnS1ivTDeW/HXwV93\n",
       "3UcCXNXlXNtnCIP4t64E40WrTElpKdRxvhUfDe8+PT/m6CyTpEkkyLUcd38FGDXdPzt5dXGl6EFw\n",
       "TLmJAQWkyJl0MxNpR6fC3RkfTTeRIiEP7cqAhe1VUQVrdbQp4Yp1y2EyPCFLbLSRiPWXz1dcYP/e\n",
       "/ZO/BzwqZ6kGcaN6U3Adviq0tvAS4TLAseplTRHtGCZgxcaDXKkfZz5lND6N3lLHPFcjca7w0f2L\n",
       "3P+UkaiqWXd9nqjMCSkqvpcne+Z9oA9ZP496SqyTQzES4hwg2bzCnL7PiWHd1cx/c39bNNhvdUZl\n",
       "HD1vcIBkq7HFk9ZNOeqpXaj5+nWXz6uNW9d2IRRkSkGfO2UucoCmia1vXuHvuGdE0dBJHM9dKZUC\n",
       "4MufEuL7jm+VeoT2zt6ZitujVztwVj5bPakEOlANchwHtQSEdeyabzhfrVKkSuFxrQnqPtzqlh6X\n",
       "lIBc5GnVY99e1gekdTrUXpfWhh/I9XImGM7e+U1unLxU0JdcH7f42dGb2OlMASciQzfHDYvyFFI2\n",
       "8AtpOFq0aBbFpiuN1F5RT7RVwsrhV7rT4eF8987PrAq74L551urSJhecv7ijVtUVk0/6gVz7j3u1\n",
       "XZzAe2Eeunn2gMNmglwYXT6RpnLIqIUxljqqfCgZe7gkOw1R7LJMZlb8aQDGW6NCuB6e0dGbH57E\n",
       "GoscTi2ththy4g+rpHRde952/DHAPuC9rr4Y/lYUnscyFfgNOfeJipLsapa3OX2vFB3DLErYTTm0\n",
       "aGGQ0dOaaLKdG+Aw9WMDulEEd5gQRNkwtMcfipGXZYwxFSzqIc0AXU/qctRIfHwg9USCQu2pdKIH\n",
       "+xLfQxw2xrPfgm9mnHdVm3uxoQAAAptBmqVJ4Q8mUwIL//7aplgP1QMwAInFPPLQzCZzXcv/v4tH\n",
       "xAF1bNORgtyJx4ONw898cH2JzVayef+0rvk6K8awIabeTIXPxVUl76zizBcLiIM+2nL8+rIKOsgI\n",
       "gh/GbzbCXlMPl2TDPp1xy6v91AoRNfZAl+dxt87kndG12obBjeyyJ/zcrjCUZSMnxV2aXpi8Rsb6\n",
       "ax3DhRY3CpSJEpkG/0Jo/cnYzONkq/c85PkWcjLLVEV8d/XYmj1VfL/wDgHgYSWdYYMRSMjCaN7j\n",
       "m3vAW11ddwK+RY/Btx7ie64kLPj7K6xX6kxTeIdTlyATZt+ojXIS8gUH+P/8+Ndh5CicQ/3r3H2f\n",
       "4JXYyKTS6Y6P2/mPJkz5jnh5+6c1/5uiky8wYlGNy3PpP0JH/8w/oAelgzQbsWTXXUabacZCKoOf\n",
       "jFR7xhif/wSl9kQB62qbBJzSVrowpOPKsyPVnBuZJY99BwQeXg7H4PM+h3yJCuDG0E5o5Cu4QGbv\n",
       "LYlliHv2oeccvBWFgHMTL9wQxPeNhx/kVw3YsULonkVo7e9aETZcUuU1dMgZxLrBIWWfUcGSEcn7\n",
       "l179+z3R2xzcapxYB2z0zXhhnlbr45cQ+9puWv2NMJxtYq2eIm5ZZXXLNm1QHayLqvz4+eHmkyD8\n",
       "2KG4F91mQrVz8UoIsUCMehs0BHU4d83Ks5EAWIhxy2Py9g2IEJWC1IQTSEJSG9c3SbLWCC/HKiIL\n",
       "S9duF6zw8+b0kJP4erovNCwiWDrnPRmJXvSZ3I0nTMORty7yOzpQkuAIYdUx+G0nZbMHfmxOS6hA\n",
       "3yP+i5x6Y9E38YCW4EZEG1zMtE1+/JTQ0i9Tu+2Fly6tcvHA4ThZduN7RmyTAG9NdgawIITuJOta\n",
       "bu+zu6UFAAAHXEGayUnhDyZTAgv//tqmWA/dJmABXFRShb+/wGSuxn21v1slx5B9gEb+eqfMFVTu\n",
       "pyBKOTRBs6OrjdBIdB7V6MA3yfTh8unEcGviXBFcCeBdygMTZJ8kY6Oy1D8YHP78FbuTMNlsljVq\n",
       "VplyJo16VgYK/Zjn9zHjebZO8+br4Oirt8t65XsvPXtyWqRTh8P/yPM5QUpKhs+a5JypB1AEfBNx\n",
       "2wF/QQVgSUbnfGA/QrK0W5B2/XQ9xwU7HICSruYgix8dsma5oTDR8IXsyIEeROFPXDWofwsp7jCf\n",
       "opordiIWbvn286dCOkKCR9lnE6nf/0Uh9ctPtyNnFCpgsP0Z7Uzc/6fweTQm8R+5+J/Hml8y9Zqx\n",
       "mQTjc6fmUkPAmOTvZ1jZUfktEnAwVzucRG8iIFev9jjX1HJ1xrcX3FBHD7cKFrklZ+Ecnc8Bd2Pj\n",
       "RoyXVnqcEDKdiZ5Xbdbl5qWWpROwnIVoabZHpI20hp9Y3M9n06ixLycq2J/BmOO4qE9yCPiPJYj7\n",
       "yo7WSHKmm7aopKAyrkzAT1Gfzjsra0vLDRzTegQp6LFCa4aTtEHftDfqQekge50FdU4NJu+wwiM8\n",
       "zH42cujAS/aVOW6KWemwyJU4meVWou9d5jZfj4EQrr8Ik4MxgI1u5WK/idwYYc4j4rdyIwMfG05e\n",
       "Dgs/MXtyzV/DPMr1zPv84UrkY/P3nYgDr22LWpqfQQ7mqY1p/f10qZAdKZjcRpTYkaCUp6RJ0zBa\n",
       "4fXd6cFO8dB17NLdbbypW+By1dA1swoC3EDW1M1Ad1DOyGea+7a0EcD13etMrxNJn8r+7ouW57bt\n",
       "wOmoVxMu7VODJyKYNIV8MJME3gLHd1xpZ2wqQD0oNZAFDSHWwUG0LYSdZsK033d5n/4dput84KPd\n",
       "fXhXSyvGOIAom0Y2Fa+vXgK9bBBSupQbTmUnzVfep7Cwl30p7k1zotkBUMelFnfYnaOAEaLrzFcH\n",
       "WRLkHGm6TB+Qh6gquPKaRxieZ2VSSPlrR/N4SHr2OlP7cFUPGC62Sgev2gadNVFOvZu8M8iQe2hX\n",
       "r3hLmu3otpRiPkn/b1I1qXCTLkFL1+dIa16cyzyG1WaKaCNcCHyMZ+4XZT8hPS5giwDhjI7lj92X\n",
       "lsIryUVUQrl8wnki01eIkAThYItjXGdS2mGZawABgKunOhY/HI/saTx7t/lAgQd3DYY+DRTwB1jk\n",
       "uFjZD60z4ru5XBa8PE6HcmaBdS/fswm9U8ZOlB0LGzRBAILBguex6M6NZzmnpIt/3K4zPbXi/K0w\n",
       "Bzlk4HZNaQ6GSXBXJDSPgecTna4UpXf9oz38iFmo4v34YF0BlAzmWFjmY0fEuxn7Ymg4Y9usy5/x\n",
       "iLpjZBdD1jVwITrwtPNeg/RJP2euqD458/gHeWYFg1KNyapc/STJ2L55EuSCOPUbC2Vif9kFVyrV\n",
       "aqOctu7PrmXjKVdCHYnxbQgMJQ5TFOsPgBtZfj5k6giVE4etsiPhwk1BC+ekRhq5tU9iKJluyKWI\n",
       "LoMJXYOrCzEY0Ur/Og8sh4Zxw4hiX4nCdLwXa/SLNCE7Zbju711LG1BdYGxa2zYlaaqxqeky+Ikc\n",
       "lI7dF4HL+rBFiCXZKhQ0WdBRJe2EGg1ZM87WXbhh/qCc0AJjPjaB14uAYwnQFyMoWlyVk2lt6g+d\n",
       "/TNEROPqN91wh1ROwxGyEMA4VHlRUtNpvjlz/4RepRTwBn8TBNOshF+Qbsyxv+4rDa3amamUfg1U\n",
       "VQW6vLb+DZuUSVQc+aCosQG+EKCWJw+lMa8WcNgTNn1I5fHc3buO/Vouf2R0sItd38bJ///UJAv2\n",
       "WNbj6ndKKEy0X8vkv2Zopk1bfpGLfUBniyN0UBaThU7ScrH/XFUU3ZvaSvZNUwBLXX2xGWL3ozMa\n",
       "yTXsvVQsmS/SqzwVSIG7cO0MI18PLgiih5FqVXgs/mm5gu41chq2+WrUu0ZjUfPXO5jAsGYSANej\n",
       "RltEl9ezFlkEQM4H5Sx3xE3QmLFYBoonC9duZrGl7mW97jIlgPIGijJtSlZr1nFgT3HdBKMDjA3+\n",
       "Duwg3SKO5+HQX2LineTpFEmNXcagk7jjQMtz6EBSz/ARrLyiRlJUg5A2dACMA7d8GB50wWijy97B\n",
       "K4c6vzn3pVMqDuY5YDm5CLwKIfu1PEQB80lEtiYz0Forg6mtFaZW+3l6pY//Ph2s/eItaSkTtDdK\n",
       "q9l5zUO8uEPhSz7D2okFial6WdOx1w6QJOCYGZls/d+BpnPDL6NUEEQlIGI2N3PoocIkXkJnkPXb\n",
       "8ZqJWB6KR5NKBrk886LhGEjM9SnXHAr1Jub0gdR6feUlD9kzspImeNP4VwqosJsp6TLyhsDpQBjY\n",
       "CFXyjKQogN0GtGNnpjL56XBfyU+DyEkf6w92BSITumBXA2CVti012LriOrIrz+UaCfSV4uJvlA4X\n",
       "DZT14bNkctgd20u0o6vSfiRbdNdmLxGhG/uDIjw8hFq3q4HL585q6XALrer6Tm3Ip/fpSD5yvubU\n",
       "TPOBOAABVpCqJstaEwAAAqxBnudFETwW/wADKA0ZAADtOASiTwa2z414npSyG/EyGHG/slEE7Ppz\n",
       "T+9JFpPYmN1NzSXRsr8HfO8AecOzGiOsCqoYCLwBNy5EtCtZpbH7qkVNff31id5Nxhe8U6AJq/YT\n",
       "a3s+PYPYHbH61Mnd4AYEuWHHwQmDq//GWGS/0nxDzMTCoOU/JG4uQolsdHuWvwDm9okFabeZI5UA\n",
       "bHK6z9zF/4W1Nx0amjti+Df2P7EaHwmoXITNI4Ez08uQJPVXMc31YRcLbEFoyp44EGlYi9MmAO04\n",
       "kTgkPJRgZul9JAd3Ced6m/EJG+giup9SqDdVTctok0mrA7BYtcchfw8StxKc0civMU153g6+PqCv\n",
       "3JqwGRQe2vqgx95ZefOUnR1cFvumP/NOMfa/oV068wm3Iup9WCfgfs1NwKsrv7/kXd3lt7ZrsFzw\n",
       "CyJHq+74hY+Ry6i3bdCWsYpkOjffspLt0Bu1kmxaSGM/O8gIYU6dAFiR1ZjEKbtrsTApj77Iqy+a\n",
       "QwXi1LsU2Yl51q5i9YqEw67FqoNWLVnFevX6b5rlFyzok1GzDemD+IDOqFAD9bnVcXT+nJxg51+Y\n",
       "VOkiVqfvrvNKTKnuh2qmM6n97n/amP1M+0HsxjO29EVUTC0T5pGNtbvn6M093vINqibMuIak5SyH\n",
       "P0QaCkXbGYI87EddzmRp5n2G5lIdot6ltuypB//ciJYShjmsg3tAPTZeT3vt78t1LFtTCyQdTxVy\n",
       "p43S2yaA6igI3Mm9oiJ4i4agu6SSxdGuQ1W9PUHeh0BuKPmijdyyBnrW0K05IuIU5pOb4nSEygHm\n",
       "gqAnyqa6jXBCJWiocaJnzQP9j28jnaRk2oTRumzT3qvFL9gbG2JmPHBIRQpTKDfFYfuQXMCjYBXZ\n",
       "0+l6tXnniIZKDjlNWJmjG7EAAAGJAZ8GdEFfAASBf/PqJvIN7QAIcYZlxF4duxa0cjdqDW7d4+6/\n",
       "A1ej7l6AXEYxNt2e+zu+OBQs4kPQEr8Knoj6uOL5kQfvf3E/FJmQbGJHwf/PjdY9wJ5mZ9k7afp4\n",
       "K2nXJRQZfmI1q05CeNJzzgTtiQrHtOt5SJ3q5rF3M5Fse7vXtLgxnJvpqVczeZfw89VCvt6Wdzx8\n",
       "vKepgw+yJqsu9A4qaud4U84USlDVhYXW89L8JKeSBHZlm+eNVomX+9Xm2sDZX1qAArrN8w/om8pS\n",
       "I80eMxetKApGQFMYu9eW9nL8had8vcJz2cgLe+K1EY1yzh0jY7t38zsNhi92CeEbohmOLCHHaq0c\n",
       "/0qdYukQpoZo8istsIyux6uWz0Lo62y3fmZWVmWbIfyVQAhqfDYLerTvGIesWe2SDJnAz9uFrZIO\n",
       "VFW21Q46XTusOzcQM/5VFVyzdM3UUJzq51dH8BaCjW5ZX1HXSTVIgHfbxnTnovDA4f4qMVY5LRq7\n",
       "ty4vOCvKvD+S0hFf/cGAAAABcwGfCGpBXwAEghmhQ4XoAEQqAGT6+16Q8RJiQPGlCcl488JvdLoB\n",
       "FspcLkVtrQJroaCuqu5A3lxC/T3S5lJB3X6OZ6DdeSiTyas0A1uQG5ZzV8a6yik0QbGJHwpXLLaX\n",
       "NKIEblnxUyDWF8prjENb6VhGEtWS3+9KITcjaXN3XDy1enzE+rKtgRQLFL6xfcqo7y/ViU+wZKJH\n",
       "BqJH89pkI2HYWOPxbSLVkuUOKmB1lBsl9D+S51BPn/e7iYBfI/0VoPuTFfE4U8v1lQD2++VOwsZa\n",
       "/Opq6Thh1xQpBQ68bp1lEny+HwloBoeSlCJjuY9CJwYyXCprrAX2tFN3MEcY5EXSoGRAYXoUtjIV\n",
       "iOhDBk2dWUfNgyPiOZWDB2ZqUpe4qzA3K3N6tZeicBHZOkj63Zp4WM3hwK9vbR25LryZMd2/fru+\n",
       "OxziOLfMybCPTik1pkB/1UwQdGzPBTzCwpKWssO3xjK0oxo2dMAQv/7zhRayZLjgAAAC50GbCkmo\n",
       "QWiZTAgv//7aplgbduoSpGvXmS+vW9L8DjcPIczAEvHI5TReXstKoCOm0p30/NQaazTJOOwZeMlz\n",
       "Vdo4RcYIHnpaRQ2u06QqsHPYBYsZx4hWwEdDKB9n1MMtSPTap4O7ListdJxl+bm152qxOVvusZOl\n",
       "ZENfkIenvMBmzWFehlI585zL8BIVqZqB8NxnWyXCKxmqqxFR4NhgDAkQeThbyDaYp8I189rVWLlY\n",
       "lrNlFS+de5JxucM0SrfZ5vdPna0XyeOvKEubVDGvarBl6+U0wZ5keDXG6CwjCOzEv34rseO3jZTR\n",
       "QGH6jIqOrvla9PxBqtXSqVDP7ouxoz1QgZfcBmQRoeqwOLNOO36g50kg02Qci9X2H41nMjHqAjU3\n",
       "ybXXFhtsd5WUY37cO98bUwweb/7vNhBEKshVukqMykas4pzdCJlrlVvbW8OoGBKuHAuTl9AZbUZg\n",
       "eF2CsDr9bPsQkVSc1o+ImSQJbzMpH3OMpuVKQTtdjXuVRUbyxDCM7LPv1bIGNm0WEJzlq0HlWCYA\n",
       "RCVR2vYENcnfAGSzfs6B698FKBlTl42PsCXMz37k7JuclYE/k4D9w8PJQsfV8DBWZdbJxGjCO1v7\n",
       "GEc5NDU9iS4rawavAEdTU1ldh/lBBuzkfRfOjn+squ8WCrtKG/VnmIlpxG3Xoq82foz36QoNiQe+\n",
       "5mlLb99X788OvMDmEaHyQ0JelAiNgDzLk63aXp+9mL70Ggxw8HL8kjNR8/iRBSDPo3RlIUwSv7Ej\n",
       "QdDygD0GPRHRyfEYtvBqLg+N5i9yyQYXo5i+qOnfeney/FjbnZGOGKPCMjR6Vxx3MuQ1U1fh8izY\n",
       "zZooseNpgTbnn3iNUwAHzimfKNcfmSEKnTfznM66kAC84pHObi4uoWUc4H/WebKZmvoSLOhOBrK+\n",
       "G6pE1zcS5r8/Yv2K6uz8Uzj4kNKWnSff9MX+lfeQlBJLFS4Ha291Z1ecejOikILfLMfdRhJnAAAC\n",
       "UEGbK0nhClJlMCC///7aplgOahOpNPvpj4ABOypWQ0plwSWKiJQsZrwrkQOccJxgwmdPdapRacQv\n",
       "WRhoBx1ht3AVeuKkZWKdRwhx6k3/zRzvUpB76VO8306lXBd3W8pbHwwYNHbaKH4rjvUG/ZIhYa1M\n",
       "TEAHHD0nvHMmaX4ZJxaMfW6JRd3zVQUpX04wSmkd34gH2kmGWD7fZBJGCHxrZIjlwcyhfHHTDUC3\n",
       "vdpeA7VIi5hcKi/csx5YvRLCzXgrTZSUKSZ2XWJjualeLV51JDXG6CwjC6tZmHlo5ibnJRAwLEiW\n",
       "dwsfWb/7WmTnlTgmvzaCAwScOYorwr+WjwSePI0+tzg4Sc1wSx//ULN/qMUTlaVaswLwCAV564HD\n",
       "zNyGBM5ZtmcOde4zZHM2HPRYz3h6vLwVFtsMdd783+xiU3dzjVhZ9xD7RIvtBr8Oi3lmdxPy7wRr\n",
       "3t7eM8tw2KoFF6ZNBVa5rhu+JtNrt/B90P5jGsYQHjcEjkGWRL/yWHq7BI5AS4uwHAvwKHIHiHBt\n",
       "qez+xuRtK77MZSE/yw3QBEQLnC61S/N80kk0vPy4snmBUN9dCg1+Lw4L8SFh9F9PqDSIr3IzqRZy\n",
       "JfFQMv2ZNzz5xthzs1PwtBNAlreQjnCPo6EXZTcWwITrzm5hJ62jbq7c9JcQCYkmBYlyFi2ym284\n",
       "xY0eIhEStBqW0GAqELzMtD2eoDjnwnevn8z3HWRkLggLzvkMuv3cYl+x+7Da/JHwvFcWMas+UpU0\n",
       "bQmhs8qnCJo+ez5RnKLovNxQgkCUEP8AAATmQZtPSeEOiZTAgv/+2qZYDgYmgUgBbvqlDx4jF8nT\n",
       "lIoI8fmR2TJcHMEiIB5Cnq9brFT/KppU/0pztBBiV7wDr2IEM17QcpCGS/LQeb91TfUEQMu/geOh\n",
       "kPxHVcltumgaArlVfwkbC8ERZhZdXfdXuDsqbKHA1WtNp2ZQMYKGO9I8swiIW9qh+HcmZEKbrWxs\n",
       "odzFxfCRyoTgQ884pDGiWk6+6eJZDUrHUG9jD68I3vmuh9xLEw8SP/kDzhYP67ltf6ZRfKxWFfOR\n",
       "frgdmnw2CH2II74yFMG/go3wyQoojY/Iw8FK9TJd6K16Gky8zr1rFw6gzQbngeDwjtvM+KSKy+L3\n",
       "7lW3adWlF0FLpag9Ag5EctJXGEMBNOhfRmrEMYws6AtYct4xKDj3eqtMYTyYio4A55EOnNEjquY6\n",
       "ns19XL2xbeCxqm+TNZHE1IeU44bnPro5yqeX2OeoIVoOxl2UqcRkRUmhMfvkd1ykthm7trO3gA4F\n",
       "RCPKtyI5UEdn6te5I/ND7XmxCgr4fECu4YfQ0ndgIov6KGANK2vy8vmPORRKOU1OaKLsqMr11BH1\n",
       "K4s8WoMU9sF99Z2R3okV2lLtrUXw6Ds5Z8pLFbgfumxcCBe1jN2agc6WATa7pTd8rSvJM1jGi2Bl\n",
       "RLTA1jIyFIVu6J0UF9lWxhtlFwEZqNWoP5IeoBixZymtkr2UAKxbRxpbdLcAOfDUVR1PPxc00FXA\n",
       "Kuk3iTw6BcLLLsVTJpZjkWmoFGqrMM0i4HK8qykj73XfDKatO2hPhGGh5atOrNEDFTA3313L+/vt\n",
       "7YQfHeaSWXwQAXTRUIK2nxLGrAWjSvTIwKi4gd0TXzN7Cs5FRNthhhzpMNdOBM8BjkoVFH9nwtPY\n",
       "rXfXs7EOzQ9NtCo3qk1Pr3dR0ppgOSeTpba+2OGSlC5OqbDDWemqfMEWigVPCoX3IDgBFOpjrrlZ\n",
       "Tn9YUXHOimcW4YMYEjvq7XFzxKbUOy2tiXlNQ5j3Z+ZJ1UEeN/xhG7z+mC3V99ToMzIz4bwOJGKG\n",
       "IM2VuAvhXbwQKe9RXMRhIUxAuibaSBUPhmrB4Ns2xNPWwY2kTBFCRyO1nLVF+gN4zkLg1czpkTkK\n",
       "iazPUxhoMs3NInqgkKGfr1g94XTuIsQo3lYyUmsSLuGmd78c6OrqNM7eXYHvlOl0ZnRGF1+xFz1S\n",
       "d335/kvwfpWXHVNz7GBQzL9ml766zysHJv4pO5VbTAWcB79n+fGWzw4cs+F95CzDYyrq3hMcaWBx\n",
       "SwU+mCjlVuNGXUfSQfckvWMeRhQMxHIP/Q4SqLCfrenOPjboeJaZP8O+IVvhUi9FFnAXC+LN2y8R\n",
       "rHcrKwxE3Sz4FagVcK1KWukXVrksWiIwbtcNgYxvK7mE5layuvxkTIVm2OWW4MYgiRh9TJ3GfDUK\n",
       "ddYFaREPA1FgKU51lB/AllD2okvT18rTFipS3UI5G/4ApbXEzYTuaeBEPQdxOqhoBV2GKinXtN/H\n",
       "5i2Z/a+LPSKAC9wYMRLE7n8RGa4wSF/FwHduvaJA0iCXiY65Jlu/3AfQIowiPrwPkoJnNbPWr1r7\n",
       "086jGZMpfto7St+TPdU1RA8iqK4Aoxz6sBsusMieSANuNSCjgJNrGXzXNEvCLbjL8LiA1IIazqPq\n",
       "MnbJS/zMXQSs/20AAgaDxJcQRr8V3IrquYTEAAAC5kGfbUURPBb/AALvhwzieQATS2hP5PeoRNhJ\n",
       "2Zn+jgzTuD9Iqk3+gQ/u//gk8SV6cQlD6sBp8MDin2+FEJklZzBhs/i3Z/EA16scx2QGX3JwwFL/\n",
       "Tl0wGUxwPimnUgY5yp5NiJMBRuDiWHVCXpL5XQE/zmdbOpHY4BR+E/3DZAuvWiuWEgpOfOEQFBUT\n",
       "yzj091UsIY7thBwf9yyN8ZmykakztJRxfgnpYnjwMuGb7ZvbR5hrGcNqYuLRsesuK8mQnvmx+wZ3\n",
       "nSizPP5S/tTRV8ar/RYKwVrI1jCL0mNGRmDIQWV4Z8EaRhWH6O9uAElW51xkYJLQy7t6gj1IZKal\n",
       "MtGypBTayK0W9so+cWJI6v9DMwY82ZnqFXbqt43/WzYnRok2Zn293OziEFPrW/I+L3MSKT1neDpY\n",
       "iUMoQZY5KI/KcrQWYlI50Yo3ftTCjNqRqOunOat0PqLQ9hUNw3MzceZZ7SYH85MxQdeYDhRhKdqI\n",
       "D6esGYbgxSQOhwJaPH3bOOUIonKmw18vMkjwZecrN2RASNyZFcsn7g7eD942TPVxVrqVJsqYsVTp\n",
       "pwSlit5K9yzOXU4V7ovauyZomplO1k5jPJdYDIb4aX4Z30INW+aoxfZXD2PPn6EmNM4ApnHG9CWS\n",
       "lJ8hCojoVrpLovk3+i4E7r8NfOLY1hxetskkFXZVKMtmUHSNYuqzg6zLK+zl5h4V0XfjluRDJlCf\n",
       "UbCSirz1bBgBbNAy+4NODRjq5Wt9Bq12HMHez7IMzOcZR1WQzxOJbHN7omPnYFvI/ONet95Rp4FN\n",
       "HNODdXxhhxyUxG9UCO9G8WGhrUaGSyLF/2qnntS1+6KmZoSG9RZDNk4AmG4etJMZ3fseDmDvOs6t\n",
       "oSX8JSkdTIZOASx2LZJ/p8lkQ0h0aD/AM338lw1eqy9DMhKZgkd9ZqOfttcbzjKAT6a18QbH3zvc\n",
       "lVu7kVcvzKxfNtcWwTUjPxmR5O/NhzdST/voAvc/eBkAAAFnAZ+MdEFfAARo5ZAAnY7ibNVVNaVa\n",
       "ezHZ9+xJOOUV5a5+TxmgKgdRHf+wt+SiH0FAf4wrwWHKEbhDe/z6aZD0VopfbI6A/zgTBZkn12YZ\n",
       "ORu7KNY0xhw3VDGmOKlzjn1TdnOmCY2TCI9g0M8sDs2JdYa15qbTqN3bkbx31smNrJVuxR9YBdyO\n",
       "fg1WRgJyg3mTtCFrsu2K6Xt/ucfbluNCH+uWg7b1JqkVnZ+hvGTR3XbAod86l9v9wbdc50vfaTew\n",
       "gZlySpTp0LQeEkGjG0hxgg8D2nTA/VO55pgCGS5rIYCqSyQvO76sr6UvI873qpepGcJHDyEt9HBS\n",
       "VGbzSYm2qUiTTtrzwsd4tfeZEzeo998GrrYxIAVOyaek+bstcovad4ENs31C85meJupVqUD1ITc4\n",
       "hREvcL/e5nBHoACA6U8HMZLYQm7opKa0clxRKILV5ZaCsgMIVo0FiPwAIcwXaFumGCIOyMEAAAH2\n",
       "AZ+OakFfAARKLfzBy/htVABtLoRDT/Vrf21OVQq0XC5P8WJ86gZM6u0OBuHK+/tKkXF7u27Uz5iE\n",
       "elyRbq21MZXD9SkL8YPJ+uYAt7ddsTt4dcfMjzjB+5I7KkYIC/yr3asydc13y32+G66yPdU0Ob7x\n",
       "3ar3ZAZH6Jsfp6YdRWLBKJ5qhlIVAqdyOyXehS+l3G3WevWsgpPBVNz6UNQLZ8zjXR0Crn9L1NV/\n",
       "0JbFRIUQ2aZ+/PbUoxExo6dijI7wcBKxM/j7yqD52cDAmGSe1OQqJ9lCng4T1OUdhYjIsTCan8UM\n",
       "oHLKXiscbUHLRKIi2qPiBPVVbSDOeuMdqMRt/ShE5YnHgOTKNIk/gcUdCnHByWAHeIObPJUx66kp\n",
       "WHAEiQyGY9ugfm4ndqzJYjP84lSBtnJmUtd9mN4Hj1Pbk9Ud3RLB/xICHcNDz7Fo2Om/Vk3zNK1M\n",
       "Rt+Kvmdk2rLG2CK3lf0f6fqocq5KuWpGtZasYQDxwtdpg/imfBzx788ZPaxA/z6Kg3MKMpkUlQzC\n",
       "8utHM4GufReZX8K4yJRTIGzitsQswmg1TVRJvWBNQrNlb52bR+WDdIXhFSE0vv2xAfyqCTAUlfJ3\n",
       "fWixoVXPzR1/LZbVDUDEIwJKVLf++OsXsuvnfjjpyGCa6eFSt6WM+l6SFio3YQAABnJBm5NJqEFo\n",
       "mUwIL//+2qZYDgeJ7aACdlSshpff/pgsA/4gNFUoZ5uGlfnAU9OdBR1U7hCTYWHhd1o8wPL8nswK\n",
       "Mo0DCRYhext+7937LSoKIIQFbj3AT1WU3VOi9nY9YY3o2KSN827tc6AjTnpQQX+2mCY5O4kat4s4\n",
       "81KI4Cdh/Ks+zEy7n9XWHpZIS0pFxiP0Sab1WlS4VCptjuDpN+hAkDwNwRr/QLD2pwDwr/b68viE\n",
       "bXl3QE28k2LjSI8qlHURR1P7hPbtfv0aQHn3UMzCvnNUeqAA/fH4cD2Ees8AsKjbnJGTjD74LToI\n",
       "sZs2o41hFuXto1gfTokhki67wMGaJ2ueyYf/yR7VAUb3oSWGkHNI3Q5sDexnOILPR3GcZCtZ9jjY\n",
       "6Az1KIoWfLE+WcUsj1A01xtfezrX2kOVGL4xWjv6b3xzlL9d/oi8ucTlxKMumiTnoGQjj0CrscCF\n",
       "3Wr5fGe/mWPuL5vaRkVLwuRzAmf0Il92lmOguw2cSh350m7eRGXqL0DEUr45YCOYwnj3Wjv1qlPS\n",
       "KKWDQnr1N+pfigU3CvxzXM/4MNHo8/FzN2Yd54Fo9LaNFhNpyMz2gWie5KBBlLLfOKVVLqgVX2NN\n",
       "1hUjHka0lZ9D6PwAQNlmT/GNtj/x1tpg2Dr08YeV3iXPFUyAbe5WULwHt1bClB3HeltXNo3ni5tC\n",
       "gvmrcWPYt3a9JJC0z1IAKtnc6foQxfyt/Av0e26BL3/0Bc2a4V1zewDGHzsRalv06J9mBwKhwqBw\n",
       "pCD+ZIzXWvzSzsaHzo31+kmmqAFnoalMkHtuuMA5hn937L+CZy6qdQjDkobIvbJSG8ZwX+Z/FvYo\n",
       "q/xVVLdGYNL3t7Pp7CX3rvafH4h8nyUPWeINLewW4R5pf0N+A6p8ETxVyWeHrPKewgZnK6bulKmi\n",
       "4P0brQ1wBaJZUkHDW8Qo4g17jZR7sSPBEuuUnVYUOl04lg4iwsCsiMj1hWxmXCjaij8FZ0vM2SHK\n",
       "SuzbQK5W7Rv+rL8jYxRbIFRrr95CRO13sfFklbiwAyilXu8RBNmNrU/8zGEueO8mwG++hhnawEy5\n",
       "vHYbNbSWGDMQqIeFhs5I8z2X09EGNGWouUVvApCj3tch7n8euIup5YWvVw3KuLqF+ws1Hi5JXip4\n",
       "nt+4582WX9YNsfIvc5RKk709mB0t2/I34VbM1A8FGyXsm9XmWiigc5lgF/J0Zsa+YT3GFT1Y+6JR\n",
       "Zf77SkLhKhWPz0t1J58IsPzplz02UdSh+fO8gHbgEFw1GPmloHS0Rk7DwfsTCP5+qeX68mXp9emI\n",
       "M0XAAoiCZzc3axHZmrdP2nvV+hGW0NzelgkWRmwTIa/jSUkkhlG7VZ+d0vyVh5y8prLcTpYIOwLt\n",
       "TiwDX+lkGPSG5dyz7Wnlf/sdb4ihBZZ8Rls/4VsB4D8WzYImY2UUqm0MJ85nOzxlqr9LEvztuRCj\n",
       "kYeehpEnCT3zaUoOMbZudqn9PkQaH65lWOUP7w3Me0Bosob7WGV+b5E8HHbP8t+h5qgjN0LlMdsF\n",
       "k9iWj85r7I9ObXiC4Eqb6hBkfn2pL3ye7YQxcsS5riJEdUZLnt+Rm0X0HRDnywqnI/00UTvI9mrs\n",
       "cicY9CHKiNGmTGofcnxZ4Fk3MECvcu/vJAeqxyVL7Sv2lpY61/0uFXUXY5Tq6wP4w9UoXHG835U9\n",
       "034i8CS/4TS4SfQSqsZcb038rsIEDrQ37ZSjBT78m896am5G93Jxd1H3qUXnzjRnYI65QVY411fA\n",
       "KG1Jz3STCbuaws1+Pa2CbdZK89/UBrO3koyDpRNamBh4N3A5xjNsMyYIrkXhmXv+EF4+fK2ODODf\n",
       "tw1z69Vdb0L2OInebOd02ac+wkXDJ2wKSB0mZiMYTpP03xQivecF//aBW4ztOmwy6EnlfRh6Y1UA\n",
       "0dsJfzbCdqDFMSxCI4NC6mY1/7xaT9A2cD1KrkCPvQTnG8HOBJBg5w6u9nuOBB4G63hJi8W8erqg\n",
       "tbgp7+2/nUPs0m4PP0Sc2gBGnwVFiLuq1crcqqg/ou+0GARdZ/c7fS1u7ieLNnK5EY6guwEPRsCi\n",
       "m2fp6asFAJx+M78F+hQcIrZ8NPtJiM3VR7Wjy3jc+TtqdWmLpVT3OER8fxvT9iM2BC3qU+urxM11\n",
       "f96C4Qe+T4Nu6ivmPHQlyn7HYratuUmfJbJHSnbjBUmntj2VhnmpSQ/WvktQ6HAAAAOWQZ+xRREs\n",
       "Fv8AAuosOcBylG0wACIDwlEtqlcSSvQiQ/xL0aE283q9IseUadGKxZtxmtYi9UYms+6afWIO25OQ\n",
       "p/vmdZ9wOHt+uoT8o4meAgI2atD4vjHEbn1HEtZitvxSo1qIp9iOLsoYiMx2fnzt3t0oC4uFFfsj\n",
       "DWdaE/vtwxb9GU9o+KsNSkl5HT0Tl9j/MTOC3GnAFpVGYpTeifmhXwWT7VAb6SSiLR1tp0wVlG4+\n",
       "6T+lfyR1I5Mms+9RxNyUhO9w4T4xTASaVAX+JTMgGlEZKuWhA/iPX50eBD9ngrAKkTHICF+v0n8G\n",
       "fjUNBHlivq4/J0l/ism7s5usxbhbqFJWCxT4CdYXUQ1jiyUBLTbKmh3RI6w8SWg4fd0FMkIAajod\n",
       "3DD9rZNGXcL2s+6KFNgCrKhp8NSMC6es7GL8HgX2rOgkJXSiujXxK2cnfQIpUyL4i0Mm3cITtEwE\n",
       "uy3fW3iyIMitP1D+22Q+M9PS+fO19swSzoWbJTqjDVhm3AvubGRh9bEl6WNAevewFJjGYpa6Om6v\n",
       "DE1yHXKRl9i/b9JciXSHZp0yam6fakAeCB2cUg4OXITWO5gCf6zAmXNvkXMAbMoGkFKfqLy8LbDs\n",
       "WjmBg7cGSa0YjQ8KX1g4hwwT1HF2+U33DmAd/LarZ9LJkijsbcp6l9Fz9Vk00Mlzd9rIdA0n4xkr\n",
       "vGpu/+3pUrAZmAsBtuh+vUfnQtHi2OAZe011Rxx23E1xdmJ9d8Qp0Rj9O1h+UUtK1j7pfaSlFmht\n",
       "tN+5kK1p2yQnbSFN/Nyfj04DOkLufQ6XGzKga1eaArvU+Rp+Lb1oBvGeFqF5uaNWhZpMqGUxZtXd\n",
       "IBF2HjFKFq5CEl0epuFxHXE2UrCBru8n6nnZ0kCVHpex4JWTj5R6wtuOqUeQ+gajOn2dEbes4+OE\n",
       "5XH0WT3/OkZkK0taTeNC3FkJEZ4dnoEOVYhQvoWL5lli1KN4blSlTQ/qA2cRBXfZp59Uoki2t1Y6\n",
       "VN0MvTNrje0u/l1pIO7LvDCxuu9QDivoRJoRtitlo/G5mA/I6ER6uWdZ6ZREFi4z+Bd+8Bbx3oIX\n",
       "7F7YnracFFppPIa5p2uvKk1IxnmMrjU6IRWDTiEi8rE/7R3wf1YT1TU9JouI4qDOMeO87W0xEGhM\n",
       "CHPO1nkMZ6ZyPSTcDOEtL9TwHT9ACDOMKmIrz/TyuJmTIQ8AbWeoCEZUtt+0jIPhE3bpaXtnxpqA\n",
       "AAACmgGf0HRBXwAEXfNKsgARAdzvW7ZpchxKURVF8QN2W1m32bYVqzn959hrZfkuH3DS1mRLkAuZ\n",
       "6uVD+3XCQKHGe7zIoXyDM1ickLqAb5e/en0Bhq+mnUDs4UZp2L8uGB3eeHHYEGjzwqUXwuxHgMjJ\n",
       "7RaXjYeH+npAf2mimyCmNKKebFNDYhWrcmXPUVA3rAdnM1qXQQUicsGxQ0GPLXGgEKHBEZ8lwwnr\n",
       "VkNSRxpAVVES687jfP0v+mzxFF14zlknk/HJdko3575979AgsxKLGe2N2n4AfpK7VUUzVOv0XMXn\n",
       "kREZtY5QZgZa7rei80ublaKmGChR8EQc+KAlmo5hT3Mv+b3jjTaH6ffGKEQ0x4ipQKuU26qeainv\n",
       "9CL6sFNfNwF0kPHSaGzZhH06izRqlFUKkBoq3V56pshZiBTxCefOPzRpdPzCyV0UUUILKOfQiAwM\n",
       "8mSlcFdWXfIAal/Kx+e2jJ0fx/Bm0yqBR5BZ9bzrbb6pr6F8IvjS9t6Bul5N8SV4WZcmXHYbd4aj\n",
       "kLMfwppVx81QULZzYidE23eGTKxCVvknK/htmG3DFbmtByy0QTXnA+YcBYHZjWzatMWgQdg4JwTx\n",
       "GjtzpItRPqcNL401HvTi9MfL7zfGNa26EBrGKty3fChgHbC/XLA09enO5nr420EnzERL4vplbupM\n",
       "CpDVawaUZrbZripMeK4EzUB91wbLCbroRTSjiFJVnwAnS2h5YNIMg/vsb1WC4TYgZyKbwHIZ7/sR\n",
       "AyLKj9IKZiFzzlqGiiP0qP0zdMgTNZfuA7/2ey93EroyQKW+fOqakxsdlTjRqODlW06hC40YwVL7\n",
       "2FiEWrDWdr/OS3gdPamfiggjo6JvluI4iYXwp7AAXnvHmagqzHtSQFRHUQAAAz8Bn9JqQV8ABFQp\n",
       "qclkACIDkECUXZWO8Ux/BTASijlBkiyqENrhassTvNoK/Mors7Y/QAYdrFhHEeb0Q6d/bvK/cp69\n",
       "Kom6AJkGa6Rlh62un0myMSyeDx6bF1s5AltplutaWqECKV0v/EK5NRsUC4vE7jmajRKlNviRhwTx\n",
       "ShhNTSGGtWXP0sRYAfBgJ6zCs+Z7eJ0DqkmlDtfwWkpdx4l6kP4R/KPcKEr/i2onNQIWXn+xB8QC\n",
       "rPuR3o9N3WF0EUjcSLKqDx/V+kXmsK4Lf0332GX3ryPdgLmMR8GvdJy9Bdz0Ru1Ia5GYAiC3JQwK\n",
       "ytgQYZ9iEJeQgsaD8QnCIsjNIeZrfCBZgL+eeRmaTTC6/bEHcRhIKMcD9v0DBc58+MbL+4oBlHOo\n",
       "nJpiuSdwOtsoKpca/d6ANf64iUKKcdPqCcpXqlhQkvA9OjyMzwoMHniSRibau6JvEEZJ2EPiMya7\n",
       "Fco/9iiVDLnYuM/Hy4I0TKdxKpOrAgItS8CRfVyfNwOwhUVVEaKPPBCk4g7vJO4ivfnYNWXWWLIa\n",
       "1QBG/Cy30SRje9NlO4UDB3a4/2+A/eI0nIIFDmOkVhRCoXH5UU86p4pSEUiTQ3CvQ9PEKtn0gHLJ\n",
       "KN+n63bHec/2blDBDNqyh8J+r/QamwWbNZMDovzdnVEJiJl7WoBajT+OWc26o8sfRuu1ohXeFIXL\n",
       "gCdCs+HiKoa1inNr6G9YpNzs2ChpIyte+JHLGzMspGU/al3qHa13IwrPHopuGk+lkIQQP4x00uYf\n",
       "cNj2uSNNROnnSroc9IA1yXiQfmUw507gGwiQWnqrifKmFt+qmeuIbAQJ3zjn2VlOgZg2FIXL/v9E\n",
       "uj6xYEJ/FYJnse2LaI/FLWoeJEFirC8x8fULxSVwwdAZ2p10SnWAW2it2oivQmIjF1WorEines8S\n",
       "GDObSwJ2z1Oe7iY2Kl0ZH/zwmFLZDOqo7eIsKzhDkPAriEhkKAAbvc95XMbQsLVDfTdrzozAQ0Xh\n",
       "xMjThd7Qrs0tLdcK2A1iMslQT3KWm4fbT0xaxrAZlxl2njjp3h6VuCsc7r1KSQld6eFbJPiEQ740\n",
       "LN/Ufj/qVU+6Ck7FuTDOYd+V91mm7lgAAAaWQZvXSahBbJlMCC///tqmWA/S3QAXekARL6pQt/XT\n",
       "+u6UiQ13JhiK2fXal2bxE61oBC5Iytzg8EX3w0dryfGSX7PYSuCi/f5bw8mMx6Ic1zdsT7AOKl8U\n",
       "bRvTr+Q3VMXuLeomlq/lFKrgajkxX8HwUsc6xqjykLAtq6iTKP0rziaEtRvsPb5GnwE8A/Ghj70y\n",
       "sxULJJeJ9xlPFUU5lm3zJ2v4HXkctM3VGEkYbvsN3zuqEjVsemjDouby1ExmlEo/fngaGZRlWgbt\n",
       "o7L/Fn/a6eqV4g/kICA/2NPKTmdXrFURhLgGVXFDUKAvOgSox5dhA/wsv8LIY6VC7L0KVMo0nkYd\n",
       "ZUN4KHvQfM5VSYhl1C3NOBGaRJZUE8n1R8+ljStI/39pXgGqPyl1EmBHNuOUBsBcn2CdBcLs+oYS\n",
       "8x4dm9I3KMjTxXtO/DR7GzsWi+QvX1p22v/+cUmAEa4iqDx5MPn1exBRAlaqRKdoZlnQ3pHUNZ78\n",
       "qL6em4Ix+M6Cgz5Vw4+8okZHGH5k+NVba0EZFfmG3pfDYFFtqe8DW1BcVyf90s0r0cYbA0JH5Ozn\n",
       "UT3sTG9JDZeVJ7JTo114LUDXB/o3DZIZZ/oPgQAqaJu4/vS+Aalito0ti2cKdymWD0360WREymKx\n",
       "N56ARx4gP+oCP/nom/MLU1SR7AQPEp0E6wzyY0kX73XCEEfY0OHPnBzbpweTKCtDHKY9ZKEcdiOK\n",
       "jrj9j3zDCXG2Bo0OfE+Ib4UoXdw8ptMiod6xEQtGANZw4LYD6X3rhAsprNBi3CNzhqPtJltGMi34\n",
       "z41OBugqPNeHoFJTl18XyiWPbJzSLCtgKHsIh9A0YAlbYYXGKuuylIzEQoss/bQL92soEePZTDUJ\n",
       "bhIKRv1TWatIUXaQljiBeFuVvt4MUB1oMDNKYlz+ybfFRqfbktgma5N2mXUuI/WdfNNpQpGLH6zL\n",
       "g3CCk6Jj5GaK9vY1G0hc7N+5PULBRa9kKTdegIhVVJL25AjawoaxtPK2nFImML+q/u0E+YXSFW+B\n",
       "5T6K8IzoNgwVKxO8KpB9qBhWGqqfDupKVb9c7ROOTELoSBu/16lClwdXxwcaY3oy4sHRScI5zuYJ\n",
       "K6zeJiDGfmFm+7F9j6TKxrIelIW324hjGKig/dm1deehg/qQ+9qQQolvEgwOlybMbIHV5u5KjBw6\n",
       "N6wD32a7GzaBYryGUgVHWyvz7Dvq7ev5oYLCXkM/AKhWLUngB3NbL5RJc/jSWsCpPnOlLBfLMXqQ\n",
       "pEQWR81ZmMOlKJ4y+16f9w0XcBvPwEbcio8QyKKnzkxGt/P6q8aJa+MKg+w+2ZV1hHNlAceGulIL\n",
       "gbZX6AGP3+iO2oLI1Mh8kmiDbWjXBtv3Y3FdflKCyOGTvyZdDCR51D2oXjIhiwllwvOv3pzCb8T3\n",
       "Ng4aTw9vkbHIP/E7wKeMrCnIfDtZfjW3NQazS137xy5mVnIElk8u27k29X27d6ZDHHYAFwE9QL82\n",
       "j4tyRIoXVyy124QX+Kch6TVPhQtgSgdkeb5ICrwRT1rXrf+3jAFTI2sBrGnXAXZviDiuG0Ix+3uu\n",
       "mvQYjmwFPRzKazuHYuRth+zOz+0HKahuMRbmBIJxHHSDyuv5ddysmLZLW/slToOR/jFCus0/UVb2\n",
       "3KGtZI3u8qN0wSH1r+t3RCkoGHpH/8+asesGDesfoe1VmOfIQNXyojiHGdABQzt+bRXndXYveSXa\n",
       "JXjXFZi3oyuPAQuangPOhLrEa9YtdWy0pYqmpvhiJbrVMW8VHy9GRj5ftYYQSJL+yZdbj57qMO64\n",
       "wVDXTLPAOL791S6qbNW65aMmbKRvAdUg5Wv77Ww3f252i9V5z/Gefxp/eympONqAuOZGLeOlfict\n",
       "134kknUHNeujb+6CCncd6vQf0pa0bCqHvBR0XeLjJL8H1fMhiNuePLu81v3bBJuq1J0BMiNVReLF\n",
       "3g07xiganwXlPDk9UPda5ulgq6Y9jpZF4IM9N/8+FH82/NxH9GhOxhJ3W1g6Ksuw6ebSXacCXCIf\n",
       "0xz83CfvPG4/0eGUV1g97qsL3wIZdqXr6JL85s7op7rFUQi/DdnYMdX7ppQxDu+TYJRMJpWAAIOK\n",
       "0eP9zGuMvsCT0C6+hQ8gVDJxI4kkz6lX8OkqXSymuozwfZKMgQtQdInMMpNHeFcvMSZWIZ5to6xv\n",
       "MQHoRvpjFvZ80Jztzim9BSoKJdSxwlVDMXeYR2Hp5RcFMXFIAtAhhR6Ao7tt/mjjJ2lOvecMBwir\n",
       "VeyAAAAD3EGf9UUVLBb/AAMn8FwW6k0+//JgAEQHhKJ2Yy1Tn2EMqjxPtGA/U+ncW4B2p1iYGCBF\n",
       "3qXzg7Rl7k6PE2PB4NJoz5cDjntTk6BR0lVhMJFEqTh9ageWzkFrtIRab7MgMcvQiHnMwRxzHd4k\n",
       "Fw+BHaBVU7JMqh6I7UrzExDNthyS4btHVtsVleZl2a5Wnd5AsPJP3FTud40eyvHul9MTqQ3eAojt\n",
       "JeOkNc6diSE+weDdeg9I+8KEr3iBqyE5IHlvWo3SYnjPXbDvQbxUmtG3FtMLhOWzx/G0EodAqTEQ\n",
       "y0Veay989uCy3OMGYfm2jnmMaMJrnOO+szK16Z2DiWacNwhCsWViXCM/BhNBud/CfWXXm+5baNeL\n",
       "DtCbiSsvrYrd+C99btFcBh2RNr+VI89SwolePcnh5x9DKfsjyKItQNj5DauyPP9zEB9AdIigDXno\n",
       "VSImQZnlWxCiemkrT2J4iWFggj0MhoN9xaORZID4isHw0YwEhoaRFkiEn1t94MgjAkQwynwO+/2V\n",
       "y2TNY/iQAadpVojUy0HZ8FYWCNhxlQtzfiUICfvNlR4YTBdV0fUG80OKCtzEJ6Uy3wLBOmx9C5Y4\n",
       "6qU48ietCMSsYLzS9cKRTu1eVOx5Ejxw91ege2fg6RXZ9PRgAIlM2RXvAIRPt+3BGbsxFYxwq1pa\n",
       "s8WednP9ouICU0AB/FdahV6akFZUCYhnKbWCCtdljlZKS3uIxA0yXlXAr3lhy7YpVLBAdcGra+ih\n",
       "sj4VPhLk0AJqkuSkWOj/ksrkOeEd9Weqh9fH3HLDG1MqHAmMcpWshxIsSUUrDaP9emoIOWCi5Uga\n",
       "+USNxoPP0ADRCrMxYk4G9BkLqEU6Csr/GT8GJs4p545k9saigWbMTT5GOIPnz0ddw0l89DNYkCdH\n",
       "lQRz+RxM4JKjufkdbY/Mp5WjncH5Ej+kqAIWWUjge5Z8vSGPjARHUl6TwGNjyWe/rALfdC9AsEQS\n",
       "QEyqf3okIIZWaCZOX3cWXF092u7vI3K6hAeGgB9DItvU9HiyEiQRDnMgilmIePpksy8ZH8CFgBKT\n",
       "Fay++IiXjql+eM2k/D9M3u01doT6dhU7zHR8yfiEIO+f64kWsaTDuX1OIDZ9n7BSVv73oR72SM6Q\n",
       "zunuuoNvrHHHe25rOXRcg/QLbEacPj3AbO2OpB5CkGChxLTaWTbWCn8CCoh5qwj2/+GuIQnn/Z/2\n",
       "TPiJak6OlVfypl2EA9YQrxCcO5TTYxu8KGCEEaYB8OpLnoLEC2MaYb5I2OCDWmSS6PbP/BDGWCB8\n",
       "1MHcfheG1cIAGvNTdf+TG4LkwjyRLVfKyWkAAAOBAZ4UdEFfAASdq3WN8qVQAJ1YwT5NXqK+1SKN\n",
       "/X/+9RjQrcSpOn9gYgxbNQuHMhkRhuI1N3rKbAvmW4l7ko6HV5fk6SO1+zuOYAX8qXTT/5ZoyPZE\n",
       "5BA3CyrS+MMF8lgbLJAhnlOop/KtUPENzrDHpie+5VnIR5HXSYXvCRu7NGbmVrQEp/5CvXIRJGYL\n",
       "EKDyckOgWHUxiZtBOGyLjR6V75KK2Qm1ositc19JzxM2eKRREBGUyvjgoxrgYFykKCqgd9Pw4CYF\n",
       "eo2yLQwg8xjUNNlSf6X0GC9WtuLHIVYoAK8pEWNiSPum7Z3aZyDbZLLJcMNZCZ3caEi42HOrS4LH\n",
       "X1141hGAFue8NxTjYPr/HdINJXwLaqR25GRx9L5p5MqpoErUc7HnfSs1mFKfwpAdXbIAlKeoqoCx\n",
       "RLZ9r0uXET0bTBCbVuUAI48d1gsDCid8mbi9lrx/7xZhPE3gyBq89yZ/ywq1qs2SfE5YprWFozRu\n",
       "bDzRbF34FvHW1HQiTvEmK5DTmSuwbZOxSHxVKQTy+rnBijDmFdUCN5ycRtBlHD2fx6zisKZCnI/3\n",
       "+i4rgZYdAyPvAl9E4sq2F67EO/vRUA2XirWCqRdYLtZgaIok/q3vkrxyW0QGrRKbxZzdL2RhQ0+H\n",
       "FQn8VfV/uaZKn04fu+r2TGo5iWUsbnGOIK8lcqf4wvhNpocOl/Znxc8hkVdxwwCkKZO7oXRP9XYR\n",
       "/BSfllvZbBp4ZBXhJbflccy3nK1dc6c+oOuNjw2gbDuVzOZil94DLWwkUg4zZ6UFJQESPv8pLab/\n",
       "XkpnhRmNMLdjWJOv7U1CyRhQQbZ0i7xdTnbMhmX/+hmA3bzbEg6Gpu4iPNP68VZZJWU5JX5f3Q6V\n",
       "oAcKv3anVQhWbe0UZIpjR2JgLUPC33UvU9JBFsk4VLtEi3BrIC9Cvrsxnth72PBEiOCXuA4c06ho\n",
       "pq2EmLA2A91DanD6xN9PN6j2TQtgSadnQCZeEKN+v8Nd18l2GbYa5xXFvL8tN1v1CzSTK8UcA94b\n",
       "1QiI8nWe3y7r1XasbAoHK9wM2yiq4Bku/FOg72XOl3OOqLSyjqi0KJdJk2wb/nZefY1ZHkjmhia8\n",
       "4+aggCss5ANz6alxYPzkORnBkojdqIFLp+JkienFZUrD5Nz7wSdU3GfGnYvobFRKmiVBNoZiv+9b\n",
       "ZKlcdG4whEA99M6q+NqQAAADeQGeFmpBXwAEVEU6KmVAAnY7MvRw84KTFuOhUhBCQwBaUDp9TebF\n",
       "bfHDoiqUdBRhjYoB4dGOGC4WWvSbSIpvCoFPWYW6pYyJEnj6Q+JcDBVp6gfYN5tL2sEIlUDAGyMQ\n",
       "u4+5KumRS1rb1IeSZ6rKW6Kt5950OOD1woMdH1o8ct8Lr4tNBHGEx84Ny4sl1+2zrGkZL2hco5P4\n",
       "Fm6zp7HDTw5DiNbCMaoeS3oJ6wxNI0Zkr3EWB3L6FMjd8OEfx0GuZPA+3bhd+6HB1jDK2pg8G0q4\n",
       "dxlrLIo2MW4faXe/ocZqvMYSAR3p2fGqZ07VNBt+BgIm7y76NH15ZMeLLEXuYAP2IHI2WU7e3yOK\n",
       "FM3E0a0KWptcgnbbroLqtsGGFC2CQNx+MaoCvJ+K/C0/wJnqYClyi6bYN5lHD6rr8z9nvmAMPzkN\n",
       "IACVSUd7X2qAAfYokBBCx5oLA6uSk1ERyeZHz9y6d/UmQcLi3/TraLbZqxzPJmqlhq81UH1ibTSk\n",
       "mTEL9s7Tl6MgQGVTqRcc/WQkbTXKWcWFIEnxt+7rWFaXWhUVZyKYWVGFvH+okw4H0mu0zOMDPPtu\n",
       "ZeR1gcnWXivMUzFNitAqP0wA008qylVWzLYf58bNNJOW3xynP0AzEfsuBPRdB65W0iGJthQoeAXA\n",
       "JJ+G/xKEH8Nm9sK+5tFAC+YR3xv+52NWl2iG+FqyiVeDyDOJ77thPRbaogKW+GAbvgfsGhK8XfXw\n",
       "Lxg4+h/7aeeRH5BQszmLXE/iFmXF6uCYMQUN3EJmE9gt8Cpi9962pvISJDlW21z/Mroh2WgtZSa3\n",
       "gHGxeBMU/XAyloqQGUbw0yO+9ZtD4+afxisjmltjQqH+pgH3wvmRZ/Aj7e5bYDGS6Wd77o8OtCBU\n",
       "KgNn+ptWSy/2XhVcuP4eG4BqbsJu/ixPcvFzFMWVxjP5cyeKCZW85SglGRbSCiU6eW2RooWNIzNa\n",
       "4JJuBnjn8x5v1G3iWxb+5m+OULrGmq+lEYyj6COilJJ28XVWzhxU8dYhokdxGnRTTIGehb3J1W91\n",
       "EJTb1RMrAiXiOJ+5RXEBxMCatCUs30OVskG3fVZ3Q9zW1AfB+ehV9hr4rhc4KZsAOq5VOEdTO03M\n",
       "CPehFDfXR+ut+ztec9c1OS7k53FebS/EgLKnHUN1Qm/54Mv2ASgrh8MPuVdAsbkhYUhKTykAAAfu\n",
       "QZobSahBbJlMCC///tqmWA5qB/mLWJpj4ABECpWQqPJwQ/1m1TTJi7Vfz790AOQJwuDCz9RW0Vf7\n",
       "zXUSmMFWxul1vlG7ycf/5IIjXVgFtR+rBbQKW9b8R3KN7cgcNtk/9NtW4dniDoglFZMNLHvvIHRm\n",
       "lx+ZJ+ksGaOIX8DMP3Hg0MK/iHU2EQp8jYLzSvofmBcdA72fO5UWh7LX65FaL6MFNWBjiERq0RJU\n",
       "OKhZNiifnZRl5Bfiv8jxx7zAJbLJSC2UZIMOab/29WFuVToBbcO1v+I5fzD/whDz9d/uRAFgXaCT\n",
       "4c7KNEvilzliA0YCsHxRnHLBS8yP7tBrUHbe1yEdObcys56ukeID4C6m/3V0LAZZX1jMtENaKb3S\n",
       "amJq8eAADfF7MwwZZ5kmqQMwkbIxodq9LyPALqkhQJHo9zi5GkzAg7X/A3xcYhuk9YeabeoyDmeA\n",
       "oab7YY2Ns7VY7fLEU1rARPw7MLRSTjN0w9DE19QczaOgKKun8bnA1ZM5mO8+O8J90LiTPweQ3eC6\n",
       "BzJJlNiROozx3fU4cchbPadqiZdmWICHi2YJa0/cOwHVZxBLu/U43of6CjJlMm/oN0SKygrAwZd/\n",
       "oHKRgZS+boAErhREra6LRGyltz3LWJB8vBarCL4RoNKjZWOQ4u+scqBWSJz+FDpfjCw9e598YHLp\n",
       "eE+Nw16kz2ngShYKKPgPETmfER4XQ63lu+2Z2xGSJ9vhhvjxMMFUUGfx0T+3z5LquEiLIa3N6rAK\n",
       "1a/FuI1Q/lwYXMethsDPXtKPsDL6Nb9hQesBaHc194P2MS5tTgWtMfbY4BE8QtCXztcZ2FGQ/LzH\n",
       "lmGfoBKNOWn4oqrwHGbxkFePxPkPwsCXPXylju3IPxbPIPivb+elpqMSBBmzwRtbgGB56adaoOXu\n",
       "j1DNMPwlAKkrhGbD0gC/s9bOImpvQCGjIAt1FzC8Vd7T4vpjEqOTPU+nEzRinUE6hjJC/33z8Y8z\n",
       "b4fZ8SbuF1QMwhFXo0zSoBrDYb4zQg03VvEM7HdKtq0mqIxGULElp/PHV72rLT8BkwDUOR3R1l7q\n",
       "Yochb8VzzXJnT4S0jg5klE3m0A1E1A8M/t/o7LbPKAH3VE/orAS5AxAtj9ao3wt1/24g6JqxoFfH\n",
       "vIJsQ9pAs6vIf2sVGjJ8wh+TdAhxBPQSNrgkpd6zqgvJ4J8fCi5Qxsj1Yzmh4tACMtwucqGpCRbd\n",
       "9v98g5+jMLJUZ9+8z86iw5F7vA6tTPKEchXV6n86cG2cqJ0JJvYIdyxhBxizwhemgANKbQUuVy9b\n",
       "7V+zH12tWooLre1Z3PVfvBOpwUdwWJrtLBhT7Ctljd7362XauGf6WFFDQF5p/5wTgCJOmdUiNcUh\n",
       "17o/xUy9ra8MnqDC6/eE9M2yiTqyf4F4D2QtpJJHsxKXZjIxkfBVHSdpSDsFI/7+nX8U21uZggWq\n",
       "c2qERZsHcth9yi0UdH5vQURYB+/2kMzAkic87rPy0pg17y5QNfKHIj1zgihJnpIb+uf0rMAHbroC\n",
       "XlYp2I+v3t5PL5T/FjRPeqA7Zvw4TuF+1G9d3ubcGmsb/rUxAMtlrObJdJDse/rb2gy2DalaEfog\n",
       "Finz25CGKbx4KlqZA/afc18b8lI5nwZca4A9GtU6YgViMVvM+cnO/aWiJnGMZ0wpATqF9EPd3DMG\n",
       "64ahaR2ekuaiPD6VXuw/lgsD4DYrMeeCAh5u2HciMgQ+R1Wla2Bh7kVZ2R8QpfylTfxJ9cfIqCth\n",
       "cYpdghY1i0k5ef5Aa6dIy023m/mFd3UdFzsrxqxc93Ju7uE30yEWOW94WkChVt86p1blW8vMep6/\n",
       "+rbDGjZCCfJUEosyx+muDX37PpUejpUy691GmJj5opahwb/i1IlZnWsEMLdIOgYJvkbmaaIu6HJH\n",
       "nB5b81bH8f71WLJcSJbFL9g1zlM/qyC1NbzuwWVfqoowkOGWBgLmFwM1iZ3ZyxdnDwtLNwJyBjWj\n",
       "/ty/CPZRPJ1YHCI2+69SAy2Rl6+sf9FHXef9L2tfbUOXlU9zsh/41djxLbzniBDx2jVpw9xkBHuV\n",
       "y1CaPZkOLAFbwybMt28bMqPt04jNZ1J+BYnAwM+vmLifoSOlwJlXMyrJhok6n6QnvgHXLyLwRUKL\n",
       "+DG50ldC9TBj5uKczQzSnR5zf9my7jwOZFVwX4JAe/shpMiL3ZlMRxlSZPnASjFbD5CWYUHF/rvC\n",
       "b/uWqGxXNebIU27/SZiOCqlbExfG68OyPpiy/7aX0kKTrSrEDpKYi7HyAP/y9SeDjskr31dAPrLn\n",
       "+BoEnHNTXuw/oxYdCSWqQY1Jzqcr4qZaibIGpiTn9pFAMr6Qv66AlIjV0WIGaeEpXvlCu2j4HJbm\n",
       "WHpav//J6w/Y3S3sr2sqzlnHG7PY9E3NhpeFmJYnn0+y2IpsaQBro0y+ZN2v22chWq8+WebYfJwb\n",
       "b9uEwIoxgI7bsJnjje2nanTwIF7HWprGRv+4V5cxGRNPn/IG+iF5f0+ZU9B8WwZP1/GeU9bHzlwZ\n",
       "Z8m6zy0ds/Ep31uSX1tKxcjpwdmboy9vh26WAMldhNcenFBNEDKk6RgVrTcHZkzEvOAT6OTtfKKs\n",
       "VdN1axssmEEjKXkYNLrS7JAAdwuhM555D6JXb5IIIl381uV1Yr300fr4AmPjLKmxjT60nXt5cYVZ\n",
       "xLgsnRJU/H4qYVvJGaDqPtA8RkgRbf9Dj9he0HUAiPrSEfEAAAQ0QZ45RRUsFv8AAvH1QkE4gABt\n",
       "LqQxxC2lbJ4oi3b1DleduiDBEHnnudrCuRlhohGdiRyJK2DKDoZVfPGgFeO4+aX82SeGidryyQdh\n",
       "glHIcO4EFlZW2qFMmszbymv0j7avPzqRiRxYmFp8w4RL6LjbG7SkSJu5OcgrrjNPyuqkNunw5rj+\n",
       "yjFHL4K6oAPzStdol5b/pZshfHRRZnkUiS+JWbz6KDJQSiei7LQV3U3uWixn3VkNzmQ+joWi1y5a\n",
       "dJzk+e6mbazjLefbJE1XzbjnuP44RRjF2tg8Ztl9VH7obVn2UlJYaa5znzG6Pdmgh/TdcgqstKyk\n",
       "LIuZGTOTt8Me23yryGTMHgsnVhSx2wTjtYmdIDgeWlogKW0HDsg/oj3N11t7dlfF6lWQ45c7LkOk\n",
       "rQHhlHiDJyl2Iw0bAumiDjN9ett/lRzSJ+HDkDiIncAVBVets+K/SYKeUHaGSMrpJn3Nm6cxKhfe\n",
       "RDu2mX5AngGeOYMMUa9M6Dzioe2IR4JmajIkGr++UBk0fZ66Wrdnskuhj//War8wyqyM+asP3+kv\n",
       "qZDWRZW7f6NmTpZf2FkE/zb0iFzIggUmxcp4tmpgbnMuwlg+9gI8NJs7nHMbL3ds3kde8Thom0Pe\n",
       "SSM0Ri+uUrLsN+jS0j43MI7eYQK1PvGjs72gOFgIkrkjuHjvmCAwKb7CIeCPWx2bgvu0HWd/HGey\n",
       "BCqls03S4JlDjrmf6oqi9KSGO7IcemzK3TOdgHkkFtXvz6+emTcKupoWCSMgSGOqK6GqHpxBLWlm\n",
       "c1BCUzVgsCw8hmf1HaAYTJykm3cNY73LUNgADFc9bXI6mstKFkdPKwg0eDXkp/htLL5Ro7+i6jnf\n",
       "iBcALhxqJisy3mKv8xMN5KIPQ2hnxRqzh9HxRQa3Bz1L24y6eS7N8/4WQvB8MGcOZEpcvZGX0YgA\n",
       "sJnTFt+2DF1oAUUpPt7y9JrgNgxCQ6B+zSN94KllXw3pm7SANtUS/NrhSChw/aJOOcK06YSxrTEy\n",
       "mqZABGfMqQ5jE/WYepqGzzNU05xRtBMIzgR52orF0ltYMSMnpkWJ5JKgRT8jwUFnfD9MHxjVxDHj\n",
       "zd78POGCDyQnphccCw/+X3ugJYx1SduTvDaVYO4n20VIoobruWnj8Nwm3yfbishZ4p9JKqldNLXO\n",
       "yZgBMdxVRyLx0tbBwSaS81BKHkdGheRfqsWTFfWjbBDbOJ9f+gTUf5P3GddCW8wWXauMqa8Qmtos\n",
       "vbReK8iGtr9oCddESRl7d/VpW4Xyfu36OWJClq2MrEKL1cvYc2CbMqAV3Hp/Us8ZnDIDvdgResVg\n",
       "QosYuzXKzivRFzkGu73RRCrohYPROwT3pEAMeXrE0XVuzH2UKsEH67HKYbsL9XAz/EuwQJ2axeR1\n",
       "GVep4hNhKFyWsq65sH4oNaVHNE0u0sHuzHrTRsfrBjQAAANoAZ5YdEFfAARKLfzBy/htVABtLoRD\n",
       "T/Vrf21OVQq0XC5P8WJ86gZM6u0OBuHK+/tKkXF7u27Uz5iEelyRbq21MZXD9SkL8YPJ+uYAt7dd\n",
       "xU7PiV13ybdwJiAnLp86rAUSdtVJQxmpO9pO4eoIP4MxjK2Es7JACejE/dqnz5GXVGceueXczZ4P\n",
       "g/WyOzrtjxfJGhF2Fn3k75wYSMFw8w/Zs7nyUGe68UeK3jOvAoymzW+0nTCVe5U+3sfI9PeIIK8i\n",
       "yERFepMVPGTxgTDmNfMlyz58Hcawwbkk4GquyihW9HbhhN+2xDHtTp3EuqNBkeUr6vCRzZ8zmzHd\n",
       "hGsm+XLp9UoTK0oyz/gG+oSakaRIXz4kzUzDJlKFSk6hOv6yN0ZYwc9+Ej595BObDmti3Sgy7YwU\n",
       "uKtdE/pE7m136ihombP0UoYGv7ReuKrH5YWy0GJiZruJUWa+kr4VOAW8cMs4pb+kcFlLTVOIy1KF\n",
       "F4ySrgwtj8H487MVAj4elMRxVl2/8kwQZqJbrjISthxdG93Qfl0+xtNCtjecnbNEu1fxPWW4qnAD\n",
       "38uSIaJfwuvOA0+FVIYknBAJ6nnAvPhdc7UotmBIWdmhPLC8Bt5MtKCjvIMsFQyi/Sn7ib1ZhZzS\n",
       "ttk6njISYUAS+cR3wjpRfAaD+DJPHCf+90xSrgLig4bO6cPtJVsFhgCwaM6QUC9Oe9FwFu5uLb5V\n",
       "ZHqYePqpQ/j6qRNAvGSocXlvO15SqjLWK2hUYbjmU5SAjyNRPo0cqDVyWaLLvWvTx8O9Un+AQTY0\n",
       "ibTaqUhXtspQ+kCPXIJw7OMdiUDHn7V7MmI0wUL44/4y3Oab6fcr/8GViyWniClB+EP55JRqhK7a\n",
       "Bc5J3iBg+Duag/XlCRtwcWBrvdMA4LXkT85MqA9d0IM9zsz7inVP27HO4Di76YeTSK6u4z7N0tV+\n",
       "S+N6RfWOoxU/7p3vr0841iL2iYDcjnKYWAZc9NyLBjw+IFO5hHfoO1YCcn0vUxYuSuHyvwmwtzda\n",
       "1GJPdbm5o+eYEWDCqoO/1wMgYqWhJMURnC07bYmYNsRFR/90RZesK5KT3oUWfEsMBzvlC/CwKvZW\n",
       "0+ypVRWRyN1OSQD6w3vqLgzhWse/yT+lW64WnIhAGR32Pima4DI5OOeFoU+deVqJYHyvPSEAAAOO\n",
       "AZ5aakFfAARbdoCWQAIgO53rds0uPkWCtFRfEDdltZxwV4SfblilUEWwxeJECpMz/FQS5Jups2gI\n",
       "Jin8BXcpjS8puNJgw2qlGKZttizpRyBw6zs1esQ0v0QyEyNCTIGvOA3/YUiZybRuhAXy0Wen0Ctk\n",
       "CwcbABnwruXUT8w1K1FAjrgFQBREXDAj+2D4OMRpwQeqyyLmo4mEFvh7JqNS3lw85vOiTNu66r8m\n",
       "FcZ4x2PZNR9C5sIFNq3TeATk+BXvI+m8ECn2NeFADa9m4NXThL3yQofhTrFqT1/0tf1JpYEPhb+U\n",
       "9hJm6bR0omEU80Qn6h9nFQvkFOu6gKuOMIpdaMgfWRUU4TajrQL+5fAE2iK6j3s6i1Szhrx18R++\n",
       "zETb5+ji8gxDDQVt9Jh1SwLhWcKSV4UAfSa8UGj590T+0O7Glhspz3wwK3veSMXZ2LTTI21F3yZp\n",
       "HkM7rQTUdmvIru0eJTxthwBdl+M8kVKHqxbgwY3PUJypfifAPRivPTjXbDxeCgJQZQdxu5N/Y2Fu\n",
       "70rVBCSWnktxDec8+agkSjo2UJNwnJwzKUqSru58oX2sXc/a+sX28bj2065ed9dGL1ur5EoYGZbO\n",
       "w6Gk8T5u7eX2p3QY1ZyNz8lQb/Q5VPpuYMW6cBp0VjPurk/61O6WExxEXLA7Y92vuwE2zvLGK5+/\n",
       "z1zJ7ckvkIUQTOvlTmd8axcKoqzirKSg8hviFeNUfmaS/OtMnxkdnMTrnbPdcjznTobMfpuec8NX\n",
       "ffZPOi8KA7769RgpfIXUbaO1vhc8Ux6AENShq5btx6mo6zGT9uumZBfbokw392e1PfEA27XFbi6e\n",
       "/wGqzLrPYo876lSKUwEpRK0NfsmNM123n7L6jksFo9Qyq5GB5ePYuKVhrCCR7+BDAAMBZnlKIYtr\n",
       "q5jRLhpAwCOSUO/fzaABUO12EZhpVqIblSAC03i42LV0YueUaTNl987FnrEDTRySHIo1bjV30hLx\n",
       "z6eKQXUPQlE7o8UisQODsqy3JBXgrPhNEhUPLUC16+sJ07beD99FqSsvR0uHqxblgzaNMz+yyenP\n",
       "HGjOA3EH2VlUg6Rh72FGkcsFhvqW1T3vRXnelqZ8uScvTA90FAt8sd2PhRDruKhM3wz/8bFIijww\n",
       "AuwhVH/4qBbCTM1InaGGakq3TB9w5nj0YCiQlYVLdYAEbIEPtiLBCrFycLnPQhYxn3VXKpQbgAAA\n",
       "BWBBmlxJqEFsmUwILf/+1qVQDgcqqiAAHvoKSGW2MtozlMOLOqwnVK3yf9oimLNqnTUApVWGDP5O\n",
       "e3xCBRrlDNw/F35wuEPjew0L33VLBf1rucU/p4YOEfSuHDJ48ci9tNse4wZ74P0P6IsmG4EDOLUa\n",
       "Fr/zG3iy4wMWy2L0nheQZP4aYVtw4c0HjCWch03kGR7m1wd3lMTVuZrBN7P+DzBt+wRN7+alzluY\n",
       "LRYO6oEeiOpgf4gnX++n3w0dX1p7TIzCqiLbh2ZvXbp+aZ0cTr+Keqj7U557Z8RdtvHwkFtHXPyb\n",
       "gIve6n1CHV+8/SuVMFZQMjPL8ICtik2gAQ1q0evnnbYenWdqpvTpxvvzarQJh0DhWyh1K1fOqxz5\n",
       "8OlMK1tG7NyDuW8Dw1oUCT2JvwPWfYvrkF7ojH99L2Y1ehSxVF5syGpRUzVTyKSiDnpGanfyCtYB\n",
       "P7BvHPXxa70mtXvxM2rjCS4IJMzCaMXVSVjnXrABKJjU+Gl8FWagla9rcNNebNR/GxdOElf9kzqk\n",
       "6V3v4V3rJRbOyeEgPkYq1PR3NAyS5KAUkOCWJYU0q0yTOckTABIwxqRktIwqx8FXgajSL3Ot3rcj\n",
       "/6bbnaiN2ORU4qyyUssBQuIss7vBw8dyX1hvnmPXdcCWPLSwoFNcKEQt2Nv28H5hirhAN5jvmwNK\n",
       "GRx5LUE5VPiyM7dz1DcwFWZzvzW1fxy77KIqpj8pjTgSYXtVzN+s+4fSqZ5sXWpCKRZfZvsy/qr5\n",
       "p/CZ3hNFFfz7qHJbSa1D6Qsra/L5R5fdNUb6acGjSsWMK0cL1XydPFXGQAGOt2GSss/2ngqE7Fd9\n",
       "/04nR7pzG8oiEWHYAA1OjJdcReyM8LouNrlfWL1YLK88bCgzT1A/h04oMDwPp1FwZXawr1roNI8J\n",
       "xUxu/PaiEkq7953BU3QCClV7vaavsflg46zMV6JUk3G0bYnapbKMVRybU4yPk9Avc4WUfcxPQkZv\n",
       "THOW3Gmk1/zayGCPhpikb513ntl/SG2FIyI08EvkNG71hwVWnd9bcDdhLDVWdnsqtgQfQxeiY9BA\n",
       "RvAZiUaZuMepONET1v6dzJi5WddVGHWXMNLDfueZW97Wte7AygerYw4hH2YWsfVdshYOkh1f+HyM\n",
       "GSHQu2kJLI+sL8LlnuZMevG9VjO0RID0McZWm+y7+JV1iZSSCZpiSs2dOoMlnmVbTRSNB7l1y49R\n",
       "pCIWIvsSadtT765XRsFMwY6jmkt/6icVhBPyl6OPMr3cUTsbe97lue1lvhvgpleq4I8Gia5vap69\n",
       "FpY/hEQPnOvP8Ssx6FyR0Gm5DWpRrryvXdRE0Yjl3nPZ/BTGKoKG8YMrnvW9BIOkFRQSUKZY3Pew\n",
       "saAFQlmK97PE7leXBuGDp2evvY/HaTCCqCz6wTSdf8jOqnMTPWi1juYIpHuV3oTwhmHySyESaZ13\n",
       "9WXEMPAFBUCd1qIV11RMmOi4dfxL49eGnj4dr4KaODKfPjV+1faL8YFdwDAOAmRabbBZAw0pD6cB\n",
       "JePvKdr722eNYbkYZjI63EFWCtPHQFqIeSYTxOILO5N+YMlnqhu1t9C51AMHwpM7Tj+ZllY0XlVW\n",
       "WE66yYEh4o8PGGMCCZVdufnDYXPcUoJlEkHgF3cADjvY61vtsqM3Ey7doCgDlBj8eXZ54rHAOnaW\n",
       "m1NdD9LugAjIfysNOMUX5Sj8JYWH8WGiFSSeJ2ej5fzP0oGQc3bwLhk1YDvXIRt6JN5/IW9XMkD3\n",
       "AS0z6114+Oh/PhDNokmsflnw3zCcnGDbgVh0znuy7pJtdYioKgRyss8JU1qWHP7vR5rFJrqbUhCz\n",
       "y41wT9M0Vc73OwAABMNBmn1J4QpSZTAgr//+1qVQDljtkLIAE7HcpPJ+WoewtEdm3BYvg4mty4jw\n",
       "wuTybUkLP9bRhjucsxzSLitBxRCSIeAEwR7pkEABNZ2YYR/u3QM1u9lAdBmjCez8DWUD6M9caXBd\n",
       "0OP5Qb6HD+EF6zqbSxkl3iPd9AxYs8OOO0pKkGFPQoPFF7z+gMGqO6ie2CgJyQQDtIKq1h9DFcO5\n",
       "Uw4PoVgnd4xIYLiB9SkYDrvxms2JKdYIn0DbgRasOyCnyglP1xZ/MLBOxbO4afmhdY212JQpirtZ\n",
       "FxlZViEcj/9dJsI65d9wQPatjP9dZGVdQrNlDZZt8F97r0CdHLVtiKIAJai4HqiP3dmgbPHl/OFS\n",
       "77n7tfd2d4vITN48N+MbCkgf2qFeukFfzzBk3xqLYVvyXcsAHLwuoFkwTtVh/PmIq2u/0fAWOTTn\n",
       "NtQ13tpVCQWpBGDFcYzYbVaKWJvQNqymau1SCQOrRygykzD02OaLWRi8IPfKEmGhBWDdWbr9Lxqm\n",
       "1iboL1TvzbAWspPXFhdwyu2w2Zqtz8cywhOEHCSPKa10CNp55/R7o6F+dY18gy/eJU6Df2GAmBGU\n",
       "6tHh8oDdab4rn3JyJR9Ex5G3xCCVdMXbEr+yse1sjEr130uAIJY1ab1xxCE4f381xD04fvsLUEMY\n",
       "XTyV9w0U/oOIhg5YCigAUA1PuXQ8m3oeAI/VKRYykyiOn8UjOGD/erihdpHqzUiT/aWU3bw8oItW\n",
       "XtiUYvUAHg9+0PUcF3CPg3lb4SFCd7qqlw9VDowyLEAYa4YIEyfLrtY9fl7M56jd80CMUeRNMuBE\n",
       "2hlDXkulbbrhzgyZ4bT1McEAC5/htwQtnJK3aroMNsS1i5dzpA2grUXZU3Mw3ct1wQZjCTllVzHU\n",
       "xqC1d9UQCE6wvhVU/Bjg15Fgv4f/6Qt0janauK5QAxkbvtrrz/QXc4X+mJI7we/88obxqIDDhdu4\n",
       "JrU9rVkEviafk7urnxORZJjwyZhoDkaUIdQHt6wfs7pLUmyYM5Gyp2c5hb5kRgdIc/IGIgBDAUB0\n",
       "bMf/cjFXNTuekPn+1qj56shkjPnVahdTiYF8mKZUu3HTVcHFoQdKqlr/LCQbT384GW1G+FqVKh0+\n",
       "sPiqcCnTleIJnVjN13iCsOwIGmT1n7EcdGCcKjToLB7bH/L9yjwT4hFywN5g+dHlyRaE2qv5t974\n",
       "fgHSuDLeksLgmRMBdUrn6NbgbYgMCKbwygY/kp3oyNTvgZD4a+agw4r7+FIscQOtor3dvat/NNXH\n",
       "mMwSezAkYzm+7grFzeCTRnZtTbQMhPfaA82uRxsFvryj+TTvyVzr5Vro8fL0t3aPZzXyv7Ab5SUF\n",
       "RI/I1BghxXJZKCVrvujFQfoWuxG2GFXZCDOkA2Ta4Sz/J6Kvu4Vp942y1N80qEMca3IJhAT0haUn\n",
       "p0b2p70Tron7T7pYrWRItk6XDYE5LKzuSO1hRrLO7Q4AXI2lLHwDRJC6sFuMJPCz+edzxVryAHaN\n",
       "X8KpzjD2dSlHeCzZFdBqZqm1YfjKMPgrrFDTuouf/NZWliEqI4fAgRVEmS2H+q8rEeZlEd13NTBZ\n",
       "Q94PAXyMRcqXQfRN/QqHyeHBDHRgpU1dJ966H4sLGAvUSBtJAAAEXm1vb3YAAABsbXZoZAAAAAAA\n",
       "AAAAAAAAAAAAA+gAAOpgAAEAAAEAAAAAAAAAAAAAAAABAAAAAAAAAAAAAAAAAAAAAQAAAAAAAAAA\n",
       "AAAAAAAAQAAAAAAAAAAAAAAAAAAAAAAAAAAAAAAAAAAAAAAAAAIAAAOIdHJhawAAAFx0a2hkAAAA\n",
       "AwAAAAAAAAAAAAAAAQAAAAAAAOpgAAAAAAAAAAAAAAAAAAAAAAABAAAAAAAAAAAAAAAAAAAAAQAA\n",
       "AAAAAAAAAAAAAAAAQAAAAAGwAAABIAAAAAAAJGVkdHMAAAAcZWxzdAAAAAAAAAABAADqYAABAAAA\n",
       "AQAAAAADAG1kaWEAAAAgbWRoZAAAAAAAAAAAAAAAAAAAQAAADwAAVcQAAAAAAC1oZGxyAAAAAAAA\n",
       "AAB2aWRlAAAAAAAAAAAAAAAAVmlkZW9IYW5kbGVyAAAAAqttaW5mAAAAFHZtaGQAAAABAAAAAAAA\n",
       "AAAAAAAkZGluZgAAABxkcmVmAAAAAAAAAAEAAAAMdXJsIAAAAAEAAAJrc3RibAAAALNzdHNkAAAA\n",
       "AAAAAAEAAACjYXZjMQAAAAAAAAABAAAAAAAAAAAAAAAAAAAAAAGwASAASAAAAEgAAAAAAAAAAQAA\n",
       "AAAAAAAAAAAAAAAAAAAAAAAAAAAAAAAAAAAAAAAAABj//wAAADFhdmNDAWQAFf/hABhnZAAVrNlB\n",
       "sJaEAAADAAgAAAMACDxYtlgBAAZo6+PLIsAAAAAcdXVpZGtoQPJfJE/FujmlG88DI/MAAAAAAAAA\n",
       "GHN0dHMAAAAAAAAAAQAAAB4AAIAAAAAAFHN0c3MAAAAAAAAAAQAAAAEAAADIY3R0cwAAAAAAAAAX\n",
       "AAAABgABAAAAAAABAAKAAAAAAAEAAQAAAAAAAQAAAAAAAAABAACAAAAAAAIAAQAAAAAAAQACgAAA\n",
       "AAABAAEAAAAAAAEAAAAAAAAAAQAAgAAAAAABAAKAAAAAAAEAAQAAAAAAAQAAAAAAAAABAACAAAAA\n",
       "AAEAAoAAAAAAAQABAAAAAAABAAAAAAAAAAEAAIAAAAAAAQACgAAAAAABAAEAAAAAAAEAAAAAAAAA\n",
       "AQAAgAAAAAACAAEAAAAAABxzdHNjAAAAAAAAAAEAAAABAAAAHgAAAAEAAACMc3RzegAAAAAAAAAA\n",
       "AAAAHgAANfcAAARCAAAEUgAAA6oAAANjAAACnwAAB2AAAAKwAAABjQAAAXcAAALrAAACVAAABOoA\n",
       "AALqAAABawAAAfoAAAZ2AAADmgAAAp4AAANDAAAGmgAAA+AAAAOFAAADfQAAB/IAAAQ4AAADbAAA\n",
       "A5IAAAVkAAAExwAAABRzdGNvAAAAAAAAAAEAAAAsAAAAYnVkdGEAAABabWV0YQAAAAAAAAAhaGRs\n",
       "cgAAAAAAAAAAbWRpcmFwcGwAAAAAAAAAAAAAAAAtaWxzdAAAACWpdG9vAAAAHWRhdGEAAAABAAAA\n",
       "AExhdmY1Ny41MS4xMDM=\n",
       "\">\n",
       "  Your browser does not support the video tag.\n",
       "</video>"
      ],
      "text/plain": [
       "<IPython.core.display.HTML object>"
      ]
     },
     "execution_count": 20,
     "metadata": {},
     "output_type": "execute_result"
    }
   ],
   "source": [
    "print(\"If the following cell does not work, use browser to visit file {f}\".format(f=movie_file))\n",
    "gd.show_movie(gd_anim_eta_02)"
   ]
  },
  {
   "cell_type": "markdown",
   "metadata": {
    "slideshow": {
     "slide_type": "slide"
    }
   },
   "source": [
    "Like watching paint dry !\n",
    "\n",
    "How about something bigger ?\n"
   ]
  },
  {
   "cell_type": "code",
   "execution_count": 21,
   "metadata": {
    "slideshow": {
     "slide_type": "subslide"
    }
   },
   "outputs": [],
   "source": [
    "%%capture\n",
    "gd_anim_eta_45 = gd.create_movie(X_lr, y_lr, eta=0.45, n_iterations=20)\n",
    "movie_file = os.path.join(MOVIE_DIR,'batch_gradient_descent_eta_45.mp4')\n",
    "gd_anim.save(movie_file, codec='h264')\n"
   ]
  },
  {
   "cell_type": "code",
   "execution_count": 22,
   "metadata": {
    "slideshow": {
     "slide_type": "slide"
    }
   },
   "outputs": [
    {
     "name": "stdout",
     "output_type": "stream",
     "text": [
      "If the following cell does not work, use browser to visit file ./images/batch_gradient_descent_eta_45.mp4\n"
     ]
    },
    {
     "data": {
      "text/html": [
       "<video width=\"432\" height=\"288\" controls autoplay loop>\n",
       "  <source type=\"video/mp4\" src=\"data:video/mp4;base64,AAAAHGZ0eXBNNFYgAAACAGlzb21pc28yYXZjMQAAAAhmcmVlAACxAW1kYXQAAAKtBgX//6ncRem9\n",
       "5tlIt5Ys2CDZI+7veDI2NCAtIGNvcmUgMTQ4IHIyNjQzIDVjNjU3MDQgLSBILjI2NC9NUEVHLTQg\n",
       "QVZDIGNvZGVjIC0gQ29weWxlZnQgMjAwMy0yMDE1IC0gaHR0cDovL3d3dy52aWRlb2xhbi5vcmcv\n",
       "eDI2NC5odG1sIC0gb3B0aW9uczogY2FiYWM9MSByZWY9MyBkZWJsb2NrPTE6MDowIGFuYWx5c2U9\n",
       "MHgzOjB4MTEzIG1lPWhleCBzdWJtZT03IHBzeT0xIHBzeV9yZD0xLjAwOjAuMDAgbWl4ZWRfcmVm\n",
       "PTEgbWVfcmFuZ2U9MTYgY2hyb21hX21lPTEgdHJlbGxpcz0xIDh4OGRjdD0xIGNxbT0wIGRlYWR6\n",
       "b25lPTIxLDExIGZhc3RfcHNraXA9MSBjaHJvbWFfcXBfb2Zmc2V0PS0yIHRocmVhZHM9MyBsb29r\n",
       "YWhlYWRfdGhyZWFkcz0xIHNsaWNlZF90aHJlYWRzPTAgbnI9MCBkZWNpbWF0ZT0xIGludGVybGFj\n",
       "ZWQ9MCBibHVyYXlfY29tcGF0PTAgY29uc3RyYWluZWRfaW50cmE9MCBiZnJhbWVzPTMgYl9weXJh\n",
       "bWlkPTIgYl9hZGFwdD0xIGJfYmlhcz0wIGRpcmVjdD0xIHdlaWdodGI9MSBvcGVuX2dvcD0wIHdl\n",
       "aWdodHA9MiBrZXlpbnQ9MjUwIGtleWludF9taW49MSBzY2VuZWN1dD00MCBpbnRyYV9yZWZyZXNo\n",
       "PTAgcmNfbG9va2FoZWFkPTQwIHJjPWNyZiBtYnRyZWU9MSBjcmY9MjMuMCBxY29tcD0wLjYwIHFw\n",
       "bWluPTAgcXBtYXg9NjkgcXBzdGVwPTQgaXBfcmF0aW89MS40MCBhcT0xOjEuMDAAgAAAMRdliIQA\n",
       "F//+99S3zLLtU2+2C6j3op4mX0N1JQGblsTtOoAAAAMABnddzdfZ7UGcP+ONZoi+oBZFz7WD4aoM\n",
       "BM9Kutd4moJeyoVEjtWZmyGc+csiA6D/g8XHOHYsrmLF4S9DPtq8QC7fuOKeUwpSja1SMa5+GD2W\n",
       "qwaAGhpI5AwsQM8i68vBSw9wsiMri7uDfx7Jb65Dsf0En6uTOaqo6ohAG4iDUXJ8YMi4cbIHYD8S\n",
       "8kDGhtR40j6EhWgTYWNr/rf5ieLXJL6evHGD8e0tz75kdr9ACXbdmNW8YL8FfVn5LozNVwlxqHc0\n",
       "KhPs1OjaHmq0L+aGeklOJjYX/3tiUmD070p2yoN3IvMXxSxdw4cCooQ4HZsOSCiGzLaoKRtlx5kl\n",
       "F4HJG/NPVr2eK5aCFUQqvMtUAH8WpPyncp4itfMCxh8RCiOtKKUSVKPWC9yda45UpyDmfeyN5/00\n",
       "DpXeIArltC4SIJRXZ4QzQiHizY6sOqvaL/VLfOfUIoy485s/5Eu8R7DIIQBwv1B9LcEmAnTAf5Cn\n",
       "uLBXACAOBVgCzl+io3h1CD/ZFV4VNK7pl3M+JBCZVym1ZkoXnfs68e2kLq0chrbrXZqM6FYb83Ou\n",
       "Tp4TTwX6fVi20e1/UYfuKm2SBrY4ecs5S1Uti4IdnwRwSkTYGfw1YOfXsOy04VLBWYneGAVDNTyv\n",
       "YS1Mhb88nOQV/+UpVk4v/4gw8KhLdsYWq8ylu8hcK5Y0jDsiKi6+bb2Nl8c/a57VDFxAX/XPiRGq\n",
       "fTPk9koBUqbSDUEduKFKANa//0rAJgmzsh//9jQdhWZkDu/zJdRlRk2dv710CepT9jLy2bBzlb0+\n",
       "xt//q+oANjGir0P/L/NwdOOX+JrQrpAAWLSXzlKpd1zlsTjRGpEjZt5Z28BFS5H2qAgmcXqZMkRm\n",
       "/e1cJfVCU6rIAGtlclT7pVh05vg18yESPCdgHqVAch/srW1mPx5ikPyNZdbmN3G6eQn/PseVbiX+\n",
       "XbKfnZkbyUmCv8yB/ZEi00mvmBlAi92KLfd/z1u0DEL94tcxAE7mRcQLaUV2/qr8xSSY5xEhEGy+\n",
       "rJPJu2TkHmT77BInuVhd+3MFWvvVo2/ZYmaveMGyn4MvvfMl3jRAB0I3f5g9oXNQa57teEgQX+xN\n",
       "BcNEWtnzalHTYKUibb/uoFSoxfoWa1GAkEY+hJ+iK0VOXydtpYVjWLR052erbjrM8PtwxnCKmPsK\n",
       "fbhA/zg5yd/tckDwB1bkzVVIus0u3AaNKyCewBJxAuT0rEUi7H83ZfhGRtMRpMGE6HNkI//YNRPx\n",
       "rUdvu4FWBZaaXQeyG/hrq4vDtx65RwpawGYV6PtgqUtluUImJp4dH6LRVFzlftrTPK/DrNEOQdR3\n",
       "MJtxoFAApOyn6inxtb839jD2qBm+vBzXZahgdrUR8zLF3vxx7Vom+F3EqG3i78/+0CLtWvREAEod\n",
       "QcmDd0WxclgI8Kb7xeVddED/XddEIXze3Arc9jB/V0154ZwjYZwMIvlSPXsWjYfXxCcPCpJs3+lm\n",
       "cQR0uj5EzTqXBtBjkIgd/U2tzJIIFrUDAAFmdV/jJpT7p8VYzytjsBHazLwek/tDy83vSna1Sfkk\n",
       "FsKdE9PEy8tfAE+NGl4DhKdkqIDoOyjGcXZmsyBHQymU80kN3P/4tWgxJsz+N4kqkQq482+JWtPU\n",
       "lGAhNAXgAtu9XckzlGYRs0z+D2G5jonbS6h9aQJ+YJn1YG5YONmj5StyfGtP4juy3mi0P9MlLAyL\n",
       "XZ/V+Z0B3zIgCtZnWQfnJooK3ITw3ERAytPyhsp1y42gVsG3TSWBuylJRAODrce0UH9bP+lbqDvi\n",
       "lpgLf9AJY+/jZSnL7u99oSP4qihoDrcR7euV64ugmSElPu4h6Jz9S0oskC5KxwCW1teyR/BsNThd\n",
       "rwgqa7bBHb2e7utakTyAajd9J1goF206EWL4ILRySqq6ZRaxhpAMJZYe6GNWOeYZctgEng4eTap+\n",
       "T0lE1xrOxIBBnf/a0FIa1p3jFjD1ozTlg2N9oN+zj742zIcdzaF/1MsAor4VRjnL1J/WI/noK92z\n",
       "T6FAAHG6/JqH9bj4ill8b7pBpaeC4Yt4HcuXTIsQnx2mCzBfg7GbjRc7gG9uCWjMsjUqENtX/l/x\n",
       "2qlBcSiTce6jX18ZGtXk5h6g2aGa+OfhLSfdFtp5U2ylePlR8DOECLJ5ENRS6M+9C/pIkl9xjdmv\n",
       "4sRafsTa69kHIAFVb7QkfxVWPRQ2C7A1mE9TdDNZCWeETvBSk+BHk1t9gECLZSt+QlFoQ1xAq4cP\n",
       "DL+Kl1B07v7vnFRZeNmoThFJwRgFBgYQr7NmXuCDCo0geNkm6erc3DNRfAL7tLX0pg7vP0VtQea0\n",
       "HnANWBc9X4rtG2UVmLNdQG+3OS0ASayvHEs10HKc9TnAhMlII7FarsfJloYQcnaTVs4F7UFp3Xer\n",
       "PIzlCH8+nFxW1KkA2zXsoA1AQ/YMMse9maRxs3yuBXSFGJp6A5qrJLQv/Puw10VpZHHjkzlAncHO\n",
       "cQMocF20/cGw/RL/9DZ51sZBDtUi5oiQo/Px+WjVR6j+Sa+6byboxf6dnr2Ft12fvPr71mS59yuG\n",
       "DK10z/Wy2epe3ScTt8TlcnrXa1/Fk5YXZgk9SyH9OxMQrsL8czgW41EDS3a4Ay+rWe7/0gzznvr1\n",
       "zNQ7e1H8zERnTWeWSO5SJ5awb0TcZWTrslw1NR/9aEJKR6YFi5Fx1MuFyF7jqzN7qUXCr+2pVzBn\n",
       "B3tuwjwVCQb7Z+Tyq2EhMTProDTd9W6OYyFkxloz9k6SCHYq2rooIuAQqLAkF3p+9526AGzW0BbJ\n",
       "4zbOP+Uq57YAwQSLR9/Zeh9TuSreJjk3NGgtbAGKhmNcxpIy4RUsuUW0veIt0wq8av+5UmjkVYow\n",
       "1vKujszuimCCImlVccTF3XWs41JVnr+y6+cDksQur2f1R2E9uKwya7AU/VUfrPtooYWjUEnnDUio\n",
       "ReUAKhp71UhtkyzGS54Xj9goNbiBDP0o7x1hPUP2iVh+165NqxALseqDKt3KF0BhjCZgUwlLOhh7\n",
       "vg5jd0hopv71Mi1sajEaZwgY04sLfJFtsTFazfRqu2LwjaEom9xGwrnjKnzsvDnpHdO/PoYhggz1\n",
       "SJQC9qMu1mYBlNi+hXflFnl9rDhlA+7dR8SMRX6/ie5fnC3lr2UX2TZIKPYCtpmnFxhQHihi1VO+\n",
       "WZKGArvwTJB90PpGMRnT8OU0J43BjtfgzSlc83ecaYOjmHShQDy8qe0IOb2glOEQ8Aty8lA72MYT\n",
       "p41+CVuM2hKka8Y0DmtM2efdma9yeUTkjoH4zTyf0SVC+7EN4Qq2j5am1H3zR74zPwzhpZYOOjlR\n",
       "Wt01cSSxwhn84lq5rOC/08eVAjiQHsk0c25M3CSGo8lt0zneCF9ozOsFNoKd+zVycvl4Tpxkexes\n",
       "YROwGoeMNal9G9yhSnqC2/JGzHpIbD+Ytxc+2oK6yMOqp5oYawnaOhXQnugDJTNDUWa0VoVJnSPT\n",
       "CqBxXfJ7545f/KhcRRyo03gDK/2b0V5iDC+pTNM+Lwm1mCordXsus0qQ+7k2VrILbEqgNk21/vUj\n",
       "D73ULYMWSGgcFf0ifugWL6TGSBP+/u6QTrAW6UNJ8LeN5COFlfwVy5ObGri1lfBdcoPOZHPhlXYF\n",
       "jG6nUSBYKLzasslmp4IFE4DqUuSWGybeU+uzFpFO9pFjZMzIvd97I3Upx9hozRSOqpexkceLhT+J\n",
       "McoFv6hVbC/0aqFyirHKze93Jndbo4aEC/CWoCHKJSD+4Q6n3oMEPafzGCQ0BbDTMqZebw2sXC/x\n",
       "1hw9WSvCdztH4/CQyueNe7vsazU3IiHFfQN871DYLYg69zh60rqkiBW4J9FwnRVq2X8+6/XI7JvL\n",
       "ztZh8YWG0/2gQOK8v3oS2u1DIjtCbO9tB29rnYlM0P67+1zD//eJHU1FWYMrFEqlrmDyffdSjmPl\n",
       "cJNhPfK1UHKcaU1GGw1V4oZsqpDqdVdwxWnjhcxB/wU3Z/dP+f28TGSCDomr31P5FP7HyT+2oiiA\n",
       "EN3bCpLisppecdgRFBAGyp3Ik739tzLHFnRmq903BNr5reKZXmTlLlkRsel7MDdZn7PIqwepkKSW\n",
       "mRnahx276sU7wEGx57tRfsxAJZLgpyF7/oJsluKBMg1BLzP6MVtw+Re28HP4/BaBrtFmKx+db3mN\n",
       "23v85IZC7f0CWSbfYTMg4wIPdD1d1lsN+NmKIC8IE59qWb7JeU5CG57mjrJCiz8AhsTgNnVYXU3s\n",
       "OhhX5nGQnMSK/SWnWFpzoh1EMXMcsBq7ikYrOPZ3ckzYiFnD9EcubL5UJdEHBo2R6G51OpuaCBAz\n",
       "ojygxus4MmrNvTkpPdDh7dRdB2Qs18HAe7NuocICj18+DXV96Z+8SmUaOU62G/I2vWD5XZATLGyU\n",
       "ODO8GLhCMYafUurORQlmBhkwQ22eKAeWb+Ya+btknSJ7fJH9WjWgow//0o1nm1bAD/7dl0/4nB3/\n",
       "6sUf9dV2NOGHlfP2oZpkJ1JEMfs2+0KElx50jyVqjZBHQPioTGCcYXlCA7Hl97ASyhBvF+fa+RL2\n",
       "NNa9wrtWIqS0tBnANb101zPa1F+T1NRXj8EjXTuivGXzWcQ1rjALilcPEtmCz4u1vjQzdUupyjmT\n",
       "aMVnc4C4p9E+eGkMaeMdnjRLTzt9O/DDwTHqeW4Un/YZu+5BEg/EVjUAPcuKumemLihB0g8nUPaJ\n",
       "59ygXTorT5cv6cF7zgfqLIQqEDtrF33T7AJvP7R1fcVt4l8oGi3sN5xAmdIYkCxzIpFE0/JGHuHq\n",
       "AFfnUWHdeUcK8YL605UOQzjgQOhuHF/+616jOEfFnA4MHBBySpY9wgLfjYjzDCL3W7Fc5ZUe3Ncz\n",
       "NOen02UFBuQIMUP1VKzVO4Y7taknjOYEFjAsq0Pn1z8+qNEXbB5lZQ/l15vivPsqpLoRMJbl/azu\n",
       "SkIPI4CGB8VNvE6RWzJUNr+77ItoQRr4vax5q6tf4rZeF9m+Z1Nzo5RgVVuGu7jsAKNGLX8HSm8o\n",
       "qlPRy2nE0nV5a+Jkm1FXgoDC6SiiQyNDQqXk3JVxm62mcyz79qUe3a2mhM/t3b6B704FCihUtWyw\n",
       "9vQbU3aWGae51uScRo+ktW212YZ1pWUkMfSmrGFAXugoQrInpbz1rPxWSSiWaOebsv28Deib6aw9\n",
       "jBDZH7mM9D6D1zfW77xHyKxJeqovzupUPa0E/QGjLXYTgiU6UqobyTfu/X582GC3FKeHoyz65FMC\n",
       "QjtFqJqRS60FQ6Tlz+QhAqCyiSJf2Tp6JyDJQQYxjxIu0TcE2KtS2HLO2ybFK/kBHfGQmvkx0G9n\n",
       "E/mkAeX1yscTx+MfdMEr4YPqH1erCoFdQiuvK3yf9cQP16GZTQzjM5RO7dHHD3SMTAQ2fA7Wq3dd\n",
       "3fQwwdyjxlGsI1JBkaT0cIomzVD47Q+ATPyNu3Nn+JaqBE11wAUO+SUt730pc9pUkhKpoo4CrmZy\n",
       "6TKjPNHDtaSmnk5DApDPinT8tRK6XFC++ytNiQrXh2mYFvBUDeI3aCX5wBCUQYPpN0/0vjvL46gQ\n",
       "YcYWLvun2ATef1hW5GFnxZEetiT++clq2r+etV43MzrWrIkAnqNNrY80DijB6BVL14hrHfH9JFmW\n",
       "b1DqrpkGSxjw/bIZ+ARdY2S6CFBR2telVN/9yx1utbdyvXF0FFRbxARO8FKT4EgnjXQbyjsRuFmh\n",
       "ZjZEXTQEGYauYBTquIFHE7mBkKqME5w0tUjl0C6m/laIr42dVSeQ6lKvR6a1hRftB/Y+pwJrpbjl\n",
       "+7A+sL/ecPvM6w8b9sAy/kCl1mNa+uzF/vqxlcBZkXIn2P5aj9J+GYamxe6lQCqxha+UH7+lkqnp\n",
       "z54PgaLYfCxebC3qPLipMo9mAXpoOQW2sLNECyNtoLlC4dt/A89jI/xaNZhLgKqXfUEr46MrwxMU\n",
       "B1gKKFtj1jihH6QZuJsyT7Zk6kytALrF1kDG6pTHCCUnDV2JkDmnsYX1dWI2UW3PS/AuKkM36gg/\n",
       "/C/ee3U4K9qWlLBp/e7CgGZAEK9+BwCXxm2bLObk4UWrOAv4Q1Pf/mDm7pqQNVmqG5HwJrQLG0yI\n",
       "KtbtJV8pDgh0C/t5x7M10F/qCCQciShk3N3efjSYx73nuL9aU85fPvVtUUx9rUZkwtK/h8NGAGfL\n",
       "apii3bSJOuFwRF1MXpi8UUuyZIyLDqHcUhAlsOggUCzgRVsvn0+ekW8qk1vIB1bHOheashTh2YJf\n",
       "+e7WwRw0xtv41LQ8Na8XJkj6TPFsxr7fMHciudspvR206m16BNAcoJObK8tZaBIzi+0X4ShB/+10\n",
       "x35Fm2S4wle79dBS919LHMoS+KTmNrvRzXDngIX0f8a5wbPllz6eNwB8dfX1r9S6FBqriMfKHVOG\n",
       "nLwgQNDFqDOdUentiVKVu77BitG5qTZ199Uc5h68+AJdlqEFNVYNCKFYTmu1SDayfsEPi/YfKCRi\n",
       "QlIJNPwZs9yAfVWCwW9j8jh662/u78NUXfe82ifjJKOPLBHSiMt3YRbyYlOBGYECj/V+dz/xJe6j\n",
       "wmsYc2ox8WBMb97Ak8Xb5ZUkCoz0cdPO19nLmEF3D8HKzbAru7reKV2tF9UCKDv22ujnD1Iowu3d\n",
       "J5cOIdPMqWmAT/xTh8eFiQEZKlbfVGH/EBbXEZPYrHN9HBrBlQzF4AZmjMBDyzTJWnamjuXDYmce\n",
       "FX84igags4fH/+ot+1gpdctef/F/efoP09KgSpYXt491beqbh5tOT9hrgOOXwfm3cChvljqFBG2P\n",
       "NZyoluk7TJqwR7NKSSWN5y5IDtnSQrya55K6sdRKCO6C2a6w5QZQNEVainv6bgFiZDUlXKhcE+eY\n",
       "jXWGbmT0so8hoQ4nnuYGI9A+n0F2BnbiZFuvAiLXfcvBbJ0LT6dTl8Bfy2X28c3vENt6G1J6EIeU\n",
       "kCZ7WCXAgpMJqqLG1PAGnQ8Yp2wFj+XcflfZLu3kmX86HFrkX8d8/4oh42uniVnDtMSMXK3xM2nc\n",
       "MjTKlVR8QhqnltfA9M72/r56s7KnYgscBZtvDfouvEXLssC8JaX4m35kPGJ5QKgywa+8VrxIurUr\n",
       "9sO9bHnnevEdFV+aq8t6xQKR7Mm7VwRuACH2tkUNcSuRy2Qi/fz/8SbDNgHvjP6EMDVTsIvYQDXU\n",
       "GFfXwmu1Z6MGNNb55vJUBOfUCoMGxgEkACSeLCpyjOcGf5KfWaHWJECCQCKP/EsTRbDomDpDwjTn\n",
       "qaOcNKdUe5FG/fpP7sVrlF7VR7ztQ0VOSrHKUBA5+PFAbGrbqex8tGVuOcH7oaVMNppzlNPazNzE\n",
       "OxR3ioYwjX6EiNYrMNvidBv2qy166MUD8n1lDpbWpWC/N7anVHGwXUK8rHqNvL0gegaM4MB/Lc+d\n",
       "4NLwVw2GDCYblkB5PTwdiOHVNbyUd9W2xiAaHCDIcWMY4ygV85HAkRaO7riBOIdHz8l9/bIOlrqL\n",
       "xKH7vYqJkJaGm5Iq7atDjxFJd8DL/S5FToHbjPI3wxHT/TFoxMtaYFKiExmyiiFMEyMMyGnibcgy\n",
       "v35OOA9/5/jHe0nbum9fthOvbDTQ0cFHaQ/sxOGZ3muAgTVmx6zao92/yIyu32ejle9y3XVtX2aB\n",
       "Ol//Fx6zw/seov5yX7GacE9B+GWafwkMLKYt9v6GSJshvjujs8WbjY8397zaWpz9AehsETDkaO7Z\n",
       "AaouW+BI8p5932c42ir23u4XGWFhgnEzYMVZSHXw0A8zsHj7zVkHar1zZUvryNAiKRet9AHVK2TR\n",
       "9XuXdQtKHjW9FTYS9HyPD6dUwXFKzhZZ+2zaHN/V6e7wjsxqu/96ZYujNsHh+TP7iJluNJ1pEAFs\n",
       "+hwbT+V8gyZh70KWV2+AE++XL/M0lHTf9lvz9JTZwjnNiwTvB8Y4BtL1E1H446WnjnzeFoM0LLiZ\n",
       "fH2Q+z83OyVlCOgFEttgt3/SDR9IG3bp7UAX/j9Vwz0C4w0a/70S+itgJpHGU219ZW0q2AqFhZzB\n",
       "++YxEThgL1cyb/I+091BF2VT7Yh3178HMkpVuFfiLFUN3+8a19J+1Tu1Rae1zZa+4Xwmc3YBUmBz\n",
       "okxoG5+a5GdigL9fsa9JT6GDbYmWupC/FvmPwT48yLnaFVcejRzvtcxCRjADRLKQ3kDg4ntWbc7x\n",
       "kjVluDi7/V9K64RviDGVNO217u+AmE48cGB+5ORyJVrD4ZfdzxrK4w/5DEgnqSZFgQmHT/X9otn2\n",
       "fIuavHFlrOuWk3a9NKpo/SBn2ac8VSv4oFb8tv6Vk/2JIFOE8heebol48qvogTGcijEMlXmWwnAS\n",
       "XzJE9Jv1NsUhFjOWFuKdO+SaHYKZM/90jYhuzKOiFT9E88iIqrtmz2AE2Mfq8qyPupfH8tKDODEW\n",
       "pm7/cD/uijGMyOZ2eLfWv891pvQnCzIynyVlEpAuFOZavoNLAKrEW1EHWwtLDzrYwLUzCjeJilcS\n",
       "K65TgrWGo9FoSdn50UjY+R3ATPsrkVL4YfdQCkfXVaSmy3SZSGHqIxh6/d31YqaeLhjp4VGeYPFE\n",
       "c6X744nmiRi5Fk+G5HJK3WCA+3/6iG6dB7UKMttkF8dx/6v8FDys54zVvz3SVyTtitkfk0cIA7Lf\n",
       "La5YuBilZ41yDFdA9LMJ7l6pIiokS2+LaGShNvWZav2suxs3DLVnLW8QWJSwT1b5N0W3kjVZEjzp\n",
       "+qbBgDFNWyeeOUE6bFffqDq3m7/xsyIvVb2qNNbEaTB15nJ90Sn9AxVfxm8HvDbLoDrsNtL25bIs\n",
       "jdsND4e8tpYH4bLJjabjg9k6+wwNEbcb5QoPJezZ2ks4DGCQiuLvm41vo6Y2W63P2t3XeSixOfKg\n",
       "Ayzu8ZLiwgXuy/jQ2Hd15KKMuam7cU+/Nk9s2od2a6YtJDzoViGijTmix5TlP/0CSaSHcaH2e/Az\n",
       "Bagl4nlmGECHZTi30ur9VbP/oCcUL1eBPHhcfhcev+0nQoSgBVUc+kJmXfXY6RuYEq9a/IVEnhSa\n",
       "Zo3bGLxwhGTJ3GngHWVn2vZSGOSXK1MAZhRyldzWWVl8Weo5GaAZiaDKK5d86q2veQfMAkkPme6M\n",
       "aKBa+yRUo8kkPk+KyHvOhHGdEHteQ/ahNDbdl4eR0pfTcuZjfbNFYmNM8flv5aU1GGw1V4oZsqpD\n",
       "rGqwneaf2Pkn9pwp2J4JDhY/v/prPWJuRbSDWrLbewZ37HEQh3Jpnl3LO6uuXZZcmUq0g8ezKMiV\n",
       "oC8s7bM0iwoVeO7lscHK7d4TIbX/598WG2pJfgUjAVYH7lPL1O5f0FlY222ofDob7JW3GUgAKXXB\n",
       "2gIt1P1xXKL9MQhLwrfRS5Ovgwt1He3R9hjZe+h45ETzuHyANoeRTIadENF7+AAtapG+hUoYpBp/\n",
       "K0UCt9ooUfWljUkOI+xm5wUp8MBQOA+kBPTBkR2QnVVhWnbRP56LB2v/ThNXHCbDATe+u6PlvZUg\n",
       "39lk67qzfSg8coaR44L5OGvSXLBlmNKXN0QKS3X9TBI3Co7YG7BHcg36zSg+DYKIdjHOQAuXJH6J\n",
       "4DStngokrwbl6p48HciCN/xPXeuVBMcZWRdWSzxUxurDJVKIMJfPFIDRWLbD7x7STsP3kWLKQyA1\n",
       "a349t/gI+cRyjIb2IWFzUVm2vtdRncP84CkDreG6XZHXO+sc3Hqh+P5NtxJe8fIbGUppgTDgQdlV\n",
       "MITCaux2/wT1FjB0w67PJjB0J3BogzzyT4UGlgtftuCkVBZL/3mSkg2axUo5Qd4sFKQSrR+rAA+0\n",
       "dGEXhuRLxyVpGX+bRKNxMHrM2HQDYCP8MYp12RRaZ/5snc7YiMmkIRSmbXEsX3MkbzbUTILhN538\n",
       "+zFlrPCE5qS9dsZu3GsLPTPXc2JIXD9CJPO0G1ENl2RxCMMGnw8tFtUmxJ3LjYn8pK/322Pp6sx0\n",
       "JfmAHB4nqpy0jLrLWEazpfeX+6Etxn1jxjzsuR9z8RabXQjnE48q4z3BtPXhPsfdecAwicWG0N+J\n",
       "+tlolfFV7H4vBJB5TxcTvZlzVOpd/+zJ+sa0z2lE4oip3mE+H2PLidBqVaIWGzyPdfBL0Z57XmFG\n",
       "KN2gKpurWMx9pmhHWVu6oSTDhnqqsWZ2pYMm5dqEJ2hzo/BdVC524qklr0zZvF6VgwwOg4OlyBYP\n",
       "9P5KZP2bKw/99esTe5/EU8VPxblZ+6bKOAkKcJOpSIA6tuYwdPVwc2ukPLkdonnhlMhK7QLOlMd2\n",
       "7aDK7s1bGxwCCKML1QwS1MDwnoJp7f7u1Zy7+yceez6vLRSFMsg0Dti7c7lzsoD80atP6WOX4wzg\n",
       "IcFT8HLNrrE1dZd9aI3Ir4d7M2Pg3gxVUSAQ/EdLh6zkDydrEOPcpYpEe9YXXTeGxzSahbYaVhyP\n",
       "lPRJlD3ta1zc/4mjixo9CIOEcHNQbe2uenL+NXdcqTVT7PPbqHHP+4VJxer+BD/MBoSq+pNGxjnM\n",
       "lRdkwrpttugflfvdvFALoe33Oo+kWkq/5kNG8yp/ER++jMtcXepGtdOIRcsVucNU9k6p1+QuGKWD\n",
       "00zjM29G0iEHMQZFHOjPaYOS6SeS1oc5xAwVhKxzhFRZEeo4fcQ182bngzRbx2klIW814fR0pA40\n",
       "FE3mMjAK/8TS/PgUrrhLpt5QvQuP15fYulMdgsFcxXJhhEzKZq/1lk3raN8/5yVCDDf+wtOYKdH/\n",
       "ewFvxmnwRTLhrB3yJnDZA03yPm+6ocGqq2BLb5X6IEN3/wLx55LNUjlEscF23SN9HiSDNoLzqvkZ\n",
       "rqzoYhxidqiadue4Ofg/8R0MCP/mfTS2tpfuxCtdjX7A+oXfHAoKQsbZfc8h5Jvp/BXOXNNuDrgQ\n",
       "m3icb8aUL8nRPe7NK9zh+4GY5OIvq0VHJCLU2bqm3pkdn+EOe/8HSMJLA4SzqJ2HICLKqMT62iux\n",
       "uD2AWcfgystCmuC2Y400mxY2CLbXgI0LHuRtiwBZvWcIVkOpQPd6M+uOoD1yge9SkSW2c052qD7k\n",
       "rxAP3JzuanBpUElkrhwmRG6mu8ZJMCtZVfPgJxNI08qruxiT4ethBQhtusr7DdNLNnikhm1mpeUX\n",
       "WM+uxZefM0k+EbMNhsFzaRyA8dDyE1XsPDJPjdeOWz0Cfwy5E4MaUbw7CD0yHgc5j1FHhxxCi/2N\n",
       "Eg2T2X5CnJftMMCTLTZwi+SOM1RPwp+Mz4MiQMjoTJaVN3GX6DUxVhDzIsCNw446wj4Ie8VqEXNe\n",
       "WpOGD0Dd5Xu0lxZ+/5qwiqBIw+GmNHq39JuY2j4AeJ08i4Irza+PDLA3psLqPrhvnTDC/PtTq9mP\n",
       "F+2ZLhfDWy/Axru378MtV33v7NqHL3R8vTnaNwiKXEFyqmwY2osWU/Y2og6lXhcnB+4cT+NRlXYN\n",
       "9IKBHSiftpo2shILL+FEe5Mo2LgaaCD7QygInVttUzOJs6+E7fH5amMcvUFL9mOHohAaqyzAUY09\n",
       "cncrt0M1KA8ZFtz4rC3nyM9qVdm9yxsf/2Nl8tiqzb28coXYQcLBgM9g76qrFnPhILE2D/pq1P2L\n",
       "PlHfPkY+t6fxiiD1OYVI3XFyvgT1fLIjeh0qa0oAcd2PGcdWH3sMPceah5ivSGyPDsQRtwp/r2ne\n",
       "xijyEAjJ2jgMd6VVGlt4YhVLn+OWH7x+yFsr7opLQiOJz7KUiw0obXWAIoGpeRWX54cudthsMpJT\n",
       "j5SeVfbLDLqyAl/Z2Jxr61Kl1Pm3JDLvbU1Drcdy9gY3iVt5unguCxNTO9DJwEdoW4+D75VrXGIJ\n",
       "Kv64P3p7Tam8hgxh8kj5o7Uh/eeqvuQAQdHtTTmm4X/bXFE2nR5H9mXz33deroT0qnckQGqPkPod\n",
       "9m1dAX6dKEiRSdgm/l2yebp3jlqIBw3CoJYHP+JDWp8jWqp407wM74OhOa5Oj8FO3461/iCTynL/\n",
       "HbZ/bZiVK0qGCO4QmyIDT+FQueM0s9UX769JmPrIhpDVC+PiPXwumM+2MQ/d+Xpx4JVAGhIWg665\n",
       "LKvbwtNZV0E2AkEwxi7v9WSmJVgv31Pv5BUV3uaFsmxnj5Q9+Cc2sLfjN6fbeaULInQqpgtCG55z\n",
       "4b6IxZkHB9BPm/MKTmzkbROjMmM5tTHHcO6TXHiDdUBMmAHjJFqbJHy9e3J0SChnS0v8POL671EF\n",
       "Cqlt1g0iRRKTZtV/uzD8Xlj64g9dKlbHCdgK417f/GcAMtm3/YVEeL28/cfkINhTY1lEDON4v9xf\n",
       "n+GKf/3pYTRI+v3jw/fYrmRG0C88gTvADzry+Z4+a4RIeMxe/T6A26fq9Y2Jugr4QvW6FS3WPW4+\n",
       "5ryowLCJpc4p1EW5LRtWCXeUxW1OnrNZVd6emK0qa84gCP6B7LEj8VxYD0JuygYKsiA/gV8XA4U7\n",
       "8jn/c+5mhdswDvqA1aj8qvcrCuZd94JK/ojD5k40DWAdSB74SmAt1kke+sX1x/0I+dvv6r6yOhO6\n",
       "Q3ydO9aZ/0sTGzF4Pb8XJPdiAHwcKNoh3v90XzbF8x6LLoXOj9oDyhelp4u+U1LnVoKJ/+YlAFv6\n",
       "iYytM/+N4XYYPIJP9808lL/yTK+gsuELBPjhk9RdtLEjPvDPsLdWSDN/gW5LzPMCNB/VR16xavUa\n",
       "bJDxos4yaHHz4Mr+r70vFCsBxls+LB6TE7rfJK9WsYr9vd4VjHWGzj5ftXmdZoiNLHnWmuekmZky\n",
       "wiFqCE7ntTMjKaqiQskSm7lOAg8ZXwYmYdbgmaLalxTJ2U6ZIL+tdCtCmheo42Tv5Msum9YeFier\n",
       "jHx6ILjFWx3siWHYfzSWJMIaI3KxV2fxOMqH8M+y2fz/FFIdRnAGipVvjJ0/TRdmcWxt6A/xjPOo\n",
       "t1+Fwn80hA3y6M+Vttrz1l1jXzIUYraj8SBLlmGszHELK081abf4cUr2IvKzvtEvNukwLItlnLCj\n",
       "jjiPipTluK+nsgbj4VQEdKmb66be8IBvairenlxIXT03eD05OH3Vqa+Nv7MbDoGUWzbS6xCAmDl0\n",
       "N6ojiuSXpTgcMeMDR05nRe/ropA7yM2aq7iGZAHPOFtkGBTsLdfhakSbr95Lb9m8KZ6YMLGc+a/z\n",
       "ezkfvyDhiG0y+qlAaotTfK60La9nEBdc6By13mZiaaV5Vli1C/9EcREjovJGs86oKbcHipRlxZwi\n",
       "pNRP4KCCLCmbvwH/FP50foQsMZY5PsCmNyrjtlMz0XtDe5jvbQZA36NfOkI6CuplesqOIuxFZpXq\n",
       "zYdKy38dwr96/S40cQgs6+nPR+hPHWkxbpFCBp3tBxAY8XZ1NSaYfAjq0//+bZna1VpyYGDmsDDU\n",
       "nmUf4TV7qaBKuZROJAT2YQqF3M5ESmxhRmIknAxW4OwmqndCoqvrQPzOzrHuoCTBs2AyY1baiZsx\n",
       "FhmRxMwUxxxz5fDy1gZrg+vMGboZeoB4EIg0wJizBsjheOFg5MqwwGSOW4/EjcB/SqGUUegTvpON\n",
       "gHo8Rpw/pFz0rPg/j8jrukw56hXUmsYwYEjydCNZVQn8muA0Eu9nyAQ5zrMSSsVwjujncVvwVg0s\n",
       "VJ9WCxjah+r+RJMGytsja/b+SEY0uF1bU5SeKJDKYIywZyb2nq2jZ2SaQp91iprstAzqNQq7H/SD\n",
       "/O68jMuoo9Wp89gm4LOYIgz1cj5pS+lgXe+BxGxkJ0ifEjyzF8sneOQds8VvsKtwmpQe5TV7DzyB\n",
       "J00eZpDTOk7i3eH6Eyy0tGpVDR4YdMNApomo1fdJkpnTwl4z9V5syApd+wN3ea40ws6HqFJ8dHDT\n",
       "QdMsAiFYLtafhLHLxOGkxlV8E6IR74+kf37dud5PwQxbB09h7wzFOTTZv6Y2anque9uw7OWsDAG2\n",
       "4HxwhmvFxtuSQ0OLOpsp3rrLZRdygXeauiU+jXgENrbIL28p20pHnAc/r9WVyGmVa/f1bbq9EHNP\n",
       "nXX80sE5zGkz0//j3VdJ16BOWlCBg1Z1PHaJUACbhzLehMe0/ux6xco5pW8qAyf7mx3BBfCZzWhN\n",
       "jboFU9+0ysIAwuojDXo9pytypL9JhmFOc6z4MM6kiAc9iuRbNxIu7q50giEVUD/Aj9fCtK1PzwRN\n",
       "fsevVCWOY+iZ7brnP12Mrom7c1rFPkZ0tkl3mG5iTWLZx5iNqBhn/SiOCFGJyLDoNagX7x7STyOv\n",
       "VxDrJNUOeUL6W/q/ikxbqHHTjpfwHyyyAKlfGtR8Wkaw9LDKIG2eB+UFeOOSa4MAV/jVLNiuGau5\n",
       "FVpFGWZFLXBKjK3m/KTdPeofIHd5MJ1YmtW4VafrT1a3FVv08aExiYIyqUdz9mhHJIjzmG2WSzzS\n",
       "uWAeiYEbQm0LOUbpevgVgg2bSNuqsUAMT4uJ9aw556BTBuAyWmexut/+/hXUz61qKdmsRxwa8xbt\n",
       "a2d2S92QCZU0s43GBJKVSeE30P7psYu63wcQIQDLs+EGrnnuewZG733Ooj9xyMz7aBkl9njUKgTD\n",
       "q8Hyj1+HFuroKCdQLk8WLC8lMsbEJvSD1VnGVYkBO02Vc/jO+lW3f9Trv5saS02LrIlf9zvu8doT\n",
       "zXU5vBeIqnOh9Y7zLgFVkYaRMEmnb1yX96hRoai4j9TocS4Tx4m7YkTwifb7gE3IULBEiet/hy9h\n",
       "DSR7/SaRHLL1HWQY18bkkF8HeZIE14V+SlXi+4eD//5Y41szxhT4WAYrF26Oeve0WP3gEmc+XjkZ\n",
       "9rVHMfDsF5ruX2lQQFT7gpS0dLVUPUaLmXGZTB2T0wgjxIy3sU2Gs+suZdazQ0sy2Z4UXfBcmBiy\n",
       "w9QRi+UCQl5Y0lq7f/bGt9ggDu/NnM94AXe2wz0JoI75NKeCo8IVvmc5lpQWDX8sc+g1TnX6BEmv\n",
       "tME2T4k5iJvMJiHo4b3zARPJH48NNqF++hXwsz5NIt5TJS6MgiHLSvFPqGDJOJ4MCIXsR8ILgJAN\n",
       "dQzMnkDqjmtzoE6x9PNMx/pc6wJr/tq+fSR+VC7p+o6yKQvamGDp579MySwpPWvIEmtAhYSQU8D1\n",
       "yQkGCVRnIkTlgUPleNbSYVHOYFn3EquKk9Pch7giwlz5w6X+HnEiB1OGhteXFB5DtHZM8oB85TsQ\n",
       "WyzQ1We1DDe2ztJTAx5/fgkmcffSvkRVltdO4XFae2vkhdYwlGy2Wd8HeITs1Ipi/z719yiKujiT\n",
       "AXWxSj4nJTfQVIImLqoAX0ryykAgHeuX+8O53SiTtu/Y/QGzV40tRnbK7IqZ8nmNKu0K2Bs7iaBw\n",
       "Z8wdFJ0/svjlrIvg2dzrv8srJ50Tg+T4yyFxVSistcfa9fKyLmNa7XGE721Tg+AmL9C4hKm2MXF+\n",
       "HMkradeR/y9RRc5V6aUgea1aE0zjPp/Lsaimm/zbqZ3daAr+5qE9HENEr0/GdC3I3FgN+9fHjgbQ\n",
       "PtU4ea4RKLpXq2tKDHnuK1Eed+g+WDD6KTCYl0XY24UCdbMdbQwafNi0ZQp9mgL1QZ7MvHrtYUCU\n",
       "U5Omg+qyBXmMgJe25FawcoKutU+CMTd/hkZLmCITjpgXR/0A+CoP2CN71r0oS49aaj2ac9vaC/yU\n",
       "WUA56mrZfzVPYuMZRVOMeKoW1HS1t/vcXPwYf3JC+1V52fl61vY/JOcdNWs5iBEA43Bifh7yPCey\n",
       "RS2MUmjrAWhVnXziMOMKHMr20qj8auadY1X2h9IrvFkF+RlRxfEPQOpq2U2pGT33mj5cW37EB8pe\n",
       "p3iVK+9xRiGB9ADncANj7WZfsGPh7Xp4jp/KyXK11pluMvdJjSUEzXNsQtAn7MRUz+unpP4juxfg\n",
       "rLylYQWx5kxnSuyFKT68beJtS267pGHqS48vXCHZzNSE8tFsnObtsM8NVymE/axa+YXczlJE2UFp\n",
       "T6SNuquK8Sk8dk5cqol6M1rD0F1tlhoJPtHPFLa7OrZIuh1wQqiRdV3BzR5XZUpP4xrGHvBHfPel\n",
       "sb02ZpLGw7u5/jhFwsJM9TpdcepCWjdVePEMnszaqfjter/HakUp2K7yTB0Of/IzWi9dWfDiseN3\n",
       "sd06dCruh+IDRNmzHsC52Bc7o6NzwRBZSLhijM/eVJ1DL5ZzjgAfkWEk6oMyadZsULmJxQCKVlo3\n",
       "DCM/+rw7jvRU+hOfGF7CwTsXl8YK7gRmLWIEBP+lZfarXPrV6ZcGZN4sLl5ufBjmWse1k/30t7yT\n",
       "+dUEL2XMDGa9ilq+fSR+VC4FakoatgdgxBKq2jm3D10jVBIP7YeW5pernVEJTK61CB3ETJfQOr/J\n",
       "hZU1QEtmI/a54tjE0aNvhMiV6weAAACvA5BI26UwTqdoaagyXz3vkXh56Z67en8mcyNI3RXIJI15\n",
       "imDrPgbiBJKCadk5hGJJG0rMIZcWJtPAEkpwcvhFjC5iu/jlLMtMVZFis9E6hVAS0YmPV3Tdifup\n",
       "MDXVfRaq6vXaZ8bGjySkL787uC1s4t9+ZKiVbVWO+EeI+7seheanrQ3KlrNmYxYqOaUCQppumaEr\n",
       "poioha7tKsRFd3KrVNAA1SKlJ0aqqvO2GL9yfwijD1dZjv///nEmNulezm6Oph12d/omjFANoL3o\n",
       "cOKiMZ66eaARo/45R4j5J92aL6/Cix/Eatzm/tEQJbAn0nxqc6hcLe8o0PQS/+j2JrW+bCWaf9bY\n",
       "iJm72b3X1SzwWbl8i/glGfVUYufzARIxQwR3ss82Nz+6+0uLmgb32FSprRRLQO9yNTgvFziWPSD4\n",
       "iZJ1LduSajE9qefkJ1CtBVswCOjdXOux8pD/ykXktKK/l+z2YauoyzhTriOw43zAftiEzAzVoFZM\n",
       "hi4tYsJDqy8T4SSuXUbkNld7fDj8pCiVkfdruP74vywmt8u2Mcpg+WXJjtO0ryPA4LLj9FxasccI\n",
       "+YlmuMCuCtGf039GBwSTDX0EEcAAGxEAAAcXQZokbEF//tqmWA/SHmVqLDpADdmZIA5XP1h5FGiB\n",
       "fntDLujOPwblZB1pcNPs2Vx3hyt/NFIHxJr8Asvhgggv39rVk7OkuzZo92GWsiQfYwoBhqUPgCWc\n",
       "dONTylwVDD1N6cmnf+/mUvHrrCl2Im5HziycOBONZ+MjwhQXBQaSsUBa2GQOIVRpEWXFmNjaH4/2\n",
       "bPcn/8k3nHA8W6wRH/8NaxQ+e7p8JQG7/fEiZv1FtSMibrHjiYJyLMKZmjeafV+LJ4TaCwG5UcAR\n",
       "fuL5YBwWG1ovz5z5ge/VshV4jhYOr04QNC2REl6CZd8gXSDyTFcxFbwCYEv5fpxZPttxTXpVJaWD\n",
       "IFViEKgO6D+XwaeSjZXdID0bnWWiqHT3aqzro7Qej4oFitn1VpvZCag6C6oydiPUmh2VKbqjQiAa\n",
       "jBNjlj/gHxsy16vAaOHuP0zvrGq9Cl2IcubpwcMY4nn1f7JrFK9Vob8SgXbZiYkba+q35IFr/0GO\n",
       "wpBaY2gCSvM3o8u9/ttygxeE8cd+nTUU82lCqVQKzYtRAq4VdyihPeRQd3qPYsfOxxsVlBY+cGtX\n",
       "DnRrfmRjeztYb6LuLQofiRjzINoWV9Apl0n2hBaoptUI9BVFW4BPfaPVoG04DrW1b9UQb1b218Bv\n",
       "i9iWnfIi9QRbxwEyQj8PdBMSmEWVzvPwDi7x6jKoPgITC/vTgARh9IUttsjI69KtgjFSFTpVqnuN\n",
       "wpC9mXK13rQkiwwHqrjvZdHXwPDTcoJ+Gf+gk40PA04fMzwqHh4zuJxzQgiFG/In/qB/1EgiNV0F\n",
       "iMO862AOANh/uc0wrEdexNT7mcapG1UuFjAlymauNOvUDmz4mJzLfzAytwsG/0YfRWe4EAhUVtXC\n",
       "q4gGa004JgMd+enlfmj8gnpBn0/YpY8AK1OERAOoXwCujwNBJJ/+Z10yLaioeAn9duPHOgnoty6w\n",
       "wgo2OlE0kRfqn2t440kkczz4xAGztP6jaKXdr0TL7b3PgD8jx/Qu3h6NniN0uBEzqLQh6Ic4sYh/\n",
       "11PzeXdG9TEyw9ISaW7BzV1ZUIsl97KZyE5UUQ+tmjvMHAamdPjhdb8OBj2lMVAK0hZ7/XkuJums\n",
       "7PIRS1YOHhGt0DpxZCJTPzmt4xdUziVYsHXHsl6Rr/aRpwqBezlqYUYabtq0junAKJ7u5j3BYa04\n",
       "CBVK+Yp8v2lVypfGbo8TRBZJZRWk0UEYAydm7XonaGpul1zl8XQYs7k5fu/zIzoTQdGLspPEkyjC\n",
       "yK+Mdq2an4km8Qx52cy1jFF5KR/6vEITaLxwIciaiTSoIxPhh64U+Hl46dcmLAEjYPK1ySeDBJw0\n",
       "wcyMolRJhn5khCnP0oY42ZEA7DVxAsvhY1NbTw60hGCDRMF/EJpmYm9iiZlxhwMZDx692fChoBxi\n",
       "OwP6NiiLTKt7r25GRpzxpFYCRC3cHnvwCUSP3iqCOXNv2/+VIC4YkFzha1d2p5a/UdEVAYLKgKlC\n",
       "VDyO114w/1CZVGkqbaQyKA7ft9wdJ721TxG8wW+/MJSlB7Rk4mpT+DNwt2+3MoRinUkXa2T7p0cC\n",
       "PrSAAvO3LAKBBuYK/VIWFIcQ9zR81u5LHbYxDRf+8yFgn9tfo7MonBDyE+oTAM4LDZljC+GrsqTM\n",
       "NdOi1VhNdG2TKSfc/OcP0l1v34wBlmLKRniK97joy2u/mZfYNsCMMiKl57N193HPpduFxChd9kan\n",
       "lDViM6eSUHYTpdaDwTWKU9J//X3tl7hxpY5pM2JkR4l4xpYuYNCwmRomkvGXCxwAQPvKIif/+I+U\n",
       "1rcWXiIMEjQtnIxh+u7ARhRi16/PCUrZB3wX+6V17T+QcQHRwQnVViFoEM3VYtOfzw9gdzlJacXX\n",
       "k29lFotAq1gssZ+fZ+4rKc8xwLn5xDp+HHt2OkZTSc6lURq0l282BckD8gIGk4N8+F0Q/rCyYQBd\n",
       "MGv/NjEdH0CnhnAhwtylw0wTy9y780gpzcbBV838dYTJ/Xl/esYP+DVUX3gN095hiORsplB3ldH/\n",
       "eJRHYMqBKIiQJwfon9U/ez3EKoQ65kyzbuxZOGlzNPBXsRKdyd698W5csjnCfo+vNTpjZoQkuiaE\n",
       "UAjtg2qIPz4YhXH4L+dqX8XpJ9b8M2rr91oJMVc5FNCFY05j6nkzv8lwFzkLvWQUgvPZH3EhPzh/\n",
       "z2JpXfp9DmytnIOlvZgWO3p2kmqq08t9M+1x8oWA2bA9Sk9u04RcSRip9uqZ36RlNQA7+Pi5g3fc\n",
       "URcNXomKWd7ViJC024FgT7GBXPs0FSD0YNCxIYN3xkOmJiH+HrFvBdr4u0iaWiaytXLg59BHG1oo\n",
       "gKfKP0i3yaqv48yuYmJTmArBwqVwniDD4b99p6R1HxlEuDL1ZALn+8g1zmM+B9XP7Rd3eDQ4Hnwf\n",
       "wD36icyhjQ0q5ctovvALhfMXAAAENUGeQniC3wADNbaACa1O0YRSu5gjwB4aFdo8vycyZkf/p4Dx\n",
       "FknQZnUY182om3uSzv5p0bObPeWW2nR/pBNE21QVYamKsVG5ateFuU/h0GKgdk1pii39yVYLb4Kf\n",
       "tsV5CT/dKKa3s+PYbj6qTtg5pV+PosvyY73mqbPovZPtZw2dW3cIm0gDJvp3wAAQIlJYQPS4jmhu\n",
       "WutP5RkRN4aJj/D3Og7v//IxDqssr+eL8UUJFPiY7ViHzQs4WZOAM0A+upw3afsJVrIOBA7udgHQ\n",
       "mHoiO0A7nnpT6cfFVzQBjDHxqWxAmtIbOjwzQ4th+2T9kr+AunrsC7jWrYldrawZTznDTQ/2ERat\n",
       "whyTRBTVyk8RCoDy9pPVQmh+ceevqRFUy6Yxaslm17R3i6M/Ms9UB+av8ihC57iTC84YpEOUMreV\n",
       "tnzr5kKVVBe+pIa71B7E7CtJOlp3ZCgivf0rP4B1cp56K9s9MCprC7pe32ZSA9GLVowQobnOxLLg\n",
       "xf4OWdYIkk3j8FxRYF7c04boyF6qJIcOVHAZRNKk4hFTnb8dHfMnqOku9KxugXtVi6cNmXikMSkk\n",
       "oEMLaPGymU7QuPdhDpz9T8fomO1t2o/cL1A76q2w27H166GAVFWMyHrKrXBZBqeL2BPjV696GHt7\n",
       "4YfbZfpuaxb5WXlVF2LQY0P2iAmni+rrgQDidj/5/SlG40VVdEwS8iVRJATdn1Ms6BEa05v3mFXV\n",
       "4hni+4ng8cZXI/fxIcQn/i6gEtasKFW9U0hkB0+PgqFLIEa/tkhL31wP8ykwARQ20uMXTdjYcKg/\n",
       "7tAXO9ebBTlqPPc9DRjYrBFfC2dsXsrJSQXh+FJCzJQUoJieUGmgSx4dqYOsFOxtBW1trZ/nveIK\n",
       "bDkKcmtDRrvmQAz1ZEQdBYHopjAfEgXbwHtcFYaZQIHwJFKxsPxDO/vWn50HDRfEr/2tuivK5q2W\n",
       "J7HaB32ilO8b+CsNHVKSo0U1pUZQm83kVvkgYfNAaCE0uG7deKUfv5+RAD9vLgvBuOQlkSDjEcWc\n",
       "H8Q6UDZF7Zn3EDcgHcSChB87d7/Iy17blozPVV8bcfrsWENo7kurTJdJdvZGBc75ikTFVZhfS4pA\n",
       "QAUEZ4Z9Kb3jmfUjV7aBMtZtqx77rYmD/iBCe8uCAJpbJjpc2maCAa2+8TPoJfT43xZMWNGk6/0Q\n",
       "iMiG12RRJfRlxtMbh9n3whZ3s93niH/oAQTiFUUaNbgtIviqEBkdF+9X6/u41ownD0sfXndjYcDs\n",
       "6PQp8qssFBZG618AR/ik8o321jwGi8bk8gtLIHZTO/8V5AgZuHSFjyIigLwRB2GL9cbqz1RstRli\n",
       "1MLf99sSb6kLrlybplzENShkrRU1LLZl+enj/C/YZ/76qINZfznowXcPzXPvKCvxBCnpLt+E4T4E\n",
       "/vzlFfNZgAHDSca4L+AEgQAABLcBnmF0QV8ABLObAAiFTbQB4CdAnqfbG2hkQEOHnl5LGy0TTDzy\n",
       "Ms5V586TdLA8YPrRnPk1AIlJ+fmWebj16dtVri8Ff/6B6869A7BqMf4RadWCgMIWlH5lOiOEg7lI\n",
       "guaC0LPhhdJBEjgGLqg13/S4Li85epEbwtIrY3GOvW1V/1ZkTeJtUJcBwXqGPnKrfhmV+HW4Gb2d\n",
       "tDmq13l/NwrzQbO5EPbXkcm5vJWXTaxXAsuYbqClIvfkQw/X/ZC2AoDo0IepBGaYaUCJy+FEXcCm\n",
       "k+9wkv+8i4PyW4ntYHwCjbPYSR+EmvIX469C623JhQ95+8kjVpnGTHH32H7xahYKGISNzV6lTrZa\n",
       "4+GDCvDbMUdJtCVs7Rp0ZaK0R/wtilyi2ERKjX0LKmJtoBvvw//SoBwok1glxbkK7wLYn+t3Et2F\n",
       "bmlxGzJDd6vLUBtdqS2KtzX6iFtq8YWDXu0wE3oESaFdV22e3wevvYaDvrknNJglqCEUsEs7ijnV\n",
       "xxVHENzktbWDCLFZjeHbS7E311zdgLDMVeii5rsuEWXdZJYSaqc8XD4OricRMxojLiV2M1G9YpIp\n",
       "79zJn4irkw7aJjUpi7scCD18pYc/TplMHos4aS1H6jCqnDVSh/GmfnREEKa7YS+iE+z0QcgL6yjb\n",
       "Iy+hwF5itdtAYXZGMGq6tqFInbxo9uaran0h3S9VwLd9+Yl0HEMFypXuQnim1XGZUYjlYn1+GAta\n",
       "J7d9DTgaxkvxP4uPDnC2QBX7yMVZ6I0yLJi10rYQKrhph4VvFjqfaxdx+XKaXevXZt8sQK+6uV9J\n",
       "XFly6O2F/LK7p8LCd51AGPiTcooAm3lSr+kZiXMZyAmWDVMdXL8BB0ktfoEpoDpK6bUOOsXg0Oe7\n",
       "nSlyL6ItSGe+U4ED7w7kOc1cECZgKChGvmeHq+Z2YS4GOi0Gn/nAfNcbAWpAt9uZjfD26hYXjeLr\n",
       "9ygglxZbTwaMLsMxFrsHVjsONCNVrOyL95E4m/fTDpV9MaDOAamKHdwVcRWM/X0xVj38Qrpe9KTX\n",
       "zfbgnhkKhC5TJK+NxDeepP4D5H1rwcD6mM28awYjc3WeMxKqUT0ldNiAmTAw/WBLtFvVIl86Hv+p\n",
       "r7iyaN4fHtE5zWzhXiIZo2SIp0LY2/EBHXfNvDz0rVKRHy4g5ljKly3AB4jGaqrdxFLTcMEXsnWm\n",
       "SkPFJOTfziE6zpDR8tmGte0ggZZFR5kVU4uwO6JJ9KFdPdgaQDf390/STLa55K2M+0CnI9rod/p4\n",
       "IgEMphIjFkuXe1q1uNbTbh8uF3HdwfbWooE9NQAh2K7DPprX8eJMZ2iJ16vA3jsgeqdSXQ+fGrFh\n",
       "6TboYw/9bRj6HQ3r2Uh6y8RB7GidlHtrHcs3Tg73UteGsivX7HTsKeaM/hLSOLw6qumZz0/JTebY\n",
       "4YV8OfdJmxtbje5oH4S4F2eNNA/NTGWfcw/MD+5X7vh4XzaUsZm45ie/GJONFWNeLEGtMRBkxrH4\n",
       "qd5He8E8Ym1fBFKBf6pVWG8QI4QAtGQpFpwdsNX/AV/BgAAH3dVIeg134X9FD9K0626sOt4y/+o5\n",
       "pzc6hNfKJBziLIO4ia6lqRNOdOAAAAMAO0qVSt3AAAAFkwGeY2pBXwAElfTtWIgA2rfyjqZwrJLC\n",
       "N46VNVHweQlRjvUGSP1ncF1K/NZyEmZc1+XjBWcUnrkBe5kztX1gEYgznO5s9SENDz2n73RJoQbp\n",
       "nf/77TO0ljwryPCBaHZShML1CSjD/a5e7fGtZ8sJciuB3NQhAwZTsrYnfKmT9BpNrSfTMgjIE/Va\n",
       "wEXtFNPppXSXxMlhN1LPRCDfkihLoUkAoIf70h51UyOJSYLNNgG2B63YpfI5E2qAhgLDaXJXJg2F\n",
       "D537lwEQE0UckYcLkvuVCkh0ctZIOjbHNVB86j9eOrCs4Vv0ZVi+KOGmpR7qgdCBbOhnNcAXJDaY\n",
       "SBsCLGmd9Lr8HudFlpX2gZiXONKz0dfARnJVN5SvZi+0npl5UlEv1L14jIOFgmSJscJKdKQh90Vl\n",
       "wWTXoQiNXIqWubpHAqt6kSK3zGu2DrnTQQCDF8mM63fjaFrEsnyx4Ms27NSBh+0QEpQsNw+GAvhN\n",
       "pIgRXJvvGWS+bpfMRYqQes4X0MIE2YnNyfGhtmLzO5xvwREqUMWJ4FXPJnco1R7sGXMVwo/icijf\n",
       "OLdFRnX5iz7/mJOUIOzPBXEFqr0teKytQpYHvQ3vMyTOnaiabnUII54si898MWvycsZQQKLWbppy\n",
       "0ZPz/O6sfH2c2smB7XpJ+VHpat4wSarYq7/AQPi1JRg/tu5ouH+/eFIpHbPxMkz+kcljgzPVp55C\n",
       "diR6Mf6gBPbsuoL2yPg2UL3YSDVKITCETJWL0pHOdMc5P01O1FrumEYh/P24klukbRV/l6Cw4gK6\n",
       "y2bAt48ROKh0mukQQDk2RgJL8meWA2klo3brgFkhQmrgdJ1PMSAzUCgoicN5fe9YOiUBv3sObZKx\n",
       "1z2pITU/bGkeKI89I5ncz0pfWkyyDz7EQRg5jlosc9il3C1MEIC0QhHwnI/UjBHVqZGp3VnBm5Au\n",
       "gf77r3wbKLylfCAUv+I5e0WczyiRnhBXGodhgK1Ao+Mav/lqObGbyGb1sUZgWh2yYrvnV3rjsJ+N\n",
       "DlmFU7OlIZZoBUMVN1BcJPIonJKOWVni1QctuNIyEUvn76Nxn5yAa1kgj0jqiiPOjVKO/lyWcOHO\n",
       "YxLwtZmZ4Jx49R4A0AO2Bt49WjJJQbwjtizTidlKsqX/vCkUnUDFGk17QqOWqega66uagvUmYHPq\n",
       "hd9kOo1L4/8ZltmCR2j0bxGFXSTabkpZTpn4SE7qJRKY44Igz8Ul5oGxMk/bilF/h8yt1CWMeidx\n",
       "leSipyX+m9aelP6iRr3ua5plAt3vOMPQh7+cB7uoZbNfsGw/RFw3b/0p5Cteay7Xz0hZ9KgQ4ODL\n",
       "Rw0CQWxYlUatT51e5y030jetTWRf3Pd/DiWL4PP17cAU+BAsVqquWOKyombMiZBHe8/Awoe3fC2t\n",
       "2tqCkSrr2m9nURfiB3NyKzv2AZf2KvDmKeqyc9++MqxcQoegY7Efqqs4oZz3iaaa6JsmdSckcUhQ\n",
       "v+pe18wepePm5lDiT7ijKh8EB9Mp3uUAufFzcUGN2x6oUXtt/Aw2j/Z+YJgxPxqcnuJ8WoNAPM61\n",
       "vKYcyz09lDWCgkVbqUQIplRU0dZjyEzHfp9YJc9jBVECsW7jjStvjDkuyrn2yzZQzIZ8o9vlra2g\n",
       "vzuvPpU23Bagtm5QNQz8jqGpHs5hqYEZtF0cMgq9f+6tn2u2UwYjiCcvXv1yDfc17NzRX3bpH5g8\n",
       "013s3aeONPGSZ1V8/pQMuoIwa2OWO5Am1wJuV65cqonPuxgoRVdql1Al/ZnGqeANeT7MLJ+/w7oP\n",
       "uLOkQ2Zfx7wji5rO9IW04RAHyjmOtYlxcwEFj+VkQeKn2QAACSQ+/5+/Ka4Iic5qiQ1s/oBeB5UB\n",
       "FPgC17GIrI6rHUe0TATYDzvbcOzFIQ1ABamqbqozGuJInWHdAAAHVkGaaEmoQWiZTAgv//7aplgP\n",
       "1kyYAETYJC2/sZl5aq5XOsBPVdvj6GXTsAOF3ULIE38Vyjd5nOan/KB0WjNN5cfuWXWgAM9FW3Li\n",
       "KfdoZZNztvdOQbJDI8HiC3K0GRYaNIB1X+zx/T5J+9MX5bw/8atTu2UBJ0RCHfaZSID1FLzEcZCy\n",
       "RJ8XcJfrPNWdz6rENQhf8bsEnH92neRglTu1ELmjDktdOwMLHfp3ikwUjJgP4w3TsTQqFt5dxZrE\n",
       "OZOqltiavnedH2DKoFcboQ/p41l7y19LzTNdVp16hkMr7PpvOXZ6LZv0ofgHYPO3YN8k5uh12IYQ\n",
       "l0PxXa/ZaHdr46PhVApkvUuJgxeR2Z4MpUR3JPbhEvddp5WjkejaDn9cyPmlo8YvDSH7rzwrF50l\n",
       "7IjR3kIdjyEN3ADAPROgq72CooXJK2cspqik1bD8QEz5wUio9BdWhoKDFTvEAm4R8qbGqNXuUoKp\n",
       "KgARjt9tQTJwpwWTRI9a9fNuOd86RDyXqSKKO/ZMOS7dfTrZwJt2NDaeTmSEeKZYV42Ihl21MhAc\n",
       "AaJcljslW1QiMQQeFi2MU/bUfPcNi4MwgPbde4mKLAYyHy7YkjuuB4zSVUw7POWcnQtA6CvOZx/E\n",
       "7RzKfX3vY+1Mi+C2MASxP2BlEOSP83hn6VUp3pWAUtFR9CbmSxhJjPEJ9KDQiNjYlgGEcl9gmPZF\n",
       "dapvAhDv/vMpeD9SB++LOqXYYfHRDHIbznynSKxL1Om09kP5cm3/7XXRBod4Vw85dXyMTmQs2hXu\n",
       "h3IH/UVzs061iT2QgFbRZOAELjiK8aM/a76VQbPvU0Cz7QO7q4G77THue5gSfgbjdMSPZ6QhXJAY\n",
       "DEikkzGj+VNV4LfHGJElT3h1BdrTXTXgJchNDuBmM9gDqt+/YEoiZ9oG/Y6f0KJ5uKAIJ4E5z95R\n",
       "Gnt1q/FUpYor3XiJr+WHIsds3Mm8S96Oy1f+TirgOv82UKOQxLbYpfk+GMtoc3rPpz1oBHZG6f5b\n",
       "8yE+orLso+CI/MCRda5ZVgszoN/ZhUQWT0ayqo+wEHUePufhXkC5iJDKuk4SZMhg/9llbIgd1aJK\n",
       "hXQ5/qWTLydzl1LxeN13c4DF+rXFt5GNxvl5MdMi+coSHhIcrfIUftTU8laStpdoLzk5GO2wNo+Q\n",
       "v3obFHvefFYFfW/myRzVRaD6qxVQxwGZTy9w8YyQalui9pIJGXzVNf8K+kwhouaT3Fvjaca8l5fl\n",
       "DCCcxehDmX0qphmfos2Fh6kiBHnHvnBZCLwFr1PixA/AM9sqpui95LhpREa26fFFvEchtv2gFtIL\n",
       "MZQTxASlL8y8KLwIRrWCSfIJQb4WCpmFcWs2BZGdJHfySg7Fp4XQev8f9kBOiA+0hVhEuK4PFyDV\n",
       "8k8zSEJtroYuoCDsuCfX+8V6tLHSwRL0OWufz/iekNauD9omujaQ4viQUdV5iwUDU3iFPcrPJAi7\n",
       "ZG2X43moTJNva1k1ckprg982Wdh2qo3yFbqI1esFXFk2UpW3TItwMQp7g1atyGfjb9Hm6sxPLZKO\n",
       "KgSi+6aZTds5zSt30BQMSnLY3bZTQfUjZLaIOR7m9K8qjOLRf1mEoQNTnXaYyFhkIXkctjRPSn9H\n",
       "yCn4+xnXhUZn/r0LuzetuXZ+mU2k6QZWQ8Gm15gjo4VJuC+tCg2HPcrAADp98TVMhf81aD79V2LE\n",
       "FAvt6rYMZaU/Yn7saV+0JcHL9o0cVEFOvR8sn1vt8CDUBxeYda+YjqL5o0kWcPSnvyMI5fsFyGL3\n",
       "UdIMlyMY23eNw3fIlS0YEN+fzMeHs4sG13rTthKmw3qwCR5XxTJ0vG0lo0UuYGZBz6uZ6S9A5ict\n",
       "MVplwlHxUaXJlvKoWPD8+deU14DroHj4Yfcyf7+XQfJszeqrDUYCrPErpKef447DFjBCNWpenG9e\n",
       "GukgeJClhOB4fDs11K9Gq8Iiz5HFOc0ldvCSgfs/NJDYTV3nIbcK5f8uhYDkmlu9uMV/LK7GNJCK\n",
       "G5E+QW3p3r3OBubKgmq7LIl2qxjx0YgOQh2lnW+QdqX8cwCX5X3sphS3eF1DN9hMG663c+R9K8Sw\n",
       "wFM6/5UW7K+AQ6sgnlgXCy+6w7L/Zk7xv3ipoBZRfTIxyJXZkKmc7FFC7Kq8Ha3rk6gXlhmG9jFU\n",
       "92q27bu8zagf+LWTYKx76omoA2cvMhQjD9I+ImMTiwxGkVw1FPqeMg2NblVJe4P1rURG4m23Hm6a\n",
       "X/zyIGbMs+bzTHvbjJYwMdt6yBhlbe+vplNVEu9Oqhf8RT4wOERQ/kes6N3JyR6rTsVFNeDaT803\n",
       "Uzg1gUdLySGfGgGaI9chkDDgfFNzwWVpAnstqpjG7UqyDM1+U4eit1UZWRR8uaKHDpCrGK++TD8O\n",
       "gL2ncqDcio8YQBg8fcXNoEH7FLOgjaa2AYhh2LGbVlAfhrphCNAHfFEA5JbxAtlAW5Ji49iQRKY9\n",
       "xviDw6JntXXcFfIAAB+3ju8x7ZEApBBZ/00N09OJnjgmqAdGgQAABDZBnoZFESwW/wADEsK1YDbQ\n",
       "AQqp2s8AZaMvC7hLbKTXePiAlBtxf9qF9arvoqTC0aPHtV0wa6WyYS5i0D1q1Jmybw9ajSFst9PV\n",
       "1F8Zj+iVoe/a3/rW7iHF+qfPSKhKSxSUdGr89oHy+aeR7wC6AZ2Vk75Yr+i/6YgfjOR6V7AWRpvL\n",
       "DTTTYBrNheD//6dFpqKnm6CEdmA8dncO6lTiXdrwFe3LgqnCv4xVGvwnFKeDO3tVghiupIh/o9Mn\n",
       "GfIJCdPPZ5/uDx/jDDdCgR19PZ5rxp/CdveWg7v7Lz52UOzxOY121og17Zv4MXpEniWL96jPrSPq\n",
       "tOzeQ9nLsEtn9cw0DD27tRyhoCYov9GYFDeX0amNChBwb7jyMSqpJ3dCLBj48/BIpqxRq3yWLelC\n",
       "tThELTmtZ1jIxZGm7fKTtQnkMqtyByFdRQVM6/AJq/9ntJ7YV6G/eGS08UJ0jvDT6n87MeYoEikB\n",
       "D1wHYI5+AlAv+MlNS52GA3YnRYwRBFA4inE1dFsl9DHabZ5YfSh44uTnSjvCK1LLuuWu3majgoIZ\n",
       "8BgiZA1Uz4qQ8ocOeXLAddOT5HTigFZpwG3dIIUM6vx4lfeRM9HAPUyydYn6CHfamG5NCHxil3OT\n",
       "sVpEp8S/zFNAAWq9OsF6Og0vtz2+9QYjaQHR25ZrBmGxCafmD1J9iZmL+uzssAM0VsEImWEc7oGc\n",
       "OYrEx2XevIshYS7fqRnFhjatDSjr29QEjn6JHP6S4k5VCIfhakLEujG0zhGfzcxrBC1QGamAC95P\n",
       "rG1rIjsbl4c5mAa38E+HWpVpJzKqxOX+29lbgsgpp9y9k44bRx6IE/Hdc/RMYStCz2NfajQK/LCM\n",
       "EK9/Ii2sntdPBd3jWryeRaKt8gJWvnNM9qX/J5a6E8oV10AOnvbnpkeY2Q9tjBxEdeWDt2AIwvBk\n",
       "nr9xPKcj1G+MUu0sn04RV60bTfJV8Hou1a8ITJf2UMsZvtm6m7JS4JqW5sGwxeQbZUmHiJkbscnq\n",
       "UCjE91Uzmo/QqMFCvMeEuLWUwRd2qNbM72si53We72IlUsgOSpHoK/aolvup0D03yhsQS48Pq9xf\n",
       "co8FJOCE43Ryfdj30Vzl/9g7zMTR12L+FzcnJjW/N6VeGOpRbe3jyzaoBe1PrJGN+NYXtK8krw3G\n",
       "CFkTi9b4rVKMAxUyHTB3cN1UiimLg39mVc9tjgb0J0MnRi8uENOBRnZCuHLoYCsnTI9taM2LSLaj\n",
       "ynLrJwdx2r5TZ4Y0G1eqtAlP63kZyzVQYiY1BOvU0uUgZZY9eY9lnAyLHb5iUTEmeqe5esab1IQB\n",
       "NcEVnS3xl3CfVWYuYJgB+iU5pXTqlzI+XlFy+jd97O0gS5HUEz3nvw/sHXtrlUYGezOx/VYHc67V\n",
       "5EpmDSY4xjQ/M74oVnuNzKT8zuLQ4EUlUP8h4nb/pmyBUKKBAAAGEgGepXRBXwAEs5sACIVNtAi+\n",
       "kkQqpwSWR3aFejvJIMwk1/A7k6egHvkl6U/M4aM4MKO5tUnukCsBQWd1EoNr2neMCqWG2ccpmF8z\n",
       "ldf/58ZrlGEDkmi/rgApwUMaYV2sPJa4DEqoA398SwUjR6CD0zdjt1e5+KuPLEwLjDcqJZU0c4O9\n",
       "2Fu0qRi7ajGweRP98SBlbxKI6TdOst5ZgFuvWCNf/BuAdEMcmi4gXCiE1jhB5YeldyACOYbTTPXq\n",
       "Onax7BV8iKiLPCHTnVTKGCRorNMTPMCiJl193Cc+VxIBCgIql46BtPF0ziJJE/++ZukborYF5gSz\n",
       "Zj1vgpqhmM0iDrBTVboe8nBcrZM8rwLOtNIZeJzYSW5r7PYhDQwGsZCMWRDTIHWZSVUe8e+OyPxQ\n",
       "oGfLA1ASKK9x+ff4hB5+/vhrsHmFFjGe8R1lzfptzmQjwAYI8oT/vd7AD3tUTCz7TOcVlhPzUzkR\n",
       "uRF5ufWMkFoDLngXLPUV7oHae1KG0OOwefsBzs3N+57vdPVllIPiI+WBwrMXbt/fvUy5CtQBnQzO\n",
       "9vxTkve/NDuDxD1zbbXcfr1gZagFdtf6ql926qokKBICC9Lh++jSha9X50Vfie7dH/u9NfAEehhp\n",
       "ivRnCs+YYoyzNRn1RVBPghLmaeH2+1uJD0HmMoZmrQbeQUiBR5YWrvpnEw6ACVtO4LgQj/IqoB5K\n",
       "tTp+NsJ/fiSXGQW72Wj+bVK8EmujMehnp7VtDTu5qAf26SPJW6A9agT1gsN1SRfGpMl9Od6UIOG2\n",
       "Oa6MXwYtnk7/0UalzadW0CwFdG6d+BtwPQb3tNY+yEBGavXBbyjqNL7PIVzsb+mOX6QlbxXmF+fI\n",
       "dof+npWRChbpnJeE8qizjk9Ux5tP2XXcksSBgh/hC/OI1bTXrzcVW63NwgIDcnZtsHX1ZshIbBOX\n",
       "MrsgkuEuiSZsR2Rhxk0n5ky71oJeCuuhbYjyboDylYIU6FBbR2/Bf74cY1l6di9fGY5SgIcWsZiA\n",
       "G6SK6Sc8rkEVRMLo9uS5uDmIg8M1VhmTMxSMKQDUUsIPYRdZ3GvYyKHcrmNkvUcAUCKSWolTZ899\n",
       "3kpFE4e8zZseDLyyC77yUen25JZK7zo5ejF+s0/ATFAfmcHszmoA9czb6A3dNcWd7tFLgjABg+uk\n",
       "43Z8yQzyuBFEuq2p+b7FavlhO/Z0H1pTxfgAt8C+smF9TK3lba2xkbgglThEcjY5GjKXiKYCsrxX\n",
       "xOjQs4EMH38eXlU7AbqLv6JOaLZpPTJppuqa4xbFvpq38vHSIysvoUR5IZWuGBmav0tYzMgQQBVI\n",
       "k+u3juO8ra98VO+ZXCWmXvwuswOtEveQBtzDSL+FADVuuiE4NWqOq5FKWBCj5TX8HuKNKWw7sQOy\n",
       "DxJtTP9SIkc7M1+mQQSiFnrb7LDZUNigBNCncXK7JXC5NRs8JvsuFIIq/yTrNW8qMaxoedddwxFa\n",
       "18eMLNftbGGUEH88o2V70ku6S1Bek/RtQEj6gLCZN60MkZQXj2R785sXSkeYxLQ9rngrBZsX787d\n",
       "20HZwCcBRtlb7aNCmBk5plR47SY08hoZdKKBPvDb4X8iQXBCqzVFPEyCwFJ7+lCA9nNQs1QA2wGq\n",
       "aDmw1Zbk9GnQsgJrTU4jcp1OC5yYZ9W7NY+Dvlw6SEuXr3rvilXwtTZn0aT7DHgfRY/fIHS9V6Rh\n",
       "Y8WpMDWq4ZVBBlhF2abGl0pAiUlNl6/mNINCS0WwhMdLl8xc/xCgIvEfATXY1s5hDRObyAFlXigN\n",
       "6cUWkJq4pnZeRBclDyCLFtIVAhsxXVcaFgHoZ3Nc/YCZ/2bOyayD29eR7+pavgxlFnyJaO/BqtcK\n",
       "UbrXU+TbF78bxS2AYKr+72wwNJB0vCMLHUc+LTLaoRpRdvIlfStAyVWVAzoM+tVyj0mADD+49dB+\n",
       "hdBi8+n9bBPtBlS5Rxp61sqokdDydeEDLhYjN8772G2qzCZ3AjxWRw14P4QJKIipZems1zLIBPQl\n",
       "FLdzY/O+qAuQHLhgN+K37NyoIYddFj+n/Y4K6/W4tl0gHQ1FhZGW+rLF5TumOBuQUZbSj5nTawAA\n",
       "BokBnqdqQV8ABLObAAiFTbQB6W49CV/W03SqtJZFc+wqS3svTRuqym26BcitHHCmfTc+37uQJuF7\n",
       "YPF90eZzms72J/jIYoXgaS6/TIMpx9ItPpp3lMv5gHrII0gX9r6mGNEVzOwfKSE2O0Pxl5fEVepP\n",
       "+YebeHuLw2jQyH4Tl03MFUWV0f5z7/u4Q4nOkh0Di97L2YU8ZX3Ai5y35MTwRRIGH6zS5jEXQoDr\n",
       "oxD9Vq29CgQnOskVgYTTX5+9WkDwfqkSoeBzxFB3jwlYmgXxkOL528MS+x8OHdTgqiSY0RzMiyRp\n",
       "1igc0YJPAkfNLxXyKTCRd2nWoVL1whGKIZRWwZ8apyI/TTzzNXQ6fWHS7q069yC9K+fZryIzn0Cw\n",
       "LSMEgguVGHdKtLy4vm9HJGFNA58pVxVOdGsOm6nl/jPd4/XL0ILBSTG5ZLBmvhNN9Uo+BQZxk9IN\n",
       "MlpBDwUXkFgXPd+qkNmK2CVOQe3DdXPYRoQz9hgY1DLY12NMgOEx8DStHP7rvdxxWyE4oPPkc0j3\n",
       "QC1jvDX+B301o2lbkDYKNblIuiGTZvAOFARLnqYSQlm/S2pHcM2UpGrKe/abPkbbY56SE4Pcy5MN\n",
       "/JtCG0cIvkpmq+gEkb2X0v5prUl7qhkC32Ptn+SKCAq/z12BRgzjtmy98HKlRjLjTPTE6Y4x+4f+\n",
       "xH9CX9bN9KvUnLSH+3S/bIj3TCy2DtdeIvn1feVdUyDkmy/QQmOKtTdDHEUaegVh3SuTZ9dUqvdz\n",
       "4lagt2xbYJksUym2nTd+bAiK3lDP8fx2LrQcHBupXim/pgv86mZnkMbi1U0D1lF/0Rdmy4mSRqAF\n",
       "P3PHZKSkau9eeVqDuqgRDyZyRCyIVIQnpzax8DAqrgTM69dpXRaWcC9V/tPomWtvHmE6iok1+9ZC\n",
       "aOZ/QNHQv0E9C8dSs9eX8FUVVIFZyxTakI+Qu9p80nFBVI8i44ZCqeo5VGo71ZDcZczVHOBgrMpD\n",
       "9hfVQENQKS4pOIhQWjY6Jo6g/8Cc9SwemDFX1tHy2sDV6bpeXFKyMxv7gk3XDcpCkH12s9z+vxgT\n",
       "Ufm05TOuCyL6vZbiwuhDUk6vPj5tdiZ7ZBrRQqeTfIeyg36+3VZYHwybLcIcHAsFIgURd6zAeA8U\n",
       "uSwATtXANIODEDOhTcXtwcP1jriElQ9+j8oWek+aRydVJDcgpntRmtfWA2x0IRl7VCRDRjLxeVVE\n",
       "6L1s+F9agBStxgTTwXFW56oegBHBnCp6alKMtzH8ytH2NnpOM2GFOaBLHAAO6dtEQtA/jzIOtcZI\n",
       "38cMDwfQH8TmPv/g3hZK26CqZyaWX5KIUdkmHPKz8bLvU+rT56+mHAKmD2cZcPxYlvfXj7qcWwQl\n",
       "XHkGJtuy77BbtcRFdK5WWllhjGXtwNmLt+X7LfxbcvD2uQOiIfhX+OU/BgD69Dm6WEP3/2otFLIO\n",
       "sHyzo9bHxC3aLrbV+3TwQyo8zBBBTq0Glr04lwYQQ5PjXy/WRYLZfyOgzvbBNLJajoTY/ea/YmaL\n",
       "E1fw7j8dPwgzmrvS0CKEn9MJqO0hhA74/j+A8WBNEImwNHygJIuuW0NKFpQPwTNtI1uXGZrd4ooN\n",
       "5ynIJQcRYLHVcgvaBsZSjb2SrKLyrrM5TjrcLmbEG/LOY2D+vrcSSKlv3yEI3F94OhttuAqYKl5a\n",
       "kNTBgSu7FRGotsNsHIZsJbE9F8+tYMs5YpIGUMwPcQRALxUoqXNKaAy3g1htftv9xGLEwplSkhOj\n",
       "TlOJk5aYH+wRuxB4mQNRM39jDVTDUOxlucD/H99PnWmAiDK83Al5h/sBWu0kNytlfth6dtG1wbwa\n",
       "ow0bq4uGmn0DujkEi7FzThLB2BhIdSl5eFETxxIg7Wke2SMptWq/ikjwqtkFt0ixoqsJYuD11xf6\n",
       "JLukxyFXsEx7MjTPmdC+tdYW3nnlXj35tzow9ny67mTepm9Z1xCOTtLDY6arO26mfN3r1UjMEZlk\n",
       "wFsN0YabIFCg6VgCbv7JHPLz8DZAvTaeDAgfIMDB27kT32xwwQ2nFlm3ajlYLTfv23LHDNMfZyio\n",
       "Oryye7PKAifY98xTVdK9XwrFsumvPYjYSA3QarsX4zJGp5vxsGcX6h52M1BbidgKnTHOCF7uiyte\n",
       "WnUD2fNn60iy1872YoJIIfImW0B3XW3WK7eOCAWH8RgBRxeb7Pzk4RThpPdf15Kq30Rp7Nkc5kea\n",
       "sAfA+IJJfFTX6gCIUltJbBBDjNwhYAAACBhBmqxJqEFsmUwIL//+2qZYG3bqEqRr15kvr1vU+7GN\n",
       "q4hQAR5oGRYPf8CdJUpYRb4ed0yYYsSPooDMn4Ee+o3cdF8SRgXiX9I84pa2ie2354+U6+HuUXsv\n",
       "solLNOnBGK6f8TySfgy0BhfI8YBrG4nkLEsH8HAZnAr4h3jIg5e+aD/VFs+gRCuOnoJTK0W0+RRh\n",
       "EgNxAiO5yNwIPcu2IjePtPpkzSnSIxA7sTw18hrTVk+u5R6zRzP0RFXYrAk7KtnugnxbfjTSdYSy\n",
       "L8aCPm/G7ZNSfHqm0Dg8k4BdCpP8IsM4I9SVIDrrvjQEHng1Mz7jp7aPiIua9eDZpxeiHAyHDNBO\n",
       "cT0z8ZVv+zv1ShZ8vXPx6dy3oSMgYjfz4uI82tNDbfn7pSxHQpvfGWQo//6Zyacbx3+hdBHGYNgu\n",
       "8Ezju1XpF1PICLlI0o1chCQLPsL4bJdH0vdxSd1/HA5z3FWwGIWffm4y3G+/hyiICIehSoF3HW73\n",
       "kl7hl+Sw2xb8wUtEKeQPeWCZUyCVv8fBOfNf7PCery3JvdGRj3W5MTEYKdzTWpNQsWi/WAdAx4pI\n",
       "dowjhiviJ7C2bRZlM+xFIwvA2i4PZ7OPA9pvS5DevcmM946jc3Gw6Wi7xUjCNvi8QoZyiRyW2Tin\n",
       "8Gb46NEV7mNQbEALOiijvNnkcS9nHBNAsA54aVGdP90D5QuBZvuJ2C4ykUa3bQvjr3CHHVpC51DT\n",
       "4L4BTMVW+CCnsWYI9011ai6+Nn7CI6M5CUgd9eTPOpnYdEyNqtO78BZIqEH7mn2dweVWjxacUhXi\n",
       "oEO63gWCtasY8m/l7jE8aRnzDHxrjlTEoq1WYD4OhtFPDmqnJCV03lMGvjbzPV1BxTf/3EDS92OP\n",
       "4CvByyv0oxdWOwo8+4hDiQYXAJgSo4y0lxuX/k8WZHQhGn96VZciiX3gydczW/Vi1kAA0VxHqECz\n",
       "wVc1L7sMFh0qyNnRRy6AWJhIsW3RerT/byPg/7yc1E99bI2F+Y/3DgpFjww3U0bepPMubq60C4g8\n",
       "J+nePceccJDQPCetw7esCuKDCmZkeIAJ7NRZTtnmfunuJ3bZV/M9c92e2HATBCYGPmIlf/0xS5x+\n",
       "KqKjGLQgvWbgHxvR9pHvQ/vHiPyqmFvA1HYTkzRM+3o+v9tyPPNR6eaa3u0vw6qNMoPVGjXQdBY9\n",
       "Hkbql/Tzzdm5n72cfn54e5Kq/HCcFu+vM5iNRmf3Pq4Ujw8IFPmMoZgDC5hN2rt5SOGfoVyOGHDF\n",
       "HGHAI2ilh5q4p0p320zrQPsys/MlOU5kz2TeatrFgUtxG3WgJJuE/p3eIAZbVTvZKJJOqUR1cMr1\n",
       "mkBSWooVDG96dn4T6o0D+54ispCIrzPCIfLnC2QEBSJfUR9TGk74KRjUWbkx3XLrDiqPIFsoybM5\n",
       "DujcLIVCUF5ijQugY86uTqHyCUGAUbCKFQZuNi0QCkPkLVxLU0rRe+05HHjL845HdHGx82dnxAmY\n",
       "5qR+1vDfO7xO6OWcEhSiZrqTSWq0fva7ZWLuc8p0RbEsfa7ZX+0xJ7mTKwSEXRV8ml3oQzbJ6lFE\n",
       "m/ZC760EWloepMo0K2WSHepGcnbgy0PFoPpCZz5vx+d5fpCADYAhbcoQAYZVaouhOtxGVtlWOzaf\n",
       "0ZsAZAXh9aS3WErp0jG7ORXRPI3QjlWT4H1Pqm6ATZXoG4ICvu5uioLId/h6YfHE5QLrCOQKpiJs\n",
       "ixXH2NqiuvoegJ/m8QF+eNZVcJbb1ec+Matq3GWR1ymsTSr/yAMcsQzr0MdHxVNDRIrMp6CKav50\n",
       "zWh9WZanjNvwhX/MDKoQTxA8VX8Kb3R/QYKomGlJH54T4RoeYMbOAPoNyhDCna5QFJ9L9Lo7KT2f\n",
       "ai5Du1aRt0l8Wzq84ze7nnGcv+Ps2F7U0uA5yYW1s5e/xQt5zRvzN3Os0t6pQrxTNLQHRxDz/dwa\n",
       "FzpuXW+I6+jxL5keyIWRfzglKNSDpgGhXnVi9XJZLpHlcl+W9O5183nLILCh8Nz03onv8VkAcDr6\n",
       "mgtiXh/Z7FdKBaa+0t96XZ6ucFEp28Hz/RefV6pxnOjOJWkI5E1JmAc2vWXtZH3FktvbuLdR6fmE\n",
       "5dqXUfnKMA0aKM7Sg26CelcclX1BuVArx8fw4VrZgxu0NUIvuWvqv4brPffyQy8Kq7m7dc8lzmnJ\n",
       "/Ink5qa6OPFeSnczLIobZxToZWtCcKjJjcFyAaWmOJ8hyVppZPeVUQdOxjAC4f7p9Guegai+KJw/\n",
       "oNN9C+ZFftRQ/f3rHsQ2S+Qv0d0xtXWuOVAlR0LTNp5bXUH6BnIDhvEgVH1gC0yOpjhzFozR2yej\n",
       "JCZvqNhE7WhO9F4ExOO81MeAM9zFhJ13fWDT3FlbE1sCyULYGloL19HvYFeUKBi9aXguITstiBzB\n",
       "ocu//kz6IKRkAIhoKAUoWxHA/E0V5ZD/iRUu/DsxMi6B/KkHGF3i/lHh49xGSpMjNCL1mHp6kZlB\n",
       "43h47l2oniBLOd2WQ01Cg+Nk0lLFQl054YOZ02ZgDfU210LnTEuT96xDI/cRmPQYTeImFR86/3Bq\n",
       "vx+RBSOZ9vsV0CW12GqBZBB/+pfylTSYtqZMzNUrN0wyLVDQAkHJBcUc/vyia4w/Uw0FFl2qCDfa\n",
       "lzAeN387WP4ZkjYn3NrWI89c6If9FcWvfrmIhe7LgHDBGrDajSZkehG+rrlD1oaTrCZBtH/p+tii\n",
       "wbnu9gTtbT14l/3DM2fVuGFjcVirXOeb9/pNy//2u/bguk4kVRgaawGYjf8B4AAABL9BnspFFSwW\n",
       "/wAEGme5TA2AoLuACa1F6ZnccgVh13gnz0cKhcy9r/oGjZxD1hu8/BPZAQO1X/zIHHwdgVXCvnTq\n",
       "87v4PXu3ST9whw/MkluLqTs9j0gJwCuvwY3LA6HYB3YAPJ0Mgj+Axn6GlSg6r5gIVe17VrZhqSnO\n",
       "Yr1oJwvLjLWlXGTjEJQkaBjWwhCXcgHJsFA2spxsPfbeyEj1/9yddFcIAhHxDiAly0PINxC7uMh7\n",
       "s715P1c8hXe0WdWOksfTZDgdNfoeg0g4P4j9HklZmTHfKcz3kqtSRFhaG90CrzOgD+v9RfwWUq0l\n",
       "M/yXMxpais7UFHfalk9fX8F/IRYF8IYA8141eOhBRRTrGR2cHvmRwpvBBEnTo9Z9tHUyLIeFGONg\n",
       "MnyNrl4b1bpdji1RdCM9kx2HaVsoh5tZB/WduEHqmHIDXDpah7OZ7B7rMEX5LRaX2JwvKkydvrHU\n",
       "siVniwq3JX0/IhCUi6l37gjLHgSs7Lv6jHhdCqyDCLssqpOIWWGJfSCRdexfU3Z87wLvoKHbt/ak\n",
       "tQ5ms3e+FJ1lFK6ObbGShVlF2h/qLu/GIF5NPnyog9j3KqCWipv1IOjMub+T3tmjXfW4Or5OW+RM\n",
       "rHg/GLT/cKEIm97N5L4Jbr6BdO+VybSG7HDOcgaL/fKTfXj9yBRsRM3OzaHt05DYo/shgnpbabxL\n",
       "V07OSX9EYtIWkaXPPqceEBeIfs96TbJSdINEy/OLvnGWSrbNH7adh8kRaYBO4758x+h+RP75sk1h\n",
       "6y0T6Z3v8YRXTukW80kg4+QQneAkwd7HY9pg7KQ5rSstefhZPe/nYji5pM3YIBKrnAw41vNFBCAX\n",
       "gBUGaPbo9XhiTF0zI32zaoLp5Ev/rzclhm67PWYynmO85+AHb49RgYELotQyYNQPflMlXKBHVizo\n",
       "47/o+FsJlF1yrOeiSIX6zEhxcuZvOUowEc/kn+/vXyag7+y0D/pq+CaByevEwrwVmRn1gyomBMIw\n",
       "3a0Y74A1RLWOVDiah21p3kYZcD/tZ1fMNQXBAAtRjQeLw+faW2Tn8P0ktp2loO8CPNMW63mJ8HJ5\n",
       "SL/dEM8OdEp5I6p8WilDqd1vGKOGSg974z7D0oqruV3ufKTL2q0/s8sqRBzp2OCYze1KXZg8EZlk\n",
       "q9kz9EoGMuOGHFMc7txTvaLt4oAFXYqMAgFACp6UJOSit7bGhFXPUQFbsuixcA9tCbGE/puj4l2V\n",
       "b6TNBfq814k0pjVsj4eNQzD7Mzdt6GOD/2m6byMD29pluKaAzGYvG3SiwQTPN/agupIbrxj4d/dI\n",
       "qL9zgJWBVG/baFA/9slWTUbxvgGhIQxJbmM73CKNs4WfK2CvQ48AHfyu9EflXlvXxnsKtIloJqTd\n",
       "37uaDkRqVeg6RhvlaPj9wrP++JUiY2+yxSxBl0UHZjolLidaKKsoFbFbvay13tnXNz04OdUG3tjf\n",
       "V9uI5BCuUEA/NnxRAGw8UeJgfY9fbSQM8vnxgkD8R4qT2e6tzHuq+jLLbkoqfcjcNOQz4tuFbRD0\n",
       "Lxb7rMmvX+9rdyEXTbP6kebJdq37/FgrfHggNfKbjrYS6PyM5VquVojQcddx8mxLlCckGO2N709q\n",
       "OimVfKDaSyBvAUkAAAbvAZ7pdEFfAAYFx+e96hkcNCahABtS8g1d8+wZ8H9kfWshEvSXRgxM0yxI\n",
       "3sgR2a/5UhlI0BpC4Ju8vdtBncHLV5SJ9ksnUtBshfFIo81v/58cBDgyTFOOoHZs9PneLbIU8lS9\n",
       "mMVVKKD9vV9tB3rJstFXqT/mHl8YOIciwqONfUykT60RRKx7zr7j1yRvJIawmya1q+bpw9Son0/s\n",
       "EqCDQzdYIoNnS8ym6rAoMh/nQnVOAEu9kYYpDXOMfN/VSz9t+HTAvgbO/oWP6x1WxAFYp82mMlia\n",
       "+A6K7TsuTxK790lf/1SQg8SFO5GsdZrNf7LrnHdBFv3+zbB+JPf0glKf0PsJsna1kdYbagJO3T5l\n",
       "2KOr0hrppazGbB4zcdsO1RqAfNTrfLAiU3D6tQQCkRZ79OUZYkLK9lWPvn2bVIIoSuThnpxTX/38\n",
       "8e0wgMKjP/SsIheGy/xLt4TkGKeW3Mjfrn/JtJ9wbnOySF0Je/YZ6teghrizgBUrh1pIWVwHB4d+\n",
       "KgIYXJLk+8K8Y8g24AUxAccELjH6KONj3djFSizwUdpQ1qVwBqw2lzJDKKlPTBJRszxj8I/rl8RD\n",
       "Jb5+uMYrX1DgwjjpNsndHUnhnUPVxogh07KriEoZX/GiO8LZqDopbjYnwsHpcxIHGDGcfxfpIk1K\n",
       "AAfU5OkvQj9cOX9N7fAQi+O2M5wip4G3dPuXrF3wtZify8G3AC0L4dUCO+x7U7OP6GHsF92a8U85\n",
       "vBF5BsR5ySLbVA5OCJgPq8O6b+ZpgV6tv00RAioU7Wz4zS8/hbrxUom4WFwEhKKlvQzp0UqATGLR\n",
       "PpXoT5JnSTAtSpHeRu7FFMHubo5nTyluJETEUECBd3PyqIzy1CheFbs0fgTLOCEKnN0GG/ff1stT\n",
       "xzPdWohR5kqjZ/TjrF8IDNFRTgwa2/E7SbXnBeDztvG7HgBRF2k7IHgMp60YUuAUQuVSFT69MBXA\n",
       "9b4/oufaM5PI4LtuTRb4gvfyMIOLIsv5Q7ILw9A1p0sZbYgnCFX1PrH62/BBsBfsFTcYuPcQE3Nf\n",
       "k4O3EtSthOPemVLwL5oo51MntjijDibUPM6bNlyA+buoH+gNccNfQU+o+BEhHE4uQsULy3fEP9Im\n",
       "Glnh3a/SlrDpuFDvseNDqSNdVOx5Yx7/J9tCSYwH4Qart7c2P4Ffy7l01I04St8ZZ0BnBQO1y5Ru\n",
       "4Bt79geFTNDL+MuSYibBLr3OxAZmdg9b+As4QaxZ3Vqd7QBDuOqrCLZR6RenDLl92rm3V4h3w6GQ\n",
       "zDR5POgawDSrucgMgHJHk5lFP6wSlfUVypr1o3H79QJratpvwdy3GfgBEXdOP6lgu8NnSoeCzJc4\n",
       "VxNCR2AsR0SNODasLlslcD2ZtAb2EhKWqMUY5a4K58sIB/PLCFvKNlI0k7umNkaV/VvKBHnul4B0\n",
       "uipuJyPf//O5W8f8krt4vwmqlUDlS00u9yjgBNsowGbd2xy/vCWrMdRFqfaakwaxYui+mMAA3ILb\n",
       "bEdcHEAsaz10Gz+gZbN9kX89bU0T4ItsdgfscDvyxX/vmy5H0jg6ggUnnKet7F//oM5Ka7Jx1k9y\n",
       "webot46iKQxFzeCjJmOqqveqez6rxWhiamV0ZGnqROU751R5a08LnSfv1JBUn/iAbPYr5UwYZlJ/\n",
       "L6TLVJz8QhDwsfc+W1vwOObiLvDB05HoJIZY66MVp5sw7p0aPq+J3lXn+aFK80+/XY9RO/4zPIqX\n",
       "Gft3vocRqniAD6gJXuHU6CwDATPsrt1r1ZIV2fA/4Otp/4d1Z520a02TDlWxFy9Fv395QHC+WZs5\n",
       "RS9uLto97f4MKny3lFezlF/6qUsNii7EsyBqOPYODG60ctYcAwzjXL6Ipq7B08RBThsWNzataK8m\n",
       "NeirxKtzYJJmfu5f/PQav/Vqn2Z8G6NF8wywE7y2Ji17Sm3Vt3+Iz3ZJSP5tj1GY7FHb/5AqRTLz\n",
       "gzQgzjD8I5nC6xHp5VR38cYvFJRJXLGZ+nCu5zCghSFZqZfZFH4SFH28eF5of9pU5oWQHiQPDJbE\n",
       "rZQrSNbuieyxKcC56qbF119Ehl2HaGUl2yE9hF3L7Bj/7EzDs8XyLkDy+Z1+LS2jInSDQEHx48LT\n",
       "/3dPrBHHvDtvKXw32J3XBcvSK4+gQnCuPlnXVShcORns91Xe1V7PFIlfD4v4dOPbYezgGyELjoyK\n",
       "KIqlrIq47y4b16Os/YTuc2Ta3tuniZsEnT5givM6ODLNcTlg9FgOV2yGrilkgHD7yLP+Tr7B5Lvd\n",
       "oaTmXB4vFa2qZ8B4TPvQiXgLWOkZ9aCmsNhWweY8jRmM8ESQR8T/BYoIK1yGYmb20n4pKfz7/Fak\n",
       "uE41PezQ5EEhepv0d/9qO1KNyIIA1oAAAAc5AZ7rakFfAASeFD5rLEDSP/wxACajuUnvRnu7uAdM\n",
       "VNkHq5uUdLJvO2YoKUxyBAi71L5wdoy9ydDJUXg8Gk0Z8uBxz2pjepm0HEKSTWr1NkPn+ajwLBXp\n",
       "QaOjPklzkapgnwL8gKoUL+FPQwgApn8ujkUZ769bFUxieQZcmK8L8Oigqdye84sAipNaT6dI6wUx\n",
       "rguGHRHvX3yRzxMOK0ZnH+PCa1Pf5hzewD8+lljleAZh6VL7XPVrElu2CUPeS9nY4SFghYDQYOrV\n",
       "ZvJIlRhAUT2NwSjdA2Nhpk1ee8hC4QkgCC7aLNXOs3N4g9b6l7/v5f8HHfN9RigzYO6HnOHsf6/e\n",
       "1hM2dAbHDeq9x1aGSlZC/0hc/kt7msd7pT0qhMDhdHlxBYsHKTAQcqsA39UlYgv0tbxcPMOGr83A\n",
       "wz9wgGY4mGbwDQ4ceC7J5Fc00YrdrJuiu1Z2MbHW0rFfeJoS69jWCpqf32CC8/wtp2w/4mBFxSSD\n",
       "8BHcwTSQx1fBNwKQQopoO/OzUSgQi5lLwY6OiE9J/F8C7MJiz2/4lSsIoj4ZRRNR/Bn825VlLATB\n",
       "nzKfxGG5RDF8iyQijLAW37xSv2H6waoNMKNARrbD/M6e7/bA27wygcDO45yXE6ivpOKxfYERAB7E\n",
       "9PLwDcn5HxjSldzO6tbUthVlwuqkEG4G9bg3KnSeNlPuU4FCe9Fw4Xewn8fCEpVivyEJjovGkFAX\n",
       "s7IOF6xZVKRj8Rp8AIKKwMV5y+nIYBeLHwy612kSRjkDVlxJ3Jm3IzU1dgdeMq5hRgSchmMNw5Cf\n",
       "OdYZ5mH/+IH8O79JSLMYvnhOuPKviw4OWur2vKRAYfpL1Jxml1QxI9uD6K4thQRUmkQkL9bgu3qX\n",
       "Stx2bpSfmv2O6KqaEJTPptgevnalK2sDCw+eZ2DoD4v2O1DFA2cFvXTMskwU1/tCB6H6qkzl2act\n",
       "w/tJ7TrOZqfDwoH3Q85lrXYemegjSpYojA9eD5KGmDUvGI7+Cy+LnJK2eG0uzpmH3PgHMdDlJSDV\n",
       "Y6p4UsUyqO6WRW3c+ODUq8GeuR4uVv0bmZVsulgOwjPqj1ClIasiapug32XJGtCuxFxNGUd5QyFA\n",
       "F+x0zqtzs4XX7gQBNBhImwrK1ZOu5AhU97tC0cSR/QqCzVRjUQHc1HKufEh3FPpcJumb6oItQ5Ix\n",
       "3IHV169pbS447hTJZyMaBh2GfXUBPYDyXKdeU1224//oyn5r2CnImOing2+sAMVsheGurpSub+Gv\n",
       "ootjNkJZbbPZhtc/OtKK0y4eMfbps2+tGhE/JsI7dKojk6tkrHaJ36P+ctpsDg+HYTCFidPIM6TD\n",
       "QkZkAlm93Q1Ivusk7TDYwOmY/kAkF8F38XPwMltE3//KvEXgAbHrgVq0Ozr9E5sUCFZx4sxxMxKg\n",
       "s+detDLw9F5xQS1RnNvOY3Sz2V/5wKpEQQjYXqiJr5eIXKTZBbBsln25Ri63lsYR6/XbS31GOgPg\n",
       "83Qa6m+XBEaITqhH85gZDdHRHmgG3d1s5LitzTm8KLk/KH7dDUn0yHgmH639b2bwihugz3DSgk4W\n",
       "GPBf47B49i84qHYyfcB4ymUK7AwMC9yOa+VqkvYlbc6seffD70oEA2AhBZQ3fwo2uY71g3yg4uwR\n",
       "mRZUZc7M4No0wfQjYe9YInLwuces4nNpwkTSTT/AJKtNT/iA5P63MHHV07tYfNbX97maGLUlXg0p\n",
       "uywxVeQDiX4usqVEFAvaRdqIKOdzrr/VAPk3tDAcCCThJKaKZHJUyN2EJ0o4wZyGdmT4ogJUP/WN\n",
       "IsGDZfWtLmD2K7wac7X4pQW+UXkmVBx3OjzWUrbtmc6pXhSA8+q4NqKapAqcA9B85VWzWfpc9/mX\n",
       "AhXNrJGSeHvDRQp10J2QcQ6tCM0v7nqk/WQWsehmfCzw64xIUJP1KYzj0CCHgY0TYwqgYsGk4vZL\n",
       "KZzaxb+ywQeypMGV5ni4SE0Os60A5UxlhARP1PYMMfn93MUI/JuB0fKhSDJDQZq2fwOXzRIrBUyO\n",
       "OZLX63jli264tiA6H5fYroy8nP1Opykp2r2woXaW+pyjktSt02mfAbJBHxjDOnZfPpDQMXd3rhEV\n",
       "x/aayWbGE04TFdgNPSPjPqd/zetDpLt6M2cjSlFeHShRE9RFUk9106GJlKgiaznLCPPR0Pg0P3SF\n",
       "DrotEZzDnyErI+SH2oMI1Z2+I8GWwX6w6wbSct2lfi15+VPgNGjq4pMirC+jZxDRzMYCK/Jv4p/Z\n",
       "DwauI/WMtd83tEfzMDCLL0z77HPNo9XWMdpZ/0RYdRf3mWk7wRp7sw4XK+8+NRM7ofdWulX3onpi\n",
       "eOGyIgdkhSHpPV4zfqPgYxCOH7YCAgkYS8WyTp6a+54oaFu1GwVYFz0JW+n1pnZWakkPSwLs+4sk\n",
       "5+E6S2oPRiePh+LX90ZPe8GhIkw7MeAa43BjFJSZhuqdmJj6jkztzp40JNDEFZA/5vPVlAAABoRB\n",
       "mvBJqEFsmUwIL//+2qZYD9Ufm25TgAQoqPE8csyrJi2R4VurJwkK2UxQ3kQjJ6pZ2P6S17sb8Uqi\n",
       "axmrwuaX/8FeMbFDuQC/f4KsbgOmK3ei1X+rF41U6AwU1gayJu7wC8+iVZswfWa/OaOuAlrh59D/\n",
       "bfh82K7i68/YzPmpC0X+kAtmDflLQ4IxUs8P7zcpdIkhK0zpandC0mpE4WnPM/1MDSMPWx5ZdNo+\n",
       "sHd43klTkJ02vA/pTP3n0Q6lfEgH4aDCzo22CLmnIYgXnAMWRTnvk9EKtF/PzoOv24QyijCdmEFR\n",
       "KMy0JlKqrFcRKAdQvpn6/SoQXyaZ8jS0VZ6sxDNaXboUV0i5JUPDEtdsQjAvvHoCSeavrudKiF0l\n",
       "YcmrsPANIvk35wA5vVyjRF3XDXmUimsF4AbPmIlYpo4Cga36WIQfbCv76rUpvcKILrkowGCtwFH9\n",
       "rngdC/hh5VyEmYL6kvyhmT1tPzWateVXYxJbo25eEnd8+DFHRoT722ilNX6Wv3pcAU2JbF5M9cZk\n",
       "ScMX0RsmVBlOtujuYeMexZYccDAC6AnsGkHa2Bs3Pi/i7NoKhNFwJdNoyV35s0Mn5f208kSy7Qmx\n",
       "zKNDJtTMuEzcJCeHsMaKz4/5v5Oe7vCj64ajKTuZjb7pcArDXY7ZrC+Ng3WwGSx4TYLN2MRnZS6Z\n",
       "ONvKXg4DKFXSFqoQAQyqrJbreSdFKs2Xkxa3jXRjBJDI4NndJk4W+uac+pEUD8PkUID+EM3MUVm8\n",
       "T7ELvLhUgCIUkxXxHK/1rW9+u9uQ5cUzQtSfuDO8pkuV/zK6ilHYZLwqQ0GI3jgnarmX/10c/N7X\n",
       "/x6xtBttA8A59RSkOBW6OkrmP/kZ9oaYUrb+EVBhGO/4xs9HxjQs7xf4K0fRHX4UpxaScQyMXIyV\n",
       "nLEBcM1ZB3XTLa1XSEh4DO5hlg/sPjGYk6leWMd53bMzBty6PPOmXJdD0ZaLHzHw0MDte1DiQ/6Q\n",
       "zdReGBa2crxBmKXlEbNLo2r0gPNcttHDFLe8OxueMR9716Qfjdaci8m+BrITQGvDX8ilbTZzMKKJ\n",
       "9HPNjSEJxk2EFtqi7jrM7W4M563SFHUMIQBPVyc7HyMmmvvqFG3flSREcUOjZXFmAysoK/3i0kL9\n",
       "5PZ0QHWLWdPyEUrH+jGasShoEYW/G+XKEHyA4+TiAcpbTA+yw/E+UNbsejZ15i9nZHWJzcyHhWSg\n",
       "Ig8waPOo4fRor0xvsMB0AwerwwO1rOvzQAynYvaXUWxo5ts5ZW9LAK/ZGnsTnOAXR3soRG0Kgynt\n",
       "C3vDeir5XOa4VSUwEGx80BNzM7lArSJlSeaO5uzlI9u9qnuPkQ8xeAlbK13asEodcQRx1Rdbe4vJ\n",
       "vfdL3siy9A6TMLwMMC6/0FH4eWvv5rLOOxWPv/QfKakGkmTaG5tp9my+J2OsIEZL+gSNjVfZ/39t\n",
       "oKb1g8LWQA3msVXOUBKj/YpgX3EeHuMWw2KdyxF+VYqQ3v+4fNLUPgnJ9ob+BPLyrU87Ko+feFr6\n",
       "omv0vjKFWss4lEdUz4QTx1ZH16Tth7xZzxGePETeeA05YclLOCdM9tuUTeNCMvvk2knTIrdbg87i\n",
       "NVr38WQ0tQbfMVCWscAO9I9rQEXpG3Qa1LL0Gr8+b1ai3cDUKOUHlvGJRQaXEbNLOK4/z91RaHyS\n",
       "xlbekVOxvhAThqGtZ8Y4C1tIAy5ZgDaMKZUyP+K940/AsaPH123kmrG32vl8xlkGu0KHObXEQU1J\n",
       "1NCvs6cch/F352aTPZ+QcggR69UsIdBG+pEf4CmtmNgz9hV6+itomwVHmERUR+PFWkXkmyfKke2Y\n",
       "t1n9OrBlQTpq/fNwrHJBIkawjLURV8VlycU8wk42j05YKSCcgeCzX1WuEWoh1R2EO+GgO78KarBU\n",
       "qai0aVGc3BKEU5bOxVi6yZdc9LSDFrB7/JECpnrNZ3FhAjfvyRuXq1Yj4CM+k3X4L3+u7vrR27x+\n",
       "EJ0lznmRpML7nz0dAiulxML59O7v4fpTI+jN+TGIesx/NyMLN/VmL5tuDSRe5Mi2fTcc5JAAIALC\n",
       "Ohrxch38d4kPh0QVFgUsitQ1UwhzevT9Cdmp7oPn1t84R8+D3P02Y0RW8jHICVOWBokD+48V25Pj\n",
       "X7Wyo88Rn7/KE/Er/u/wTaD/vRvdkEkf7+Uy3TxsRScIVQkt2dSxJ46YGqA/RHO7kkar5JpdEqji\n",
       "qejFB/a0rTrx/QZ9Lw8AAATVQZ8ORRUsFv8AAyfwXBn8wtw/96IAQoeFAMb7vcn1S186j/MjCzv0\n",
       "uX4E6wSgrjPInMFTJ1gW1H7/sG0W2FjaTdYk+KJiZ6wlqxJLMIyCTzNgqKtMzUoJCOG4d5EAm+lP\n",
       "zY0PUSkAtWya+R3n66UuMO0+t22qbce9qp/VGJkIf+dan3IEDt1wE8UnXLeeV3zjhfqdQ4GDnaVB\n",
       "l9UVhDhbHYR6+p0fAwS/SCOFbKuN75rxo/MSLq1gJ3hzSZwAPJ1IwlUtGTghqpBRq1dfuYXzLwkT\n",
       "/8W7W1t5RsGuqUXeTpKHNNS2DN2Yvj6q3XO/FwyzvT/VFnvhIJTnKvyyDHoh3I84xToJmEjLOKnA\n",
       "mIBzMjJU46k4gIZMo86v/Nk+jYA/m/rwn8IpNgEEgK5iSfXWhCTj2oIspApRoWPTdC8VWwOPe0Aw\n",
       "JlHx0xL53j7KYtA+1fgjwHRicTTtYyoBAnioI95CnnXrv0xt4bL/yS+jg0D8XnCtMRGZUjWOeDDw\n",
       "HEVLWTDT00ODgF27xZL5Maz/EXPZRpDj0PQwRGxGZ0pyfyh7CCbzQUaXh0pGL5j03mMTHe2xqNSC\n",
       "W7FRuU/0OT+8l5j1Q/pMoKnNNrILxyxzUVPigs6ITV5ZiUBLpMfhGmbjNa95BwV2SGVBvalr78cV\n",
       "bsZSO6+ftQDoCdKZGpLJq2WyDOjzXXKfAWfZ+RU4IlLjFoMvAak3X1G9Kuu8yMxG8qmGxwCwwvjX\n",
       "vEH5VR0VoUBZRG7MswtrurnFtXDkTdPZ1tCfOnIoQtAq+fXkVr6jjjhJFG0sGnSbOgMwgdDQC1p6\n",
       "8KY9jiZ6ji3QheKP5outskjOF93xl04aF0fvIMrpO72xEnN8moZUPHKrLUJC8EMg39t2j/lut6QU\n",
       "GBCswaYf1HKBpFsMYqXSr7FE9msW+iyPXz6w03XAZ24fBd/IzgrPWUaNebBS7IRIr2+j7cpCSPsS\n",
       "c83o8Ll5dEQdZm6IDV/DWdHnoe5EEbPVwikuELLZnvaQsdmoPuWfJ0+umOfLL2ARZRSnOgbbmun+\n",
       "f+MGjx47zUxdDb50Ds11xrcGbZnBpm9/9P+qbvUxheK97p+PFOY10xysLUjTpPEsVJCXgCuTPAPE\n",
       "erUucSgF4vbEBTt6PhGdIPmDvL2dAk6VFJf8A4lxPesv6FzDBZ/jNpTflOlJ+OJDIuDqZ1cdzljf\n",
       "y70WaaqIYo4kQd+4pPDc4NP2O1fqQwtvY3yGJb86UsggyIqZAisVobnftxnibna0yV2+axWqEThi\n",
       "GANNtHSpFdEBlZLj9KTdSXgw6uvr2hxw0TH9q4tI2hQVw6GhXDN0u2GONH0+hszSjlS7eL7649Fd\n",
       "DYqbmwWTVSB/hM48TxdFZMK7m6l0ocvjGiyt7AWBg5Tbuqs3/HvC9qUXaib1gfQYN6xcklwZm7RQ\n",
       "fJxShvoze6cb1MdsXJNxO/MWQwWkH2Ff/KlXtfRMZjuBSTFjrM7el/SZPFWBD+WKFKOZT2kifHzG\n",
       "vlWyFzNzbdvd2i0fzhvZrAyyzs9B6Lpk5VUSdwk3yU1625yB4htnfaU23MANJHKbxF+eBa5eObJ9\n",
       "Fjp7sNkeNtsBIa0wjRbccHe2vtrjT8bNjP75MtQQTJSX2GI9VN4KMcDWTLoScdJDIwYsm8NRpDJe\n",
       "6QAACFgBny10QV8ABJ2rZXtHA70GVQAJ2O5SnPgvJ/++6Wj4enTGp7ObVyuMjLddEXbvmF3ESQjZ\n",
       "R0Lmk9CyR43PgukPH616eP1nUEQDFEcup1jLuGnNmwNbkk9xjy6GKr/fiqRXOhZKkNjwRj/EMXZ3\n",
       "YQ9Cn8RV6k/5h5sBLHDIhJj4vEFg0Vw+rSXPgONh7Hv3tGLTEGR2xfnxfZpi7gUq6V7cm3E6w0PC\n",
       "G0+qUG5o+ndqzZcdEkSJODmOZpK1+WFmdJbW4EGgkbBYC/eYvKovC5uIrVNT4t5BydZZcIqSm+rQ\n",
       "qBn9c2WvVynQorgy4uWNkMZO4SbvgG7PqTYWuZKiLNgVxxM6wquTad/UZnR9zPV2qBbaEJo8BDFR\n",
       "tMRktK1HQ9FOhaPWH49jt6qg0vHs9gjZRSpuOMd5j4sYCb44UYuPIx/zje6l/wpw574LGu2C4uPo\n",
       "DNuvcdWIfZmgj0wY2+fth60Dht2DO0KUfyzbN/+6FrNaBLLmZ/+e7g4O3+Ge6gr0P3BcJazXdgPA\n",
       "CM4S7e02WUxW6ogSC/Omoog/yVhAQDfQ8kNg3oMtPk3fO7/0FYM/Yr4fQC700hayjLDAJzon7wdu\n",
       "n4GXyy836sZnJkFRyAfPOlWi9X9BlzZb04bM0HIZ8ehVWC05nrrWpV1+6rsEusNcboOsmdkVKPcZ\n",
       "5NriKV8gF+HbOeRUkBxPnNgIkAXMFuJT4fs6D6as7aSjGOL3GWNnmE8vZXiqgJVZFQoMrhGZPECf\n",
       "jVZgZ6JuhchjnbTe94zIqWWlxAhWqtyUB74fLbVyjpveym0dU299nAxBTqrds09QWLye/rI/pT69\n",
       "IoXlVspkqe3T4pFzunGncmZkh4RS8k+KoIhtZaThToLsGMYQDa/DifvDxoTY8OTK5Rf7LeqWSeFa\n",
       "40NKHHjm9I1fckEJ64DdGl8sjFpBo53WEn1IqHt7C8VJJ43cU+PvUChL33gdf+aNuHfKNE+TWcjP\n",
       "QCW58IyoJJdwwFicj4/tAF27fyfEBwbKolblhl4SF8svcqmoSZKZzxOQtEu8WhhBSwp6/VeMu/cu\n",
       "J4NkKbsriEFN7x+GBpZm7SHOMaMnQ+nkeR3ycKR0w5PbmRLRMOz44NsAEH97q/JRaGbMzg9DtDRA\n",
       "zZ1unOvHYfjNSJ6JOgk2ICu8MPcSQAit6fg4lcIPnNrLPgwU/pJ/Fm4JpwwCl0nsT7uJUd8ZP5Qd\n",
       "hehkSPyml4wTQB5hpKQsmyvTsaSP5/GyAgMO7hDUrMDHpRxjFIMLgobjgtv/TLfIDn7zkaWBqfUh\n",
       "q0lckKfupXs9OnM8WKBqoHIeCA883F/gtUmn9mdygPdovpSMUS6n6lUgwR9V8pDGPkvBRrWvJgAj\n",
       "3llp8+HWR+FJ3Cb+dGg9pe+Qv7EHIgjqGxkWGc6zWLKN+bXuiYd95//xUmIdPwwwunUIzCGeOfGr\n",
       "dx4y+vtq6UUYUs2bIJP7/qUAdNTbsFp2jET+kr0HBI/a5ZnM83+b9+RrROL+6vpskcSwEsCxhhH/\n",
       "eCKM90gFB1iShi4mw6BVIbh6vpVG0BqHG2y7BArnhJVLEuo5+s4dNuF0H/JeZIgF/iAAYCmjy23o\n",
       "2Fq/8U9J1cXqGjwxV2zEGAbU/J+1EaxhGcyEyjWuXM+Y1XZPcxU0KPfcRLm8mBfD4sCpUu22q+3m\n",
       "89Pol/a4kNtjcBWtCt/zdniiwyl6G5RHcaEGL6r9PMgAV5ITbRCwLHaLLvxQY7t7XC611zoHF2dZ\n",
       "h6h7Zfo3VC+Uw+v+F/WWSiKdl2P/stnSXZNP30fyDtCNpZCfkJRtZlasNheCnpFHLHzM7132H6dj\n",
       "qZR9hSWS/4da/U2xjGxypHXV2T3EhdH7cmHRVSWYuxuRv6ummZJpW5mVoIoCtxr8zV3+bQpbW6rb\n",
       "i2Qv6Eul1+5vpplVBWsjrIMovSJEeUvJsCr+EMRBVx05+KIouYwDDbkDZQREQru5m9p+jXmW2rXy\n",
       "0bdyxXdZW8NFL7Yh/NjWmzlrJpd6O4GtSLjTxFZSck1OK2TkeZK9nRvYeE0nEZqFxpk+u+GeLtdP\n",
       "l+ae4yzveNvuRg17rKI5iNLWPy3FjrNrulaZ0jc1iMvc45x2urB1+VLpuoWUpUxPL+AnuqMrkHT8\n",
       "ti4boufpGH0jvAqfoqmdva5EN7wGP8E6miZwoX6mIyi9fAy2A6MWnnYDVR/1RE2RTvHOuu1dXEoq\n",
       "5IkE8nJqFhT+xLvmk5gMNjeM0jOdNMpjk0oD6BL+F7R+xt8jqq3tOZBEo93cez/3Dnbppy+tils0\n",
       "sZ2MsbOMvoI8HyjdDcKJ0AO/YPKDkxxOM5JJqE4pGF6h8a3oda/ZhpgqWaJcsSAnfK8qwvb0DIdx\n",
       "NZBrXTqAYABkKbVEk7Y7LU3AtSXnFPxaUr+/lVwtieMf8h2imN86MIBzJVu4xux0zqmKdMpJZa8e\n",
       "j/0cDSqK7sm/1ZONboLXchC2W/QPbNL5PT9el7XexO94eGqDcbdM9HcWPqSk344w0RZUbRPZEhlo\n",
       "RnncV9ftdaH+tac6umjiYHQa4GkIWbrowLPJ80BTdwuYFkFhSsM2wUz7uaQWJTc7FOLKaX+pqLbT\n",
       "StRHqZ+VJiKR74W6aCgVCqv9j/SaLiRWSI98X4EPciu53+6jXRamoiNbi+MN9Yo43KNOQ1ENLYSi\n",
       "vMO8Ed7ZdN6xNF4a3BclwuKn4QyK5Q5Jj7437wCrQiwce77h57SN0E6ZyXTDQ9GNR8gTCvAApuq/\n",
       "m0wup7PRwzArwhvXCuUA7hxUyATJ/rywXuGe/gKuMqsjp1Rne2sASwGiby37dQEjll495Jaf7Y7M\n",
       "yFLWsUft4QAeq77/yAAQqkYtEd4Grw/4am+G5tYOB80AAAhCAZ8vakFfAARdgPAKABOv8LhV+Zew\n",
       "OHIBk1ROP0uskV+FxcJH+t6dQNOzqAgPHsjJLxy+vqBjWHgd+4NEnbwtXOJFOUALQEDHeQ2yUshT\n",
       "ct9teQwlGTdZZYLlBKZ66H6Nse5DmGNfTWMj/cQUI6X1n1+WquOy9My4fA0BuMO+4aLwmqJX4/5H\n",
       "jp0FNXanRMEpw/1X/Mrn4dFajl9rV0abxup1oOwhVCW++bUDLfvkj+giIUPw2uZ/CLKUuWtZeuLx\n",
       "3TKurTKiZjov1XdUTJvp01SOltxZTntsdpE92VXgdERt4S1lc7SAUh8BnzRNMkfdinofFgWIoHT5\n",
       "o96eNu79UxpgmCqoQaDWKCYztu6IUjXWDuIwmAwU9t9eHB0pymeWYWwApw4C58dC2CLcyUipBkpO\n",
       "S2TF93sPwKK/Ym5DzPUvtQIlG6JTxZF1Yp++er/pXNlgW4E7ogTJBfGxaTjQHX3RpvrK/gBWbjBd\n",
       "Tpchc06fsFhj46Gp4G4A4vDBBeXu0kbxxqVSiRtBPgakvj+sUQ7P+xJ/JAO43aha8o9UEgmkenoS\n",
       "EMVFwaO5TOjJlsgGu9qlRB+ccPRtNdlgiLIbN6cRRmQiWQZ18fXxQaaTq2GbjZNA2pzW/cb0zyL5\n",
       "sLET50iGF2Oz8m8gsxtosYQQ78WXyMv/6igJWEH89rxqsF/xmwvzYWxjMmbeuQah2ZXfRoH4ILOq\n",
       "N9GWyiVDVmqPZIAlNNy7zPDhJM+P6Jj5Vmd6aW2YNNJ4Zz1+JfjfI8dwScvU4g28AwzasWM2NXKB\n",
       "CviN75cgsMVWVknwKyTyx+be6xrtlK+ZtZ35TDukZmgUJwAYPQb5rWcOjlD3Jc4h0ppPQGurecsE\n",
       "OMJIN/BZpNAWhxmWPt5YlxDNG/n/wz+4qFdfpk0Agk+/vwYYyhVOYdFoeEfjVoXNBiZYt6Bfn9FA\n",
       "6Tntc3juq02G4faNbwtWCB/fTS1Sz1wX8PtZ/zuk5/NkaBuD1yd8qaOH0FDlsrXVXQFAzcUFiVlm\n",
       "LV+eKSAIVucEga5712tP9fheAUYyqbkAe0XRvIvV+IVxqRmUeEeT7dO4Nzu7zfdkb+ic1AM8/O+F\n",
       "YVSbKRg8+wQed1+vzetthEmTkHNtV2gFGqVquzumEteD+T/sj3zXPOP3qVUcSkTio0xmy9gICDKX\n",
       "S81aDARrzEQzldKYGkCLDuqj8WxcIo6y4lrKqhgyk9vN/kWKc78E2BIXdYE/2ZEm3pnwplk1jyKt\n",
       "EehREY5g5cSNNVWit+34HBzUoTP3KSYaJqq6LRS3StKlHCTc3ILesYRega3YxofwFOIv3J94g+1/\n",
       "K62cFoebqkQbvgAOjtFZiQm9E4M0nyuKJbgi0kGlt1bPDBfA52YallxS9X/vvQoiGkPZadXkBJzY\n",
       "iDs4n22TrHMWMdPowdlF6AwcDq3wuL5zZziHFYXxkEDKh9OIj5zntjh1sfN+EeE72P0KaqsTc+co\n",
       "tbY6AHLTxXWr1YBcOlkj5TcG5+/1Ul9gAWPAyNUseBQ2o42X1Lk1JbbfsK6Fh+cy8WZwti/hFJg7\n",
       "QnLIN+mHMB3QqokN32ghXhU82B85358ewCGdqZ53tDnHydgy+m7ACCaL05Wnl2cAIwl5aWroIFX4\n",
       "d6NxHT+JWpYhOOVXv29fcLIckomlOhS2AjQA+AjDFaAioJmYXMx+nEFbob9PkY6dErmi/ErEMzWI\n",
       "wScHqnd0uyqR+nA/UDzzNgKnQ0qZggQKD5dLhkC7EgPdaho/ULH/VQo+7xI3MgBhO4EVB5Br42us\n",
       "L+jK8ARqx9j9Y4EfG/ekGoyWnmvofTFNnYtxQgxQkTU2rT0DwdAU1kJXIkrh+udiB0fZ/XSEzCDZ\n",
       "QQWpQG9O3bGuTlatKkYOgUH7TKoUxiuP0ZgLh70tzUAquY3zcMWeL1GVxSbf7nZwB5HV4EtApZ4F\n",
       "sjbsix8rc5xpb6qGDMlYBcYceO7P1BC5eJqa2T5Ogw1W7q5NinOyBgu/AZVfdMhP0LQAgbVekwpF\n",
       "wZOfjxRSR2CzDcqvhLXPlb/1l3UDeouMeCe6vFV9WbJDl3hlws0kFV2iQ1BL1hm2L3O5wd+CCERX\n",
       "EKLBnn05cJdIrEwuvY55DlWBL5cqK38/apUrj1IVTwvCG49YtPtSnyHLGlBO5DBfveEcJrVkL6Mp\n",
       "n//QPCrTb/4ZT+Y9C7o3QszricyWA5p7htzWWpmrwXPNmNsUjNx+2DYuJlHg92XNZu70wrQjxeyP\n",
       "yDdPj9RmiDe9XUXghIqRf/+L+ZZDrYOaL4X+sv2daZ5z4bnmjkx78l4qeLy1DHG4jFXSAgrMrn5W\n",
       "H//yYA8zfdHmzGFglohlK7vDYQimV1m+sNW2idIgHd9Fdzbe661JpZG6JP2On63bzFEJ1JDTAw8O\n",
       "tW3hjRw+JZf4gMdLvWxZQKdNiTBDhC8JhzaUH/C1dTVeDzwGxS3zA+21RVcyY9ImuNrfVhBxPPsM\n",
       "Uv3VSHOGi8sKZ0hwbcqOIZ2RSUyn88XjF8K3pNK7xihUX8mA5JDJ/sC9g1uq6sXKfoQTu6ZLvCmx\n",
       "6L1Fv0VaHI+ePYhQcIFPrI1LLIejBwu7dEQF7TD+qxkBgQXmMeh8nNR3dxnShN5chHZXv03wAsAA\n",
       "kDLjtcgt5guuHZtadifpyVWgJD3T9P4PNXh8AzTg8X/yvwbGLwtjUjkfbkNSm6SLceYWTDgtvAsD\n",
       "5tCqhs6FmRuXuOxGvFaEQVwHycYLCTiyGzokdWQ8ZetK8ly/TVKWbdwl/rvBisa++MELeF1O2Alq\n",
       "tLKyVdg8HEdKyfME5C7yGPQ6RdZquqRnfn5Rr60BKnU47Vkt5xUwwIAAAAXoQZsySahBbJlMFEwW\n",
       "//7WpVAOCuZRAAD7Fc4+2s5adUviRVLRETeo1Bpx33Zwv8fxL5LkQhF7jzeWnlJQqs1aJTHwTIeX\n",
       "FvWC+Fi/qw2qVsYhPeCCH0ub/BnmxobmPRz67C/6JLrif1+Q1JNY6Jfx7Wolos2kA+LnljLzEig2\n",
       "LD1ntFtP7STbgstgS+1rwOBfQiXbS5eayzaKW1hpeL6BnteGRDuGJXGYYYEc+xW4XShRSBqqkN9w\n",
       "F8+Ph8sbP4XKnq7oRwYXr6/rLDXGm1Q+fhF0Yj0Mu0XNxY8uJiDbWJ5F+oOgNE9BuPVcYF7kZRz2\n",
       "w6AYrxtPRNnwsBiouMZ5St0GEPrpKZOEPWiwLDCsztpmn2tGPy+CGzQ1Z12jZcdCMX8vcfXZgsN5\n",
       "ya9Xs5bwoVvaFZVrbX/2/b4dEkzjvWO15tTmChj7vxh+OEaUbu3XmQmmeXTBcHjePR5KCWNeaDN2\n",
       "fLXKk6tLuhQGNi19GGdci1q1IxGsqI3I2wfXOY4autKkHhSnJ9/pn7qi5Ul25AshKszc8j/CaLSr\n",
       "FjSvkM4i9jKnCbMv71kUBeGgeDl8Xx94xuFmq6eAa6Oq+JYO8k7+VqmP27WAsMbG0YiIqCL8Oluy\n",
       "pGVTh792RhT8dDnGokJt1D8TK8w2He0NHeHyMY8kszDRe/D4nR0iFOULSR20x4CC4RiHMadCzJKT\n",
       "DIUNHVrvF+SboFfe8NEPZC6GLBJc8Goxu/QprD+4L7MfjlCs79iBzOetB7J4tlyjv2mYJwhpdMGJ\n",
       "HuaDCX0zgs5U1uzg2zN3fztfly7u0qIULBFxqmpG1tGxofRwsGl0UBXj+Rb1LZ4OoPUvDLQ6K9a4\n",
       "ecZoiPF02TW16SoSn3touGawiiW0f+8LKwCLy27QvMaZQnK7fih8KVaRU8jSiOXn4BSjSaFmz4AP\n",
       "uXCXApZ3lH6kfUz1VToeoF4jK8YKx7+oKjNPCbf92unI8iDtEf/EmKIAylDHcUd2LiPTT0jL6Ybb\n",
       "5BsAJXtlqLBGHOz/W2JLkRuAkLzZtss5MmMFcGjNUvQg/dooJojhMq4bEFr1ym4euaZKSbq9GOZq\n",
       "VUsW731/XLsvD6StR40arAJRIHmdHNaVB8Gb9fMc/jdJyaHGnLMHeelMnippvG3i3MKIALMNZdtd\n",
       "hB+hv51TWzEHGqftwIdRAW432jhJUzorbWPsmfMt2NbVzdbdzEu27ZLV9wGmRMKWjE583vHtKr4F\n",
       "Y4+4TrIXLdHszVJW0r53CqUq+Bx5jBmipnLLtulkfC9r4mK9ecJy9hEzCX+SzKdQyiESDY4CdZU7\n",
       "Dn46NQqSpf+m3CY+pf4zFcO/tE3CQfeN91681kKDEQUTH7HqGJJMNehBHNAQcZyIe185vJisOQJQ\n",
       "a5aNfAtAlEcXjJhLSKsSBaqlYjQ1MHkw8FJVGHQXbYk+U7ZJQAwTWqDRRYnl4fvfUZf0RGprgCim\n",
       "/551iGVlJRPUNXT321T6KO/xngsCdjR/bbsc/ZOaIOgj7w/ufF9AgtCvxxMViL7L4vGo1r9Yf7+X\n",
       "lYs7+2gOPZ5g4zpIT5SVxBQTnLyHitAAq81Ko1wCfzcxCvxqvSFJB/Na+IkpzeeqAKENC0YyCuuo\n",
       "9QHu0Sa6+GZRYqF125xgj5rRQBBVXAp8/TqJ+6CJKTCQLXrJavI4COGdW1WcQRz15eSINV9ql40i\n",
       "JgIO1txKqT4mmLN4MgEBHhRyX8845PWBc3WmSKgLyzAk4PKXByWi9XJlwKnflxg9C3xCvBQfm6K4\n",
       "em8/Zn9unNftZe9HBe7s0SgmylUJaVvYOJ4+r2b8LGtC45OuMiK63BFSyWUyV0kz7AEKs5Ekh/yb\n",
       "ot9AW7I+XGhcvJeVJEondK2LyujdsTLK3bxf16aUz5Y2ZZi1aquE8JQnARK39RSRrP/l9vznO8HS\n",
       "Lpv08hxbqXcv5cu5d7kgam0rbjYPSLZoS/w0mdj2HTZSApVNTgSzCcFyVqH77XkChOijnKRRQduG\n",
       "4II005n3M22TMo/lI8mf9StIAAAI8gGfUWpBXwAESidy8br3DaqAD+Q2z//zy7zn5CJD6pvRoTT1\n",
       "84oix5Rp0YrIsKFz5fYOjE1n3Obpgyyr0YUG5gCl9Y23k69TMmfkpptrEudGaCRn/ehjmtelztIk\n",
       "3olwuMgBj3spp+l8S1xO2zygGN9WAli3B8QNxlpy9YYKAoltGrS7D5HKA9stLFPw8c6GRlH2rGOK\n",
       "Oe0Q/aw0BDaIJevIH4+4IAxCO+zIsGe1EcwjwuchFDuadfD4Ifcbv4CX8dXDP5eaCUhap6teRIS5\n",
       "GHQw8XGse6AdkNsC576GwqPFsl7ZXYa8CeLfVy75VrM68FilAs6mLb5/iHyZvafKnR2KnvkvW1bD\n",
       "Dek/0V7tcdIYW+c5inBNrICAFAviSTVFLUwjpXbyavosBpJWwH5P/kI+aLVeR/KgxGr14a3jZ1c0\n",
       "dlRsCSc4dywr56sImYrnn4R7Jm7vdaBHU6nYP31yma2Pfi9VMjAz0wvmkS8PwCEAGeCiNLoUC2Wh\n",
       "QDClpthwXmRPxqFILGbB3eI1om0XRFK02foCm0TCYrUB1XIc9W+D1RM7n5RyMlun6tTV3OwotEKl\n",
       "PogxX08w4xg1X33RIkRdHL1PnYy46Xt+GbuhwP2mp1imWb9HbylDlXFtzD97ICu7CX/cOn0dubNb\n",
       "Vwll4OiMyLupoYkijdU9zSo9E4rmyT+p4/4V4fgedrCHelC9BehI6qPYI/m3qKMnQqt7O2qb6CEl\n",
       "sgyGGwy/pZs6yoxkuwx0vE+eeaIyEUtIgf7VzHNhh9i4WefcDh8Q9b8cfKoyUnUDbXBwNI3eXYrE\n",
       "PGxUbnZGnjEUWDWz1lHtY9/5YUE4nMYkcgM+rXQtb9lSmnXCot2kLVw7vRUfw8lJBu9xMXHVaWuo\n",
       "gjV9OpVt5Hjumg3o7mIvAoq+jLOsQvdEECb0Wu5okesdUX+LbjHxnPjFRSXv54xj/mWqVZgoGRJL\n",
       "KtAJ77VeyGJLExa19zdka+LShIkMHaNJbTiMRcEpNsxGKjsxHjl0mu+45dQPq1BF5YX28MkGo8JX\n",
       "W3xCTUsgG7LQq0e3C+h1IACNVYYxBOWb6SL/C32meXmNtO6lXwFsdBuJZ+znT6J8h77eoixtJOhs\n",
       "TJNnA5BpdfT5aCyD32NZLBo00+zYG0a49gXbUT5e6yfq4jm799Nrxa3HEeGNVf5zbgmW34Ht6mrm\n",
       "hgrFJdQ0rUUNuvlEDs5h3FLoB/0WOvf5WO03766MR5HXHOtEmpiSnNM5ocyWP1wTfnfzPDFsFg7x\n",
       "Q5u/6PujotMOvwjf6IFIlAanN51Ve56tg+R1QaxMKqkYcNi+cKcOLnxypQQQt2VqJjrIV1Up/h1S\n",
       "1QoYzJmYh2LO4FeIiFmjPb/XUT7YAvYQITqEiNnKVXIz7xUIYSzW1QyC+oAIFM96gDWnrknqPNFJ\n",
       "3lMKewRjZnP65WHUPgHPwVe2I85jS0wDcDzQpy85eMstdSW4ExzUcUPs2WEyCZDZK75P3ZPoq74F\n",
       "DMSj//PsrL5ZlXqPQfq4+VFJE2/zbck35aOcqk/tSsRLdcKfEttZX16by9gX0GMfsg9HtQ3nVaPt\n",
       "0/A1eK34hoGqtOIN+dgwexN50bCkVYWEWJyHKQkQUJOh7JzmJeI07FKYNYHliFiQbts7y4qaqmfF\n",
       "x51Ucr8uGBMjSowtVfEc3jgP5raxoTVCA/wHRLs3hLv/NeA/h1u3vekZBoiVf7UbnaFYIUgt1Hm4\n",
       "1ILtnhTy+CfbBPgY/q9yYCma1ovM1CFNW/drS4R+5rZX4KWPsJewatwz+dRzkM65vMK0MDojiS0p\n",
       "wRGj2kRGvjZGpW2EbIF3hBl14xQiStQrr9rCon5RMd+NUjkdXbK3oWoO4a7E6TN6KaVB1H5unhlJ\n",
       "i5XDItOJ1UCKkA6VXqY2VNRDXKbVOuMUEzNrS7njp1psmYQC4A+zOh9MGeuUBsBkYpGNt3/bDcAP\n",
       "Dl9jniv8J/8oOdgW63aQcivqb6mYXPLfkCvktt7yChZ70JpgmsOxGDvEwjobwquVHBf2lraWnrhK\n",
       "o3wwg0ktJpaISMdrNCAGYiifKC0uVlNkhABMEjMjH2ee/YeHvytM7yaqsACtYNiBZDRS/MAwnfOn\n",
       "k4smtZQqJNl9Mg1KtCzaF+SlnQOn/3i3CJokvMgbn+O2QHUeLU8uGmAD+Ge+kP9tJcfLvR+/2sSX\n",
       "3FsVIFci2KV3h2ZUu1OnVfcCERQAyJ/4eI77aZiRmOnyDTGSJLlAaF4wLh9oAyEAa/lc70FVzumL\n",
       "ZC1wtGpNlATtGEvWSQhDU4ffFWSgbe70jG6ThUDwTPf1Gxn3BgjplNbKbU6jtiwHyZduofYd2LTa\n",
       "PiqhNqDhRO5zqaxblrW2eue8ad98QRbC8jd1nxrkdqISJtoI/diZ7yIeBooU8C9NzOw5L4SJeGk+\n",
       "sDDolHtYrGDtW6Wrm8//m0/3GfRIZJZRdIpJITi8W1Bui3kjEZR7fXXNEtyvGochqsCDf8aVkCuZ\n",
       "oeCbJ7wFmhmjO37OjsxvyUUF0rD7YQCO/DqsudjN8dBQ+FCFBMdRSgcIoQTO0xFkHZgNIEXExapl\n",
       "H7bZ0XMtjSFB6Iq516ItbpKH5oMBkSwQPj59ToLtMyCQJ3gf2Tv6CiUiZEyXs7BW0Bv0VZ/qVPCp\n",
       "dW3h59LqBvNc9byU0XPMnM876fhKkeLyZgbhPrYbGE1ujWWmpyqwdeblWLTQhLVcrlIK777xgf+t\n",
       "+VsBVnWjGzqeAtvqhuNzdAdJTxZF8U+Vv0UfVzvvYQIma/oIFbiq6GP+q50l9k0sA9/WBy7/0cDs\n",
       "ql2CvTA01PanYRLmnhBhQPG3wxFRIWJOLu84kcS0YAMUp3/uALxi1IwUJr3TnJrrV696vYlu0cwl\n",
       "58dR2hLEhYy62oTVHXLBo3pW1798K/NtyBaQ+XOUkAQLZ1E9NrNtkIv34dAXVWnC2l90TV4JfkDs\n",
       "apH7bbbugpus7JgcHtjRm0bKQ1s11IuVgk2D3uvK7X8kyz3ydDup2zwsTirwrLDsUZgH4BSdjzQK\n",
       "kYgqSEuzUdaoojxUcoOjSCuoe/VxCkgSzPJDXldLIjkAAAlYQZtTSeEKUmUwIK///talUA5Y7ZCy\n",
       "ABOx3KTye+DZceX/pd63HtSy9gLsLSsaeVpJJ/PVo7YOXs4QWS5EtLpCAwnLuLIInWO2TRIt7+9w\n",
       "D6rP+J7dFKgllYMpztWOsf0UyL8wLgvtSri8pUh74aQreR7FY491hlPhHECkde7ctU2TlHqswNOo\n",
       "TToDFAd8GfXVTA1Wr8vwO9/jo/BWbSNdOndB2J34gEXF1W/+8LFqcviHD+tVE9cUFqfOJHuDnSaR\n",
       "HbladG4PvygpeMAGt011kQGg7O+AZ7bsffm15OLI+8gzM8O2u0I8taZD76zjZZ5tIoRTiJlt8ljS\n",
       "T5dVzIcdn9jitExdvPYQB0lce21e1g1dm1XzGqU+d372/M9N0bFBd4azTo+T7+pqL8U+1zc5d1P4\n",
       "Vu5uJPBXRAP7XSVq805aXK4bEHwjHx5Hf/SW8gCEZWPsrpQj8jb8ltIhWpkNhWdYCmInl7hyF8ou\n",
       "Bs278TOrOq9Q+A7+pZVMh/faAoCo//f8HqqOsAGkSkOnbdBcMAN5vL1Jm8zJTSLlQbHJHqv7mD/Q\n",
       "r9anc1K36fei9d5qggBXYKPigVLH//YJEMMl69M4v6WzVN1et8O+VievoSbjuvj+HigzxnIpre/c\n",
       "wfcMfKL2K/Q9/NbcR2FqDVJDOujIHH0HacA5Cg5YiTEQ8ms2qd/ylaE9lIMwmeDvj6SBb28A3u7M\n",
       "QuV13eh6NlnbHBTu1FPVkp3cIPGq5CdH+1mILhh1mmWENlaMFC2j75bV4Hxi73yNpg41Ew30V2vx\n",
       "tzsl3MUPi0x+ag8ws23489aQJghThm+uRLy65rPCVRL05uSJ/3TQcJtnvykeOdQXNgjnjpxjeX+I\n",
       "VHUcI2+Vx1uKTYuLF/vzPEdQganjWMTSb4B9FZJJOOOqeGCgW3+c20fm3ZWVmRIf+VgxwFKaIU5Z\n",
       "2peK19zUMAsrEU6RW4K1zlp5vvyEWuJmiqcebohD+gZiwg9G+pL/qoLkADUm4BLNVSiDhSuwyqNU\n",
       "pJN219qq69woslrbWaD3+0wmKuWX+HAQA7Usd0IfyYOOPi4uz3Pq4LP4DbSEYFrx3tQo6VfXEV8a\n",
       "/934xqCWW1iG9IqG4Lhp1T7wpECzHgWDN+l35gAQ4pczXNIOIin35Dfu9bT2pgBAUeB8eBJ9mARI\n",
       "ZUMiq9r94qJbmrWLDmgBJj43FxOa/0lA80Dy+CQvXbT8qbTJnS5+ktZmWlNbiWXMB9KdI6+9cHdN\n",
       "8cWSuucBymoo38eUmwD76vo174e1BEx35hVnQIX3Ujl0iXrmuUdm3+APmffvXeEccgRS343lndRx\n",
       "c9hzaA+bBQz1MA/Ga8gYxAe0J+wH7cxmHT03NidZejpdEWARSnizv79sB1Ys+geVZOVF/B0qzeMp\n",
       "u8z+rwjwqVIADGFGYsd5X4JBaiRTNJtdKmWGsSw94FHTKr2BegTdR52a5fNo7UOayvzJgiSWpeIG\n",
       "e3X2q+OP4D+XnqSv+0sMJsYYj6hh6tlMYVjl2Iy5gEOEzv0nQxfK11GqhPY++TaWW3Jujc8B5tig\n",
       "lvBw7sUWH4ArAG2mNiv43V/ujOSWPajWcUnakC5GHkbphuKhooJESOHGzqHlvWLLfKxWmDERG9SM\n",
       "5FMGwffsTXRH/9+kOg9U63sUMkakhdz2KkdSw02aDmidqDu44p4ItIvk61f18qSydOEw6qHZWFlD\n",
       "HXkhLv+MPa+fClIZAmYVs3O2U6p1cNJKv5Vf8h3vkXbcaNkgfk6PJqCTDO1lW0Sot8T+or5CG0Dx\n",
       "2G2ivOxl8+ownD5Otg6Eh+1w0TXfSX5AF36qQ90jfEGlcGXaNT+TOD36TwDLjGePAAWbg3ELpaSi\n",
       "b5GGg13kqVxuCkBESXLo0oGCLO6ankgzk5kWM4ylu7aaB0oGPYHcwDFtOcxox1U3PrlREEeuaUoE\n",
       "9DkJkfkcdYQLsTQsR8VJVcJ+NbOOFkWz4vsD7RfwiAM83YjEtCWlpuyxONZcM1OlHh3hSuzSqkvQ\n",
       "8m6Y47Q26RjVjqxg3fJi0zrvIO1mx2f1IJ/+Zya6aiGyB18p+/f+YEnd3aqmbNBB15RH2uqs5R89\n",
       "uITgPR4we+fxCHH1T54M1SR5OBHt/Ah9TqAyZ+50/1JeG0iPU24wcVPEhgJOfKXK97CegXYovAP0\n",
       "SdRZ64vPkEZZgutyHWxnrFKF1cI0NiLLY1jnMTwTKbvpfIOLmK/l5WisMXq5Oj9HCiXiZEvJWXc9\n",
       "3Kut5TIB/dkLcdFQsMMUoBINK3bhh0AWbr0ZRdRczDbDWxklP1npqkV/c39oaQMt58wvDzMYoe4O\n",
       "+QQW5cjispZL2eUuQ9Hky0koTTbkNxa+1kPmYKSbn8oyCAgmxs5j4fnM4Mkn37B9fK2v6G/bl5/m\n",
       "+Qo+slipsZU8V8+TT2TyHPKMiIrzQtLLrPjXJSXN64+e9PN2aHt7UlA6v07VZX7OMmVO39L1JVcl\n",
       "VxDYLJArhUzTaHxbgVVJk0SU9x35yccYcBAmtRSP0eVFnKescHACltSfkdnGUKRksE/h1uBFOaGT\n",
       "iy5tCE/5UtONrZYWP7gceF4Mnxg5irmypMGzm+VhhmX/ZEu9NBw6jeDECeu7pC2hNneyOIw0qSPh\n",
       "t3CoRvPRLJT8Vmp5oQaZ0+Iq89WCAvk7l1khef9XupIcfaSPbFAdhLlyUO7PLKhXopJgjXmgooE6\n",
       "B300DCP+XaX5V69gXOr1Hgaagadiv0cJ2kaMWGFcKLt4WVOQYAgldJ37yTTGCazodGpFNzEF5eMX\n",
       "Z2/9FAVjWGuaxx4AZDaWnWiPUikRMSqasvVGmuKXTMJK+Jg2ezITp6VMAqJAI3aP3HniKQMKVhGa\n",
       "Wk4+G7Wt8Rlzy3IE3JBhbQ2iyMu4+sYz3MANb2sHWGtjTDhC6/kx3dhxZ/eovPQS55NkzGDj1wtG\n",
       "bLWP1DUXQRy7citJPJxR8DlxkUN9rvaigY+73vTH7vAcqgXLI0pqHEZ99RLoPiL9owwwuSbxDr+n\n",
       "yIpWp0Q9/M9rIRAybm+CJZDUKGKyc8dG9pmmojuMFnjVo9eREnu2DITxVf/e1j4Surryced1OJqU\n",
       "tV/+uUyF+UnOAckJwWpsBaTvAYV1pemqdqgdx8zoYArQlo0KJRd+cTpuJEg0PWyGaUhplSlUVQRe\n",
       "6SJyVbSxKqK9zzHt5SCj83k7KJJYPn7oI3UIu8d52LwDgAAABB5tb292AAAAbG12aGQAAAAAAAAA\n",
       "AAAAAAAAAAPoAACcQAABAAABAAAAAAAAAAAAAAAAAQAAAAAAAAAAAAAAAAAAAAEAAAAAAAAAAAAA\n",
       "AAAAAEAAAAAAAAAAAAAAAAAAAAAAAAAAAAAAAAAAAAAAAAACAAADSHRyYWsAAABcdGtoZAAAAAMA\n",
       "AAAAAAAAAAAAAAEAAAAAAACcQAAAAAAAAAAAAAAAAAAAAAAAAQAAAAAAAAAAAAAAAAAAAAEAAAAA\n",
       "AAAAAAAAAAAAAEAAAAABsAAAASAAAAAAACRlZHRzAAAAHGVsc3QAAAAAAAAAAQAAnEAAAQAAAAEA\n",
       "AAAAAsBtZGlhAAAAIG1kaGQAAAAAAAAAAAAAAAAAAEAAAAoAAFXEAAAAAAAtaGRscgAAAAAAAAAA\n",
       "dmlkZQAAAAAAAAAAAAAAAFZpZGVvSGFuZGxlcgAAAAJrbWluZgAAABR2bWhkAAAAAQAAAAAAAAAA\n",
       "AAAAJGRpbmYAAAAcZHJlZgAAAAAAAAABAAAADHVybCAAAAABAAACK3N0YmwAAACzc3RzZAAAAAAA\n",
       "AAABAAAAo2F2YzEAAAAAAAAAAQAAAAAAAAAAAAAAAAAAAAABsAEgAEgAAABIAAAAAAAAAAEAAAAA\n",
       "AAAAAAAAAAAAAAAAAAAAAAAAAAAAAAAAAAAAAAAY//8AAAAxYXZjQwFkABX/4QAYZ2QAFazZQbCW\n",
       "hAAAAwAIAAADAAg8WLZYAQAGaOvjyyLAAAAAHHV1aWRraEDyXyRPxbo5pRvPAyPzAAAAAAAAABhz\n",
       "dHRzAAAAAAAAAAEAAAAUAACAAAAAABRzdHNzAAAAAAAAAAEAAAABAAAAsGN0dHMAAAAAAAAAFAAA\n",
       "AAEAAQAAAAAAAQACgAAAAAABAAEAAAAAAAEAAAAAAAAAAQAAgAAAAAABAAKAAAAAAAEAAQAAAAAA\n",
       "AQAAAAAAAAABAACAAAAAAAEAAoAAAAAAAQABAAAAAAABAAAAAAAAAAEAAIAAAAAAAQACgAAAAAAB\n",
       "AAEAAAAAAAEAAAAAAAAAAQAAgAAAAAABAAGAAAAAAAEAAIAAAAAAAQABAAAAAAAcc3RzYwAAAAAA\n",
       "AAABAAAAAQAAABQAAAABAAAAZHN0c3oAAAAAAAAAAAAAABQAADPMAAAHGwAABDkAAAS7AAAFlwAA\n",
       "B1oAAAQ6AAAGFgAABo0AAAgcAAAEwwAABvMAAAc9AAAGiAAABNkAAAhcAAAIRgAABewAAAj2AAAJ\n",
       "XAAAABRzdGNvAAAAAAAAAAEAAAAsAAAAYnVkdGEAAABabWV0YQAAAAAAAAAhaGRscgAAAAAAAAAA\n",
       "bWRpcmFwcGwAAAAAAAAAAAAAAAAtaWxzdAAAACWpdG9vAAAAHWRhdGEAAAABAAAAAExhdmY1Ny41\n",
       "MS4xMDM=\n",
       "\">\n",
       "  Your browser does not support the video tag.\n",
       "</video>"
      ],
      "text/plain": [
       "<IPython.core.display.HTML object>"
      ]
     },
     "execution_count": 22,
     "metadata": {},
     "output_type": "execute_result"
    }
   ],
   "source": [
    "print(\"If the following cell does not work, use browser to visit file {f}\".format(f=movie_file))\n",
    "gd.show_movie(gd_anim_eta_45)"
   ]
  },
  {
   "cell_type": "markdown",
   "metadata": {
    "slideshow": {
     "slide_type": "slide"
    }
   },
   "source": [
    "And even bigger"
   ]
  },
  {
   "cell_type": "code",
   "execution_count": 23,
   "metadata": {
    "slideshow": {
     "slide_type": "subslide"
    }
   },
   "outputs": [],
   "source": [
    "%%capture\n",
    "gd_anim_eta_50 = gd.create_movie(X_lr, y_lr, eta=0.50, n_iterations=20)\n",
    "movie_file = os.path.join(MOVIE_DIR,'batch_gradient_descent_eta_50.mp4')\n",
    "gd_anim.save(movie_file, codec='h264')\n"
   ]
  },
  {
   "cell_type": "code",
   "execution_count": 24,
   "metadata": {
    "slideshow": {
     "slide_type": "slide"
    }
   },
   "outputs": [
    {
     "name": "stdout",
     "output_type": "stream",
     "text": [
      "If the following cell does not work, use browser to visit file ./images/batch_gradient_descent_eta_50.mp4\n"
     ]
    },
    {
     "data": {
      "text/html": [
       "<video width=\"432\" height=\"288\" controls autoplay loop>\n",
       "  <source type=\"video/mp4\" src=\"data:video/mp4;base64,AAAAHGZ0eXBNNFYgAAACAGlzb21pc28yYXZjMQAAAAhmcmVlAABK6m1kYXQAAAKtBgX//6ncRem9\n",
       "5tlIt5Ys2CDZI+7veDI2NCAtIGNvcmUgMTQ4IHIyNjQzIDVjNjU3MDQgLSBILjI2NC9NUEVHLTQg\n",
       "QVZDIGNvZGVjIC0gQ29weWxlZnQgMjAwMy0yMDE1IC0gaHR0cDovL3d3dy52aWRlb2xhbi5vcmcv\n",
       "eDI2NC5odG1sIC0gb3B0aW9uczogY2FiYWM9MSByZWY9MyBkZWJsb2NrPTE6MDowIGFuYWx5c2U9\n",
       "MHgzOjB4MTEzIG1lPWhleCBzdWJtZT03IHBzeT0xIHBzeV9yZD0xLjAwOjAuMDAgbWl4ZWRfcmVm\n",
       "PTEgbWVfcmFuZ2U9MTYgY2hyb21hX21lPTEgdHJlbGxpcz0xIDh4OGRjdD0xIGNxbT0wIGRlYWR6\n",
       "b25lPTIxLDExIGZhc3RfcHNraXA9MSBjaHJvbWFfcXBfb2Zmc2V0PS0yIHRocmVhZHM9MyBsb29r\n",
       "YWhlYWRfdGhyZWFkcz0xIHNsaWNlZF90aHJlYWRzPTAgbnI9MCBkZWNpbWF0ZT0xIGludGVybGFj\n",
       "ZWQ9MCBibHVyYXlfY29tcGF0PTAgY29uc3RyYWluZWRfaW50cmE9MCBiZnJhbWVzPTMgYl9weXJh\n",
       "bWlkPTIgYl9hZGFwdD0xIGJfYmlhcz0wIGRpcmVjdD0xIHdlaWdodGI9MSBvcGVuX2dvcD0wIHdl\n",
       "aWdodHA9MiBrZXlpbnQ9MjUwIGtleWludF9taW49MSBzY2VuZWN1dD00MCBpbnRyYV9yZWZyZXNo\n",
       "PTAgcmNfbG9va2FoZWFkPTQwIHJjPWNyZiBtYnRyZWU9MSBjcmY9MjMuMCBxY29tcD0wLjYwIHFw\n",
       "bWluPTAgcXBtYXg9NjkgcXBzdGVwPTQgaXBfcmF0aW89MS40MCBhcT0xOjEuMDAAgAAAMgNliIQA\n",
       "F//+99S3zLLtU2+2C6j3op4mX0N1JQGblsTtOoAAAAMABnddzdfZ7UGcP+ONZoi+oBZFz7WD4aoM\n",
       "BM9Kutd4moJeyoVEjtWZmyGc+csiA6D/g8XHOHYsrmLF4S9DPtq8QC7fuOKeUwpSja1SMa5+GD2W\n",
       "qwaAGhpI5AwsQM8i68vBSw9wsiMri7uDfx7Jb65Dsf0En6uTOaqo6ohAG4iDUXJ8YMi4cbIHYD8S\n",
       "8kDGhtR40j6EhWgTYWNr/rf5ieLXJL6evHGD8e0tz75kdr9ACXbdmNW8YL8FfVn5LozNVwlxqHc0\n",
       "KhPs1OjaHmq0L+aGeklOJjYX/3tiUmD070p2yoN3IvMXxSxdw4cCooQ4HZsOSCiGzLaoKRtlx5kl\n",
       "F4HJG/NPVr2eK5aCFUQqvMtUAH8WpPyncp4itfMCxh8RCiOtKKUSVKPWC9yda45UpyDmfeyN5/00\n",
       "DpXeIArltC4SIJRXZ4QzQiHizY6sOqvaL/VLfOfUIoy485s/5Eu8R7DIIQBwv1B9LcEmAnTAf5Cn\n",
       "uLBXACAOBVgCzl+io3h1CD/ZFV4VNK7pl3M+JBCZVym1ZkoXnfs68e2kLq0chrbrXZqM6FYb83Ou\n",
       "Tp4TTwX6fVi20e1/UYfuKm2SBrY4ecs5S1Uti4IdnwRwSkTYGfw1YOfXsOy04VLBWYneGAVDNTyv\n",
       "YS1Mhb88nOQV/+UpVk4v/4gw8KhLdsYWq8ylu8hcK5Y0jDsiKi6+bb2Nl8c/a57VDFxAX/XPiRGq\n",
       "fTPk9koBUqbSDUEduKFKANa//0rAJgl6XH//+Tj0ysnEvSCGKVUUBGUHtydR1KHi0wBDvPXPvPwf\n",
       "x//G9kSplSvAlHfG9hPDxlPtUuriqsIVz8TTW05R00MmULc3P7Rdjt6d11befHKjIUp0u3UOTQKG\n",
       "b5qj1QSHRy8J+Dkbpfh7BzfUwpGE7APUqA5D/Z5G9SIBsj0YWW2sofZJb+0MP/PolN0VeW86lx2m\n",
       "O0lNs+cKQ5UURlJa6bHoew/5Zxb/2zo7eBcneILJ27My+UbukBZOyrxKLYRtms3rN8c8RJSCu5JB\n",
       "fvYSjRE6ECueeh7mzBVr71aNv2WJmr3jBsp+DL7x9BOrLL8OCIueci31YOiVe6noCpJMDmJjRFfA\n",
       "AV9EoAWOFNKTc6E8cCpXbafBLsbQaOWI+hwc3t+iK0SImQAORjkjlkmC89NitMxRcFJBZY7kVcwR\n",
       "OmiQ9z71oeFTIVHkX6mzhlZMqgG1jtW9EWmzP/m9w2xSq62PXdsAbopw7PzeeCCrTghn1u6KTWfW\n",
       "Xmkob7WJJcRyq8MaNrjDxIjeJwP1pavbi+vuykf9ATZdpBVMxd3u3E9oNrgf6R+YdhA4WYPF+2tM\n",
       "8r7TtkxVJmEn8mMgElJCN6FhmQg3VIqHJsKvvJIhifpmeG6/3eg6VjkrmTzCImAw6xETlIBt35/9\n",
       "oZVJyhgFssB0RALMIxGZ7ZAODEjfmzTnXmRHl5Kb4h1A3q34vtz+rprzwzhGwzgZANmkevYtGw+v\n",
       "iE4eFSTY5NLM4gjpdHyJmnU2dR+/7LDPpERbmSQQLWpxAALI6r/KjSn3T4qxnlbHYCPXbSzXyDp1\n",
       "UQ9wTPHgHmVlxJuBVhG0wVqIDsmoPwR3K2koEqPkcq6hr+3Xku54vJCZBP7g/nW//xatBiIar6tq\n",
       "eChQ4YtN8StaepKMBCaAvABbd6u5NBiQJDZpn8HsNzHRO2l1D60gT8uTPqwNywcbNHylbk+Nafwk\n",
       "VLvNFof6ZKWFjb3pmj67IJOa35s0a3jdVFVWvK5VsixE+hOzsG6w8KKsBbPa2TMl2bspSUQDhK3H\n",
       "tFB/Wv/pW6g74paYC3/QCWPvweopy+7vfaEj+KowaA63Ee3rleuLoJspBp93EPROfqWlFHOs1VNA\n",
       "S2tuX/P4NhqcLteEFTXbYJEiz3d1rUieQDUdnkhljIfhljVrusdzh4IEhThxlIbNCugV/PULZkeZ\n",
       "xYkWsGKLDybVRAjsWbfduGHJV/4x8sxJViReq+WjapPr93XMb7Qb9nIHdtmQW920L/qZYBRXwqjH\n",
       "NI5alEMFrM6P3QGoSAAHPcl3uSOBZ6FLL5/3SDS08FwxbwO5cumRYhPl5Y1yl0ZM2bjRc7gG9uIQ\n",
       "/WLqsqEO9X/l/x2qlBcSiTce6i318ZGtXk5h7K8BQ3fRhtZEcB4kdS7vt28/Cj4Hk7j6o4S/jI9X\n",
       "2J16SRJL7jG7NfxYi0/Ym12/IOQAKq32hI/iqtkihsF2BrMJ6m6GkpKs8IneClJ8CPJ7b7AIEWyl\n",
       "b8hKLQhriBUFdmGX8VLqDp3f3fOKlw8bNQnCKTgjAKDAwhX9OoPcEFFRpA5bJN09W5uGai+AX3aW\n",
       "wNTB3eforag81oPOAauIBu+cLvzOdAegRggOdvElnK/7QPj6Bq9zhubAIpWcfAs2Ho7c9TnA2m0N\n",
       "bqZqrsfJloYQcnaTV44F7WFp3XerPIzlCH8+kTR/aakA2yvqhnEZHajB1OemYpHG1/K4FdIUYmno\n",
       "DmqskuF/8e7DXKJk3C907Wi+Lql5XwvJ+yPbXGGiD6+l+T3boDyxYpkoZ0ST42La07uq8fc5FY8d\n",
       "XVoSU0piFSCWnIqMWN+oaChKu+gOJZu5cWEcS0rs7IyV+Y3Ve+Sydvq/7cAppHfLusGaUYNgnuxg\n",
       "6H4RJnEYXM8RTXLDdctpAevNubrOfc7RNAHC+XaromkRIJW6l9Kk4ze4aAUBjEhKOjLaWqDW8NX9\n",
       "U4DanzYXNT8mEvB7Bn9z4v85qowTuDEXI6KZEZmZcd/8u8qO/wQaUtfNj2Hnjpxbs1afEmHrYtFc\n",
       "z1kvpl0fVjvcNue77xEv8EOABt1tW950dDhE5OBw3IYQ59zXMg5Zr4X7l+u5VZNzRoLWwBioZjXM\n",
       "aUT2EVLLlFtL3iLdMKvISYsXicVJwhjJfXqr/QUqrfc8dUR1cBH4hBKElMDJ/Lz5uyJO8nC6x7fq\n",
       "jsJ7cVhk12Zg8xR+s+2iBx6NQSecNSKhF5QDU2nvVSG2TLMZLnheP2Cg2mIEM/SjvHWE9Q/on8bc\n",
       "8SWNb7jBN2EBOK9lXQGGMJmBTCUs6GHu+emN3SGim/vUyLWxqORpnCBjTiwt8kW2xRSI1xRVdsXh\n",
       "G0JRN7cVDTnjKnzsu8npHdO/PoYhggylSJQC9qMu1mYBlNi+hXf3Fnl9rDhlA+7dR8SMRZLOpHpC\n",
       "dfLpL2UX2TZIKPYCtpmnFz1IRIbe71H/JNlCCKlITB/PgfSMwIP6QtM+d7N7bX3kkuRBKOpQvJDZ\n",
       "H9O6eQPKntCDnAnJThEPALcvJQO9iK0cYNfglbjNoSpGvGNA5r0d2j3ZmvcnlE5I6B+M08n9FQ7O\n",
       "HMIQIIuH1WwHP0oU7MYgfbjlYZAwmj3NUnoXSmX26IlKAtgNigIEF70AbYX5ZVCJdJO/Geo3uVlQ\n",
       "kljJ8NfPI5gO86gzkWGErNBusi2L/7ciWVPysmcXjRpfSnsOAYhGzHpIbD+Ytxc+2oLh4E8cIdoY\n",
       "ewnaOhXQnugDJTNDUXynxDEMof7qxJJhQSugm3Vw1AOJJRp/4COYmf2bu3ZljC7SVtM+Lwm1mCor\n",
       "dXsvEzCA+7k2VrILbEqjSk1/WvUjD73ULYMQRuV7+j6d78hpx0VhTj8+056NKt4FEXSzbozkYUYl\n",
       "buqrlyc2NXFrK+DK217J5hDPM3wtUsRHjqbDUXlzvtLNTwHxbdkuAMHZmbTnQsPJNNFeDTF82tCe\n",
       "Yr77oHb0/VqVU0/SWgxgdye5iCtaP6xg2hrS9z6buvHz5uUVY3pCBbH7lqW6937qnvYKQZuXdQ68\n",
       "ChsuqzEwomb+hzMLsYRn28cQOEhxJO1t5qI/nRQLmD2pfiozVHatYvgomJIZylb6BvneqLhZG3ux\n",
       "pDVpXVJECtwT6LhOiuZsvt91+uR2TeXna3kImBQf8NJGvjpWBP0p+bR8q/jMzuaco0AjS+QwR4WS\n",
       "Gz77wso5+zFPJqxRKpa5g8n33Uo3FD9wTljbS02ZRDjSmow2GqvFDNlVIdTq7uGK08cLmIP+Cm7P\n",
       "7p/z+3iYyQQdE1e/p/Ip/Y+Sf2zsUQAhu7YVJcVlNLzjsEIoIA2VO5Ene/tuZY4taM1Xum4JtfNb\n",
       "xTK8ycrcsiNj0vZgbrM/Z5FWERMhSS0yM7UOO3fVin+Cg2PPdqL9mMXK4jXSXheSRuxk8KKLPES8\n",
       "z+k/BuIcXtvBz+PwjQDGqxRnD0ZSwZ+ABZ0eHgRH6BLJNvsJmQqpeqOh7TvMok1+IdbReECc/DYk\n",
       "xLR0GQJ72nit7SOaULQ2JwGzqsLqb2HQwr8zjITmJFfpLTrC050Q6iGLmg5lrdxSMVnHs7uSZsRC\n",
       "9e8KAITkB5AuiDg0bI9DdnGU3NBAgZ0R5QY3Wb7wN2MpGEnuhw9uouiSIKpebJaB4SK+Iej5za0i\n",
       "PMqfo3hBDl33YD6A1zERtHhXTk2tQ/6KBbzCOaHktXqW0MnxKK1RElvsVmBe8+9lZOTmfbEYtVW7\n",
       "eflPy/g0rfxJuglqf/4Vgcx0Zif/8N7v/4lrHv4ofCdiTFWyCansYyAGslqoCfEiHvmk0eGi4HXY\n",
       "qWJR4DW0J5RPAGeiPR1nLncAotsS5HTVRSn1WzC03c36l760TWJdrLpzPmeJFBzYmmuWeLmXbD9e\n",
       "TjAsneTJ3GdeTiwZFy2HieTCWOYcJrE0V0gxaO5nH5Idofskiw0xFXQdON+RUShr2SZM8NQlwvLv\n",
       "jtYbCDYnxjBlD4t2t62HRwL0x94M4vZOgcDQ8c8FGeMbPJk8ffl0AXoqGW14Oi95wP1FkJatcobU\n",
       "dliS2bS2W0IqPhfmS+UDRb2G84gD6pWGNdy7HBBtPyRh0v6yFxwOLfWNsVVB6A9xzn+Oq4+isQ9G\n",
       "/P+U7Il/dH1LB9PEdHfR1bSD+ID5chdgkfXaUN9zWennA3+tVF/iwzXOklhGM802GlkR1uPQbUxQ\n",
       "c1DBlRTgiCMJrOJUI+bE+5uKH8uvN8V59lVJdCJhMEl2s7kpCDyOAhkulpITRxeSSrvIpFFv9OgI\n",
       "18XtY81dWv8Vsmete+Z1Nzo5RghMp875j8s16n5ykSuzj7Ce8/SFNax7E5LEk790LuvtGbz6GqUT\n",
       "Rv3XrczU98KigNudsjdIlps1yfJ/t3I6Jzq2dLIeq1bKv7Wyp9vH0OqD/anpxGj6S1bbXZhnWlZa\n",
       "Qx9KasYUBe6ChCsielvPtPEjFoZjgM2F4cRkgX3FUOmggWJHugcyywvCj1zfP4t4jvVLlz0wj62O\n",
       "dArI+UjzIlrsJwRKdKVUN5J3Nc631qHQtxSnkQCM+uRTAkI7RaiakUutBPPq8p/qEUNj85JEv7J0\n",
       "9E5BkpAzL4y2XaJuCbFWneg2e5YuHD8FhKUrJCE4PoN0aAgkpyJ8jAc6tlPOgOeb45XeofV6sKgV\n",
       "1CK68rfJ95ARZ59O6izO5QW85E+DTUExX9v1La0xiCEogoK0mkOquuKzb66uqFYNI4RQ1mqHxqVl\n",
       "3H1MxhxH/ZNpPuVtC2RhfN+Tjzm3dDnuCtdhNm0S9tmatIVPCZhF98Dgak63sRtnY3aIZ7mk0vCl\n",
       "YJTCt0QlQ2VH3fvwQRlVOpkbxGnHtl6nbRGceLYeas7LTj8iLtmTYbUdliS2bS2WaM2qlo7Ehatp\n",
       "q6T6+3jF4+q/Tar9tQPIkAnqNNqwDPps7yXHpCo8IdR2F4rT5uRjq4IquIA6FuDd9rfiKexcLoIU\n",
       "FHa16VU37rLHW61t3K9cXQUtlvEBE7wUpPgSFHcI5uGND9EgIuSs8K6aAgzDVzAIbCGnJMOG3Oo5\n",
       "VFVQUK6C67Rm3WUqF1xKdrFlZAC6/0bTGZnkvvLd/XpTVNVdclkkNda39QxaJ/3v98Dwr6VogUL0\n",
       "NZHubIfsx1r62ItuSf2T0c6NuoiBz++eY3gOdMTGHpzBiitzBVg2vkeOR8n0U7FZpvAp4jAN9OPj\n",
       "07jqJ0doRKXY7l4iuy/X9gqskMCeop/xiaol3b1HZnWa3KWugCR9alsr6BrEMp8EAWEfZ6hjX0VK\n",
       "01Lz7TEw1pV73uW/53ub0YoWnzmxAkE6AoYhwAQx8B7Ms7V1OGt89w7vXs6HCur2eIH/Vm3PzWRT\n",
       "zbNNWg0v1Dhp8tECByUPB2sCRuzqY25MMGVnA4t+zDgyABwtKvLQZ62VcjaHg71APjEcQQD5CbH5\n",
       "3Vyllpdv67Mz6/0/lKBOlD05WWt/+v8Nim3RtMbu85h/V8LiiRFGYZBovNZTKONpLxJAA4E9EnRi\n",
       "gw1abKbMcPjBzXqRN30KLzp1Y66qOQqZ2H0LnWQBHzVTQVeSlv++CfCi+CPvgIU37QsEq9SG7JZS\n",
       "sO61O2sb4MCrT8YJRvg69+gg/wO6cu2U3o7adTa9rNiFoV/NleWstA7ALc2X4ShB/+10yj0QgxUt\n",
       "bbhXIyoadFqLGpyG8bWu5DQlBkdkPA92JhY1W9GC3+Sr8In87smzGTqAhrf0zkOw8c2l5CmsjyRq\n",
       "kJT1GVG+1QYkEIMPQ6OIz+3d2Co5zD158AS7LUIKaqNcmUqwnNdqkG1k/bX9azn4yvUS7kYPqPjk\n",
       "yCyDczN0vPi/u8a2Cw+7vw1ReGvj4r8ZJRx5YI6ShWEXfW8mJTgRmBAo/1ehUv+JL3PpE1jDm1GP\n",
       "iwJjfvYERi7fLKkgVGejjp52vq/cwgu4fg5WbYFd3dbxXj2EvqgRQd+210g9PrNepS0DYDlx44sY\n",
       "B/U+VEk5IBZ3DT65qLHF8LrsEkmODSQ3t3fng1guenEcdxwATAQ8hYLQMeGCfX742+ClSM6KruwE\n",
       "Auf/9rBV9BZ7YG8/+L+8/Qfq6VAlSww4Oqt3j98vCywCOfzlce+D2bhjQax2cmOd+2BXReoqandt\n",
       "UkV/vG0Ju9gIe4IrHf9ymxUATUJQrRSZruMJapvUSak9iz9BEJ8Ok3v6ZOtpWwGMiuE9Bb/zmtOO\n",
       "I00vt3qLe8T0yYYb6fkbVCyWivuKvZnfhtWPemvWQy1hk787t4YrNlUsbfaQVcxWHqzq4GIQDZ9m\n",
       "G5BkF1MKUEvKm+ORaPVjpC3V4BMGtqXYA/GZmaWKPfA3+de6410W9VAQaSk64VkboXh11WSWOCPI\n",
       "Knm0Wl1ddwacJhUGeex58MG+rXwDU1oy7ZOKZkSVSw+yqzd9Y68zkGDzwdnzIeMUDSMfmtmTPHlS\n",
       "owtuQkcxuRug3ESlnqRU681CtrxYu0oj/bSfHkzUkfMwLlt83TE8yDwXHuDdMQWaR70Zk5KjoU+z\n",
       "fv9W961PYwmfO8967bvKtXLJ8BSqkQ4HvpWAoeu6dABC17seF2myy6lyQIS3aYBQJysQG+1V0Hzh\n",
       "xn8VQCsVCbPQYb5MTSybzayaQWdr+keCa9UagMYvkpsNmAirPWYmK3013L6M6Fyh5yZ8tGMEBL9B\n",
       "IntenvH9DQtoJqVedtZO7kJlPieSRszUbyYOBSJFubX+1O2EHIQMf+bPj4PdlENdEKyqItHRzqNv\n",
       "T3pKAaM4MB/Lc+ekI6wVw2GDCYblkB43T3R7puh0ExHAdfk9UNwTCDIcWMY4f2YrC88+t6e/FJUU\n",
       "fhHa3pg2GvvYsn9m7WM4zAclXw215MZ+UtFktSqTIAKna5ElOugsfwsL1BLVB9tpdps7IWyW0y8J\n",
       "0QphIwpbQ08TbkGV+/MKtQZpf8dn3LDOYDGda4u23Qx+i7MQ0IrNZ8tsMUZtevLJgUlDGlbBget1\n",
       "ko8hVCv9vx1R3yGRPaE8AirFpX/6z6tSoDBHRPQfhlmn8JDCymLRTdifrLC2e89rOFoWOgFc+TpB\n",
       "v+YGwrSi0XUpj+ydRO2PMGjP8P2PVWXJ18GFuo70CnBPOpEI+MmEbtWf4g2wNMgU/l1nfDQUyKjt\n",
       "NZddJTYknnpJlakuXDD6lr/Bsaa2AUa7zVx1sZkbfRGZ/12n6bLkcE8A9x0P/MdM9Yxb+TaZeMrJ\n",
       "/aWsU8l5LgWvvvKXjQtdzjoz+mtu6X10Ma6Ud2hMe9sjEi5+FXpU6TwiKSxct9YeOknq5R7p/CRH\n",
       "GnQpPsAPE+qrEx+BRLvQXS/t6JoSdmTy7WSX63WyUbe85uMI1voOggmFZ9nG8uCG6LCLZE71vKtS\n",
       "taLAuE88+4SmYbX67Kdk7FB5uE/fDURgLk5BkcPJAnBBMwpHeDEQwwZLj7U+IzJAbbZ59zw1F3Gw\n",
       "1kN/IP3Be5H9d9gCzXM1gLFWyKOiJ84mqdaHxvmsOb8u+gjGURKpg24V0vdrYquVQbXIJGXZ7cwu\n",
       "Aae+OXSMMzoG23C27gTOqskycpSnD/Rsva8QZP/adRyTzPySS3AfF/48UXnKO67M0T9V7iHaKTr3\n",
       "5kaMeu5ayMhfp5KMcs0bLS8pZHrnJ3gK0Wd2RoriyzEBBvtlPGRAvEy3R4LLb/va0KtUDxsONROX\n",
       "WIlgAWs1cxNt54RUuvfjSZg7Gg4KtorYZKdw8/6+H4+DDlw0FOreRr+LNhseryfcBUV29iUSD2v3\n",
       "TrxbSzmdhjtBVvhz/HyjFe4k6KJrCc0tqOkftkjW21z3o9bCYURyfivxdk7yArXO4rYiBP5k5AeO\n",
       "9BkoM7aDu/85bo3Fnoj/0JvApdSe8svJzIc3tcnnq4l+ZURmiWqkiMGDZa5P5yvwZkvHzLKxpSIP\n",
       "JkSYUR+nsz3N9CE83QFBplBw8AILtPJiTI3grHf9/hUFPEXoUcx1bEzSsK7ylAwoP8vtjwWX0sO7\n",
       "QrCifUoJPYWftlEV1hlh8eSXantKLkup2dsdBkTcWsmzzNff9WhkW37pcln47fR80Lm9gytQQgGz\n",
       "7MNyDILqExERWcBJbvkg7yuGU6Fk4j5wi+rZfTcKXeb91MfJqv2vpz9NTeLgzb2hZ44qowzc+9rK\n",
       "17WvWNqSIBTOQbZ+5PUgVo8tHURVww0aRr4CN6KpzNsAut1eIDiuEyuC6vrmCW29blAYekXBSpyd\n",
       "86vS1kybWnhirGJFzHvLN5/STLczunFiRFNpViCcri9T0MJT9RGukk8WTjullMVhZK+7OljRynwr\n",
       "O/sdIwX19BajTz9KNxpsBTNlQSYS1buiLRE62JUPJYREHCK7ldIAaGOGgAVopiRXCmOLz2pdDiXz\n",
       "02H5a1nDZOleUn5FETlyBRvxMjZLjCV7v10FL3X0uMJ7BV9UqqmjL9s7GXfEjZLjCV7v10FL3X0w\n",
       "RtxqWakHUKZo5ktAkuUf37cQZq7JIXATThdjORyUW+VwN2FAa6SoqN3pdyDwhDrH9r176qk8o6co\n",
       "UNJzXoXOAG4xOdyjXi9kJwKNDnzlYUfSD2u0XjBQ7BDtOPDadQPC+vISENxxS/Z2xYXLTZlB8616\n",
       "jDYaq8UM2VUh1kOi6tZr9CRUJm3gDtAnFKabtv6az1ibkILxmvmW5HtkSPz9Nn0FyEBIkwtoL967\n",
       "NhBWSJBBppRqQc5vO4d4l62WTfAQflfG43ZWdo/t7MuAaGu1W+PXtUyG3ExRRc9tBmZ+Xu0gDPqk\n",
       "EgklsMgAC9hA3ArICqLpy626xZJH0avopcnXwYW6jvbpCwxsvfQ8ciJ53D5AG0PJUhR/xE8YAD0u\n",
       "f+PP/OlqnASMGXh6sleE7nnaGfkNE4EK/WBGWSKeexokBPTBkR2QnVVhogoiidzQhYD5/hb2oqbD\n",
       "ATe+u54XntTtDhOuZpmBtT9BNY0jxwXyapXio7mSiy7ia/5J7cMNTBI3CuIC+qyqRroLqOOmNafB\n",
       "k/x3VhcuSSDjwGlbPBRJXg3L1Tx3/Ccpb/r6kMaoDZ/y+t+4RnipjdWGSqURsS+eKQGisW2H3j2k\n",
       "nYfvENKY6/3dfyfXEfo1j8T0TTFbELC5jCIy2oV3LKP+cBSL5y6nJsjrnfWOaQOPHeo5bb8v3pIx\n",
       "pRw0wJi0VXMlFAFgO5lmFEE9RYwdMOu0G2tSq+zf4M88k+FBpYLX1bgpFQWS/95kpINmsVKOXuP3\n",
       "g1hN6nV7s0MfZRhF4bkS8claRl/msWpcTB6zNh0A2Aj/DGJj9Wgmmf8bJ3O2IjJpCEUpm1xK59zJ\n",
       "G821EyC4Ted27sxZazwhOakvXbGbtxrCz81OuGxJC4foRBOcftc0C+mndXYbtTkHotqk2JOSAEVK\n",
       "MFNU0zEt3xiroS/MAODxPVTlphHMP0c9LrU2i8a/0u20FCITXNgrj8RacChXWN87MESnBtPXiC+f\n",
       "defLITMEj5b/5cQMHgeg7MNJA691l7maK/F/114jmX/7Mp6xrTPaUTiiKneYT6/frDWeD2Py4Akg\n",
       "4VFPikm2vMc+ljZgzagPQWG5gPIpw3d1QkmHDPVVYsztSwZNkqlq+OOn/GVIzswCIqklr0zZ1PeG\n",
       "gnKT1TZGHeqJ7Ks8HDsA2qGoA+sTe5/P3yS/xblU+6a8jFzYy19zzSconZ8dQZPR+0awcT61fKFg\n",
       "B1RlV50JHWyGGBE7KHPaeOruzVsbHZGW8qot1fsMfg60zTacw5hAy94u8/yHIHtXcxtw5VoflBM9\n",
       "UFU33uigiO0fw65th6G3GyXlyt933ASqDYY4xtOXvL5iYUMiP+pbOBdwMq8K42YPhOmsZwZuS8+J\n",
       "DQ4La3skOjzF65oBGDMd55lQilRNt8AiarEHOZmCChXRGqf1gSviJT4u0PLPgSWQagkmsHPvYy1D\n",
       "+DzEFmWF+az3VtSx7u7xc6/joM7ZNxwFh1vf88D/JqWYSYEG7j5V4vokQw8xczEBpKy9NIRwjp8w\n",
       "oX0Isr6Y90fXc6RPsq01am166IiBh8jwoFayse/vWS/O/24/Za3L3ggm9IPdvS2hxNh8lAuyqhEP\n",
       "uRY++zGyCzURV3w6bIwTzZkA99WYjsOBq8MLF+780Y2HxaSTp8qLTqemveN6Z4DMlYJceOpfAPJX\n",
       "GjWaS8ozkZgxFlUN5MLsDU1GPSnURBQlKCYaTe8zKMitk5/wj7EAEkD15hUR6jmKd2iQCE3039fi\n",
       "5Qxwu571GNQlnmfqJu6KC5zx0tWeZbAKTbPnFFgqa1nyWcyI4d0MV4BXFDeQ+OfAOA/BXmYpdFAF\n",
       "HDnT5GbKgHChyaUOedg6ZCLtb+wmtGpswWlw3ScYsahjkHJdPCHpVqT7I1mJQgwTGxhiK0rOOEEj\n",
       "IBoXta4D+5ru7YZzkYbj2P5SfExTRZkCNvaSTQlgmKr8aDaO50m9uorfMgO5Yih3EXsyuxVhUg+V\n",
       "4tmWk2LGwRba8BGhY9xqWSAElB+Wj6cIPbZO5ijFfPcebPKYA1oOQ7xkgfQuOgjBgbbG4GJdDwPa\n",
       "5NG+sqWUkVUQb+tjvDXMUmxpXqptwN1xMVDmzC0p+ou2kBiFBBTRjaFJrhSh1TW8lHfVtsYeaEcA\n",
       "yHFjGOMdFligpEwRTwJZ3aixKyb6RAVqPKP5PwvIFCmllsIN17mHeyl4cV6hFgaUyzmCk7FRGio1\n",
       "z7L8hU/oCaRXfoX21sx7Y2TcTw3LYNxz/O5lzLtQXypiZvMWiHh4hDZYSK8GWDncia18tKJUbtDB\n",
       "8ES9qgZ50ETFL9GRHJT2jsRHxjjfZyzQnfUL58RqAbI/VSpgNAkRThEsZz3XG3cJ0uPn0682dqdv\n",
       "f2EzixqFJQqvYHdOXBOumQKkf7/NFqq/QgPeLQgrQoR/EtCmtCeekBEi4tSouMhPpPb9DKa7tlse\n",
       "PmossqHa5ElOthDKMXtxEOBHhelkkutEAWPyvS8PArvTEevsEqFtrtT03V5ecWeoB9nuhTb/rL8J\n",
       "ARtRsvUmvn9WTN+aqdq4Z7iz4LUa5adh/8cUIKghNXWmMiYl6QR2K6oF/+Psx1sYlplAAqV3oqUD\n",
       "/+Xs0kSNKgGzxmzi/tXStPUsXstAlt4ryXt9B1l0fv7PVp5L7ZT4aNi89aI3xtAX4wegkyEeJCkc\n",
       "X4MrDqD5Di2jQAv0ZEss+M04NrNar+mJIwuQRUfXCr5rSxYEazWOGG2/K+Sog9o16UkeRxITtAn8\n",
       "elhgC9EMFD9foLZDZc3NKnIrENmvvqN+mZsnXxR6HkwH2n6TxNmN34QFyUVM4Ji/+3IltAUKQgnK\n",
       "q+KT4E7hWokk8cqV2bxpiaI9SWC646Xc1v7Ptswsuoql2hfFVp6ESAexXsh/GiikKD7AIroiZqPf\n",
       "gfNEagR6YzY0XTMkQnf8z8l8tPpyxwz/7Gif6PMsRBKCG27QC+m5aht+X3WJKKZceCXn7sHfpPhv\n",
       "kfHjyx0FOgZPBWr/ct9vHwnx+x4yieNqkmaXFlC+C49NYToS6T2IgeKqCFH1a8N00pkifT/m8Lmd\n",
       "AUgz5xY9KNpPPi1SCmQ/ZP+TJ1KQUIrl9a6JKd/p2moa9ItsumNjd9pRZi5FxHkfL3Ekhm8CGpvQ\n",
       "pTnks5I3kbWvoff/Y+QANoyopebwp5YtYZk43B8s3EhMcyTvjPvkY3WOmmBQAp9FjumJT/Y2x9hz\n",
       "BH3IEXgPrKdn/I9JDYfzFuJj21H6SB6rOfvo31KYP3l/qggLb0jemre6hG5ZAh3+XyrCMW/szHZ/\n",
       "6PD2x+9qmp0LzCjaU8MdRk5pXX92YwOeXtX6xLAFEdJvZd0qtLhdopiZLYLPyBe93UogWZA6IMXN\n",
       "40aKKJu33xHeHtiZ1FSGP3oN/i+7WahGJkMZ45yUlgUU9Vx2JaLvZLkCpseLImuh23sXtwVAIAIx\n",
       "73ugjRw99Ij0VVWpz2Q4d/T3tBfpw6UJNGE1nKSNq9dT+PGFKe8oPSK7M4ro1pbUo+2cXIwdo34I\n",
       "HXF3kwLDo6hpS9yYyISrVcSUr08bkyTL/ur6RzidQL6bVjfG01zEZpgFwA/+PaB/zt9/VfWR0J3S\n",
       "G+Tp3rTP+liY2YvB7fi5J7sQA+DhRtEO9/ui+bYvmPRZdDsQYTpWawWmO3iXdZbg/uyf+xQ/vL75\n",
       "tY/fP/resAuHjo2wbKgkqZnx6HEWLhSAWQHxJBKaEBhW5BL63WqloDG3+7Gryzmzzykf7AaG9mb2\n",
       "/6H4XG+00w7TQgWg00RqxpcK/tSPEnBOanuA4WR/LRSSUvZrsGvd817o0rcoXufx9pLk1/LfpAKq\n",
       "d/RXq0naXCVXKX+2YQSxJoj0+vtu9/qX0du2qRxLVRT4Q+tzAcpHNmi25dByenWsVWl0fHAySFyz\n",
       "Oq//5JfnfTc1EX8//J/JP9KBG5Cjw6iOsDP2+itOZ8QoLfOMzA/mgHdmsdSmDeHCG6MvWGZk/FG2\n",
       "18aAiYpPyiDRTRpahgieN61AdwLyuXQSE+GnFX7tCBz9bYGIKfueWp/WZVgkchhPdW7ASL1iCvGz\n",
       "VUqbHKtszuGkuMkwUM5EFv22uw2sgKP80Ws5Z026BcdwcgSYh+NKaYxoVMI3OD5eJhuNog/476wD\n",
       "9iobU6SfOqiXmFpkfQyr7m/BCU7qbK3Xciobna2MGEXENiaX8Gndlmiz80x8cmH6Mo/dYWaQ5Sz8\n",
       "Ps0KXFjvKn/Z7YvjLvPQKD2LoikWVc23o7eKexCqlGbhVZSdHtPZBzpI/2x86A6VQPk4qRUVndcM\n",
       "nHn8BcbKshjI5yIb0hCAl3Eg1SInLIFEqZnY4A4fy9Oq/7iEXTr5TCsk247J3wGipcFQPci/oCoM\n",
       "VnnnEIERe+TP8qUhGTRIRoeSduUMOkML57GD3zx1E/9dt8bDfCaHXwHKguuI35O9M+5tbDD8TbuV\n",
       "H7sUr7SHS+7Tnin8KDXbxcLodbyAnqdmsWNYaopQjdbw6bijYBoL59fEASIULbkk89dS4OveziqF\n",
       "4gnXF7hIAOaoroiB5rm0hfMCEiWbPN/GnJhoavzdy/boltzzsrS5Od9sF6cSjzE7ZcnBCGT4+Ysw\n",
       "63FV7mHfKq7zHa5QY1x085JvvmszEHFA6J9Q9x3o8Rpw/pFz0rAZXY0uUHQaJ1svfRoeS5H0HTvW\n",
       "b3h9NS++k8JfrAVxcfY5YwQ9cRkGYuhlZWA4EhMV7XkHJo9tRTVAwHtlFYsQS6f/B6jzW3ZBtRC8\n",
       "aUnhtXqfzNpow7yRw4F+8zxAM3KORPoGmSB8lDNRnC/F31udNrMfz3CA+KYh4rb7UepcHB2uLj6f\n",
       "A3q/PsCwMycK6xoZ9Dot4NqzxLkXNW4Qs8UXq50iBA2wgX/sVC3sYIlP4TfKWjUqiHrlyjp3+RPd\n",
       "bYscAf5jm6PpbixDgFPSy9bjyFl0P5owFJ0V/pKW0J3lEe9irBdrT8JY5eJw0ehV7oGLTra55rE+\n",
       "3bdJES2EDpcdYxA5EgzQ1ml3xxoG8Oeqtj5JNgsqqCUkJJFdTMR/tVjhsq3c2U711lsou5QLvNX8\n",
       "Kfql40yrLgTlpVBv31mA9Lw3sia7zRwKB7asgJbJ5usmkw84fbJqS223vE8NDI+N8uU69D0H65Sf\n",
       "jtEqABNw5lvMwdtP7sesZweIGlha0jT+uJCi/kUxUHI2ziSNRj66EvRpK6n4wZRJgzaXgIkm0mIo\n",
       "U5zp42v0oajTey22X3gJuoRdJaHNB0EV9YaiB+CzeDzbvM0twlpk1vqc7IQ3kRPu5QjCwsiHdPzX\n",
       "j2yS7zDcxJrFs48xHN5WBAFIpnJ25B+jmmSND3hN0nkderiHWSZ2OeUL6W/q/ikxbqHHTgB22Eca\n",
       "6cuGQBxcsq1BAa+CcVKui7TWOr8UqfZOVhvdWe7rj45B/d8/J00s53M7YPL+61vSIVgy2YUG0TxE\n",
       "5hYEeFQf+WbNc+Ed+njQmMTBGUZ4jAOH7XpWSp6zRCCqSYGnot5sGW6W1zF5KIoQ0/TzPU0Di3Vh\n",
       "bb/e8ddVzmc8ZPTOy4DJaZ9ha3+97HNm29KtI0REodaCLHtm28J22uMlVg9kJYKpJTJNrKmO7lda\n",
       "J6/wAXhNSP4Fy6xHpP/wuwZG733Ooj9v2Uuiy47G488X7RdlsNPKF4UOLdXQUE6gXJ4sWF5Bm7Gd\n",
       "rsFFABSJGy/0ftNlXa8XLpU+T2z2KxzEm27HpNbq+N3EzO0J5rqc3gvEVTnRJwTM62ZemcWSWb31\n",
       "vO3T3XnPqi36T9DHiuHp48TdsSJ4RPt9wCbkKFgiDTfbM2JYQ0ke/0mTxNWGTB+LG+y/QIq7h5IE\n",
       "14V+SlXi+4eDpUBGzes2owBWp0V6YsCVkIB5hpICz5MYkkXl1y6NDeddjlGRwfMdPhAnYDlFqg5w\n",
       "z3L3kaFHiC60/uXxfz/SSRzus+rmqJYwI4gQv0drruhcmBiyw9QRi+UCQl5Y67dxD/ybqBK7PXfm\n",
       "zhyMKaX8Hf2lhWn8mlPAYmayBasr5VGrvyjc5urIQ/dCibDVNtCMJCIzWVbE2G6yf13J6AmjmVD4\n",
       "J9Y8yyArye+u0NH+5w4ym9MF+aIahkzdcDSpt6UZVLkJCzyaajjOVvLJFOfPkKro9WzyiMmKAJSr\n",
       "ErV8+kj8qFgqyIwpeT5L6QlWEtjmlfkiGIb4XhEOMMDCrz/ZleHhxR80OWBQ+V6eHSYiVOYFn2N2\n",
       "ZzkUBus9V8cvhc6Dk5e0PKsZ9ewJAYBfm/HIPYj9WqkC0GNI267KZGPZu2O4lvkjHOoCOV34pHAi\n",
       "akbcWcFxWntr5IXWMJPJ/K11uCoFMctC1rVLREGamqYyjWzwF3H1k0tNoWgN8VIUatP4dj+TN2IP\n",
       "c+YDlKKJO279j9AbNXjS1GdtE7CvZso5Jzc7o75bf9FXZnytwYYJp9eOWsi+DZ27CvvuiXzQKOmY\n",
       "/witlUJd6E/De/vwFw9REIq3Y+BFEr4GruemOOLql3mNALiDffGx9eA8Ws9H2ULojd6RdZCYi0ww\n",
       "MkHZziEL6X4+yg2rUlGTF7XfJNj+f0QLiwPYhrnrAX2P1I98Ki+KmNsAiNKCnnuK1Eed+g+WDD6K\n",
       "TCaF0XY24UCdbMdbQwafNi0hQp9mgL1QZ7MvHttTX1WXEtNB9VkCvMZAS9tyK1g38Vdap8EYm7/D\n",
       "IyXMEQnHTAuj/oB8FQfsEb3rXpQqd601Hs057e0F/kosoQlgrWy/mqexcY03upjy3bqWE+GQRN0c\n",
       "0hSTnGXDJdHCObXoVyJu93CxMCQrt3/4tLJB+jK6JPcD5Ji7kSTivVnXziMOMKHMr20mxJrToPHP\n",
       "O3hlHDS4NJIUI3aNQUnnjs9k54t95o+XFt+xAfKXqfyY2z/R7zUBZSZG1Ks1WAFCk7nfMC9PEdP5\n",
       "WS3DENMtxl7pMaSgnRmLyFoE/Zcqmf109J/DrfZczZeUrCC2PMmM6V2QwsesuJHbqCM2gAmqdb3N\n",
       "9/n19OES3gCUS93+cBqXUjp/UYY0R0ya7fAZotG16OSyriijNNajDtqN8NIU5q2ippPwR7Ezk0ZS\n",
       "qhlSsnmgvcfHMLyiAMfdV2VKT+Maxh7wSU1O1iqwrCXoDsMHbjJHCLNSb1Bi0vI1adXm7fF4yjzg\n",
       "U4NCXatP2yrBHJ6sLqJ3sOP/JC0jCa8BfFY8bvY7p06FXdDNGGibNmPYFzsC53R0luW3Yk39Kjah\n",
       "0TNZovtEsad9wQJ/MgwQZk06zYoXMTigEUrLRs6EZ/9Xh3G/qp89t8QvYWCdi8vjBXcCMxanVofI\n",
       "6rc0CaerlRpH5r58yWsgmq/BnLW82sn++lveSfzqghey+wYzXsUtXz6SPyoXHJ0lDVsDeGIJVWzk\n",
       "mudM//L8EHqgjxinBVcGHp9VMdQ+0TJfQOr/JhZU1SDhOI/a54tjE0aNvhFTZFnYAAEKE+o7yUwF\n",
       "PXMRylTbNZAB6CyvD1IfFSORBBmRuiuQSRrzFMHWfA3D6FtaZM4oUkWvWsRc6kmLaFPAEkpwcvhF\n",
       "jC5iu/mFLMtMVZFis9E6hVAS0gDofS3Tk11u05nGvRaq6vXEZ7uAwMT+zCHf/aDXLIefO2QVbVWO\n",
       "+EeI+7uJt10seFIKTWbMxixUB6Zz+PFrigvYr/zY+qUd5AhN92teC2G3nY1+gQIV5eOIbQ2UIUqB\n",
       "h6urmH///ziTG3SvPTdHUtCz9p0TRigG0G70OHFRGM9dWaQCWd0eYBjdCFqV4cdsJMfHzBcwKEGT\n",
       "ohIJLoRAGkBRvHAOMj7iF/6PYmtb5sJZp/1tiImbvZvdfVLO7XD6S9+lfvQC2IVv5GR8y1G4uftd\n",
       "FRvplT5N6dg9vmxSxZTf0LxNg77WM2aFbC5NwQmSGozq74j3btBtQ5DXfZMd30awaEO3OJAEJ6TH\n",
       "O28n4o6qktyzz5x9l8vm3PrrND2XuNfEnFXvBu6PVHgXWc9IBHUM9kA2JaFiSxgemkW65Ua1OJCt\n",
       "KGBA6aT/aDvYZM3ftt2H10mwA8GGEudZVFrlCAAJmQAAAp1BmiRsQX/+2qZYD9IeZWosOkALewSr\n",
       "Tq7gtEP751B7Vxg+EbwegxhaEuc911pIaK9X6vy4Vl1pO21JHporvBhkAZrwgELTLm+dgtIkpov+\n",
       "CMPGpaGbwSbZbCenba+1kyd58gk3zTd2z40G7v4mPYNOVriJITjmtvrJhEhH7/9IKV8Py6ZUrUjS\n",
       "8rPA3U1LwFJTblIje22D09hX4KdSlBPAjcobeglr0l1Rq+ZZP0T5TWqJGyfPBLtDF61zVyPcaXYA\n",
       "t/9MC9a4praUGVjLyML0jCAOoJJ0ry4g72qz+zLq9fLvtz7F19/PMG6v6NuvZ3WXXGs4M0KkHtX+\n",
       "tJEiZ1Bz1sHktkhCEBI90pQU5dWG0l2dLu7DJ3VeqxnBR958IAdqrknPYC/PkUPgP2lP+7u8dTyG\n",
       "1McrcWzdvm6FuJ/ZBBx8AoZSudb1f+qPb/mfEGSbexIxUVPfkSlujuU1VUgVA5IVAS1upMFdfv6r\n",
       "oGOhPEn/Fpu+DNyjDUrVT70S68XpkyKDQBNQ27awQ6IelJBLWAdJkfK7/n8R5wIrkOOcwsRoBtd6\n",
       "z1AB0HMarqpgbs4RoBaULmRCTPXZhZR0cIrq0Kj6Vz/avp8r/CY9iezyEWOsoP2E+2ZqxIslovtO\n",
       "zuDswEpLt7G9nuZn+nKJksgFy35vO1xK/msojMlIIoqRZQR86vbhiN9Msi8sCmE+qEMn8zmbdIgK\n",
       "vb4notIevb8ESU9rmsKoq3lM7RMdaNbiWsVXKUzvh64BVs/NTDqR62OFD0M8Lgl023vEMBcZy2R3\n",
       "Gg2YV9CvjcIQiljF5u9zjJRpF5gdzkv1HVHCYOeIfZrhhnmAj+ic/kRrhRulFyuPbFuONwXpbp+M\n",
       "BkxBkvZU0rBIqT9QjXMafXqdj3gAAAF6QZ5CeILfAAM1toAJrU7RhGMohWGqveQCLGD7yXoSEfPp\n",
       "m1+MpiWBKa9zE/l9lyVkQxQPwp7LTiRSrkNIJom2pVmbkTFVkVGMj5blNkZNOy5CH6WcEKSNt+o7\n",
       "Tqo0nehN4QW7SQjc3UJLbiLPMXprCuittrmHqK5R9MtQ1d5qJjYl+dR7CwAhsKH+sbbFnQIqhXn0\n",
       "4cwCAuT4pnPG9o6onU5u1o9qFxLjeRH7UTxBl3MTk9g6sLYh//iCu0dyFnD1fZastEcIQAsGAvuq\n",
       "ezAi93jAOkVi7EGfK9qRHvSYV1womSBSwisyWPlLvjUYANQ6rWZmNy/LGofZB1BQLLHHEoI01lVn\n",
       "QBpaGcNG8zOxjfcv/6+HTlqI0mJHQrtP/1QPOD6pcl9BDQ7IvU1GTjpcWgkTG840MkGdAGUY/27W\n",
       "eXmZzk+YMkPm7r8PJQDkLQkBNt6K5jzlE46Tv9a6IwD1yZLi2hRDHQ6qy73Wf1OEAhfRfoEh4Ltq\n",
       "VX0hAAADzgGeYXRBXwAEs5sACIVNtAHljHfut5eyptg1Dh55d4EE6GvJ66cdiy3HqUKl/QkdC0aJ\n",
       "UZ0pqHFcPI7FRdLXVXdaN+7F//6neAiD1D4xRaepIgi3oGc/SsA31htCMqt31CkEyNMivQJs8n2P\n",
       "AOTaVT8GoLx2jk+tQ2pT1t1V7RRUItTA4waPm9NQ6a/4PNetSXp6pLvC60pUktotq2S3UIT+3g08\n",
       "AkdvTBYo8LZ8LI3N9X1R1CWk88ctvr35fDBn+sZSnYt8TCKHkeEMMQJEdN6lEn27m/h6iOoib9H5\n",
       "7jtYgAYQ7d4SY68cmZ0e+szGoN6eFeBfb96ogEF5pO1q4ODcuejH/k+GYJ6+mfDZbQzu3lk4QLqc\n",
       "gHkwdFzFfJGsa1cvIH/CRlFNJZXpJ7g9Zmyxu1E5Pn33GX900DLHDqO+/0fCkFgsSojozdOHPLBD\n",
       "PNwqbs0arLV2Wq92+kYRVemd9hzN4MobBghfL09kavHPB95gNqQo4rAScXGR1uHbzywmMMSeNnai\n",
       "IC04zPaTQ7QBvPr0MFlzdE102C9Cu9AP6bOsHGkfTVc8M5PTjQB8c0CgMoAc2RFEHGkXKOFehJXy\n",
       "4yyhjYEvBBjGnobQH/tUtU2dUmKqbvShOuBhwVyybCNCQynWypjN+V1RwZnhWq2QSQYQTy0xhZJS\n",
       "mrAmrhQDMrOa9aGbzC0ffNUOcFD069dmAYWMAT47VT7j+fX0h6ILLJEO3l0xRn9g0xkGOwlDLyjd\n",
       "P/X6uO9n4jzAwRJ3N0BeTNyFuwYS0yAmTWxYiLvjvY7bYuOtX+Rq/Pi7zYxa6yI2SXw1ZzwFXAGR\n",
       "sX44/6waOSyPnqBhfDK0CLR2+v6a8HmHRjN6yZFy7vDfTDjurQv+kg0TBTI+kbEAieYOvml+9pUB\n",
       "AiyGFyW9yZw26kK6pU9IXR2tUXGTCoxlnfDbXtOrHzmN0i6wbbdSAG4BWIZcn7wVeeu6j92ZA5jM\n",
       "HMpIUmNGsE6IjD5DnrpxVpEpfcC24esRZsVI++e2yyeI2GbT4NYaFRFi+RvM6GZ7L3IoXoMh9vNF\n",
       "nv6XRyBoSuOIWG9jfnPmhTRHcsYpBavaQU/oU9XWG5aQv5LrC3Vp7Wct4Emb+qBxDws/mODV0a9B\n",
       "jf9E87dh5+2qcGuYYz8B4oG0UwDAvDFWhk5N6+aXResUfm46VjkanKeDG6zHQn7/BQ80iSao6GeF\n",
       "Zz8EnJ8R2DKTqstvce0/KdvIp5UV6MbRx++Y1SsFUMuUEaEHXoX75NBOTbet9NchVvHlMV1mY4UL\n",
       "EAABIXaFSWbKzdpwAAADEAGeY2pBXwAEgYHUYZktD0XOAEKqSeTXU8gV4YgkohGv4LEL1apY20SA\n",
       "Nxixgg30g7mC9kTj0ru5HpqntTeWs7J+6h/2ec9SEM0kGwSVhKEMiUw/+nADKPUFdv5yCTHRXqSO\n",
       "ZiJMAJK6zku2mXMm2uJdS8FN+sX2736r+8+HUn+lN3c/cKCRk+tIeByFmKV0Y/U0jzQvMGQBbPIi\n",
       "MEb3DvvvsCO5STLbXw2Ri8p7VFfL+h9XkirCib2TLGq9TZDMzSQrkKKqr9xUz6O7UAw5zWPeNi73\n",
       "N+V+fqAfpwPJN5GKostMpDMED8N59OM3AY4g5fZ/qEbDHBieoTDz8wgH9d2wFQj0v81FQZFLzS4b\n",
       "jzbhMu9haZQZ5emyVHS6PjGwoLyi0tzImjyBllU0gvcICizMHf0JQsuAQZ4GVjhPy88fkoub2lxj\n",
       "r2Emdfm+ciQuZHpEvinleSXqeBywjM103MxvxOndJOelnYU5gfsCGuSUGAn89qWRPnFX8uTn7jQq\n",
       "41hhejdLXhQ8rpLqvk2zoNh4xTQtlkxgziJKckw29sJOjzWJvrd9hH1B5gGZhePe+8blJZT+dbm+\n",
       "1pNVIl4bv9Fx+vcssuFcIZtJj5hoYRgju3qgBBLFShBHUk2RmAM5iLoCO+VOo5Vw8q1N6njfxJtw\n",
       "HUQxIUe2uWUH3vC0lEdSDkuPg/RJKtputlijcjppsajPnoizi8pHHYfp7DwX8t6JU+eTpGDPnsXM\n",
       "HEcaIuGA2y/Q6Rj5hbKR9/eRtbpE5t4YO6KP0wROXage3YFYBqp6EWNYb5B5RymwE/lrtWvLAEMp\n",
       "BC7zC8AwLgRQXJw/uLvK/Aqlz73SzCrakSFi/tQm5UUg6tPOE01tGj7SBetBNL39tdG8EjBDyNwc\n",
       "NUHusHvVCfcVM8aGo8dRB0MeGTRCvh0AB5vGjxWYS61oaoTSEVAPosHmeklqbnN/QCpG6gIL76eZ\n",
       "edv8tydX3UkAOqp71/yrUhwZASgzT+mSHArElKyHeIldUw0wVN6NAMn0iKjPLZofHftBVnQifU11\n",
       "E5UAAALSQZplSahBaJlMCC///tqmWA/VAzAAbtvyiGioqIGbjWwxDVNe4iLL5d3FzDPg3flsGy1M\n",
       "6VZEVsHX/ct1+eOPKEb0vupkpMLT5NtvK8zIydwQ0GRSQm6vXavXrKgKvi5wv3E2sKovoWOXhgkE\n",
       "0yr4gz/11Gipu794s1OStKuXKf+t9Yft+YehTBdLpKBDIwrIJGHBTqPhFg0i/EwhqjKCkNBWfbGE\n",
       "YQapFyDBQSS1B1zb/pq/1rx+cCJQBuFh3j8Oy/exuNi6YV0EM1YgKrXEpvsaO8pG+Tsn+RNLSIws\n",
       "w6RZQK67RWWZ5T7SxatuvzeFps54ZSEyJf3QHMZ9bXkWQ9EVd3b56IP40U6MkRshBs0tu4ybuKVH\n",
       "wTNJWXO4E9vljoYMcZ9Cl+PKaI7qonkn9sv8iRUwPyD6spWxrBQgJcvJcbI3bIXAFvliVJuwIeCf\n",
       "rr4J+AM3wd8N4sEaNACg0czPvxQr+qd+1vjU+yvoamiqKHPIYfpBKIvMNgttgF7z5NU/t6ilhyWh\n",
       "pSD2JMaqW+bVHBBSLPCzH5zybR+s+7LIpnBNE2Uj5Z4d15HpLPdHXzOKbRytgVlv1Wmxfja91M5V\n",
       "qLQnRCO2+UPGyOvk6iGuBaiQ4D/FHbnDtF0TptI7Gl8RYUu+XN1COov6gJj6c4dx60If0hE3RAf1\n",
       "ET6kpMUjhEteIzySGZ9zxnTctBzkm316xdWu/JYHOZ8aVYsS/l38cPmZ3MSANJmvEeX+6+18YPYP\n",
       "jTSKGcOfCNahOaQ329o2cQD3zc66p0Al+uCGtm2HOfHUpHsD+WXG2ruHganmqfGxiTdDjYkzfU7Y\n",
       "4yawbBAscVMqxMfD/k/rzsDG0H16+yLIceAMrjHFl0WigTJD3N38AHzr5ozrLxhew6MljazJjdKU\n",
       "ySDKcOPaGuBblKuYsOf9g5qehMoyEzCUqnoJh6cMysHgLQMltv12NMTggbkAAAGIQZqJSeEKUmUw\n",
       "IL///tqmWA/dJmAA3bflENKrILGFCQPTS7v+t4UO4nKx4zdFW8NsVV675Pxiu++V5E+xH7qVbe2P\n",
       "QARkVxMWDlUJJH7kg0JQiSrAZms2hHAnNBSAqTGv9z7e+/zmcRqf7ND8L8Hf1YGAmb8NX4KLCX6E\n",
       "Au5LDdlVnhMLNTbHvyvMSy043YTnYjmTlMmYlijKm9mfuXyjxnpb/dQQOzl4c7T71HDvC3/E75rZ\n",
       "pWqKAcTfZXzJYI5ZHRyz/S4pAfNVxa3FlscUX6B8OM6rOMcXqhRTMuyjV8rFMB/DhQxCEYFRZ10e\n",
       "N4Wrmycn9hp01chbemIAxgJ06tn8BR6eVU/0fw23R8xU/IZoFMtaEGyVpER21GGXSgKJEZ8+wwBF\n",
       "DXq176DyXSs4ZXqJw07lUxWnZHWSlNg1nWJ/hMDxFhJuwqGbnoUths+usBdo/zlPgo+NhVg2TEER\n",
       "e7UfHjQaPuRFWks0nLmCXYecWmXJ/JS00GTYMzSku8Y1MW8s2kdMvoEAAAFFQZ6nRTRMFv8AAxK+\n",
       "hM7P0AAO01BknarB04R5S1UQOmI2/Xz/PaiImyhWqzh+qNfrRGFxoHo66Ib/RbtXkwbBd9rnoFb+\n",
       "l9Wnk7cW/6rGvQdfIf4JB+On44n0vw62w0wQv5/iuaTPf68yb0fvZmGGP+v/sXtUDRhTnHoKv6LK\n",
       "d1gRBlho2LqOdvWlG6XkpWXvh1dGcoZq5yyCn0PDr9ARydkRVNsFMPhbBbS6h3orqt77P89Qm0DN\n",
       "xbc1JsDJC1zZjqO9Ar42NeMRaox+73RgYeS7uUarz6U495JovONYaR1mDTHcUKgJMUWicalfm+zn\n",
       "K/NlnsFeDMXRQLyc+3lkEJnkrlYh/Bss3Xr/Caw74BBqG7RINhPJTFruRpKvnohGXgiwnzDBpOjy\n",
       "v6TbEDRtlGuxzGg6mJe2psNp14zA932l47IGgQAAAGUBnsZ0QV8ABLObAAiFTPzW+axiAWVTh95w\n",
       "2cuPhBmNgi6JI1fCtf4dq8Z5m1Z0JMfoH5K5OwWeFxQUMIvTwZDakdkiFP4/BiDlZrOZ1fUJhRkn\n",
       "XUx05wnihFmPIFa4cllg2+BkngAAAGcBnshqQV8ABLObAAiFTbQB+qp7T6A1bd3yE8ejyfx7RSC4\n",
       "Xsxb0NrH29iobBqPeJw72LXulhcTmPSM867CCTc5btrtTZxNJ08a+HO91Uoc+cn3mc/C8TCkmELu\n",
       "/yEdVnCv7ItL3eGLAAAA6kGaykmoQWiZTAgv//7aplgbduoSpGvXmS+vW87NHOvRxaACPTe7M/3+\n",
       "BIrKg7Gi3u1O2JIYxN1/mJ90LBf87kyvHE7Smno5ZkicFGK6PWXLRQilZbaB3/rmyOWZw8GNyrPj\n",
       "uMNwjGgMKFeJfZbm5kWJyr8iwvVz3ZOCZCKIGi0FSVy+o1HwXe2iO/gMMCRUXBkI1YWc1M1x1Rzk\n",
       "dfjr0NvZc7apgyqruiRRc0/lf/rtmsMwuIS+kV51MRugQ81TIjZ5wgngkdzV/v+c8wD5BHdY2KGN\n",
       "SUv7Qg+0193o7TyjH9eEIXt6sw4iXwAAAGJBmu5J4QpSZTAgv//+2qZYDmof8wcv6Y+AATsqV+e/\n",
       "78VtKCXx8DcVf2VenA+IRsOIRw96bBVhZHVLZgpyawqYC7Zw8eL0kstb7ej9wCoYqJpuUitzt9YS\n",
       "RUOAq5JKusAC2gAAAGdBnwxFNEwW/wADAe6oAH8h2jCNvk50jwTD4PCleW6DRvvqpIr5RQYTBTOT\n",
       "apgdgRPOsmLJEcowOFeslQCPCdkk6YAFhP5qPlt4p1qbvLS0HP0H3ib+0d8+EKFcWo0EWGivNwF0\n",
       "cAb8AAAA0AGfK3RBXwAESibe6iA+G1UAH8htoA+xlp/DsIZVPL8Orm5R0smw8JeYlTxwbLV+qkuv\n",
       "DaM4gwsiBa4Om4OBcLLE7GVrOZgkr6LZyGqX69ld955ODZvGyyPj0GUyGjq8H9miHXGCCX25Pb0z\n",
       "szcMkZtDR/tu0dzlumt092eAvZg13xZGD+pAOCWQlQdiwWxMZ8bhUNePV4cjgLEtrgpuv7tVv3U0\n",
       "Yu3EOVVAhMWmf72aiAv3uDGPEX0Zfme3VQMhhicuczBUUia7FTbwPooA9IEAAABVAZ8takFfAARU\n",
       "b4Am3lkACdjuSenwqwB3axHW7vjw3sgiTXVT+etedDAbBUh3VLtUvGc3h+oG3J3dHsUppIrn3yBv\n",
       "1gih+XS5Ug00LTDbJBIYwADAgQAAAGFBmzJJqEFomUwILf/+1qVQDksNgTyACajSekgq1luhCl0f\n",
       "EEc6CD4bIG0hQ6Xmh+T6a+yNxR59/nXqF10yspHG7h5BuYAuAC/3tyfXwdlE+2ZxHoDK/T0+Z1u6\n",
       "mi//gB8xAAAAT0GfUEURLBb/AAL4Bfs8gAmo7+Qur8CwXDTqPPN+tFSoWWALqUO8sEcWMgbRZn26\n",
       "7bO0l28PVDW1WGZet66fUsLxR9svFJtz/D5VV5IAQ8AAAABIAZ9vdEFfAARdoHgFAAnX+Fwq9/c5\n",
       "nifIq1ndlWuP/nbcPFwoA11A8t34fZQUQanvkvYny4sPlZN8ZUImfBlfOS34NxwYABgQAAAAUwGf\n",
       "cWpBXwAESidy8br3DaqAD+Q2z//zy7zn5CJD6pvRoTT184oix5Rp0YrFm3GUET5C5iaz7pp9YhAw\n",
       "PaSpWhcKX1jblC6qCvELMTPKE8d0EAb9AAAAW0Gbc0moQWyZTAgr//7WpVAOXOWPAoAE7HcpNO2U\n",
       "Z5ZYUZsdStx9FOhucXRk8R5WJzVuYmSxmn34waU1TciKvlDTiwQZGwGFwWCziDREyrkjPFOSja/E\n",
       "VqYAVsAAAAQebW9vdgAAAGxtdmhkAAAAAAAAAAAAAAAAAAAD6AAAnEAAAQAAAQAAAAAAAAAAAAAA\n",
       "AAEAAAAAAAAAAAAAAAAAAAABAAAAAAAAAAAAAAAAAABAAAAAAAAAAAAAAAAAAAAAAAAAAAAAAAAA\n",
       "AAAAAAAAAgAAA0h0cmFrAAAAXHRraGQAAAADAAAAAAAAAAAAAAABAAAAAAAAnEAAAAAAAAAAAAAA\n",
       "AAAAAAAAAAEAAAAAAAAAAAAAAAAAAAABAAAAAAAAAAAAAAAAAABAAAAAAbAAAAEgAAAAAAAkZWR0\n",
       "cwAAABxlbHN0AAAAAAAAAAEAAJxAAAEAAAABAAAAAALAbWRpYQAAACBtZGhkAAAAAAAAAAAAAAAA\n",
       "AABAAAAKAABVxAAAAAAALWhkbHIAAAAAAAAAAHZpZGUAAAAAAAAAAAAAAABWaWRlb0hhbmRsZXIA\n",
       "AAACa21pbmYAAAAUdm1oZAAAAAEAAAAAAAAAAAAAACRkaW5mAAAAHGRyZWYAAAAAAAAAAQAAAAx1\n",
       "cmwgAAAAAQAAAitzdGJsAAAAs3N0c2QAAAAAAAAAAQAAAKNhdmMxAAAAAAAAAAEAAAAAAAAAAAAA\n",
       "AAAAAAAAAbABIABIAAAASAAAAAAAAAABAAAAAAAAAAAAAAAAAAAAAAAAAAAAAAAAAAAAAAAAAAAA\n",
       "GP//AAAAMWF2Y0MBZAAV/+EAGGdkABWs2UGwloQAAAMACAAAAwAIPFi2WAEABmjr48siwAAAABx1\n",
       "dWlka2hA8l8kT8W6OaUbzwMj8wAAAAAAAAAYc3R0cwAAAAAAAAABAAAAFAAAgAAAAAAUc3RzcwAA\n",
       "AAAAAAABAAAAAQAAALBjdHRzAAAAAAAAABQAAAABAAEAAAAAAAEAAoAAAAAAAQABAAAAAAABAAAA\n",
       "AAAAAAEAAIAAAAAAAQABAAAAAAABAAKAAAAAAAEAAQAAAAAAAQAAAAAAAAABAACAAAAAAAEAAQAA\n",
       "AAAAAQACgAAAAAABAAEAAAAAAAEAAAAAAAAAAQAAgAAAAAABAAKAAAAAAAEAAQAAAAAAAQAAAAAA\n",
       "AAABAACAAAAAAAEAAQAAAAAAHHN0c2MAAAAAAAAAAQAAAAEAAAAUAAAAAQAAAGRzdHN6AAAAAAAA\n",
       "AAAAAAAUAAA0uAAAAqEAAAF+AAAD0gAAAxQAAALWAAABjAAAAUkAAABpAAAAawAAAO4AAABmAAAA\n",
       "awAAANQAAABZAAAAZQAAAFMAAABMAAAAVwAAAF8AAAAUc3RjbwAAAAAAAAABAAAALAAAAGJ1ZHRh\n",
       "AAAAWm1ldGEAAAAAAAAAIWhkbHIAAAAAAAAAAG1kaXJhcHBsAAAAAAAAAAAAAAAALWlsc3QAAAAl\n",
       "qXRvbwAAAB1kYXRhAAAAAQAAAABMYXZmNTcuNTEuMTAz\n",
       "\">\n",
       "  Your browser does not support the video tag.\n",
       "</video>"
      ],
      "text/plain": [
       "<IPython.core.display.HTML object>"
      ]
     },
     "execution_count": 24,
     "metadata": {},
     "output_type": "execute_result"
    }
   ],
   "source": [
    "print(\"If the following cell does not work, use browser to visit file {f}\".format(f=movie_file))\n",
    "gd.show_movie(gd_anim_eta_50)"
   ]
  },
  {
   "cell_type": "markdown",
   "metadata": {
    "slideshow": {
     "slide_type": "slide"
    }
   },
   "source": [
    "Lost in space !"
   ]
  },
  {
   "cell_type": "markdown",
   "metadata": {
    "slideshow": {
     "slide_type": "slide"
    }
   },
   "source": [
    "### Learning rate schedule\n",
    "\n",
    "We see from the above that if the step size is too small, it takes long to converge.\n",
    "\n",
    "But if the step size is too big, we may overshoot.\n",
    "\n",
    "An adaptive learning rate schedule may be the solution:\n",
    "- take big steps at first\n",
    "- take smaller steps toward end\n"
   ]
  },
  {
   "cell_type": "code",
   "execution_count": 25,
   "metadata": {
    "scrolled": true,
    "slideshow": {
     "slide_type": "slide"
    }
   },
   "outputs": [
    {
     "data": {
      "image/png": "[encoded data removed]",
      "text/plain": [
       "<Figure size 432x288 with 1 Axes>"
      ]
     },
     "metadata": {
      "needs_background": "light"
     },
     "output_type": "display_data"
    }
   ],
   "source": [
    "t0, t1 = 5, 50  # learning schedule hyperparameters\n",
    "\n",
    "def learning_schedule(t):\n",
    "    return t0 / (t + t1)\n",
    "\n",
    "t = np.linspace(0, 10, 10)\n",
    "\n",
    "fig = plt.figure()\n",
    "ax  = fig.add_subplot(1,1,1)\n",
    "_ =ax.plot(t, learning_schedule(t))\n",
    "_ = ax.set_xlabel(\"time\")\n",
    "_ = ax.set_ylabel(\"eta\")\n"
   ]
  },
  {
   "cell_type": "markdown",
   "metadata": {
    "slideshow": {
     "slide_type": "slide"
    }
   },
   "source": [
    "### When to stop\n",
    "\n",
    "Can we do better than running for a fixed number of iterations ?\n",
    "Yes:\n",
    "- Let $\\text{Cost}_{t}$ be the Cpst Function at step $t$\n",
    "- Stop if\n",
    "    - $\\text{Cost}_{t-1} - \\text{Cost}_{t} < \\epsilon $\n",
    "    - That is: stop if improvement of Cost Function is not big enough"
   ]
  },
  {
   "cell_type": "markdown",
   "metadata": {
    "slideshow": {
     "slide_type": "slide"
    }
   },
   "source": [
    "## Stochastic Gradient Descent\n",
    "\n",
    "What is the computational complexity of Batch Gradient Descent (for Linear Regresssion_?\n",
    "\n",
    "Can you spot the bottle-neck ?\n",
    "\n",
    "$$ \\nabla(j) = w^{(j)} + C \\sum_{i=1}^n { \\frac{\\partial L(x_i, y_i)} {\\partial w^{(j)}} }$$\n",
    "\n",
    "\n",
    "Evaluating MSE (and the derivatives) involves iterating over all $m$ observations in the train dataset.\n",
    "\n",
    "This can be quite large and hence slow.\n"
   ]
  },
  {
   "cell_type": "markdown",
   "metadata": {
    "slideshow": {
     "slide_type": "slide"
    }
   },
   "source": [
    "Stochastic Gradient Descent evaluates the gradient at a single, randomly chosen point\n",
    "\n",
    "$$ \\nabla(j,i) = w^{(j)} + C { \\frac{\\partial L(x_i, y_i)} {\\partial w^{(j)}} }$$\n",
    "\n",
    "- so takes lots of steps\n",
    "- each pass through $m$ observations is called an **epoch**"
   ]
  },
  {
   "cell_type": "raw",
   "metadata": {
    "slideshow": {
     "slide_type": "slide"
    }
   },
   "source": [
    "n_epochs = 50\n",
    "t0, t1 = 5, 50  # learning schedule hyperparameters\n",
    "\n",
    "def learning_schedule(t):\n",
    "    return t0 / (t + t1)\n",
    "\n",
    "theta = np.random.randn(2,1)  # random initialization"
   ]
  },
  {
   "cell_type": "raw",
   "metadata": {
    "slideshow": {
     "slide_type": "slide"
    }
   },
   "source": [
    "for epoch in range(n_epochs):\n",
    "    for i in range(m):\n",
    "        # Choose one observation at random\n",
    "        random_index = np.random.randint(m)\n",
    "        xi = X_b[random_index:random_index+1]\n",
    "        yi = y[random_index:random_index+1]\n",
    "        \n",
    "        # Evaluate gradient at the observation\n",
    "        gradients = 2 * xi.T.dot(xi.dot(theta) - yi)\n",
    "        eta = learning_schedule(epoch * m + i)\n",
    "        \n",
    "        # Update theta\n",
    "        theta = theta - eta * gradients\n",
    "       "
   ]
  },
  {
   "cell_type": "markdown",
   "metadata": {
    "slideshow": {
     "slide_type": "slide"
    }
   },
   "source": [
    "### Minbatch Gradient Descent\n",
    "\n",
    "Our original  Batch Gradient Descent examined all $m$ observatons in the training set in order to\n",
    "compute the exact value of the derivatives.\n",
    "\n",
    "Stocahstic Gradient Descent evaluated the derivative at a single point.\n",
    "- this can be quite noisy\n",
    "\n",
    "We can get a pretty good, less-noisy estimate of the derivatives by examining a **batch** of observations whose size is more than 1 but fewer than $m$.\n",
    "\n",
    "This is called Minibatch Gradient Descent"
   ]
  },
  {
   "cell_type": "raw",
   "metadata": {
    "slideshow": {
     "slide_type": "slide"
    }
   },
   "source": [
    "n_iterations = 50\n",
    "minibatch_size = 20\n",
    "\n",
    "np.random.seed(42)\n",
    "theta = np.random.randn(2,1)  # random initialization\n",
    "\n",
    "t0, t1 = 200, 1000\n",
    "def learning_schedule(t):\n",
    "    return t0 / (t + t1)\n",
    "    \n",
    "t = 0    "
   ]
  },
  {
   "cell_type": "raw",
   "metadata": {
    "slideshow": {
     "slide_type": "slide"
    }
   },
   "source": [
    "for epoch in range(n_iterations):\n",
    "    # Shuffle the observations for each epoch\n",
    "    shuffled_indices = np.random.permutation(m)\n",
    "    X_b_shuffled = X_b[shuffled_indices]\n",
    "    y_shuffled = y[shuffled_indices]\n",
    "    \n",
    "    # Evaluate/update in batches of size minibatch_size\n",
    "    for i in range(0, m, minibatch_size):\n",
    "        t += 1\n",
    "        \n",
    "        # Grab a batch of observations at indices [i:i+minibatch_size]\n",
    "        xi = X_b_shuffled[i:i+minibatch_size]\n",
    "        yi = y_shuffled[i:i+minibatch_size]\n",
    "        \n",
    "        # Evalute the gradient over the batch\n",
    "        gradients = 2/minibatch_size * xi.T.dot(xi.dot(theta) - yi)\n",
    "        eta = learning_schedule(t)\n",
    "        \n",
    "        # Update theta\n",
    "        theta = theta - eta * gradients\n",
    "        "
   ]
  },
  {
   "cell_type": "markdown",
   "metadata": {
    "slideshow": {
     "slide_type": "slide"
    }
   },
   "source": [
    "Observe that Batch Gradient Descent (our original attempt) is Minibatch Gradient Descent with `minibatch_size = 1`"
   ]
  },
  {
   "cell_type": "markdown",
   "metadata": {
    "slideshow": {
     "slide_type": "slide"
    }
   },
   "source": [
    "## Other cost functions\n",
    "\n",
    "- Ridge Regression Cost Function\n",
    "    - MSE, with a penalty large $\\Theta$\n",
    "        - it's easy to compute the derivative of this cost function\n",
    "        - try Minibatch Gradient Descent on this Cost Functions\n",
    "\n"
   ]
  },
  {
   "cell_type": "markdown",
   "metadata": {
    "slideshow": {
     "slide_type": "slide"
    }
   },
   "source": [
    "## A word on derivatives\n",
    "\n",
    "Preview of part 2 of the course:\n",
    "- the derivatives we used were *analytic* and not numerical approximations\n",
    "- how can we automate calculation of analytic derivatives ?"
   ]
  },
  {
   "cell_type": "markdown",
   "metadata": {
    "slideshow": {
     "slide_type": "slide"
    }
   },
   "source": [
    "# Cool cost functions\n",
    "- Neural Style Transfer"
   ]
  },
  {
   "cell_type": "markdown",
   "metadata": {
    "slideshow": {
     "slide_type": "slide"
    }
   },
   "source": [
    "# Cross entropy, KL divergence\n",
    "\n",
    "A measure of distribution similarity"
   ]
  },
  {
   "cell_type": "markdown",
   "metadata": {
    "slideshow": {
     "slide_type": "slide"
    }
   },
   "source": [
    "### Cost function for Logistic Regression\n",
    "\n",
    "Consider a single observation with target $y$\n",
    "\n",
    "We assign the following cost to our prediction $\\hat{y}$\n",
    "\n",
    "$$\n",
    "\\begin{array}{lll}\n",
    "c(\\theta) & = &\n",
    "\\left\\{\n",
    "{\n",
    "    \\begin{array}{ll}\n",
    "    - \\textrm{log}(\\hat{p}) & \\textrm{if } & y = 1 \\\\\n",
    "    - \\textrm{log}(1-\\hat{p})     & \\textrm{if } & y = 0 \\\\\n",
    "    \\end{array}\n",
    "}\n",
    "\\right.\n",
    "& = & - \\left( y*\\textrm{log}(\\hat{p}) + (1-y) * \\textrm{log}(1-\\hat{p}) \\right)\n",
    "\\end{array}\n",
    "$$"
   ]
  },
  {
   "cell_type": "markdown",
   "metadata": {
    "slideshow": {
     "slide_type": "slide"
    }
   },
   "source": [
    "and over the entire training set of size $m$\n",
    "\n",
    "$$\n",
    "J(\\theta) = \n",
    "\\frac{1}{m} \n",
    "\\sum_{i=1}^m \n",
    "\\left(\n",
    "{ y^i * \\textrm{log} (\\hat{p}^i) + (1-y^i) * \\textrm{log}(1-\\hat{p}^i)}\n",
    "\\right)\n",
    "$$"
   ]
  },
  {
   "cell_type": "markdown",
   "metadata": {
    "slideshow": {
     "slide_type": "slide"
    }
   },
   "source": [
    "**Intuition**\n",
    "\n",
    "- if $y^i = 1$\n",
    "    - the second addend is 0\n",
    "    - we want the first addend to be small. i.e.,\n",
    "        - $\\hat{p}^i$ to be $1$, so that $\\textrm{log}( \\hat{p}^i) = 0$\n",
    "- if $y^i = 0$\n",
    "    - the first addend is 0\n",
    "        - we want the second addend to be small, i.e., \n",
    "            - $\\hat{p}^i$ to be $0$, so that  $\\textrm{log}( 1 - \\hat{p}^i) = 0$"
   ]
  },
  {
   "cell_type": "code",
   "execution_count": 26,
   "metadata": {
    "slideshow": {
     "slide_type": "slide"
    }
   },
   "outputs": [
    {
     "name": "stdout",
     "output_type": "stream",
     "text": [
      "Done\n"
     ]
    }
   ],
   "source": [
    "print(\"Done\")"
   ]
  }
 ],
 "metadata": {
  "celltoolbar": "Slideshow",
  "kernelspec": {
   "display_name": "Python 3",
   "language": "python",
   "name": "python3"
  },
  "language_info": {
   "codemirror_mode": {
    "name": "ipython",
    "version": 3
   },
   "file_extension": ".py",
   "mimetype": "text/x-python",
   "name": "python",
   "nbconvert_exporter": "python",
   "pygments_lexer": "ipython3",
   "version": "3.6.6"
  },
  "toc": {
   "base_numbering": 1,
   "nav_menu": {},
   "number_sections": true,
   "sideBar": true,
   "skip_h1_title": false,
   "title_cell": "Table of Contents",
   "title_sidebar": "Contents",
   "toc_cell": false,
   "toc_position": {
    "height": "calc(100% - 180px)",
    "left": "10px",
    "top": "150px",
    "width": "357.188px"
   },
   "toc_section_display": true,
   "toc_window_display": false
  }
 },
 "nbformat": 4,
 "nbformat_minor": 2
}
