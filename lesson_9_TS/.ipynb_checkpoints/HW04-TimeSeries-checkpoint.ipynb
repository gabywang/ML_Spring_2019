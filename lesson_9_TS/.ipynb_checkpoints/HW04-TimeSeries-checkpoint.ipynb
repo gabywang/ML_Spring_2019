{
 "cells": [
  {
   "cell_type": "markdown",
   "metadata": {},
   "source": [
    "# Homework 4\n",
    "#### Assigned: 2019-04-05\n",
    "#### Due EOD: 2019-04-14\n",
    "\n",
    "Based on Lecture 9\n",
    "+ The student fills in the <...> fields.  \n",
    "+ The student can create as many new cells as necessary in the solution sections."
   ]
  },
  {
   "cell_type": "markdown",
   "metadata": {},
   "source": [
    "*Useful LaTeX macros that save typing (click into cell to see them)*\n",
    "$\\def\\expect{\\mathbb{E}}$\n",
    "$\\def\\cov{\\mathrm{cov}}$\n",
    "$\\def\\var{\\mathrm{var}}$"
   ]
  },
  {
   "cell_type": "markdown",
   "metadata": {},
   "source": [
    "#### Name:  < Xiaowen Wang >\n",
    "#### NetID: < xw1831 >"
   ]
  },
  {
   "cell_type": "markdown",
   "metadata": {},
   "source": [
    "## Problem 1 (30 points)"
   ]
  },
  {
   "cell_type": "markdown",
   "metadata": {},
   "source": [
    "We have an AR(1) model of the form\n",
    "$$ \n",
    "x_t = \\phi_0 + \\phi_1 x_{t-1} + \\epsilon_t  \\qquad (1)\n",
    "$$ \n",
    "At all times $t$ and $s$, the white noise $\\epsilon_t$ has the properties\n",
    "$$\n",
    "\\expect (\\epsilon_t) = 0,  \\qquad \\cov(\\epsilon_t, \\epsilon_s) = \\sigma^2 \\delta_{t,s}  \\qquad (2)\n",
    "$$\n",
    "\n",
    "Show the following:  \n",
    "\n",
    "1. Mean $$\\expect(x_t) = \\frac{\\phi_0}{1-\\phi_1}$$\n",
    "\n",
    "2. Autocovariance $$\\gamma(h) := \\cov(x_{t+h}, x_t) = \\sigma^2\\frac{\\phi_1^h}{1-\\phi_1^2}$$\n",
    "\n",
    "3. ACF $$\\rho(h) = \\phi_1^h$$"
   ]
  },
  {
   "cell_type": "markdown",
   "metadata": {},
   "source": [
    "## Solution 1"
   ]
  },
  {
   "cell_type": "markdown",
   "metadata": {},
   "source": [
    "1.Mean\n",
    "$$ \n",
    "E(x_t) = \\phi_0 + \\phi_1 E(x_{t-1}) + E(\\epsilon_t)\n",
    "$$ \n",
    "Assume $|\\phi_1|<1$, then we have stationary. Then we have\n",
    "$$\n",
    "\\mu = \\phi_0+\\phi_1\\mu\n",
    "$$\n",
    "And we get\n",
    "$$\n",
    "E(x_t) =\\mu = \\frac{\\phi_0}{1-\\phi_1} \\qquad (1)\n",
    "$$\n",
    "\n",
    "2.Autocovariance\n",
    "\\begin{equation}\n",
    "\\begin{aligned}\n",
    "\\gamma(0)=Var(x_t)&=Var(\\phi_0+\\phi_1x_{t-1}+\\epsilon_t)\\\\\n",
    "&=\\phi_1^2Var(x_{t-1})+\\sigma^2\n",
    "\\end{aligned}\n",
    "\\end{equation}\n",
    "By stationary, we have\n",
    "$$\\gamma(0)=Var(x_t)=Var(x_{t-1})=\\frac{\\sigma^2}{1-\\phi_1^2}$$\n",
    "\\begin{equation}\n",
    "\\begin{aligned}\n",
    "\\gamma(h)=\\cov(x_{t-h}, x_t)&=E[(x_{t-h}-\\mu)(x_t-\\mu)]\\\\\n",
    "&=E[(x_{t-h}-\\mu)(\\phi_0+\\phi_1x_{t-1}+\\epsilon_t-\\mu)]\\\\\n",
    "&=\\phi_1E[(x_{t-h}-\\mu)(x_{t-1}-\\mu)]+E[(\\phi_0+(\\phi_1-1)\\mu)(x_{t-h}-\\mu)]+E[\\epsilon_t(x_{t-h}-\\mu)]\\\\\n",
    "&=\\phi_1\\gamma(h-1)+E[(\\phi_0+(\\phi_1-1)\\mu)(x_{t-h}-\\mu)]+E[\\epsilon_t(x_{t-h}-\\mu)]\n",
    "\\end{aligned}\n",
    "\\end{equation}\n",
    "Since $E(\\epsilon_t)=0$ and $\\phi_0=(1-\\phi_1)\\mu$ from (1), we have\n",
    "\\begin{equation}\n",
    "\\begin{aligned}\n",
    "\\gamma(h)&=\\phi_1\\gamma(h-1)\\\\\n",
    "&=\\phi_1^h\\gamma(0)\\\\\n",
    "&=\\sigma^2\\frac{\\phi_1^h}{1-\\phi_1^2} \\qquad (2)\n",
    "\\end{aligned}\n",
    "\\end{equation}\n",
    "3.ACF  \n",
    "By (2), we have\n",
    "\\begin{equation}\n",
    "\\begin{aligned}\n",
    "\\rho(h)=\\frac{\\gamma(h)}{Var(x_t)}= \\frac{\\gamma(h)}{\\gamma(0)}=\\phi_1^h \\qquad (3)\n",
    "\\end{aligned}\n",
    "\\end{equation}"
   ]
  },
  {
   "cell_type": "markdown",
   "metadata": {},
   "source": [
    "## Problem 2 (70 points)"
   ]
  },
  {
   "cell_type": "markdown",
   "metadata": {},
   "source": [
    "Univariate times series modeling of the S&P 500 over the period 2004-2006.\n",
    "\n",
    "The data file \"stock-treasury-2004_2006.csv\", to be found in the \"Data\" folder, contains the following:  \n",
    "+ TREAS_3M: the yield of the 3-month treasury note in percent (i.e 2.1 means 2.1%)\n",
    "+ Adjusted close price of ten major stocks: GM, F, UTX, CAT, MRK, PFE, IBM, MSFT, C, XOM\n",
    "+ SP: The S&P 500 equity index level at the close of the trading day  \n",
    "\n",
    "**Do the following:**  \n",
    "\n",
    "Use the pandas read_csv function to read only the Date and SP columns in a data frame called \"sp_df\".  \n",
    "Rename the \"SP\" column into \"ClosePx\" in the same read_csv call.  \n",
    "Compute the close-to-close index returns as:  $r_t = P_{t+1}/P_t - 1$ and add them as a new column \"DailyRet\".  \n",
    "It is recommended to express all daily returns in basis points (10,000 bps = 100% = 1)\n",
    "\n",
    "Fit ARIMA models on the DailyRet time series, up to AR order p=2, MA order q=2, and differencing order d=1.  \n",
    "You can reuse the utility function auto_arima or provide your own.  \n",
    "Display the summary of the best selected model based on the AIC criterion.  \n",
    "Plot the original returns series and the predictions of the best selected model using the model's plot_predict method.\n",
    "\n",
    "Run the Jarque-Bera normality test on the residuals of the best selected ARIMA model, and produce the qq plot of the residuals.  \n",
    "Repeat the Jarque-Bera test and the qq plot using the residuals of the white noise model ARMA(0, 0).  \n",
    "Compare the two and comment on whether they are really different.  \n"
   ]
  },
  {
   "cell_type": "markdown",
   "metadata": {},
   "source": [
    "## Solution 2"
   ]
  },
  {
   "cell_type": "code",
   "execution_count": 70,
   "metadata": {},
   "outputs": [
    {
     "ename": "ImportError",
     "evalue": "cannot import name 'run_adf_test'",
     "output_type": "error",
     "traceback": [
      "\u001b[0;31m---------------------------------------------------------------------------\u001b[0m",
      "\u001b[0;31mImportError\u001b[0m                               Traceback (most recent call last)",
      "\u001b[0;32m<ipython-input-70-c618da1a191e>\u001b[0m in \u001b[0;36m<module>\u001b[0;34m\u001b[0m\n\u001b[1;32m      2\u001b[0m \u001b[0;32mimport\u001b[0m \u001b[0mos\u001b[0m\u001b[0;34m\u001b[0m\u001b[0;34m\u001b[0m\u001b[0m\n\u001b[1;32m      3\u001b[0m \u001b[0;34m\u001b[0m\u001b[0m\n\u001b[0;32m----> 4\u001b[0;31m \u001b[0;32mfrom\u001b[0m \u001b[0mmlutils\u001b[0m \u001b[0;32mimport\u001b[0m \u001b[0mrun_adf_test\u001b[0m\u001b[0;34m,\u001b[0m \u001b[0mauto_arima\u001b[0m\u001b[0;34m\u001b[0m\u001b[0;34m\u001b[0m\u001b[0m\n\u001b[0m\u001b[1;32m      5\u001b[0m \u001b[0;34m\u001b[0m\u001b[0m\n\u001b[1;32m      6\u001b[0m \u001b[0mNOTEBOOK_ROOT\u001b[0m \u001b[0;34m=\u001b[0m \u001b[0;34m\"~/Desktop/7773/Assignment\"\u001b[0m\u001b[0;34m\u001b[0m\u001b[0;34m\u001b[0m\u001b[0m\n",
      "\u001b[0;31mImportError\u001b[0m: cannot import name 'run_adf_test'"
     ]
    }
   ],
   "source": [
    "import pandas as pd\n",
    "import os\n",
    "\n",
    "from mlutils import run_adf_test, auto_arima\n",
    "\n",
    "NOTEBOOK_ROOT = \"~/Desktop/7773/Assignment\"\n",
    "DATA_PATH = os.path.join(NOTEBOOK_ROOT, \"Homework4\")\n",
    "sp_df = pd.read_csv(os.path.join(DATA_PATH, \"stock-treasury-2004_2006.csv\"), usecols=[0,12],names=['Date', 'ClosePx'],header=0)"
   ]
  },
  {
   "cell_type": "code",
   "execution_count": 66,
   "metadata": {},
   "outputs": [
    {
     "data": {
      "text/html": [
       "<div>\n",
       "<style scoped>\n",
       "    .dataframe tbody tr th:only-of-type {\n",
       "        vertical-align: middle;\n",
       "    }\n",
       "\n",
       "    .dataframe tbody tr th {\n",
       "        vertical-align: top;\n",
       "    }\n",
       "\n",
       "    .dataframe thead th {\n",
       "        text-align: right;\n",
       "    }\n",
       "</style>\n",
       "<table border=\"1\" class=\"dataframe\">\n",
       "  <thead>\n",
       "    <tr style=\"text-align: right;\">\n",
       "      <th></th>\n",
       "      <th>Date</th>\n",
       "      <th>ClosePx</th>\n",
       "      <th>DailyRet</th>\n",
       "    </tr>\n",
       "  </thead>\n",
       "  <tbody>\n",
       "    <tr>\n",
       "      <th>0</th>\n",
       "      <td>02-Jan-04</td>\n",
       "      <td>1108.48</td>\n",
       "      <td>NaN</td>\n",
       "    </tr>\n",
       "    <tr>\n",
       "      <th>1</th>\n",
       "      <td>05-Jan-04</td>\n",
       "      <td>1122.22</td>\n",
       "      <td>123.953522</td>\n",
       "    </tr>\n",
       "    <tr>\n",
       "      <th>2</th>\n",
       "      <td>06-Jan-04</td>\n",
       "      <td>1123.67</td>\n",
       "      <td>12.920818</td>\n",
       "    </tr>\n",
       "    <tr>\n",
       "      <th>3</th>\n",
       "      <td>07-Jan-04</td>\n",
       "      <td>1126.33</td>\n",
       "      <td>23.672431</td>\n",
       "    </tr>\n",
       "    <tr>\n",
       "      <th>4</th>\n",
       "      <td>08-Jan-04</td>\n",
       "      <td>1131.92</td>\n",
       "      <td>49.630215</td>\n",
       "    </tr>\n",
       "  </tbody>\n",
       "</table>\n",
       "</div>"
      ],
      "text/plain": [
       "        Date  ClosePx    DailyRet\n",
       "0  02-Jan-04  1108.48         NaN\n",
       "1  05-Jan-04  1122.22  123.953522\n",
       "2  06-Jan-04  1123.67   12.920818\n",
       "3  07-Jan-04  1126.33   23.672431\n",
       "4  08-Jan-04  1131.92   49.630215"
      ]
     },
     "execution_count": 66,
     "metadata": {},
     "output_type": "execute_result"
    }
   ],
   "source": [
    "sp_df.head(5)"
   ]
  },
  {
   "cell_type": "code",
   "execution_count": 57,
   "metadata": {},
   "outputs": [],
   "source": [
    "sp_df['DailyRet']=sp_df['ClosePx'].pct_change(1)*10000"
   ]
  },
  {
   "cell_type": "code",
   "execution_count": null,
   "metadata": {},
   "outputs": [],
   "source": []
  }
 ],
 "metadata": {
  "anaconda-cloud": {},
  "kernelspec": {
   "display_name": "Python 3",
   "language": "python",
   "name": "python3"
  },
  "language_info": {
   "codemirror_mode": {
    "name": "ipython",
    "version": 3
   },
   "file_extension": ".py",
   "mimetype": "text/x-python",
   "name": "python",
   "nbconvert_exporter": "python",
   "pygments_lexer": "ipython3",
   "version": "3.6.7"
  },
  "toc": {
   "base_numbering": 1,
   "nav_menu": {},
   "number_sections": true,
   "sideBar": true,
   "skip_h1_title": false,
   "title_cell": "Table of Contents",
   "title_sidebar": "Contents",
   "toc_cell": false,
   "toc_position": {},
   "toc_section_display": true,
   "toc_window_display": false
  }
 },
 "nbformat": 4,
 "nbformat_minor": 2
}
